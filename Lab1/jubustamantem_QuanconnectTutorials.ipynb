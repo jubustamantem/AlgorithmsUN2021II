{
  "nbformat": 4,
  "nbformat_minor": 0,
  "metadata": {
    "colab": {
      "name": "jubustamantem_QuanconnectTutorials.ipynb",
      "provenance": [],
      "collapsed_sections": [
        "hi8e33tTQdWz",
        "1EA646c50vxU",
        "oT3A35Y_NOW9",
        "E1VxRClrUd6V",
        "LRbhW8m_KH7Y"
      ]
    },
    "kernelspec": {
      "name": "python3",
      "display_name": "Python 3"
    },
    "language_info": {
      "name": "python"
    }
  },
  "cells": [
    {
      "cell_type": "markdown",
      "metadata": {
        "id": "hi8e33tTQdWz"
      },
      "source": [
        "# **Tutorial 1. Python: Data Types and Data Structures**"
      ]
    },
    {
      "cell_type": "markdown",
      "metadata": {
        "id": "EQCldC2oSacG"
      },
      "source": [
        "## _**Basic Variable Types**_"
      ]
    },
    {
      "cell_type": "markdown",
      "metadata": {
        "id": "tuyR89DbSzgA"
      },
      "source": [
        "### Strings:"
      ]
    },
    {
      "cell_type": "code",
      "metadata": {
        "colab": {
          "base_uri": "https://localhost:8080/"
        },
        "id": "DnxXYTfOILfP",
        "outputId": "cb72d542-8bd5-4639-fc57-4e7d3a5b200a"
      },
      "source": [
        "#Ejemplo de QuantConnect\n",
        "my_string1 = 'Welcome to'\n",
        "my_string2 = \"QuantConnect\"\n",
        "print(my_string1 + ' ' + my_string2)"
      ],
      "execution_count": 1,
      "outputs": [
        {
          "output_type": "stream",
          "name": "stdout",
          "text": [
            "Welcome to QuantConnect\n"
          ]
        }
      ]
    },
    {
      "cell_type": "code",
      "metadata": {
        "colab": {
          "base_uri": "https://localhost:8080/"
        },
        "id": "-C-M7oYeRB0N",
        "outputId": "bfe6615c-a8b0-42aa-90c6-8a8838d7818d"
      },
      "source": [
        "#Ejemplo Propio\n",
        "cadena1 = 'Presentado por'\n",
        "cadena2 = \"Juan Pablo Bustamante Moreno\"\n",
        "print(cadena1 + ' ' + cadena2)"
      ],
      "execution_count": 2,
      "outputs": [
        {
          "output_type": "stream",
          "name": "stdout",
          "text": [
            "Presentado por Juan Pablo Bustamante Moreno\n"
          ]
        }
      ]
    },
    {
      "cell_type": "markdown",
      "metadata": {
        "id": "ZlKocfENUcPP"
      },
      "source": [
        "### Integers:"
      ]
    },
    {
      "cell_type": "code",
      "metadata": {
        "colab": {
          "base_uri": "https://localhost:8080/"
        },
        "id": "ZJa-2a8oUkIB",
        "outputId": "0db49f65-d67b-42de-d4ce-c8d29599bb66"
      },
      "source": [
        "#Ejemplo de QuantConnect\n",
        "my_int = 10\n",
        "print(my_int)\n",
        "print(type(my_int))"
      ],
      "execution_count": 3,
      "outputs": [
        {
          "output_type": "stream",
          "name": "stdout",
          "text": [
            "10\n",
            "<class 'int'>\n"
          ]
        }
      ]
    },
    {
      "cell_type": "code",
      "metadata": {
        "colab": {
          "base_uri": "https://localhost:8080/"
        },
        "id": "9F2zESwrVBeV",
        "outputId": "d80516e3-f309-4e3f-ce48-1cae2c4b41ba"
      },
      "source": [
        "#Ejemplo Propio\n",
        "num_entero = 24\n",
        "print(num_entero)\n",
        "print(type(num_entero))"
      ],
      "execution_count": 4,
      "outputs": [
        {
          "output_type": "stream",
          "name": "stdout",
          "text": [
            "24\n",
            "<class 'int'>\n"
          ]
        }
      ]
    },
    {
      "cell_type": "markdown",
      "metadata": {
        "id": "QicxZe32VZo6"
      },
      "source": [
        "### Built-in function int():"
      ]
    },
    {
      "cell_type": "code",
      "metadata": {
        "colab": {
          "base_uri": "https://localhost:8080/"
        },
        "id": "XL1Y4eeTVfrx",
        "outputId": "fd6ef783-c42b-4e7c-d504-6480a7da6f4b"
      },
      "source": [
        "#Ejemplo de QuantConnect\n",
        "my_string = \"100\"\n",
        "print(type(my_string))\n",
        "my_int = int(my_string)\n",
        "print(type(my_int))"
      ],
      "execution_count": 5,
      "outputs": [
        {
          "output_type": "stream",
          "name": "stdout",
          "text": [
            "<class 'str'>\n",
            "<class 'int'>\n"
          ]
        }
      ]
    },
    {
      "cell_type": "code",
      "metadata": {
        "colab": {
          "base_uri": "https://localhost:8080/"
        },
        "id": "f4d7-HW0Vf95",
        "outputId": "8b66f37a-3746-4b60-81d7-094b4763c352"
      },
      "source": [
        "#Ejemplo Propio\n",
        "cadena = \"1824\"\n",
        "print(type(cadena))\n",
        "entero = int(cadena)\n",
        "print(type(entero))"
      ],
      "execution_count": 6,
      "outputs": [
        {
          "output_type": "stream",
          "name": "stdout",
          "text": [
            "<class 'str'>\n",
            "<class 'int'>\n"
          ]
        }
      ]
    },
    {
      "cell_type": "markdown",
      "metadata": {
        "id": "22xjlZxGVgam"
      },
      "source": [
        "### Float:"
      ]
    },
    {
      "cell_type": "code",
      "metadata": {
        "colab": {
          "base_uri": "https://localhost:8080/"
        },
        "id": "vmCeC4UPXvw1",
        "outputId": "e9eb15f0-337d-4393-b0a4-874c8612ebf9"
      },
      "source": [
        "#Ejemplo de QuantConnect\n",
        "my_float = 1.0\n",
        "print(type(my_float))\n",
        "my_int = 1\n",
        "print(type(my_int))"
      ],
      "execution_count": 7,
      "outputs": [
        {
          "output_type": "stream",
          "name": "stdout",
          "text": [
            "<class 'float'>\n",
            "<class 'int'>\n"
          ]
        }
      ]
    },
    {
      "cell_type": "code",
      "metadata": {
        "colab": {
          "base_uri": "https://localhost:8080/"
        },
        "id": "fjoJ1AVfXwFd",
        "outputId": "75d84edd-1a15-4ff9-a5b4-9d9fe1b9b378"
      },
      "source": [
        "#Ejemplo Propio\n",
        "flotante = 17.45\n",
        "print(type(flotante))\n",
        "entero = 36\n",
        "print(type(entero))"
      ],
      "execution_count": 8,
      "outputs": [
        {
          "output_type": "stream",
          "name": "stdout",
          "text": [
            "<class 'float'>\n",
            "<class 'int'>\n"
          ]
        }
      ]
    },
    {
      "cell_type": "markdown",
      "metadata": {
        "id": "953tQ2ZOZOqs"
      },
      "source": [
        "### Built-in function float():"
      ]
    },
    {
      "cell_type": "code",
      "metadata": {
        "colab": {
          "base_uri": "https://localhost:8080/"
        },
        "id": "2OWUamKuZQIB",
        "outputId": "20819158-7085-40b1-ebd4-299be3aafd2d"
      },
      "source": [
        "#Ejemplo de QuantConnect\n",
        "my_string = \"100\"\n",
        "my_float = float(my_string)\n",
        "print(type(my_float))"
      ],
      "execution_count": 9,
      "outputs": [
        {
          "output_type": "stream",
          "name": "stdout",
          "text": [
            "<class 'float'>\n"
          ]
        }
      ]
    },
    {
      "cell_type": "code",
      "metadata": {
        "colab": {
          "base_uri": "https://localhost:8080/"
        },
        "id": "Ay5_eqv_ZQiB",
        "outputId": "4c552e61-f238-4d41-f395-751861227369"
      },
      "source": [
        "#Ejemplo Propio\n",
        "cadena = \"12.678\"\n",
        "flotante = float(cadena)\n",
        "print(type(flotante))"
      ],
      "execution_count": 10,
      "outputs": [
        {
          "output_type": "stream",
          "name": "stdout",
          "text": [
            "<class 'float'>\n"
          ]
        }
      ]
    },
    {
      "cell_type": "markdown",
      "metadata": {
        "id": "ML4rvKPkZuac"
      },
      "source": [
        "### Boolean:"
      ]
    },
    {
      "cell_type": "code",
      "metadata": {
        "colab": {
          "base_uri": "https://localhost:8080/"
        },
        "id": "1ID9mLkRZ4yW",
        "outputId": "7016b223-6c70-46e8-cc21-1b043173da80"
      },
      "source": [
        "#Ejemplo de QuantConnect\n",
        "my_bool = False\n",
        "print(my_bool)\n",
        "print(type(my_bool))"
      ],
      "execution_count": 11,
      "outputs": [
        {
          "output_type": "stream",
          "name": "stdout",
          "text": [
            "False\n",
            "<class 'bool'>\n"
          ]
        }
      ]
    },
    {
      "cell_type": "code",
      "metadata": {
        "colab": {
          "base_uri": "https://localhost:8080/"
        },
        "id": "sIzrKquXZ5HS",
        "outputId": "d7799292-753a-4c52-f801-139f3427873c"
      },
      "source": [
        "#Ejemplo Propio\n",
        "booleano = True\n",
        "print(booleano)\n",
        "print(type(booleano))"
      ],
      "execution_count": 12,
      "outputs": [
        {
          "output_type": "stream",
          "name": "stdout",
          "text": [
            "True\n",
            "<class 'bool'>\n"
          ]
        }
      ]
    },
    {
      "cell_type": "markdown",
      "metadata": {
        "id": "fvZjtRUkZ5ks"
      },
      "source": [
        "## _**Basic Math Operators**_"
      ]
    },
    {
      "cell_type": "code",
      "metadata": {
        "colab": {
          "base_uri": "https://localhost:8080/"
        },
        "id": "BoKWsJvva8zW",
        "outputId": "a67b55fe-402f-4476-d7d6-ec13d7c6d8f1"
      },
      "source": [
        "#Ejemplo de QuantConnect\n",
        "print(\"Addition \", 1+1)\n",
        "print(\"Subtraction \", 5-2)\n",
        "print(\"Multiplication \", 2*3)\n",
        "print(\"Division\", 10/2)\n",
        "print(\"exponent\", 2**3)"
      ],
      "execution_count": 13,
      "outputs": [
        {
          "output_type": "stream",
          "name": "stdout",
          "text": [
            "Addition  2\n",
            "Subtraction  3\n",
            "Multiplication  6\n",
            "Division 5.0\n",
            "exponent 8\n"
          ]
        }
      ]
    },
    {
      "cell_type": "code",
      "metadata": {
        "colab": {
          "base_uri": "https://localhost:8080/"
        },
        "id": "OUse7Awma9Kp",
        "outputId": "b263525f-98ef-4867-d14f-9af1cbb6c085"
      },
      "source": [
        "#Ejemplo Propio\n",
        "print(\"Adición: 15 + 71 =\", 15+71)\n",
        "print(\"Sustracción: 58 - 24 =\", 58-24)\n",
        "print(\"Multiplicación: 26 x 13 =\", 26*13)\n",
        "print(\"División: 144 ÷ 12 =\", 144/12)\n",
        "print(\"Potencia: 29² =\", 29**2)"
      ],
      "execution_count": 14,
      "outputs": [
        {
          "output_type": "stream",
          "name": "stdout",
          "text": [
            "Adición: 15 + 71 = 86\n",
            "Sustracción: 58 - 24 = 34\n",
            "Multiplicación: 26 x 13 = 338\n",
            "División: 144 ÷ 12 = 12.0\n",
            "Potencia: 29² = 841\n"
          ]
        }
      ]
    },
    {
      "cell_type": "markdown",
      "metadata": {
        "id": "nSuuXWxTdVgx"
      },
      "source": [
        "## _**Data Collections**_"
      ]
    },
    {
      "cell_type": "markdown",
      "metadata": {
        "id": "TM_sEycVdpuG"
      },
      "source": [
        "### List:"
      ]
    },
    {
      "cell_type": "markdown",
      "metadata": {
        "id": "YzXc1_kfeNCv"
      },
      "source": [
        "* #### *Creating a list:*"
      ]
    },
    {
      "cell_type": "code",
      "metadata": {
        "colab": {
          "base_uri": "https://localhost:8080/"
        },
        "id": "VYo3SgTkfCCx",
        "outputId": "aada149c-b603-4759-9046-8172bc37de0f"
      },
      "source": [
        "#Ejemplo de QuantConnect\n",
        "my_list = ['Quant', 'Connect', 1,2,3]\n",
        "print(my_list)"
      ],
      "execution_count": 15,
      "outputs": [
        {
          "output_type": "stream",
          "name": "stdout",
          "text": [
            "['Quant', 'Connect', 1, 2, 3]\n"
          ]
        }
      ]
    },
    {
      "cell_type": "code",
      "metadata": {
        "colab": {
          "base_uri": "https://localhost:8080/"
        },
        "id": "voYzh0ljfCZ_",
        "outputId": "b9b224a9-3947-4cd4-80f4-61168efd918f"
      },
      "source": [
        "#Ejemplo Propio\n",
        "lista = ['Juan', 'Pablo', 7,8,2001]\n",
        "print(lista)"
      ],
      "execution_count": 16,
      "outputs": [
        {
          "output_type": "stream",
          "name": "stdout",
          "text": [
            "['Juan', 'Pablo', 7, 8, 2001]\n"
          ]
        }
      ]
    },
    {
      "cell_type": "markdown",
      "metadata": {
        "id": "yBad9ppug7b3"
      },
      "source": [
        "* #### *Access list elements and the built-in function len():*"
      ]
    },
    {
      "cell_type": "code",
      "metadata": {
        "colab": {
          "base_uri": "https://localhost:8080/"
        },
        "id": "WipOR-kJhOCp",
        "outputId": "22bec19e-4b2e-4837-aa42-297bd38a3126"
      },
      "source": [
        "#Ejemplo de QuantConnect\n",
        "my_list = ['Quant', 'Connect', 1,2,3]\n",
        "print(len(my_list))\n",
        "print(my_list[0])\n",
        "print(my_list[len(my_list) - 1])"
      ],
      "execution_count": 17,
      "outputs": [
        {
          "output_type": "stream",
          "name": "stdout",
          "text": [
            "5\n",
            "Quant\n",
            "3\n"
          ]
        }
      ]
    },
    {
      "cell_type": "code",
      "metadata": {
        "colab": {
          "base_uri": "https://localhost:8080/"
        },
        "id": "OJTpTWbBhOil",
        "outputId": "6216279f-1142-475b-ad40-e87cadcd99d9"
      },
      "source": [
        "#Ejemplo Propio\n",
        "lista = ['Juan', 'Pablo', 7,8,2001]\n",
        "print(len(lista))\n",
        "print(lista[0])\n",
        "print(lista[len(lista) - 1])"
      ],
      "execution_count": 18,
      "outputs": [
        {
          "output_type": "stream",
          "name": "stdout",
          "text": [
            "5\n",
            "Juan\n",
            "2001\n"
          ]
        }
      ]
    },
    {
      "cell_type": "markdown",
      "metadata": {
        "id": "Z2iKeOFVhmw8"
      },
      "source": [
        "* #### *Change list elements*"
      ]
    },
    {
      "cell_type": "code",
      "metadata": {
        "colab": {
          "base_uri": "https://localhost:8080/"
        },
        "id": "BJR25ifEhnM0",
        "outputId": "903efb4b-0d14-410a-efe5-25c7b4ed798d"
      },
      "source": [
        "#Ejemplo de QuantConnect\n",
        "my_list = ['Quant','Connect',1,2,3]\n",
        "my_list[2] = 'go'\n",
        "print(my_list)"
      ],
      "execution_count": 19,
      "outputs": [
        {
          "output_type": "stream",
          "name": "stdout",
          "text": [
            "['Quant', 'Connect', 'go', 2, 3]\n"
          ]
        }
      ]
    },
    {
      "cell_type": "code",
      "metadata": {
        "colab": {
          "base_uri": "https://localhost:8080/"
        },
        "id": "X3bY1gmchnlQ",
        "outputId": "812f1c51-df36-4bad-a0d8-f86bcab36556"
      },
      "source": [
        "#Ejemplo Propio\n",
        "lista = ['Juan', 'Pablo', 7,8,2001]\n",
        "lista[2] = 'Bustamante'\n",
        "print(lista)"
      ],
      "execution_count": 20,
      "outputs": [
        {
          "output_type": "stream",
          "name": "stdout",
          "text": [
            "['Juan', 'Pablo', 'Bustamante', 8, 2001]\n"
          ]
        }
      ]
    },
    {
      "cell_type": "markdown",
      "metadata": {
        "id": "9LVv2xv1hoAe"
      },
      "source": [
        "* #### *Slicing a list:*"
      ]
    },
    {
      "cell_type": "code",
      "metadata": {
        "colab": {
          "base_uri": "https://localhost:8080/"
        },
        "id": "ZmrMAzPyiZNO",
        "outputId": "15bec9a1-2381-405c-d60c-5bd53b37582d"
      },
      "source": [
        "#Ejemplo de QuantConnect\n",
        "my_list = ['Quant','Connect',1,2,3]\n",
        "print(my_list[1:3])"
      ],
      "execution_count": 21,
      "outputs": [
        {
          "output_type": "stream",
          "name": "stdout",
          "text": [
            "['Connect', 1]\n"
          ]
        }
      ]
    },
    {
      "cell_type": "code",
      "metadata": {
        "colab": {
          "base_uri": "https://localhost:8080/"
        },
        "id": "jrqQocLBiZfD",
        "outputId": "0af6e185-e766-4ba2-c4f7-3185ff45e2a8"
      },
      "source": [
        "#Ejemplo Propio\n",
        "lista = ['Juan', 'Pablo', 7,8,2001]\n",
        "print(lista[1:3])"
      ],
      "execution_count": 22,
      "outputs": [
        {
          "output_type": "stream",
          "name": "stdout",
          "text": [
            "['Pablo', 7]\n"
          ]
        }
      ]
    },
    {
      "cell_type": "markdown",
      "metadata": {
        "id": "r6DtLRJ0i3Df"
      },
      "source": [
        "* #### *Select all elements starting from index 1:*"
      ]
    },
    {
      "cell_type": "code",
      "metadata": {
        "colab": {
          "base_uri": "https://localhost:8080/"
        },
        "id": "Q1Y_W0jSjJXX",
        "outputId": "9ee6d1d8-2ea3-4502-8f72-911bdb7e4fd6"
      },
      "source": [
        "#Ejemplo de QuantConnect\n",
        "print(my_list[1:])"
      ],
      "execution_count": 23,
      "outputs": [
        {
          "output_type": "stream",
          "name": "stdout",
          "text": [
            "['Connect', 1, 2, 3]\n"
          ]
        }
      ]
    },
    {
      "cell_type": "code",
      "metadata": {
        "colab": {
          "base_uri": "https://localhost:8080/"
        },
        "id": "hvTU_o3SjKri",
        "outputId": "4ce41beb-dff1-4606-e991-ec516e04298d"
      },
      "source": [
        "#Ejemplo Propio\n",
        "print(lista[1:])"
      ],
      "execution_count": 24,
      "outputs": [
        {
          "output_type": "stream",
          "name": "stdout",
          "text": [
            "['Pablo', 7, 8, 2001]\n"
          ]
        }
      ]
    },
    {
      "cell_type": "markdown",
      "metadata": {
        "id": "PHxZRKnsjK_c"
      },
      "source": [
        "* #### *Select all elements up to index 3 without including it:*"
      ]
    },
    {
      "cell_type": "code",
      "metadata": {
        "colab": {
          "base_uri": "https://localhost:8080/"
        },
        "id": "BZAAhAh9jLTq",
        "outputId": "402d26bf-3697-4b00-c353-f25f08d99233"
      },
      "source": [
        "#Ejemplo de QuantConnect\n",
        "print(my_list[:3])"
      ],
      "execution_count": 25,
      "outputs": [
        {
          "output_type": "stream",
          "name": "stdout",
          "text": [
            "['Quant', 'Connect', 1]\n"
          ]
        }
      ]
    },
    {
      "cell_type": "code",
      "metadata": {
        "colab": {
          "base_uri": "https://localhost:8080/"
        },
        "id": "KPdkv_dFjLn7",
        "outputId": "50718539-e47d-4204-b897-75a2b1f803a0"
      },
      "source": [
        "#Ejemplo Propio\n",
        "print(lista[:3])"
      ],
      "execution_count": 26,
      "outputs": [
        {
          "output_type": "stream",
          "name": "stdout",
          "text": [
            "['Juan', 'Pablo', 7]\n"
          ]
        }
      ]
    },
    {
      "cell_type": "markdown",
      "metadata": {
        "id": "AXd4O57kj4Ki"
      },
      "source": [
        "* #### *Methods append() and remove():*\n",
        "\n"
      ]
    },
    {
      "cell_type": "code",
      "metadata": {
        "colab": {
          "base_uri": "https://localhost:8080/"
        },
        "id": "WSVYS1OlkCnP",
        "outputId": "9b1259ae-7259-46b5-d041-c97ec8f030d2"
      },
      "source": [
        "#Ejemplo de QuantConnect\n",
        "my_list = ['Hello', 'Quant']\n",
        "my_list.append('Hello')\n",
        "print(my_list)\n",
        "my_list.remove('Hello')\n",
        "print(my_list)"
      ],
      "execution_count": 27,
      "outputs": [
        {
          "output_type": "stream",
          "name": "stdout",
          "text": [
            "['Hello', 'Quant', 'Hello']\n",
            "['Quant', 'Hello']\n"
          ]
        }
      ]
    },
    {
      "cell_type": "code",
      "metadata": {
        "colab": {
          "base_uri": "https://localhost:8080/"
        },
        "id": "XXD_u6WZkDDd",
        "outputId": "b60a87b3-26d2-4ced-e0eb-2de1849d26f2"
      },
      "source": [
        "#Ejemplo Propio\n",
        "lista = ['Hola', 'Juan']\n",
        "lista.append('Hola')\n",
        "print(lista)\n",
        "lista.remove('Hola')\n",
        "print(lista)"
      ],
      "execution_count": 28,
      "outputs": [
        {
          "output_type": "stream",
          "name": "stdout",
          "text": [
            "['Hola', 'Juan', 'Hola']\n",
            "['Juan', 'Hola']\n"
          ]
        }
      ]
    },
    {
      "cell_type": "markdown",
      "metadata": {
        "id": "LjqzKZ7Kk2cW"
      },
      "source": [
        "### Tuple:"
      ]
    },
    {
      "cell_type": "markdown",
      "metadata": {
        "id": "_xRyltRrlBR8"
      },
      "source": [
        "* #### *Creating a tuple*:"
      ]
    },
    {
      "cell_type": "code",
      "metadata": {
        "id": "rCzWOrTSlMdu"
      },
      "source": [
        "#Ejemplo de QuantConnect\n",
        "my_tuple = ('Welcome','to','QuantConnect')"
      ],
      "execution_count": 29,
      "outputs": []
    },
    {
      "cell_type": "code",
      "metadata": {
        "id": "E8f57RiIl1MZ"
      },
      "source": [
        "#Ejemplo Propio\n",
        "tupla = ('Presentado','por','@jubustamantem')"
      ],
      "execution_count": 30,
      "outputs": []
    },
    {
      "cell_type": "markdown",
      "metadata": {
        "id": "9flZE7c5ml84"
      },
      "source": [
        "* #### *Slicing a tuple:*"
      ]
    },
    {
      "cell_type": "code",
      "metadata": {
        "colab": {
          "base_uri": "https://localhost:8080/"
        },
        "id": "ArkIlZJomqXx",
        "outputId": "670ac269-f48d-4184-8064-ff911b249e6f"
      },
      "source": [
        "#Ejemplo de QuantConnect\n",
        "my_tuple = ('Welcome','to','QuantConnect')\n",
        "print(my_tuple[1:])"
      ],
      "execution_count": 31,
      "outputs": [
        {
          "output_type": "stream",
          "name": "stdout",
          "text": [
            "('to', 'QuantConnect')\n"
          ]
        }
      ]
    },
    {
      "cell_type": "code",
      "metadata": {
        "colab": {
          "base_uri": "https://localhost:8080/"
        },
        "id": "AgefFHVMmrhX",
        "outputId": "01a6d597-d88c-4903-873d-83a617c26ef9"
      },
      "source": [
        "#Ejemplo Propio\n",
        "tupla = ('Presentado','por','@jubustamantem')\n",
        "print(tupla[1:])"
      ],
      "execution_count": 32,
      "outputs": [
        {
          "output_type": "stream",
          "name": "stdout",
          "text": [
            "('por', '@jubustamantem')\n"
          ]
        }
      ]
    },
    {
      "cell_type": "markdown",
      "metadata": {
        "id": "oWYnolDynKsZ"
      },
      "source": [
        "### Set:"
      ]
    },
    {
      "cell_type": "code",
      "metadata": {
        "colab": {
          "base_uri": "https://localhost:8080/"
        },
        "id": "dYdAlqipnLC6",
        "outputId": "0eb5885c-69c2-48f2-a07f-2922e6904c10"
      },
      "source": [
        "#Ejemplo de QuantConnect\n",
        "stock_list = ['AAPL','GOOG','IBM','AAPL','IBM','FB','F','GOOG']\n",
        "stock_set = set(stock_list)\n",
        "print(stock_set)"
      ],
      "execution_count": 33,
      "outputs": [
        {
          "output_type": "stream",
          "name": "stdout",
          "text": [
            "{'FB', 'F', 'IBM', 'GOOG', 'AAPL'}\n"
          ]
        }
      ]
    },
    {
      "cell_type": "code",
      "metadata": {
        "colab": {
          "base_uri": "https://localhost:8080/"
        },
        "id": "I8_gMQoWnx0E",
        "outputId": "42936f42-c403-442c-af1d-f7179a62d10b"
      },
      "source": [
        "#Ejemplo Propio\n",
        "nueva_lista = ['UN','COL','WEA2021','UN','WEA2021','TW','J','COL']\n",
        "conjunto = set(nueva_lista)\n",
        "print(conjunto)"
      ],
      "execution_count": 34,
      "outputs": [
        {
          "output_type": "stream",
          "name": "stdout",
          "text": [
            "{'COL', 'TW', 'WEA2021', 'J', 'UN'}\n"
          ]
        }
      ]
    },
    {
      "cell_type": "markdown",
      "metadata": {
        "id": "kURDvUJmnLVk"
      },
      "source": [
        "### Dictionary:"
      ]
    },
    {
      "cell_type": "markdown",
      "metadata": {
        "id": "SwKdarTfocBn"
      },
      "source": [
        "* #### *Creating a dictionary:*"
      ]
    },
    {
      "cell_type": "code",
      "metadata": {
        "id": "QTj7XZDkogOt"
      },
      "source": [
        "#Ejemplo de QuantConnect\n",
        "my_dic = {'AAPL': 'Apple', 'FB': 'FaceBook', 'GOOG': 'Alphabet'}"
      ],
      "execution_count": 35,
      "outputs": []
    },
    {
      "cell_type": "code",
      "metadata": {
        "id": "RvN9W43CoggZ"
      },
      "source": [
        "#Ejemplo Propio\n",
        "diccionario = {'ALG': 'Algorithms', 'WA': 'WhatsApp', 'JS': 'JavaScript'}"
      ],
      "execution_count": 36,
      "outputs": []
    },
    {
      "cell_type": "markdown",
      "metadata": {
        "id": "vZtT1lMUogz3"
      },
      "source": [
        "* #### *Access by key:*"
      ]
    },
    {
      "cell_type": "code",
      "metadata": {
        "colab": {
          "base_uri": "https://localhost:8080/"
        },
        "id": "GWG-DewBpYVX",
        "outputId": "d49c8ef6-5491-42cd-f84e-0bc70a3f25a3"
      },
      "source": [
        "#Ejemplo de QuantConnect\n",
        "print(my_dic['GOOG'])"
      ],
      "execution_count": 37,
      "outputs": [
        {
          "output_type": "stream",
          "name": "stdout",
          "text": [
            "Alphabet\n"
          ]
        }
      ]
    },
    {
      "cell_type": "code",
      "metadata": {
        "colab": {
          "base_uri": "https://localhost:8080/"
        },
        "id": "Lhq9hZpppYn3",
        "outputId": "21d5a124-dc65-4dfc-aaf2-68e05539a72c"
      },
      "source": [
        "#Ejemplo Propio\n",
        "print(diccionario['WA'])"
      ],
      "execution_count": 38,
      "outputs": [
        {
          "output_type": "stream",
          "name": "stdout",
          "text": [
            "WhatsApp\n"
          ]
        }
      ]
    },
    {
      "cell_type": "markdown",
      "metadata": {
        "id": "iGK8EkD1pZBD"
      },
      "source": [
        "* #### *Change value associated with a key:*"
      ]
    },
    {
      "cell_type": "code",
      "metadata": {
        "colab": {
          "base_uri": "https://localhost:8080/"
        },
        "id": "EOGvRaf5p5ko",
        "outputId": "662b061b-6497-4aee-b66c-c85b4aef42d6"
      },
      "source": [
        "#Ejemplo de QuantConnect\n",
        "my_dic['GOOG'] = 'Alphabet Company'\n",
        "print(my_dic['GOOG'])"
      ],
      "execution_count": 39,
      "outputs": [
        {
          "output_type": "stream",
          "name": "stdout",
          "text": [
            "Alphabet Company\n"
          ]
        }
      ]
    },
    {
      "cell_type": "code",
      "metadata": {
        "colab": {
          "base_uri": "https://localhost:8080/"
        },
        "id": "TEvcUYshp6D7",
        "outputId": "1675b805-e15f-4ab4-a88f-44e06341e0bd"
      },
      "source": [
        "#Ejemplo Propio\n",
        "diccionario['WA'] = 'WhatsApp Messenger'\n",
        "print(diccionario['WA'])"
      ],
      "execution_count": 40,
      "outputs": [
        {
          "output_type": "stream",
          "name": "stdout",
          "text": [
            "WhatsApp Messenger\n"
          ]
        }
      ]
    },
    {
      "cell_type": "markdown",
      "metadata": {
        "id": "KkWw7ZVhqUG8"
      },
      "source": [
        "* #### *Built-in method dict.keys():*"
      ]
    },
    {
      "cell_type": "code",
      "metadata": {
        "colab": {
          "base_uri": "https://localhost:8080/"
        },
        "id": "Y4CRvlnlqbJe",
        "outputId": "2935b624-99e1-4de1-9a95-fd2f0319b443"
      },
      "source": [
        "#Ejemplo de QuantConnect\n",
        "print(my_dic.keys())"
      ],
      "execution_count": 41,
      "outputs": [
        {
          "output_type": "stream",
          "name": "stdout",
          "text": [
            "dict_keys(['AAPL', 'FB', 'GOOG'])\n"
          ]
        }
      ]
    },
    {
      "cell_type": "code",
      "metadata": {
        "colab": {
          "base_uri": "https://localhost:8080/"
        },
        "id": "Jn2OxtS9qbdu",
        "outputId": "b4f54166-742f-44b7-f9fc-8a5ac86f6d32"
      },
      "source": [
        "#Ejemplo Propio\n",
        "print(diccionario.keys())"
      ],
      "execution_count": 42,
      "outputs": [
        {
          "output_type": "stream",
          "name": "stdout",
          "text": [
            "dict_keys(['ALG', 'WA', 'JS'])\n"
          ]
        }
      ]
    },
    {
      "cell_type": "markdown",
      "metadata": {
        "id": "HYDG-B30rOBI"
      },
      "source": [
        "## _**Common String Operations**_"
      ]
    },
    {
      "cell_type": "markdown",
      "metadata": {
        "id": "C0TBPV45rZkI"
      },
      "source": [
        "### Slicing by index:"
      ]
    },
    {
      "cell_type": "code",
      "metadata": {
        "colab": {
          "base_uri": "https://localhost:8080/"
        },
        "id": "AlqUeR4prlji",
        "outputId": "5bf3949c-313a-4bdf-ff5b-15ccc9b63fe2"
      },
      "source": [
        "#Ejemplo de QuantConnect\n",
        "my_str = 'Welcome to QuantConnect'\n",
        "print(my_str[8:])"
      ],
      "execution_count": 43,
      "outputs": [
        {
          "output_type": "stream",
          "name": "stdout",
          "text": [
            "to QuantConnect\n"
          ]
        }
      ]
    },
    {
      "cell_type": "code",
      "metadata": {
        "colab": {
          "base_uri": "https://localhost:8080/"
        },
        "id": "2lFKtYMaswI5",
        "outputId": "1412cc93-c026-465a-ba00-06664ea20ba5"
      },
      "source": [
        "#Ejemplo Propio\n",
        "mi_cadena = 'Presentado por Juan Pablo Bustamante'\n",
        "print(mi_cadena[15:])"
      ],
      "execution_count": 44,
      "outputs": [
        {
          "output_type": "stream",
          "name": "stdout",
          "text": [
            "Juan Pablo Bustamante\n"
          ]
        }
      ]
    },
    {
      "cell_type": "markdown",
      "metadata": {
        "id": "RUcEbQWiswbv"
      },
      "source": [
        "### Methods string.count(), string.find() and string.replace():"
      ]
    },
    {
      "cell_type": "code",
      "metadata": {
        "colab": {
          "base_uri": "https://localhost:8080/"
        },
        "id": "CHv6lAEVtyrS",
        "outputId": "6b0fa114-6879-4649-9954-0ba1ea431ceb"
      },
      "source": [
        "#Ejemplo de QuantConnect\n",
        "print(\"Counting the number of e's in this sentence\".count('e'))\n",
        "print('The first time e appears in this sentence'.find('e'))\n",
        "print('all the a in this sentence now becomes e'.replace('a','e'))"
      ],
      "execution_count": 45,
      "outputs": [
        {
          "output_type": "stream",
          "name": "stdout",
          "text": [
            "6\n",
            "2\n",
            "ell the e in this sentence now becomes e\n"
          ]
        }
      ]
    },
    {
      "cell_type": "code",
      "metadata": {
        "colab": {
          "base_uri": "https://localhost:8080/"
        },
        "id": "KQC8qMiXtzDV",
        "outputId": "e437ba2b-362e-40c7-c150-6fe357f9cdea"
      },
      "source": [
        "#Ejemplo Propio\n",
        "print(\"Contando la cantidad de a's en esta frase\".count('a'))\n",
        "print('La primera vez que la letra z aparece en esta frase'.find('z'))\n",
        "print(\"Todas las o's en esta frase se convierten en u\".replace('o','u'))"
      ],
      "execution_count": 46,
      "outputs": [
        {
          "output_type": "stream",
          "name": "stdout",
          "text": [
            "7\n",
            "13\n",
            "Tudas las u's en esta frase se cunvierten en u\n"
          ]
        }
      ]
    },
    {
      "cell_type": "markdown",
      "metadata": {
        "id": "SID7xZQqvVJs"
      },
      "source": [
        "### Method string.split():"
      ]
    },
    {
      "cell_type": "code",
      "metadata": {
        "colab": {
          "base_uri": "https://localhost:8080/"
        },
        "id": "nXjVndkavb_0",
        "outputId": "a21dbe45-16a9-482e-a741-f76ebddfe01e"
      },
      "source": [
        "#Ejemplo de QuantConnect\n",
        "Time = '2016-04-01 09:43:00'\n",
        "splited_list = Time.split(' ')\n",
        "date = splited_list[0]\n",
        "time = splited_list[1]\n",
        "print(date, time)\n",
        "hour = time.split(':')[0]\n",
        "print(hour)"
      ],
      "execution_count": 47,
      "outputs": [
        {
          "output_type": "stream",
          "name": "stdout",
          "text": [
            "2016-04-01 09:43:00\n",
            "09\n"
          ]
        }
      ]
    },
    {
      "cell_type": "code",
      "metadata": {
        "colab": {
          "base_uri": "https://localhost:8080/"
        },
        "id": "WcJ8NFmnvcYS",
        "outputId": "21a4770f-6b90-4061-eb10-55b8dc90ea7c"
      },
      "source": [
        "#Ejemplo Propio\n",
        "tiempo = '2020-07-11 06:22:55'\n",
        "lista_dividida = tiempo.split(' ')\n",
        "fecha = lista_dividida[0]\n",
        "horario = lista_dividida[1]\n",
        "print(fecha, horario)\n",
        "hora = horario.split(':')[0]\n",
        "print(hora)"
      ],
      "execution_count": 48,
      "outputs": [
        {
          "output_type": "stream",
          "name": "stdout",
          "text": [
            "2020-07-11 06:22:55\n",
            "06\n"
          ]
        }
      ]
    },
    {
      "cell_type": "markdown",
      "metadata": {
        "id": "TE1p8NtLvctM"
      },
      "source": [
        "### String formatting:"
      ]
    },
    {
      "cell_type": "code",
      "metadata": {
        "colab": {
          "base_uri": "https://localhost:8080/"
        },
        "id": "FGldrdPnvg3X",
        "outputId": "f77e9bba-9fd5-47b3-b1bd-294007fa5c3f"
      },
      "source": [
        "#Ejemplo de QuantConnect\n",
        "my_time = 'Hour: {}, Minute: {}'.format(9, 43)\n",
        "print(my_time)"
      ],
      "execution_count": 49,
      "outputs": [
        {
          "output_type": "stream",
          "name": "stdout",
          "text": [
            "Hour: 9, Minute: 43\n"
          ]
        }
      ]
    },
    {
      "cell_type": "code",
      "metadata": {
        "colab": {
          "base_uri": "https://localhost:8080/"
        },
        "id": "Pqk1ICTxvhWE",
        "outputId": "1ef17b91-cc98-43ba-dc52-05ff904b5bb6"
      },
      "source": [
        "#Ejemplo Propio\n",
        "mi_fecha = 'Día: {}, Mes: {}'.format(12, 10)\n",
        "print(mi_fecha)"
      ],
      "execution_count": 50,
      "outputs": [
        {
          "output_type": "stream",
          "name": "stdout",
          "text": [
            "Día: 12, Mes: 10\n"
          ]
        }
      ]
    },
    {
      "cell_type": "markdown",
      "metadata": {
        "id": "k3xLff7evhsz"
      },
      "source": [
        "### String formatting using the % symbol:"
      ]
    },
    {
      "cell_type": "code",
      "metadata": {
        "colab": {
          "base_uri": "https://localhost:8080/"
        },
        "id": "erwbwLHOvoZH",
        "outputId": "cbb5ee69-f5ba-4f47-9f3e-9a568c7e9fdc"
      },
      "source": [
        "#Ejemplo de QuantConnect\n",
        "print('pi is %f' % 3.14)\n",
        "print('%s to %s' % ('Welcome', 'QuantConnect'))"
      ],
      "execution_count": 51,
      "outputs": [
        {
          "output_type": "stream",
          "name": "stdout",
          "text": [
            "pi is 3.140000\n",
            "Welcome to QuantConnect\n"
          ]
        }
      ]
    },
    {
      "cell_type": "code",
      "metadata": {
        "colab": {
          "base_uri": "https://localhost:8080/"
        },
        "id": "mArYTZ3Qvowg",
        "outputId": "2f40d646-bd1d-4d69-cfb8-217c59c60f2b"
      },
      "source": [
        "#Ejemplo Propio\n",
        "print('The golden ratio (φ) is %f' % 1.618033988749)\n",
        "print('%s = %f' % ('3/5', 3/5))\n",
        "print('Cantidad de tutoriales completados: %d' % 1.0)"
      ],
      "execution_count": 52,
      "outputs": [
        {
          "output_type": "stream",
          "name": "stdout",
          "text": [
            "The golden ratio (φ) is 1.618034\n",
            "3/5 = 0.600000\n",
            "Cantidad de tutoriales completados: 1\n"
          ]
        }
      ]
    },
    {
      "cell_type": "markdown",
      "metadata": {
        "id": "1EA646c50vxU"
      },
      "source": [
        "# **Tutorial 2. Python: Logical Operations and Loops**"
      ]
    },
    {
      "cell_type": "markdown",
      "metadata": {
        "id": "3-jr6zOJ0_4z"
      },
      "source": [
        "## _**Logical Operations**_"
      ]
    },
    {
      "cell_type": "markdown",
      "metadata": {
        "id": "CP0mvE1K1EGQ"
      },
      "source": [
        "### Comparison operators:"
      ]
    },
    {
      "cell_type": "code",
      "metadata": {
        "colab": {
          "base_uri": "https://localhost:8080/"
        },
        "id": "BPNUfW4r1bxR",
        "outputId": "0f88f213-36bf-4eae-ab3e-b01429103164"
      },
      "source": [
        "#Ejemplo de QuantConnect\n",
        "print(1 == 0)    # 1 equals 0\n",
        "print(1 == 1)    # 1 equals 1\n",
        "print(1 != 0)   # 1 is not equal to 0\n",
        "print(5 >= 5)    # 5 is greater than or equal to 5\n",
        "print(5 >= 6)    # 5 is greater than or equal to 6"
      ],
      "execution_count": 53,
      "outputs": [
        {
          "output_type": "stream",
          "name": "stdout",
          "text": [
            "False\n",
            "True\n",
            "True\n",
            "True\n",
            "False\n"
          ]
        }
      ]
    },
    {
      "cell_type": "code",
      "metadata": {
        "colab": {
          "base_uri": "https://localhost:8080/"
        },
        "id": "TPimuN6K1cEZ",
        "outputId": "9c48346b-2dca-44ba-cf06-e8bdbe621b0e"
      },
      "source": [
        "#Ejemplo Propio\n",
        "print(18 == 9*2)    # 18 equals 9x2\n",
        "print(18 == 9**2)    # 18 equals 9^2\n",
        "print(9*2 != 9**2)    # 18 is not equal to 81\n",
        "print(18 >= 9**2)    # 18 is greater than or equal to 81\n",
        "print(18 >= 9*2)    # 18 is greater than or equal to 18"
      ],
      "execution_count": 54,
      "outputs": [
        {
          "output_type": "stream",
          "name": "stdout",
          "text": [
            "True\n",
            "False\n",
            "True\n",
            "False\n",
            "True\n"
          ]
        }
      ]
    },
    {
      "cell_type": "markdown",
      "metadata": {
        "id": "C9YdKfuT1czO"
      },
      "source": [
        "### Complex statements using logical operators:"
      ]
    },
    {
      "cell_type": "code",
      "metadata": {
        "colab": {
          "base_uri": "https://localhost:8080/"
        },
        "id": "IOgmJ6DN3ASs",
        "outputId": "2c7e7e58-a454-4740-c890-6d681973097e"
      },
      "source": [
        "#Ejemplo de QuantConnect\n",
        "print(2 > 1 and 3 > 2)\n",
        "print(2 > 1 and 3 < 2)\n",
        "print(2 > 1 or  3 < 2)\n",
        "print(2 < 1 and 3 < 2)"
      ],
      "execution_count": 55,
      "outputs": [
        {
          "output_type": "stream",
          "name": "stdout",
          "text": [
            "True\n",
            "False\n",
            "True\n",
            "False\n"
          ]
        }
      ]
    },
    {
      "cell_type": "code",
      "metadata": {
        "colab": {
          "base_uri": "https://localhost:8080/"
        },
        "id": "-NWNaFtj3Amd",
        "outputId": "47c5fa42-98d9-40e8-88c0-a668205df4be"
      },
      "source": [
        "#Ejemplo Propio\n",
        "print(9**2 > 18 and 3*3 > 9)\n",
        "print(9*2 > 3*3 and 3**3 < 9**2)\n",
        "print(2*9 > 3*9 or  3*3 < 9*2)\n",
        "print(2**3 < 3*3 and 3**3 < 2*9)"
      ],
      "execution_count": 56,
      "outputs": [
        {
          "output_type": "stream",
          "name": "stdout",
          "text": [
            "False\n",
            "True\n",
            "True\n",
            "False\n"
          ]
        }
      ]
    },
    {
      "cell_type": "markdown",
      "metadata": {
        "id": "kXwtJvyq3zLG"
      },
      "source": [
        "### Brackets in very complex statements:"
      ]
    },
    {
      "cell_type": "code",
      "metadata": {
        "colab": {
          "base_uri": "https://localhost:8080/"
        },
        "id": "Xfm0lBF036kr",
        "outputId": "dd7314ec-69b3-45a8-fb71-556e8b1b9802"
      },
      "source": [
        "#Ejemplo de QuantConnect\n",
        "print((3 > 2 or 1 < 3) and (1!=3 and 4>3) and not ( 3 < 2 or 1 < 3 and (1!=3 and 4>3)))\n",
        "print(3 > 2 or 1 < 3 and (1!=3 and 4>3) and not ( 3 < 2 or 1 < 3 and (1!=3 and 4>3)))"
      ],
      "execution_count": 57,
      "outputs": [
        {
          "output_type": "stream",
          "name": "stdout",
          "text": [
            "False\n",
            "True\n"
          ]
        }
      ]
    },
    {
      "cell_type": "code",
      "metadata": {
        "colab": {
          "base_uri": "https://localhost:8080/"
        },
        "id": "K4ESCBU537CU",
        "outputId": "7d80a1d1-098b-4b2c-bf19-033c95f9dc71"
      },
      "source": [
        "#Ejemplo Propio\n",
        "print((3**2 > 2**3 or 18 < 3**3) and (9!=3*3 and 81>=9**2) and not (3*2 < 9 and 18 < 3**3 and (18!=9*2 and 81>3**4)))\n",
        "print((3**2 > 2**3 or 18 < 3**3) and (9!=3*3 and 81>=9**2) or not (3*2 < 9 and 18 < 3**3 and (18!=9*2 and 81>3**4)))"
      ],
      "execution_count": 58,
      "outputs": [
        {
          "output_type": "stream",
          "name": "stdout",
          "text": [
            "False\n",
            "True\n"
          ]
        }
      ]
    },
    {
      "cell_type": "markdown",
      "metadata": {
        "id": "2KNef1Jm5x5l"
      },
      "source": [
        "## _**If Statement**_"
      ]
    },
    {
      "cell_type": "markdown",
      "metadata": {
        "id": "aDMaqMKY5yNy"
      },
      "source": [
        "### Structure if, elif and else:"
      ]
    },
    {
      "cell_type": "code",
      "metadata": {
        "id": "ncO_VNVq6HY9"
      },
      "source": [
        "#Ejemplo de QuantConnect\n",
        "#if condition1:\n",
        "    # if condition1 is true, execute the code here\n",
        "    # and ignore the rest of this if statement\n",
        "#elif condition2:\n",
        "    # if condition1 is false, and condition2 is true, execute the code here\n",
        "    # and ignore the rest of this if statement\n",
        "#else:\n",
        "    # if none of the above conditions is True, execute the code here"
      ],
      "execution_count": 59,
      "outputs": []
    },
    {
      "cell_type": "code",
      "metadata": {
        "colab": {
          "base_uri": "https://localhost:8080/"
        },
        "id": "QM7Gxfiu6HwT",
        "outputId": "e7db98bf-88a3-42fd-bf75-a1cef52e793d"
      },
      "source": [
        "#Ejemplo Propio\n",
        "condicion_1 = 3*2 < 5\n",
        "condicion_2 = 3**2 < 10\n",
        "if condicion_1:\n",
        "    print('6 < 5')\n",
        "elif condicion_2:\n",
        "    print('9 < 10')\n",
        "else:\n",
        "    print('6 > 5 y 9 > 10')"
      ],
      "execution_count": 60,
      "outputs": [
        {
          "output_type": "stream",
          "name": "stdout",
          "text": [
            "9 < 10\n"
          ]
        }
      ]
    },
    {
      "cell_type": "markdown",
      "metadata": {
        "id": "PfXtSX0v7ic7"
      },
      "source": [
        "### Without elif and else:"
      ]
    },
    {
      "cell_type": "code",
      "metadata": {
        "colab": {
          "base_uri": "https://localhost:8080/"
        },
        "id": "9RI1LXY07i2w",
        "outputId": "592fe1be-f71b-48f5-bbbe-0a8fe6d646f5"
      },
      "source": [
        "#Ejemplo de QuantConnect\n",
        "i = 0\n",
        "if i == 0: print('i == 0 is True')"
      ],
      "execution_count": 61,
      "outputs": [
        {
          "output_type": "stream",
          "name": "stdout",
          "text": [
            "i == 0 is True\n"
          ]
        }
      ]
    },
    {
      "cell_type": "code",
      "metadata": {
        "colab": {
          "base_uri": "https://localhost:8080/"
        },
        "id": "R6KGubKD7jK2",
        "outputId": "d06bf238-9d0a-4454-ea8f-5c4d41a6997a"
      },
      "source": [
        "#Ejemplo Propio\n",
        "operacion = 3**3\n",
        "if operacion == 27: print('3^3 == 27 is True')"
      ],
      "execution_count": 62,
      "outputs": [
        {
          "output_type": "stream",
          "name": "stdout",
          "text": [
            "3^3 == 27 is True\n"
          ]
        }
      ]
    },
    {
      "cell_type": "markdown",
      "metadata": {
        "id": "XJluDQ0-7jgr"
      },
      "source": [
        "### With complex statements:"
      ]
    },
    {
      "cell_type": "code",
      "metadata": {
        "colab": {
          "base_uri": "https://localhost:8080/"
        },
        "id": "FXZ0iQxO7kJ3",
        "outputId": "885df67c-c56a-4f30-e21e-6e17b3206600"
      },
      "source": [
        "#Ejemplo de QuantConnect\n",
        "p = 1 > 0\n",
        "q = 2 > 3\n",
        "if p and q:\n",
        "    print('p and q is true')\n",
        "elif p and not q:\n",
        "    print('q is false')\n",
        "elif q and not p:\n",
        "    print('p is false')\n",
        "else:\n",
        "    print('None of p and q is true')"
      ],
      "execution_count": 63,
      "outputs": [
        {
          "output_type": "stream",
          "name": "stdout",
          "text": [
            "q is false\n"
          ]
        }
      ]
    },
    {
      "cell_type": "code",
      "metadata": {
        "colab": {
          "base_uri": "https://localhost:8080/"
        },
        "id": "vVJk7aAA7kZJ",
        "outputId": "3bbb86bb-2499-4cf6-de59-c40c59cf1860"
      },
      "source": [
        "#Ejemplo Propio\n",
        "a = 3**3 > 3*3\n",
        "b = 2**2 > 2*2\n",
        "c = 3**2 > 3*2 and 2**3 > 2*3\n",
        "if a and b and c:\n",
        "    print('Todos los enunciados son correctos')\n",
        "elif not a and b and c:\n",
        "    print('a es falsa')\n",
        "elif a and b and not c:\n",
        "    print('c es falsa')\n",
        "elif not a and b and not c:\n",
        "    print('Sólo b es verdadera')\n",
        "elif a and not b and c:\n",
        "    print('b es falsa')\n",
        "elif not a and not b and c:\n",
        "    print('Sólo c es verdadera')\n",
        "elif a and not b and not c:\n",
        "    print('Sólo a es verdadera')\n",
        "else:\n",
        "    print('Todos los enunciados son falsos')"
      ],
      "execution_count": 64,
      "outputs": [
        {
          "output_type": "stream",
          "name": "stdout",
          "text": [
            "b es falsa\n"
          ]
        }
      ]
    },
    {
      "cell_type": "markdown",
      "metadata": {
        "id": "oDiMnNsz-6ZP"
      },
      "source": [
        "## _**Loop Structure**_"
      ]
    },
    {
      "cell_type": "markdown",
      "metadata": {
        "id": "Ox8S4RGi_4Uy"
      },
      "source": [
        "### While Loop:"
      ]
    },
    {
      "cell_type": "code",
      "metadata": {
        "colab": {
          "base_uri": "https://localhost:8080/"
        },
        "id": "gxG7eWQ8_8XR",
        "outputId": "d18d9d95-6970-4bd7-e537-780038bd5c9a"
      },
      "source": [
        "#Ejemplo de QuantConnect\n",
        "i = 0\n",
        "while i < 5:\n",
        "    print(i)\n",
        "    i += 1"
      ],
      "execution_count": 65,
      "outputs": [
        {
          "output_type": "stream",
          "name": "stdout",
          "text": [
            "0\n",
            "1\n",
            "2\n",
            "3\n",
            "4\n"
          ]
        }
      ]
    },
    {
      "cell_type": "code",
      "metadata": {
        "colab": {
          "base_uri": "https://localhost:8080/"
        },
        "id": "xxK8Bf_4Aa07",
        "outputId": "77435f69-b48b-4ea2-c3a4-c3b2da7e5f45"
      },
      "source": [
        "#Ejemplo Propio\n",
        "numero = 144.0\n",
        "while numero >= 4:\n",
        "    print(numero)\n",
        "    numero /= 2"
      ],
      "execution_count": 66,
      "outputs": [
        {
          "output_type": "stream",
          "name": "stdout",
          "text": [
            "144.0\n",
            "72.0\n",
            "36.0\n",
            "18.0\n",
            "9.0\n",
            "4.5\n"
          ]
        }
      ]
    },
    {
      "cell_type": "markdown",
      "metadata": {
        "id": "3zxg0UpaAbNr"
      },
      "source": [
        "### For Loop:"
      ]
    },
    {
      "cell_type": "markdown",
      "metadata": {
        "id": "Dxu6p8QNBxzN"
      },
      "source": [
        "* #### *Simple iteration:*"
      ]
    },
    {
      "cell_type": "code",
      "metadata": {
        "colab": {
          "base_uri": "https://localhost:8080/"
        },
        "id": "q_08_gzoB4Qu",
        "outputId": "6c90b667-be44-49c9-c0ec-2ebfd513cb52"
      },
      "source": [
        "#Ejemplo de QuantConnect\n",
        "for x in [1,2,3,4,5]: print(x)"
      ],
      "execution_count": 67,
      "outputs": [
        {
          "output_type": "stream",
          "name": "stdout",
          "text": [
            "1\n",
            "2\n",
            "3\n",
            "4\n",
            "5\n"
          ]
        }
      ]
    },
    {
      "cell_type": "code",
      "metadata": {
        "colab": {
          "base_uri": "https://localhost:8080/"
        },
        "id": "nUN5lEbuB4iQ",
        "outputId": "b17292e9-b9b3-4e28-f61b-1e5be018842d"
      },
      "source": [
        "#Ejemplo Propio\n",
        "for letra in 'JuanPabloBustamante': print(letra)"
      ],
      "execution_count": 68,
      "outputs": [
        {
          "output_type": "stream",
          "name": "stdout",
          "text": [
            "J\n",
            "u\n",
            "a\n",
            "n\n",
            "P\n",
            "a\n",
            "b\n",
            "l\n",
            "o\n",
            "B\n",
            "u\n",
            "s\n",
            "t\n",
            "a\n",
            "m\n",
            "a\n",
            "n\n",
            "t\n",
            "e\n"
          ]
        }
      ]
    },
    {
      "cell_type": "markdown",
      "metadata": {
        "id": "DPUh6bllCZvj"
      },
      "source": [
        "* #### *Pairs trading algorithm:*"
      ]
    },
    {
      "cell_type": "code",
      "metadata": {
        "colab": {
          "base_uri": "https://localhost:8080/"
        },
        "id": "dqu2ycvtCaOH",
        "outputId": "197f6bf9-df88-471a-deaf-3fab1129affd"
      },
      "source": [
        "#Ejemplo de QuantConnect\n",
        "stocks = ['AAPL','GOOG','IBM','FB','F','V', 'G', 'GE']\n",
        "selected = ['AAPL','IBM']\n",
        "new_list = []\n",
        "for stock in stocks:\n",
        "    if stock not in selected:\n",
        "        new_list.append(stock)\n",
        "print(new_list)"
      ],
      "execution_count": 69,
      "outputs": [
        {
          "output_type": "stream",
          "name": "stdout",
          "text": [
            "['GOOG', 'FB', 'F', 'V', 'G', 'GE']\n"
          ]
        }
      ]
    },
    {
      "cell_type": "code",
      "metadata": {
        "colab": {
          "base_uri": "https://localhost:8080/"
        },
        "id": "b1UbpT3VCauU",
        "outputId": "0d0a1366-ebf3-4666-ef99-387e19b7fcf9"
      },
      "source": [
        "#Ejemplo Propio\n",
        "productos = ['Producto1','Producto2','Producto3','Producto4','Producto5','Producto6', 'Producto7', 'Producto8', 'Producto9']\n",
        "seleccionados = ['Producto6','Producto2','Producto9']\n",
        "disponibles = []\n",
        "for producto in productos:\n",
        "    if producto not in seleccionados:\n",
        "        disponibles.append(producto)\n",
        "print(disponibles)"
      ],
      "execution_count": 70,
      "outputs": [
        {
          "output_type": "stream",
          "name": "stdout",
          "text": [
            "['Producto1', 'Producto3', 'Producto4', 'Producto5', 'Producto7', 'Producto8']\n"
          ]
        }
      ]
    },
    {
      "cell_type": "markdown",
      "metadata": {
        "id": "yO6wUduzFTR9"
      },
      "source": [
        "### Break and continue:"
      ]
    },
    {
      "cell_type": "markdown",
      "metadata": {
        "id": "29FykLpwF2cX"
      },
      "source": [
        "* #### *Break:*"
      ]
    },
    {
      "cell_type": "code",
      "metadata": {
        "colab": {
          "base_uri": "https://localhost:8080/"
        },
        "id": "00AwJZ-dFa6H",
        "outputId": "89e455a2-4c76-4640-8821-01f7ed15843d"
      },
      "source": [
        "#Ejemplo de QuantConnect\n",
        "stocks = ['AAPL','GOOG','IBM','FB','F','V', 'G', 'GE']\n",
        "for stock in stocks:\n",
        "    print(stock)\n",
        "    if stock == 'FB': break"
      ],
      "execution_count": 71,
      "outputs": [
        {
          "output_type": "stream",
          "name": "stdout",
          "text": [
            "AAPL\n",
            "GOOG\n",
            "IBM\n",
            "FB\n"
          ]
        }
      ]
    },
    {
      "cell_type": "code",
      "metadata": {
        "colab": {
          "base_uri": "https://localhost:8080/"
        },
        "id": "IjZYaeNnFgji",
        "outputId": "6897ac97-30cb-4113-a9c2-9e89416c1d50"
      },
      "source": [
        "#Ejemplo Propio\n",
        "digitos = [1,2,3,4,5,6,7,8,9]\n",
        "for digito in digitos:\n",
        "    print(digito, 'x', 7, '=', digito*7)\n",
        "    if digito == 7: break"
      ],
      "execution_count": 72,
      "outputs": [
        {
          "output_type": "stream",
          "name": "stdout",
          "text": [
            "1 x 7 = 7\n",
            "2 x 7 = 14\n",
            "3 x 7 = 21\n",
            "4 x 7 = 28\n",
            "5 x 7 = 35\n",
            "6 x 7 = 42\n",
            "7 x 7 = 49\n"
          ]
        }
      ]
    },
    {
      "cell_type": "markdown",
      "metadata": {
        "id": "z3okQaU9FhHk"
      },
      "source": [
        "* #### *Continue:*"
      ]
    },
    {
      "cell_type": "code",
      "metadata": {
        "colab": {
          "base_uri": "https://localhost:8080/"
        },
        "id": "JJbRM1hWG_Wf",
        "outputId": "8d31c298-7dfa-4a22-fc9e-72f76edd0b34"
      },
      "source": [
        "#Ejemplo de QuantConnect\n",
        "stocks = ['AAPL','GOOG','IBM','FB','F','V', 'G', 'GE']\n",
        "for stock in stocks:\n",
        "    if stock == 'FB': continue\n",
        "    print(stock)"
      ],
      "execution_count": 73,
      "outputs": [
        {
          "output_type": "stream",
          "name": "stdout",
          "text": [
            "AAPL\n",
            "GOOG\n",
            "IBM\n",
            "F\n",
            "V\n",
            "G\n",
            "GE\n"
          ]
        }
      ]
    },
    {
      "cell_type": "code",
      "metadata": {
        "colab": {
          "base_uri": "https://localhost:8080/"
        },
        "id": "YPOGnkDFG_vn",
        "outputId": "7830124b-49e8-430d-da92-1194a8c83b57"
      },
      "source": [
        "#Ejemplo Propio\n",
        "digitos = [1,2,3,4,5,0,6,7,8,9]\n",
        "for digito in digitos:\n",
        "    print(digito, 'x', 9, '=', digito*9)\n",
        "    if digito == 0: break"
      ],
      "execution_count": 74,
      "outputs": [
        {
          "output_type": "stream",
          "name": "stdout",
          "text": [
            "1 x 9 = 9\n",
            "2 x 9 = 18\n",
            "3 x 9 = 27\n",
            "4 x 9 = 36\n",
            "5 x 9 = 45\n",
            "0 x 9 = 0\n"
          ]
        }
      ]
    },
    {
      "cell_type": "markdown",
      "metadata": {
        "id": "2lKdBfZWHADG"
      },
      "source": [
        "## _**List Comprehension**_"
      ]
    },
    {
      "cell_type": "markdown",
      "metadata": {
        "id": "M8RDu93XH38C"
      },
      "source": [
        "### Create a list using a loop:"
      ]
    },
    {
      "cell_type": "code",
      "metadata": {
        "colab": {
          "base_uri": "https://localhost:8080/"
        },
        "id": "eAe_RnaqH2rw",
        "outputId": "7cbdc18a-010e-4430-e2df-c19ffece46b0"
      },
      "source": [
        "#Ejemplo de QuantConnect\n",
        "squares = []\n",
        "for i in [1,2,3,4,5]:\n",
        "    squares.append(i**2)\n",
        "print(squares)"
      ],
      "execution_count": 75,
      "outputs": [
        {
          "output_type": "stream",
          "name": "stdout",
          "text": [
            "[1, 4, 9, 16, 25]\n"
          ]
        }
      ]
    },
    {
      "cell_type": "code",
      "metadata": {
        "colab": {
          "base_uri": "https://localhost:8080/"
        },
        "id": "g3_RcrR4IKbR",
        "outputId": "c7817a2c-2486-480e-cf30-b9c9251bd140"
      },
      "source": [
        "#Ejemplo Propio\n",
        "cubos_i = []\n",
        "impares = [1,3,5,7,9]\n",
        "for j in impares:\n",
        "    cubos_i.append(j**3)\n",
        "print(cubos_i)"
      ],
      "execution_count": 76,
      "outputs": [
        {
          "output_type": "stream",
          "name": "stdout",
          "text": [
            "[1, 27, 125, 343, 729]\n"
          ]
        }
      ]
    },
    {
      "cell_type": "markdown",
      "metadata": {
        "id": "ijXfexTNIK1F"
      },
      "source": [
        "### Create a list using list comprehension:"
      ]
    },
    {
      "cell_type": "code",
      "metadata": {
        "colab": {
          "base_uri": "https://localhost:8080/"
        },
        "id": "GXOch-yuI2l7",
        "outputId": "27b9efc2-1639-46ce-cb50-4e5883887538"
      },
      "source": [
        "#Ejemplo de QuantConnect\n",
        "foo = [1,2,3,4,5]\n",
        "squares = [x**2 for x in foo]\n",
        "print(squares)"
      ],
      "execution_count": 77,
      "outputs": [
        {
          "output_type": "stream",
          "name": "stdout",
          "text": [
            "[1, 4, 9, 16, 25]\n"
          ]
        }
      ]
    },
    {
      "cell_type": "code",
      "metadata": {
        "colab": {
          "base_uri": "https://localhost:8080/"
        },
        "id": "aP87A8WMI26e",
        "outputId": "1b08260b-605b-4cb9-959e-1d05cfe24aa0"
      },
      "source": [
        "#Ejemplo Propio\n",
        "pares = [2,4,6,8,10]\n",
        "cubos_p = [y**3 for y in pares]\n",
        "print(cubos_p)"
      ],
      "execution_count": 78,
      "outputs": [
        {
          "output_type": "stream",
          "name": "stdout",
          "text": [
            "[8, 64, 216, 512, 1000]\n"
          ]
        }
      ]
    },
    {
      "cell_type": "markdown",
      "metadata": {
        "id": "1SY8f97wJb8M"
      },
      "source": [
        "### Select sotcks with list comprehension:"
      ]
    },
    {
      "cell_type": "code",
      "metadata": {
        "colab": {
          "base_uri": "https://localhost:8080/"
        },
        "id": "HnK2RcOdJjeU",
        "outputId": "3fa17fe8-9195-45c9-c149-13df6c575d71"
      },
      "source": [
        "#Ejemplo de QuantConnect\n",
        "stocks = ['AAPL','GOOG','IBM','FB','F','V', 'G', 'GE']\n",
        "selected = ['AAPL','IBM']\n",
        "new_list = [x for x in stocks if x not in selected]\n",
        "print(new_list)"
      ],
      "execution_count": 79,
      "outputs": [
        {
          "output_type": "stream",
          "name": "stdout",
          "text": [
            "['GOOG', 'FB', 'F', 'V', 'G', 'GE']\n"
          ]
        }
      ]
    },
    {
      "cell_type": "code",
      "metadata": {
        "colab": {
          "base_uri": "https://localhost:8080/"
        },
        "id": "nNmhuP-GJjwo",
        "outputId": "ca9e5034-3f6a-40ce-e38e-3ba917831732"
      },
      "source": [
        "#Ejemplo Propio\n",
        "productos = ['Producto1','Producto2','Producto3','Producto4','Producto5','Producto6', 'Producto7', 'Producto8', 'Producto9']\n",
        "seleccionados = ['Producto6','Producto2','Producto9']\n",
        "disponibles = [producto for producto in productos if producto not in seleccionados]\n",
        "print(disponibles)"
      ],
      "execution_count": 80,
      "outputs": [
        {
          "output_type": "stream",
          "name": "stdout",
          "text": [
            "['Producto1', 'Producto3', 'Producto4', 'Producto5', 'Producto7', 'Producto8']\n"
          ]
        }
      ]
    },
    {
      "cell_type": "markdown",
      "metadata": {
        "id": "JbYxhxfYKYmP"
      },
      "source": [
        "### List comprehension with \"for\" and \"if\" clauses:"
      ]
    },
    {
      "cell_type": "code",
      "metadata": {
        "colab": {
          "base_uri": "https://localhost:8080/"
        },
        "id": "1K7xEhZUKpvc",
        "outputId": "906b839d-cb48-4bc7-d337-0711486b3d65"
      },
      "source": [
        "#Ejemplo de QuantConnect\n",
        "print([(x, y) for x in [1,2,3] for y in [3,1,4] if x != y])\n",
        "print([str(x) + ' vs ' + str(y) for x in ['AAPL','GOOG','IBM','FB']\n",
        "                                for y in ['F','V','G','GE'] if x != y])"
      ],
      "execution_count": 81,
      "outputs": [
        {
          "output_type": "stream",
          "name": "stdout",
          "text": [
            "[(1, 3), (1, 4), (2, 3), (2, 1), (2, 4), (3, 1), (3, 4)]\n",
            "['AAPL vs F', 'AAPL vs V', 'AAPL vs G', 'AAPL vs GE', 'GOOG vs F', 'GOOG vs V', 'GOOG vs G', 'GOOG vs GE', 'IBM vs F', 'IBM vs V', 'IBM vs G', 'IBM vs GE', 'FB vs F', 'FB vs V', 'FB vs G', 'FB vs GE']\n"
          ]
        }
      ]
    },
    {
      "cell_type": "code",
      "metadata": {
        "colab": {
          "base_uri": "https://localhost:8080/"
        },
        "id": "r_XhDDWZKqA0",
        "outputId": "bdec5aef-a855-4954-864e-5e861cdfb3be"
      },
      "source": [
        "#Ejemplo Propio\n",
        "print([(i*j) for i in [4,5,6,7] for j in [2,4,6,8] if i == j])\n",
        "print([str(m) + ' = ' + str(n) for m in ['Twitter','Facebook','WhatsApp']\n",
        "                                for n in ['Facebook','Instagram'] if m != n])"
      ],
      "execution_count": 82,
      "outputs": [
        {
          "output_type": "stream",
          "name": "stdout",
          "text": [
            "[16, 36]\n",
            "['Twitter = Facebook', 'Twitter = Instagram', 'Facebook = Instagram', 'WhatsApp = Facebook', 'WhatsApp = Instagram']\n"
          ]
        }
      ]
    },
    {
      "cell_type": "markdown",
      "metadata": {
        "id": "oT3A35Y_NOW9"
      },
      "source": [
        "# **Tutorial 3. Python: Functions and Object-Oriented Programming**"
      ]
    },
    {
      "cell_type": "markdown",
      "metadata": {
        "id": "hy1y1jC6Ng2t"
      },
      "source": [
        "## _**Functions**_"
      ]
    },
    {
      "cell_type": "markdown",
      "metadata": {
        "id": "4_g88kmTQEki"
      },
      "source": [
        "### Define a function:"
      ]
    },
    {
      "cell_type": "code",
      "metadata": {
        "colab": {
          "base_uri": "https://localhost:8080/"
        },
        "id": "n9cgyr3ZQGXP",
        "outputId": "02fa6afb-47d5-4ea9-e287-d8cfced2651a"
      },
      "source": [
        "#Ejemplo de QuantConnect\n",
        "def product(x,y):\n",
        "    return x*y\n",
        "print(product(2,3))\n",
        "print(product(5,10))"
      ],
      "execution_count": 83,
      "outputs": [
        {
          "output_type": "stream",
          "name": "stdout",
          "text": [
            "6\n",
            "50\n"
          ]
        }
      ]
    },
    {
      "cell_type": "code",
      "metadata": {
        "colab": {
          "base_uri": "https://localhost:8080/"
        },
        "id": "rvv1nL8VQGs9",
        "outputId": "d047176d-553a-46ab-d99e-716a125a2fdd"
      },
      "source": [
        "#Ejemplo Propio\n",
        "def divisiones_sucesivas(a,b,c):\n",
        "  for i in range(0,c):\n",
        "    a = a/b\n",
        "  return a\n",
        "print(divisiones_sucesivas(512,2,6))\n",
        "print(divisiones_sucesivas(2187,3,4))"
      ],
      "execution_count": 84,
      "outputs": [
        {
          "output_type": "stream",
          "name": "stdout",
          "text": [
            "8.0\n",
            "27.0\n"
          ]
        }
      ]
    },
    {
      "cell_type": "markdown",
      "metadata": {
        "id": "8l5dAHlHQHAI"
      },
      "source": [
        "### Function without parameters:"
      ]
    },
    {
      "cell_type": "code",
      "metadata": {
        "colab": {
          "base_uri": "https://localhost:8080/"
        },
        "id": "MkmDb-oIQIN1",
        "outputId": "ed7b70ae-6847-42b1-b9e6-b1a7c6157f50"
      },
      "source": [
        "#Ejemplo de QuantConnect\n",
        "def say_hi():\n",
        "    print(\"Welcome to QuantConnect\")\n",
        "say_hi()"
      ],
      "execution_count": 85,
      "outputs": [
        {
          "output_type": "stream",
          "name": "stdout",
          "text": [
            "Welcome to QuantConnect\n"
          ]
        }
      ]
    },
    {
      "cell_type": "code",
      "metadata": {
        "colab": {
          "base_uri": "https://localhost:8080/"
        },
        "id": "TKdtXOtdQIrp",
        "outputId": "2cf42b82-3153-48e6-ba6b-5d4ef47ceaac"
      },
      "source": [
        "#Ejemplo Propio\n",
        "def alfabeto():\n",
        "    for l in \"abcdefghijklmnopqrstuvwxyz\": print(l)\n",
        "alfabeto()"
      ],
      "execution_count": 86,
      "outputs": [
        {
          "output_type": "stream",
          "name": "stdout",
          "text": [
            "a\n",
            "b\n",
            "c\n",
            "d\n",
            "e\n",
            "f\n",
            "g\n",
            "h\n",
            "i\n",
            "j\n",
            "k\n",
            "l\n",
            "m\n",
            "n\n",
            "o\n",
            "p\n",
            "q\n",
            "r\n",
            "s\n",
            "t\n",
            "u\n",
            "v\n",
            "w\n",
            "x\n",
            "y\n",
            "z\n"
          ]
        }
      ]
    },
    {
      "cell_type": "markdown",
      "metadata": {
        "id": "EOqQHiChQJAb"
      },
      "source": [
        "## _**Built-in Function**_"
      ]
    },
    {
      "cell_type": "markdown",
      "metadata": {
        "id": "1ZcQyIshUTDZ"
      },
      "source": [
        "### range():"
      ]
    },
    {
      "cell_type": "code",
      "metadata": {
        "colab": {
          "base_uri": "https://localhost:8080/"
        },
        "id": "yeHvPY5uUgnA",
        "outputId": "0c25e670-8049-4ac2-c651-36a4e984da8c"
      },
      "source": [
        "#Ejemplo de QuantConnect\n",
        "print(list(range(10)))\n",
        "print(list(range(1, 11)))\n",
        "print(list(range(1, 11, 2)))"
      ],
      "execution_count": 87,
      "outputs": [
        {
          "output_type": "stream",
          "name": "stdout",
          "text": [
            "[0, 1, 2, 3, 4, 5, 6, 7, 8, 9]\n",
            "[1, 2, 3, 4, 5, 6, 7, 8, 9, 10]\n",
            "[1, 3, 5, 7, 9]\n"
          ]
        }
      ]
    },
    {
      "cell_type": "code",
      "metadata": {
        "colab": {
          "base_uri": "https://localhost:8080/"
        },
        "id": "B4V61M7DUg9T",
        "outputId": "bae479fc-d686-4321-9d5d-ab3f0ae3f0ed"
      },
      "source": [
        "#Ejemplo Propio\n",
        "print(list(range(6)))\n",
        "print(list(range(18, 28)))\n",
        "print(list(range(15, 31, 3)))"
      ],
      "execution_count": 88,
      "outputs": [
        {
          "output_type": "stream",
          "name": "stdout",
          "text": [
            "[0, 1, 2, 3, 4, 5]\n",
            "[18, 19, 20, 21, 22, 23, 24, 25, 26, 27]\n",
            "[15, 18, 21, 24, 27, 30]\n"
          ]
        }
      ]
    },
    {
      "cell_type": "markdown",
      "metadata": {
        "id": "FE-DKeQsUhWC"
      },
      "source": [
        "### len():"
      ]
    },
    {
      "cell_type": "code",
      "metadata": {
        "colab": {
          "base_uri": "https://localhost:8080/"
        },
        "id": "J_cJ4IjmUnRV",
        "outputId": "ce3695f7-2e1e-4219-e0bb-9628f971d74a"
      },
      "source": [
        "#Ejemplo de QuantConnect\n",
        "tickers = ['AAPL', 'GOOGL', 'IBM', 'FB', 'F', 'V', 'G', 'GE']\n",
        "print(\"The number of tickers is {}\".format(len(tickers)))\n",
        "for k in range(len(tickers)):\n",
        "    print(k + 1, tickers[k])"
      ],
      "execution_count": 89,
      "outputs": [
        {
          "output_type": "stream",
          "name": "stdout",
          "text": [
            "The number of tickers is 8\n",
            "1 AAPL\n",
            "2 GOOGL\n",
            "3 IBM\n",
            "4 FB\n",
            "5 F\n",
            "6 V\n",
            "7 G\n",
            "8 GE\n"
          ]
        }
      ]
    },
    {
      "cell_type": "code",
      "metadata": {
        "colab": {
          "base_uri": "https://localhost:8080/"
        },
        "id": "S2inyuwjUnuQ",
        "outputId": "42080306-e5e1-497c-92c1-59ef221c36f8"
      },
      "source": [
        "#Ejemplo Propio\n",
        "redes = ['Facebook', 'Twitter', 'WhatsApp', 'Instagram', 'Tiktok', 'YouTube']\n",
        "print(\"El número de redes es {}\".format(len(redes)))\n",
        "for w in range(len(redes)):\n",
        "    print(w + 1, redes[w])"
      ],
      "execution_count": 90,
      "outputs": [
        {
          "output_type": "stream",
          "name": "stdout",
          "text": [
            "El número de redes es 6\n",
            "1 Facebook\n",
            "2 Twitter\n",
            "3 WhatsApp\n",
            "4 Instagram\n",
            "5 Tiktok\n",
            "6 YouTube\n"
          ]
        }
      ]
    },
    {
      "cell_type": "markdown",
      "metadata": {
        "id": "XLvQXZVUUob_"
      },
      "source": [
        "### map():"
      ]
    },
    {
      "cell_type": "markdown",
      "metadata": {
        "id": "Gg67Z0haU8mn"
      },
      "source": [
        "* #### *Using the function:*"
      ]
    },
    {
      "cell_type": "code",
      "metadata": {
        "id": "gigC4sJxVDFY",
        "colab": {
          "base_uri": "https://localhost:8080/"
        },
        "outputId": "884d5abe-a5b7-4fa7-b2b1-23a91e3abab6"
      },
      "source": [
        "#Ejemplo de QuantConnect\n",
        "tickers = ['AAPL','GOOG','IBM','FB','F','V', 'G', 'GE']\n",
        "print(list(map(len,tickers)))"
      ],
      "execution_count": 91,
      "outputs": [
        {
          "output_type": "stream",
          "name": "stdout",
          "text": [
            "[4, 4, 3, 2, 1, 1, 1, 2]\n"
          ]
        }
      ]
    },
    {
      "cell_type": "code",
      "metadata": {
        "id": "1U34coVgVDZD",
        "colab": {
          "base_uri": "https://localhost:8080/"
        },
        "outputId": "9170ceae-35a2-4a9e-fc8f-120e11eeef9e"
      },
      "source": [
        "#Ejemplo Propio\n",
        "def minusculas(cad):\n",
        "    return cad.lower()\n",
        "cadenas = ['JUAN','PABLO','BUSTAMANTE','MORENO','UN', 'ALGORITMOS']\n",
        "print(list(map(minusculas,cadenas)))"
      ],
      "execution_count": 92,
      "outputs": [
        {
          "output_type": "stream",
          "name": "stdout",
          "text": [
            "['juan', 'pablo', 'bustamante', 'moreno', 'un', 'algoritmos']\n"
          ]
        }
      ]
    },
    {
      "cell_type": "markdown",
      "metadata": {
        "id": "Nj0zIDRsVDvX"
      },
      "source": [
        "* #### *The lambda operator:*"
      ]
    },
    {
      "cell_type": "code",
      "metadata": {
        "id": "fLPRW-xoVHb1",
        "colab": {
          "base_uri": "https://localhost:8080/"
        },
        "outputId": "1e9a57a4-20eb-4532-c0d6-b3c224c3cc26"
      },
      "source": [
        "#Ejemplo de QuantConnect\n",
        "print(list(map(lambda x: x**2, range(10))))"
      ],
      "execution_count": 93,
      "outputs": [
        {
          "output_type": "stream",
          "name": "stdout",
          "text": [
            "[0, 1, 4, 9, 16, 25, 36, 49, 64, 81]\n"
          ]
        }
      ]
    },
    {
      "cell_type": "code",
      "metadata": {
        "id": "dkVkkjigVH2N",
        "colab": {
          "base_uri": "https://localhost:8080/"
        },
        "outputId": "b353f7f7-c246-4aaa-df29-a6d1652d8ade"
      },
      "source": [
        "#Ejemplo Propio\n",
        "print(list(range(1,10,2)))\n",
        "print(list(map(lambda x: x**3 > (x*2)**2, range(1,10,2))))"
      ],
      "execution_count": 94,
      "outputs": [
        {
          "output_type": "stream",
          "name": "stdout",
          "text": [
            "[1, 3, 5, 7, 9]\n",
            "[False, False, True, True, True]\n"
          ]
        }
      ]
    },
    {
      "cell_type": "markdown",
      "metadata": {
        "id": "uqnL9SxBVIR7"
      },
      "source": [
        "* #### *Applying it to more than one list:*"
      ]
    },
    {
      "cell_type": "code",
      "metadata": {
        "id": "cN6M8Fx2VQRL",
        "colab": {
          "base_uri": "https://localhost:8080/"
        },
        "outputId": "4492bdd5-091e-403c-ad5f-0e65c6aff230"
      },
      "source": [
        "#Ejemplo de QuantConnect\n",
        "print(list(map(lambda x, y: x+y, [1,2,3,4,5], [5,4,3,2,1])))"
      ],
      "execution_count": 95,
      "outputs": [
        {
          "output_type": "stream",
          "name": "stdout",
          "text": [
            "[6, 6, 6, 6, 6]\n"
          ]
        }
      ]
    },
    {
      "cell_type": "code",
      "metadata": {
        "id": "X_gw9K-_VQrz",
        "colab": {
          "base_uri": "https://localhost:8080/"
        },
        "outputId": "6918e422-5843-4459-b798-21912e801f1f"
      },
      "source": [
        "#Ejemplo Propio\n",
        "print(list(range(3,17,2)))\n",
        "print(list(range(16,1,-2)))\n",
        "print(\"Vector resultante:\")\n",
        "print(list(map(lambda x, y: (x*y)-(x+y), range(3,17,2), range(16,1,-2))))"
      ],
      "execution_count": 96,
      "outputs": [
        {
          "output_type": "stream",
          "name": "stdout",
          "text": [
            "[3, 5, 7, 9, 11, 13, 15]\n",
            "[16, 14, 12, 10, 8, 6, 4, 2]\n",
            "Vector resultante:\n",
            "[29, 51, 65, 71, 69, 59, 41]\n"
          ]
        }
      ]
    },
    {
      "cell_type": "markdown",
      "metadata": {
        "id": "89ypgUj2VVyk"
      },
      "source": [
        "### sorted():"
      ]
    },
    {
      "cell_type": "markdown",
      "metadata": {
        "id": "qxwQl50uVXFX"
      },
      "source": [
        "* #### *Using the function:*"
      ]
    },
    {
      "cell_type": "code",
      "metadata": {
        "id": "KMEHiTCgVbDa",
        "colab": {
          "base_uri": "https://localhost:8080/"
        },
        "outputId": "2865ffbd-7349-4a6d-a478-d1e0d1444b32"
      },
      "source": [
        "#Ejemplo de QuantConnect\n",
        "sorted([5,2,3,4,1])"
      ],
      "execution_count": 97,
      "outputs": [
        {
          "output_type": "execute_result",
          "data": {
            "text/plain": [
              "[1, 2, 3, 4, 5]"
            ]
          },
          "metadata": {},
          "execution_count": 97
        }
      ]
    },
    {
      "cell_type": "code",
      "metadata": {
        "id": "cW-uDiZCVbia",
        "colab": {
          "base_uri": "https://localhost:8080/"
        },
        "outputId": "05c48a10-bea2-4dae-f3da-0f04ae7d4973"
      },
      "source": [
        "#Ejemplo Propio\n",
        "sorted([3**2,2**4,2**3,3*4,3**4,4**3,2*3])"
      ],
      "execution_count": 98,
      "outputs": [
        {
          "output_type": "execute_result",
          "data": {
            "text/plain": [
              "[6, 8, 9, 12, 16, 64, 81]"
            ]
          },
          "metadata": {},
          "execution_count": 98
        }
      ]
    },
    {
      "cell_type": "markdown",
      "metadata": {
        "id": "twuypuCBVcAm"
      },
      "source": [
        "* #### *Adding a key:*"
      ]
    },
    {
      "cell_type": "code",
      "metadata": {
        "id": "XZwi1B56ViI-",
        "colab": {
          "base_uri": "https://localhost:8080/"
        },
        "outputId": "4b4b6e03-0681-4c1a-93e5-b7a16144aabd"
      },
      "source": [
        "#Ejemplo de QuantConnect\n",
        "price_list = [('AAPL', 144.09), ('GOOGL', 911.71), ('MSFT', 69), ('FB', 150), ('WMT', 75.32)]\n",
        "sorted(price_list, key = lambda x: x[1])"
      ],
      "execution_count": 99,
      "outputs": [
        {
          "output_type": "execute_result",
          "data": {
            "text/plain": [
              "[('MSFT', 69),\n",
              " ('WMT', 75.32),\n",
              " ('AAPL', 144.09),\n",
              " ('FB', 150),\n",
              " ('GOOGL', 911.71)]"
            ]
          },
          "metadata": {},
          "execution_count": 99
        }
      ]
    },
    {
      "cell_type": "code",
      "metadata": {
        "id": "bU3D82eSVieM",
        "colab": {
          "base_uri": "https://localhost:8080/"
        },
        "outputId": "bcf222b1-34ae-4b03-b492-5800ba02b7a1"
      },
      "source": [
        "#Ejemplo Propio\n",
        "precios = [('Arroz', 2990, 3), ('Leche', 13200, 1), ('Café', 9360, 4), ('Chocolate', 4792, 2)]\n",
        "sorted(precios, key = lambda x: x[2])"
      ],
      "execution_count": 100,
      "outputs": [
        {
          "output_type": "execute_result",
          "data": {
            "text/plain": [
              "[('Leche', 13200, 1),\n",
              " ('Chocolate', 4792, 2),\n",
              " ('Arroz', 2990, 3),\n",
              " ('Café', 9360, 4)]"
            ]
          },
          "metadata": {},
          "execution_count": 100
        }
      ]
    },
    {
      "cell_type": "markdown",
      "metadata": {
        "id": "1328FDjyVi0G"
      },
      "source": [
        "* #### *Reverse order:*"
      ]
    },
    {
      "cell_type": "code",
      "metadata": {
        "id": "k2vTBlKnVqPs",
        "colab": {
          "base_uri": "https://localhost:8080/"
        },
        "outputId": "f6b6d76f-693e-4d58-cecb-252474d99f4a"
      },
      "source": [
        "#Ejemplo de QuantConnect\n",
        "price_list = [('AAPL', 144.09), ('GOOGL', 911.71), ('MSFT', 69), ('FB', 150), ('WMT', 75.32)]\n",
        "sorted(price_list, key = lambda x: x[1], reverse = True)"
      ],
      "execution_count": 101,
      "outputs": [
        {
          "output_type": "execute_result",
          "data": {
            "text/plain": [
              "[('GOOGL', 911.71),\n",
              " ('FB', 150),\n",
              " ('AAPL', 144.09),\n",
              " ('WMT', 75.32),\n",
              " ('MSFT', 69)]"
            ]
          },
          "metadata": {},
          "execution_count": 101
        }
      ]
    },
    {
      "cell_type": "code",
      "metadata": {
        "id": "_j339eQOVqra",
        "colab": {
          "base_uri": "https://localhost:8080/"
        },
        "outputId": "eb7ab81a-97f1-4929-868f-af2552173707"
      },
      "source": [
        "#Ejemplo Propio\n",
        "precios = [('Arroz', 2990, 3), ('Leche', 13200, 1), ('Café', 9360, 4), ('Chocolate', 4792, 2)]\n",
        "sorted(precios, key = lambda x: x[1], reverse = True)"
      ],
      "execution_count": 102,
      "outputs": [
        {
          "output_type": "execute_result",
          "data": {
            "text/plain": [
              "[('Leche', 13200, 1),\n",
              " ('Café', 9360, 4),\n",
              " ('Chocolate', 4792, 2),\n",
              " ('Arroz', 2990, 3)]"
            ]
          },
          "metadata": {},
          "execution_count": 102
        }
      ]
    },
    {
      "cell_type": "markdown",
      "metadata": {
        "id": "XU0cx6mjVrdv"
      },
      "source": [
        "* #### *The list.sort() function:*"
      ]
    },
    {
      "cell_type": "code",
      "metadata": {
        "id": "8BupIFzcV1LB",
        "colab": {
          "base_uri": "https://localhost:8080/"
        },
        "outputId": "4bf88f0a-de82-4e16-a13a-9103b7102cbd"
      },
      "source": [
        "#Ejemplo de QuantConnect\n",
        "price_list = [('AAPL', 144.09), ('GOOGL', 911.71), ('MSFT', 69), ('FB', 150), ('WMT', 75.32)]\n",
        "price_list.sort(key = lambda x: x[1])\n",
        "print(price_list)"
      ],
      "execution_count": 103,
      "outputs": [
        {
          "output_type": "stream",
          "name": "stdout",
          "text": [
            "[('MSFT', 69), ('WMT', 75.32), ('AAPL', 144.09), ('FB', 150), ('GOOGL', 911.71)]\n"
          ]
        }
      ]
    },
    {
      "cell_type": "code",
      "metadata": {
        "id": "9PkepZTNV1nW",
        "colab": {
          "base_uri": "https://localhost:8080/"
        },
        "outputId": "5f1662a5-2d5a-44bb-ac04-0c4be6996438"
      },
      "source": [
        "#Ejemplo Propio\n",
        "precios = [('Arroz', 2990, 3), ('Leche', 13200, 1), ('Café', 9360, 4), ('Chocolate', 4792, 2)]\n",
        "precios.sort(key = lambda x: x[0], reverse = True)\n",
        "print(precios)"
      ],
      "execution_count": 104,
      "outputs": [
        {
          "output_type": "stream",
          "name": "stdout",
          "text": [
            "[('Leche', 13200, 1), ('Chocolate', 4792, 2), ('Café', 9360, 4), ('Arroz', 2990, 3)]\n"
          ]
        }
      ]
    },
    {
      "cell_type": "markdown",
      "metadata": {
        "id": "zqhyjC86qFEG"
      },
      "source": [
        "## _**Object-Oriented Programming**_"
      ]
    },
    {
      "cell_type": "markdown",
      "metadata": {
        "id": "UxtsWiqIqQ-5"
      },
      "source": [
        "### Class:"
      ]
    },
    {
      "cell_type": "markdown",
      "metadata": {
        "id": "MBMoDToGqS97"
      },
      "source": [
        "* #### *Defining a class:*"
      ]
    },
    {
      "cell_type": "code",
      "metadata": {
        "id": "kS0hqyC1qfdc"
      },
      "source": [
        "#Ejemplo de QuantConnect\n",
        "class Stock:\n",
        "    def __init__(self, ticker, open, close, volume):\n",
        "        self.ticker = ticker\n",
        "        self.open = open\n",
        "        self.close = close\n",
        "        self.volume = volume\n",
        "        self.rate_return = float(close)/open - 1\n",
        "\n",
        "    def update(self, open, close):\n",
        "        self.open = open\n",
        "        self.close = close\n",
        "        self.rate_return = float(self.close)/self.open - 1\n",
        "\n",
        "    def print_return(self):\n",
        "        print(self.rate_return)"
      ],
      "execution_count": 105,
      "outputs": []
    },
    {
      "cell_type": "code",
      "metadata": {
        "id": "C2tJrwgTqfvh"
      },
      "source": [
        "#Ejemplo Propio\n",
        "class Estudiante:\n",
        "  def __init__(self, nombre, id, sede, carrera):\n",
        "    self.nombre = nombre\n",
        "    self.id = id\n",
        "    self.sede = sede\n",
        "    self.carrera = carrera\n",
        "    self.nota1 = None\n",
        "    self.nota2 = None\n",
        "    self.nota3 = None\n",
        "    self.promedio = None\n",
        "\n",
        "  def actualizar_datos(self, nombre, id, sede, carrera):\n",
        "    self.nombre = nombre\n",
        "    self.id = id\n",
        "    self.sede = sede\n",
        "    self.carrera = carrera \n",
        "\n",
        "  def cargar_notas(self, nota1, nota2, nota3):\n",
        "    self.nota1 = nota1\n",
        "    self.nota2 = nota2\n",
        "    self.nota3 = nota3\n",
        "    if self.nota1 != None and self.nota2 != None and self.nota3 != None:\n",
        "      self.promedio = (nota1+nota2+nota3)/3\n",
        "\n",
        "  def aprobacion(self):\n",
        "    if self.nota1 == None or self.nota2 == None or self.nota3 == None:\n",
        "      print(\"Faltan notas por subir\")\n",
        "    elif self.promedio < 3.0:\n",
        "      print(\"Estudiante Reprobado\")\n",
        "    else:\n",
        "      print(\"Estudiante Aprobado\")"
      ],
      "execution_count": 106,
      "outputs": []
    },
    {
      "cell_type": "markdown",
      "metadata": {
        "id": "slrcu7BhqgFj"
      },
      "source": [
        "* #### *Creating objects:*"
      ]
    },
    {
      "cell_type": "code",
      "metadata": {
        "id": "jwtRYgJptPOU"
      },
      "source": [
        "#Ejemplo de QuantConnect\n",
        "apple  = Stock('AAPL', 143.69, 144.09, 20109375)\n",
        "google = Stock('GOOGL', 898.7, 911.7, 1561616)"
      ],
      "execution_count": 107,
      "outputs": []
    },
    {
      "cell_type": "code",
      "metadata": {
        "id": "rTSEfJc-tPjv"
      },
      "source": [
        "#Ejemplo Propio\n",
        "primer_estudiante = Estudiante(\"Juan Pablo\",1001112569,\"Bogotá\",\"Ing. Sistemas\")\n",
        "segundo_estudiante = Estudiante(\"Rosa Lilia\",20659822,\"Palmira\",\"Idiomas\")"
      ],
      "execution_count": 108,
      "outputs": []
    },
    {
      "cell_type": "markdown",
      "metadata": {
        "id": "_MiZsQkStQYG"
      },
      "source": [
        "* #### *Accessing the attributes and calling the methods:*"
      ]
    },
    {
      "cell_type": "code",
      "metadata": {
        "colab": {
          "base_uri": "https://localhost:8080/"
        },
        "id": "DC-Ih2QSuSNX",
        "outputId": "25e8d65f-0e63-4851-e693-af5e4d2e176b"
      },
      "source": [
        "#Ejemplo de QuantConnect\n",
        "print(apple.ticker)\n",
        "google.print_return()\n",
        "google.update(912.8,913.4)\n",
        "google.print_return()"
      ],
      "execution_count": 109,
      "outputs": [
        {
          "output_type": "stream",
          "name": "stdout",
          "text": [
            "AAPL\n",
            "0.014465338822744034\n",
            "0.0006573181419806673\n"
          ]
        }
      ]
    },
    {
      "cell_type": "code",
      "metadata": {
        "colab": {
          "base_uri": "https://localhost:8080/"
        },
        "id": "BaVX5q9TuSjQ",
        "outputId": "d03185d7-bbb8-40a2-f25e-158f463cd02c"
      },
      "source": [
        "#Ejemplo Propio\n",
        "print(segundo_estudiante.id)\n",
        "print(segundo_estudiante.sede)\n",
        "segundo_estudiante.aprobacion()\n",
        "segundo_estudiante.cargar_notas(3.0,2.8,1.5)\n",
        "segundo_estudiante.aprobacion()\n",
        "segundo_estudiante.actualizar_datos(segundo_estudiante.nombre,segundo_estudiante.id,\"Bogotá\", segundo_estudiante.carrera)\n",
        "print(segundo_estudiante.sede)\n",
        "segundo_estudiante.cargar_notas(4.0,3.8,3.5)\n",
        "segundo_estudiante.aprobacion()"
      ],
      "execution_count": 110,
      "outputs": [
        {
          "output_type": "stream",
          "name": "stdout",
          "text": [
            "20659822\n",
            "Palmira\n",
            "Faltan notas por subir\n",
            "Estudiante Reprobado\n",
            "Bogotá\n",
            "Estudiante Aprobado\n"
          ]
        }
      ]
    },
    {
      "cell_type": "markdown",
      "metadata": {
        "id": "RRD1siiOuS5X"
      },
      "source": [
        "* #### *Adding an attribute::*"
      ]
    },
    {
      "cell_type": "code",
      "metadata": {
        "colab": {
          "base_uri": "https://localhost:8080/"
        },
        "id": "BOzAx7NpughV",
        "outputId": "73c3ed99-dcf9-4e6a-f099-aa399d72f2d2"
      },
      "source": [
        "#Ejemplo de QuantConnect\n",
        "apple.ceo = 'Tim Cook'\n",
        "print(apple.ceo)"
      ],
      "execution_count": 111,
      "outputs": [
        {
          "output_type": "stream",
          "name": "stdout",
          "text": [
            "Tim Cook\n"
          ]
        }
      ]
    },
    {
      "cell_type": "code",
      "metadata": {
        "colab": {
          "base_uri": "https://localhost:8080/"
        },
        "id": "46C8PUVbugyN",
        "outputId": "dd41725a-7f2e-4a3e-9943-1235d2e729b2"
      },
      "source": [
        "#Ejemplo Propio\n",
        "primer_estudiante.ingreso = 2019\n",
        "print(primer_estudiante.ingreso)"
      ],
      "execution_count": 112,
      "outputs": [
        {
          "output_type": "stream",
          "name": "stdout",
          "text": [
            "2019\n"
          ]
        }
      ]
    },
    {
      "cell_type": "markdown",
      "metadata": {
        "id": "wwft-c8_uhBN"
      },
      "source": [
        "* #### *The function dir():*"
      ]
    },
    {
      "cell_type": "code",
      "metadata": {
        "colab": {
          "base_uri": "https://localhost:8080/"
        },
        "id": "TGib1XfJun8l",
        "outputId": "588828d6-5745-4e37-e4c4-9f612f9fb88c"
      },
      "source": [
        "#Ejemplo de QuantConnect\n",
        "dir(apple)"
      ],
      "execution_count": 113,
      "outputs": [
        {
          "output_type": "execute_result",
          "data": {
            "text/plain": [
              "['__class__',\n",
              " '__delattr__',\n",
              " '__dict__',\n",
              " '__dir__',\n",
              " '__doc__',\n",
              " '__eq__',\n",
              " '__format__',\n",
              " '__ge__',\n",
              " '__getattribute__',\n",
              " '__gt__',\n",
              " '__hash__',\n",
              " '__init__',\n",
              " '__init_subclass__',\n",
              " '__le__',\n",
              " '__lt__',\n",
              " '__module__',\n",
              " '__ne__',\n",
              " '__new__',\n",
              " '__reduce__',\n",
              " '__reduce_ex__',\n",
              " '__repr__',\n",
              " '__setattr__',\n",
              " '__sizeof__',\n",
              " '__str__',\n",
              " '__subclasshook__',\n",
              " '__weakref__',\n",
              " 'ceo',\n",
              " 'close',\n",
              " 'open',\n",
              " 'print_return',\n",
              " 'rate_return',\n",
              " 'ticker',\n",
              " 'update',\n",
              " 'volume']"
            ]
          },
          "metadata": {},
          "execution_count": 113
        }
      ]
    },
    {
      "cell_type": "code",
      "metadata": {
        "colab": {
          "base_uri": "https://localhost:8080/"
        },
        "id": "HKYx9vBDuoPi",
        "outputId": "58aef46e-bf52-4286-c089-0b223831fdaa"
      },
      "source": [
        "#Ejemplo Propio\n",
        "dir(primer_estudiante)"
      ],
      "execution_count": 114,
      "outputs": [
        {
          "output_type": "execute_result",
          "data": {
            "text/plain": [
              "['__class__',\n",
              " '__delattr__',\n",
              " '__dict__',\n",
              " '__dir__',\n",
              " '__doc__',\n",
              " '__eq__',\n",
              " '__format__',\n",
              " '__ge__',\n",
              " '__getattribute__',\n",
              " '__gt__',\n",
              " '__hash__',\n",
              " '__init__',\n",
              " '__init_subclass__',\n",
              " '__le__',\n",
              " '__lt__',\n",
              " '__module__',\n",
              " '__ne__',\n",
              " '__new__',\n",
              " '__reduce__',\n",
              " '__reduce_ex__',\n",
              " '__repr__',\n",
              " '__setattr__',\n",
              " '__sizeof__',\n",
              " '__str__',\n",
              " '__subclasshook__',\n",
              " '__weakref__',\n",
              " 'actualizar_datos',\n",
              " 'aprobacion',\n",
              " 'cargar_notas',\n",
              " 'carrera',\n",
              " 'id',\n",
              " 'ingreso',\n",
              " 'nombre',\n",
              " 'nota1',\n",
              " 'nota2',\n",
              " 'nota3',\n",
              " 'promedio',\n",
              " 'sede']"
            ]
          },
          "metadata": {},
          "execution_count": 114
        }
      ]
    },
    {
      "cell_type": "markdown",
      "metadata": {
        "id": "ydPByef8uoog"
      },
      "source": [
        "### Inheritance:"
      ]
    },
    {
      "cell_type": "markdown",
      "metadata": {
        "id": "WTSDWGZJusRB"
      },
      "source": [
        "* #### *Defining the child class:*"
      ]
    },
    {
      "cell_type": "code",
      "metadata": {
        "id": "onFG9SuEu0WP"
      },
      "source": [
        "#Ejemplo de QuantConnect\n",
        "class Child(Stock):\n",
        "    def __init__(self, name):\n",
        "        self.name = name"
      ],
      "execution_count": 115,
      "outputs": []
    },
    {
      "cell_type": "code",
      "metadata": {
        "id": "TR1mQt38u0pA"
      },
      "source": [
        "#Ejemplo Propio\n",
        "class Monitor(Estudiante):\n",
        "  def __init__(self, salario):\n",
        "    self.salario = salario"
      ],
      "execution_count": 116,
      "outputs": []
    },
    {
      "cell_type": "markdown",
      "metadata": {
        "id": "mp8vpxrfu075"
      },
      "source": [
        "* #### *Creating an object and using the methods of the parent class:*"
      ]
    },
    {
      "cell_type": "code",
      "metadata": {
        "colab": {
          "base_uri": "https://localhost:8080/"
        },
        "id": "M4B7n4b3u3kr",
        "outputId": "ccf55c80-395e-4f00-d055-6483f55fc127"
      },
      "source": [
        "#Ejemplo de QuantConnect\n",
        "aa = Child('AA')\n",
        "print(aa.name)\n",
        "aa.update(100, 102)\n",
        "print(aa.open)\n",
        "print(aa.close)\n",
        "aa.print_return()"
      ],
      "execution_count": 117,
      "outputs": [
        {
          "output_type": "stream",
          "name": "stdout",
          "text": [
            "AA\n",
            "100\n",
            "102\n",
            "0.020000000000000018\n"
          ]
        }
      ]
    },
    {
      "cell_type": "code",
      "metadata": {
        "colab": {
          "base_uri": "https://localhost:8080/"
        },
        "id": "uhnIMowou35D",
        "outputId": "837ce481-12ee-4384-a9bd-e105e65aab86"
      },
      "source": [
        "#Ejemplo Propio\n",
        "monitor = Monitor(950000)\n",
        "print(monitor.salario)\n",
        "monitor.actualizar_datos(\"Blanca Estela\", 51754022, \"Medellín\", \"Artes Plásticas\")\n",
        "print(monitor.nombre)\n",
        "print(monitor.carrera)\n",
        "monitor.cargar_notas(5.0, 4.0, None)\n",
        "monitor.aprobacion()\n",
        "monitor.cargar_notas(monitor.nota1, monitor.nota2, 0.0)\n",
        "monitor.aprobacion()"
      ],
      "execution_count": 118,
      "outputs": [
        {
          "output_type": "stream",
          "name": "stdout",
          "text": [
            "950000\n",
            "Blanca Estela\n",
            "Artes Plásticas\n",
            "Faltan notas por subir\n",
            "Estudiante Aprobado\n"
          ]
        }
      ]
    },
    {
      "cell_type": "markdown",
      "metadata": {
        "id": "E1VxRClrUd6V"
      },
      "source": [
        "# **Tutorial 4. Python: NumPy and Basic Pandas**"
      ]
    },
    {
      "cell_type": "markdown",
      "metadata": {
        "id": "FZbr9rrQUsPg"
      },
      "source": [
        "## _**NumPy**_"
      ]
    },
    {
      "cell_type": "markdown",
      "metadata": {
        "id": "_E2tPr4MU0Mh"
      },
      "source": [
        "### Import the package:"
      ]
    },
    {
      "cell_type": "code",
      "metadata": {
        "id": "8Lz518uJVMfv"
      },
      "source": [
        "import numpy as np"
      ],
      "execution_count": 119,
      "outputs": []
    },
    {
      "cell_type": "markdown",
      "metadata": {
        "id": "x7kjUA8jVMzh"
      },
      "source": [
        "### Basic NumPy Arrays:"
      ]
    },
    {
      "cell_type": "markdown",
      "metadata": {
        "id": "mdqzRVNzVsk1"
      },
      "source": [
        "* #### *Make an array by passing a list:*"
      ]
    },
    {
      "cell_type": "code",
      "metadata": {
        "colab": {
          "base_uri": "https://localhost:8080/"
        },
        "id": "sy5zi_swV0qB",
        "outputId": "76f9cdb3-11b7-4618-a0c0-45bdf7c0e3a6"
      },
      "source": [
        "#Ejemplo de QuantConnect\n",
        "price_list = [143.73, 145.83, 143.68, 144.02, 143.5, 142.62]\n",
        "price_array = np.array(price_list)\n",
        "print(price_array, type(price_array))"
      ],
      "execution_count": 120,
      "outputs": [
        {
          "output_type": "stream",
          "name": "stdout",
          "text": [
            "[143.73 145.83 143.68 144.02 143.5  142.62] <class 'numpy.ndarray'>\n"
          ]
        }
      ]
    },
    {
      "cell_type": "code",
      "metadata": {
        "colab": {
          "base_uri": "https://localhost:8080/"
        },
        "id": "PuFTegt-V07c",
        "outputId": "a96ff843-3e60-40fa-ecb5-21b2c36afe79"
      },
      "source": [
        "#Ejemplo Propio\n",
        "lista_notas = [5.0, 4.6, 3.8, 1.5, 2.7, 4.7, 4.0, 3.0, 4.2, 2.2, 3.3, 4.9]\n",
        "array_notas = np.array(lista_notas)\n",
        "print(array_notas)\n",
        "print(type(array_notas))"
      ],
      "execution_count": 121,
      "outputs": [
        {
          "output_type": "stream",
          "name": "stdout",
          "text": [
            "[5.  4.6 3.8 1.5 2.7 4.7 4.  3.  4.2 2.2 3.3 4.9]\n",
            "<class 'numpy.ndarray'>\n"
          ]
        }
      ]
    },
    {
      "cell_type": "markdown",
      "metadata": {
        "id": "eoNzuc6DV1QQ"
      },
      "source": [
        "* #### *Create a 2-dimensional array:*"
      ]
    },
    {
      "cell_type": "code",
      "metadata": {
        "colab": {
          "base_uri": "https://localhost:8080/"
        },
        "id": "dd9-ha7QV_1y",
        "outputId": "5338cb55-1fe1-4c9b-c769-03fcb885d02d"
      },
      "source": [
        "#Ejemplo de QuantConnect\n",
        "Ar = np.array([[1,3], [2,4]])\n",
        "print(Ar, type(Ar))"
      ],
      "execution_count": 122,
      "outputs": [
        {
          "output_type": "stream",
          "name": "stdout",
          "text": [
            "[[1 3]\n",
            " [2 4]] <class 'numpy.ndarray'>\n"
          ]
        }
      ]
    },
    {
      "cell_type": "code",
      "metadata": {
        "colab": {
          "base_uri": "https://localhost:8080/"
        },
        "id": "eGr6lnNYWAFw",
        "outputId": "988edb1b-ea08-469c-b483-ec6b909e9ee3"
      },
      "source": [
        "#Ejemplo Propio\n",
        "costos = np.array([[21200,52990,11490], [15750,4380,44320], [1600, 87150, 34800]])\n",
        "print(costos)\n",
        "print(type(costos))"
      ],
      "execution_count": 123,
      "outputs": [
        {
          "output_type": "stream",
          "name": "stdout",
          "text": [
            "[[21200 52990 11490]\n",
            " [15750  4380 44320]\n",
            " [ 1600 87150 34800]]\n",
            "<class 'numpy.ndarray'>\n"
          ]
        }
      ]
    },
    {
      "cell_type": "markdown",
      "metadata": {
        "id": "jQ3qMA1wWAX8"
      },
      "source": [
        "* #### *Get the dimensions of an ndarray:*"
      ]
    },
    {
      "cell_type": "code",
      "metadata": {
        "colab": {
          "base_uri": "https://localhost:8080/"
        },
        "id": "eduy-vHgWWBm",
        "outputId": "b1170c2f-8470-439b-84d8-00e13caf09ee"
      },
      "source": [
        "#Ejemplo de QuantConnect\n",
        "print(Ar.shape)"
      ],
      "execution_count": 124,
      "outputs": [
        {
          "output_type": "stream",
          "name": "stdout",
          "text": [
            "(2, 2)\n"
          ]
        }
      ]
    },
    {
      "cell_type": "code",
      "metadata": {
        "colab": {
          "base_uri": "https://localhost:8080/"
        },
        "id": "4haFYJ5YWWVy",
        "outputId": "6f213a51-0137-4b72-a026-e03c665b0a2f"
      },
      "source": [
        "#Ejemplo Propio\n",
        "print(costos.shape)"
      ],
      "execution_count": 125,
      "outputs": [
        {
          "output_type": "stream",
          "name": "stdout",
          "text": [
            "(3, 3)\n"
          ]
        }
      ]
    },
    {
      "cell_type": "markdown",
      "metadata": {
        "id": "A-45TjbCWeh7"
      },
      "source": [
        "* #### *Access each row by index:*"
      ]
    },
    {
      "cell_type": "code",
      "metadata": {
        "colab": {
          "base_uri": "https://localhost:8080/"
        },
        "id": "T05o2S8jWe1O",
        "outputId": "f7b4d2aa-b2b5-4060-951d-86e384789cd4"
      },
      "source": [
        "#Ejemplo de QuantConnect\n",
        "print(Ar[0])\n",
        "print(Ar[1])"
      ],
      "execution_count": 126,
      "outputs": [
        {
          "output_type": "stream",
          "name": "stdout",
          "text": [
            "[1 3]\n",
            "[2 4]\n"
          ]
        }
      ]
    },
    {
      "cell_type": "code",
      "metadata": {
        "colab": {
          "base_uri": "https://localhost:8080/"
        },
        "id": "Od9bv45bWfNQ",
        "outputId": "4b93be49-fcae-4b23-efd2-f6b17404e257"
      },
      "source": [
        "#Ejemplo Propio\n",
        "print(costos[2])\n",
        "print(costos[0])\n",
        "print(costos[1])"
      ],
      "execution_count": 127,
      "outputs": [
        {
          "output_type": "stream",
          "name": "stdout",
          "text": [
            "[ 1600 87150 34800]\n",
            "[21200 52990 11490]\n",
            "[15750  4380 44320]\n"
          ]
        }
      ]
    },
    {
      "cell_type": "markdown",
      "metadata": {
        "id": "kc2HKvu3Wfhr"
      },
      "source": [
        "* #### *Access the matrix by column:*"
      ]
    },
    {
      "cell_type": "code",
      "metadata": {
        "colab": {
          "base_uri": "https://localhost:8080/"
        },
        "id": "LUXBZdD4WvlB",
        "outputId": "22118596-7207-4caf-eda4-2ed76a0eab88"
      },
      "source": [
        "#Ejemplo de QuantConnect\n",
        "print('First column:', Ar[:,0])\n",
        "print('Second column:', Ar[:,1])"
      ],
      "execution_count": 128,
      "outputs": [
        {
          "output_type": "stream",
          "name": "stdout",
          "text": [
            "First column: [1 2]\n",
            "Second column: [3 4]\n"
          ]
        }
      ]
    },
    {
      "cell_type": "code",
      "metadata": {
        "colab": {
          "base_uri": "https://localhost:8080/"
        },
        "id": "InPuQty3Wv2U",
        "outputId": "1b44c920-c738-482e-b129-5ba8883b8699"
      },
      "source": [
        "#Ejemplo Propio\n",
        "print('Tercera columna:', costos[:,2])\n",
        "print('Segunda columna:', costos[:,1])\n",
        "print('Primera columna:', costos[:,0])"
      ],
      "execution_count": 129,
      "outputs": [
        {
          "output_type": "stream",
          "name": "stdout",
          "text": [
            "Tercera columna: [11490 44320 34800]\n",
            "Segunda columna: [52990  4380 87150]\n",
            "Primera columna: [21200 15750  1600]\n"
          ]
        }
      ]
    },
    {
      "cell_type": "markdown",
      "metadata": {
        "id": "y_8bFEzhWzcF"
      },
      "source": [
        "### Array Functions:"
      ]
    },
    {
      "cell_type": "markdown",
      "metadata": {
        "id": "znQ2gW12Wz35"
      },
      "source": [
        "* #### *Natural logarithm to each element of an array:*"
      ]
    },
    {
      "cell_type": "code",
      "metadata": {
        "colab": {
          "base_uri": "https://localhost:8080/"
        },
        "id": "4I0QEx5JW8zR",
        "outputId": "696c2136-57df-49c6-b779-e3da2b900adc"
      },
      "source": [
        "#Ejemplo de QuantConnect\n",
        "np.log(price_array)"
      ],
      "execution_count": 130,
      "outputs": [
        {
          "output_type": "execute_result",
          "data": {
            "text/plain": [
              "array([4.96793654, 4.98244156, 4.9675886 , 4.96995218, 4.96633504,\n",
              "       4.96018375])"
            ]
          },
          "metadata": {},
          "execution_count": 130
        }
      ]
    },
    {
      "cell_type": "code",
      "metadata": {
        "colab": {
          "base_uri": "https://localhost:8080/"
        },
        "id": "lCJzBQ39W9EG",
        "outputId": "276ac0f0-1a7d-42ef-e100-87c037cc67bc"
      },
      "source": [
        "#Ejemplo Propio\n",
        "print(np.log(array_notas))\n",
        "print(np.log(costos))"
      ],
      "execution_count": 131,
      "outputs": [
        {
          "output_type": "stream",
          "name": "stdout",
          "text": [
            "[1.60943791 1.5260563  1.33500107 0.40546511 0.99325177 1.54756251\n",
            " 1.38629436 1.09861229 1.43508453 0.78845736 1.19392247 1.58923521]\n",
            "[[ 9.96175646 10.8778585   9.34923237]\n",
            " [ 9.66459564  8.384804   10.69919132]\n",
            " [ 7.37775891 11.37538605 10.45737267]]\n"
          ]
        }
      ]
    },
    {
      "cell_type": "markdown",
      "metadata": {
        "id": "-mKO_VLZW9XQ"
      },
      "source": [
        "* #### *Functions that return a single value:*"
      ]
    },
    {
      "cell_type": "code",
      "metadata": {
        "colab": {
          "base_uri": "https://localhost:8080/"
        },
        "id": "KwDoTbAnW90g",
        "outputId": "bb202c9e-72b2-4252-b894-1ce5c76222ec"
      },
      "source": [
        "#Ejemplo de QuantConnect\n",
        "print(np.mean(price_array))\n",
        "print(np.std(price_array))\n",
        "print(np.sum(price_array))\n",
        "print(np.max(price_array))"
      ],
      "execution_count": 132,
      "outputs": [
        {
          "output_type": "stream",
          "name": "stdout",
          "text": [
            "143.89666666666668\n",
            "0.9673790478515796\n",
            "863.38\n",
            "145.83\n"
          ]
        }
      ]
    },
    {
      "cell_type": "code",
      "metadata": {
        "colab": {
          "base_uri": "https://localhost:8080/"
        },
        "id": "M9WZQq-wW-el",
        "outputId": "bf0fd84e-daa3-498c-f5ca-6cf0ffe6cee8"
      },
      "source": [
        "#Ejemplo Propio\n",
        "print(np.median(array_notas))\n",
        "print(np.var(costos))\n",
        "print(np.sum(costos[2]))\n",
        "print(np.percentile(array_notas,75))\n",
        "print(np.count_nonzero(array_notas))\n",
        "print(np.dot(costos[1], costos[2]))\n",
        "print(np.trace(costos))"
      ],
      "execution_count": 133,
      "outputs": [
        {
          "output_type": "stream",
          "name": "stdout",
          "text": [
            "3.9\n",
            "678591920.9876542\n",
            "123550\n",
            "4.625\n",
            "12\n",
            "1949253000\n",
            "60380\n"
          ]
        }
      ]
    },
    {
      "cell_type": "markdown",
      "metadata": {
        "id": "8151DtFVXAsY"
      },
      "source": [
        "## _**Pandas**_"
      ]
    },
    {
      "cell_type": "markdown",
      "metadata": {
        "id": "7RX4npDnXIj6"
      },
      "source": [
        "### Import the package:"
      ]
    },
    {
      "cell_type": "code",
      "metadata": {
        "id": "_8KRFX9rXMsd"
      },
      "source": [
        "import pandas as pd"
      ],
      "execution_count": 134,
      "outputs": []
    },
    {
      "cell_type": "markdown",
      "metadata": {
        "id": "_4BYsWwRXM_o"
      },
      "source": [
        "###Series:"
      ]
    },
    {
      "cell_type": "markdown",
      "metadata": {
        "id": "CsUrXqKmXa6a"
      },
      "source": [
        "* #### *Create a Series:*"
      ]
    },
    {
      "cell_type": "code",
      "metadata": {
        "colab": {
          "base_uri": "https://localhost:8080/"
        },
        "id": "aIYMwCSTXdTi",
        "outputId": "2527b3a9-5423-4c5b-e2da-953e46127f53"
      },
      "source": [
        "#Ejemplo de QuantConnect\n",
        "price = [143.73, 145.83, 143.68, 144.02, 143.5, 142.62]\n",
        "s = pd.Series(price)\n",
        "print(s)"
      ],
      "execution_count": 135,
      "outputs": [
        {
          "output_type": "stream",
          "name": "stdout",
          "text": [
            "0    143.73\n",
            "1    145.83\n",
            "2    143.68\n",
            "3    144.02\n",
            "4    143.50\n",
            "5    142.62\n",
            "dtype: float64\n"
          ]
        }
      ]
    },
    {
      "cell_type": "code",
      "metadata": {
        "colab": {
          "base_uri": "https://localhost:8080/"
        },
        "id": "pdo1NHlsXdil",
        "outputId": "02f0cc43-4585-4057-c054-a8823d2cbd1a"
      },
      "source": [
        "#Ejemplo Propio\n",
        "serie = pd.Series(array_notas)\n",
        "print(serie)"
      ],
      "execution_count": 136,
      "outputs": [
        {
          "output_type": "stream",
          "name": "stdout",
          "text": [
            "0     5.0\n",
            "1     4.6\n",
            "2     3.8\n",
            "3     1.5\n",
            "4     2.7\n",
            "5     4.7\n",
            "6     4.0\n",
            "7     3.0\n",
            "8     4.2\n",
            "9     2.2\n",
            "10    3.3\n",
            "11    4.9\n",
            "dtype: float64\n"
          ]
        }
      ]
    },
    {
      "cell_type": "markdown",
      "metadata": {
        "id": "iFkJRKy-Xdyy"
      },
      "source": [
        "* #### *Customize the indices of a new Series:*"
      ]
    },
    {
      "cell_type": "code",
      "metadata": {
        "colab": {
          "base_uri": "https://localhost:8080/"
        },
        "id": "TWCo7giqXeWB",
        "outputId": "cb629481-0c7d-4de3-8952-0f893a529905"
      },
      "source": [
        "#Ejemplo de QuantConnect\n",
        "s = pd.Series(price, index = ['a', 'b', 'c', 'd', 'e', 'f'])\n",
        "print(s)"
      ],
      "execution_count": 137,
      "outputs": [
        {
          "output_type": "stream",
          "name": "stdout",
          "text": [
            "a    143.73\n",
            "b    145.83\n",
            "c    143.68\n",
            "d    144.02\n",
            "e    143.50\n",
            "f    142.62\n",
            "dtype: float64\n"
          ]
        }
      ]
    },
    {
      "cell_type": "code",
      "metadata": {
        "colab": {
          "base_uri": "https://localhost:8080/"
        },
        "id": "gNIBPWcFXel9",
        "outputId": "b256b180-4aa4-42e3-aeee-165315ef334f"
      },
      "source": [
        "#Ejemplo Propio\n",
        "serie = pd.Series(array_notas, index = ['primero', 'segundo', 'tercero',\n",
        "                                        'cuarto', 'quinto', 'sexto',\n",
        "                                        'séptimo', 'octavo', 'noveno',\n",
        "                                        'décimo', 'undécimo', 'duodécimo'])\n",
        "print(serie)"
      ],
      "execution_count": 138,
      "outputs": [
        {
          "output_type": "stream",
          "name": "stdout",
          "text": [
            "primero      5.0\n",
            "segundo      4.6\n",
            "tercero      3.8\n",
            "cuarto       1.5\n",
            "quinto       2.7\n",
            "sexto        4.7\n",
            "séptimo      4.0\n",
            "octavo       3.0\n",
            "noveno       4.2\n",
            "décimo       2.2\n",
            "undécimo     3.3\n",
            "duodécimo    4.9\n",
            "dtype: float64\n"
          ]
        }
      ]
    },
    {
      "cell_type": "markdown",
      "metadata": {
        "id": "Ngx6nvHHXe72"
      },
      "source": [
        "* #### *Change the indices of an existing Series:*"
      ]
    },
    {
      "cell_type": "code",
      "metadata": {
        "colab": {
          "base_uri": "https://localhost:8080/"
        },
        "id": "Jf9xZ6_sXkLD",
        "outputId": "31f50072-6a3c-49ed-c81e-74071805def5"
      },
      "source": [
        "#Ejemplo de QuantConnect\n",
        "s.index = [6,5,4,3,2,1]\n",
        "print(s)"
      ],
      "execution_count": 139,
      "outputs": [
        {
          "output_type": "stream",
          "name": "stdout",
          "text": [
            "6    143.73\n",
            "5    145.83\n",
            "4    143.68\n",
            "3    144.02\n",
            "2    143.50\n",
            "1    142.62\n",
            "dtype: float64\n"
          ]
        }
      ]
    },
    {
      "cell_type": "code",
      "metadata": {
        "colab": {
          "base_uri": "https://localhost:8080/"
        },
        "id": "kGoEWwa0XkfM",
        "outputId": "db76fa76-d1a2-4478-9b52-fa2203fa6047"
      },
      "source": [
        "#Ejemplo Propio\n",
        "serie.index = ['l','k','j','i','h','g','f','e','d','c','b','a']\n",
        "print(serie)"
      ],
      "execution_count": 140,
      "outputs": [
        {
          "output_type": "stream",
          "name": "stdout",
          "text": [
            "l    5.0\n",
            "k    4.6\n",
            "j    3.8\n",
            "i    1.5\n",
            "h    2.7\n",
            "g    4.7\n",
            "f    4.0\n",
            "e    3.0\n",
            "d    4.2\n",
            "c    2.2\n",
            "b    3.3\n",
            "a    4.9\n",
            "dtype: float64\n"
          ]
        }
      ]
    },
    {
      "cell_type": "markdown",
      "metadata": {
        "id": "b46SSNPeXkwq"
      },
      "source": [
        "* #### *Slice a Series by index:*"
      ]
    },
    {
      "cell_type": "code",
      "metadata": {
        "colab": {
          "base_uri": "https://localhost:8080/"
        },
        "id": "Ay9Jso4CXlHk",
        "outputId": "5a11094a-8568-4549-d633-e32bb086f276"
      },
      "source": [
        "#Ejemplo de QuantConnect\n",
        "print(s[1:])\n",
        "print(s[:-2])"
      ],
      "execution_count": 141,
      "outputs": [
        {
          "output_type": "stream",
          "name": "stdout",
          "text": [
            "5    145.83\n",
            "4    143.68\n",
            "3    144.02\n",
            "2    143.50\n",
            "1    142.62\n",
            "dtype: float64\n",
            "6    143.73\n",
            "5    145.83\n",
            "4    143.68\n",
            "3    144.02\n",
            "dtype: float64\n"
          ]
        }
      ]
    },
    {
      "cell_type": "code",
      "metadata": {
        "colab": {
          "base_uri": "https://localhost:8080/"
        },
        "id": "q0NTOARQXlcG",
        "outputId": "9b931287-656f-4a2f-deb8-c2fc746e2e5d"
      },
      "source": [
        "#Ejemplo Propio\n",
        "print(serie[2:10])\n",
        "print(serie[5:-5])"
      ],
      "execution_count": 142,
      "outputs": [
        {
          "output_type": "stream",
          "name": "stdout",
          "text": [
            "j    3.8\n",
            "i    1.5\n",
            "h    2.7\n",
            "g    4.7\n",
            "f    4.0\n",
            "e    3.0\n",
            "d    4.2\n",
            "c    2.2\n",
            "dtype: float64\n",
            "g    4.7\n",
            "f    4.0\n",
            "dtype: float64\n"
          ]
        }
      ]
    },
    {
      "cell_type": "markdown",
      "metadata": {
        "id": "_XKaYdunXmFj"
      },
      "source": [
        "* #### *Set or fetch values by index label:*"
      ]
    },
    {
      "cell_type": "code",
      "metadata": {
        "colab": {
          "base_uri": "https://localhost:8080/"
        },
        "id": "4f03zty9XmYW",
        "outputId": "512991ae-1452-4194-9b5f-ddceabc75ec2"
      },
      "source": [
        "#Ejemplo de QuantConnect\n",
        "print(s[4])\n",
        "s[4] = 0\n",
        "print(s)"
      ],
      "execution_count": 143,
      "outputs": [
        {
          "output_type": "stream",
          "name": "stdout",
          "text": [
            "143.68\n",
            "6    143.73\n",
            "5    145.83\n",
            "4      0.00\n",
            "3    144.02\n",
            "2    143.50\n",
            "1    142.62\n",
            "dtype: float64\n"
          ]
        }
      ]
    },
    {
      "cell_type": "code",
      "metadata": {
        "colab": {
          "base_uri": "https://localhost:8080/"
        },
        "id": "X1x5O8WCXmtf",
        "outputId": "83f5d153-d97e-4b64-ec52-661ff62b89da"
      },
      "source": [
        "#Ejemplo Propio\n",
        "print(serie['i'])\n",
        "serie['i'] = 4.4\n",
        "print(serie)"
      ],
      "execution_count": 144,
      "outputs": [
        {
          "output_type": "stream",
          "name": "stdout",
          "text": [
            "1.5\n",
            "l    5.0\n",
            "k    4.6\n",
            "j    3.8\n",
            "i    4.4\n",
            "h    2.7\n",
            "g    4.7\n",
            "f    4.0\n",
            "e    3.0\n",
            "d    4.2\n",
            "c    2.2\n",
            "b    3.3\n",
            "a    4.9\n",
            "dtype: float64\n"
          ]
        }
      ]
    },
    {
      "cell_type": "markdown",
      "metadata": {
        "id": "mhjrRsEvXnAa"
      },
      "source": [
        "* #### *The name attribute:*"
      ]
    },
    {
      "cell_type": "code",
      "metadata": {
        "colab": {
          "base_uri": "https://localhost:8080/"
        },
        "id": "uST5OQWVXoa8",
        "outputId": "4feeaad9-228c-4f81-9eef-8f98e6e5891a"
      },
      "source": [
        "#Ejemplo de QuantConnect\n",
        "s = pd.Series(price, name = 'Apple Prices')\n",
        "print(s)\n",
        "print(s.name)"
      ],
      "execution_count": 145,
      "outputs": [
        {
          "output_type": "stream",
          "name": "stdout",
          "text": [
            "0    143.73\n",
            "1    145.83\n",
            "2    143.68\n",
            "3    144.02\n",
            "4    143.50\n",
            "5    142.62\n",
            "Name: Apple Prices, dtype: float64\n",
            "Apple Prices\n"
          ]
        }
      ]
    },
    {
      "cell_type": "code",
      "metadata": {
        "colab": {
          "base_uri": "https://localhost:8080/"
        },
        "id": "dB9Zj854Xonq",
        "outputId": "5d845d51-aeda-4774-9972-3bbbb16e96cd"
      },
      "source": [
        "#Ejemplo Propio\n",
        "serie = pd.Series(array_notas, name = \"Notas 2021-II\")\n",
        "print(serie)\n",
        "print(serie.name)"
      ],
      "execution_count": 146,
      "outputs": [
        {
          "output_type": "stream",
          "name": "stdout",
          "text": [
            "0     5.0\n",
            "1     4.6\n",
            "2     3.8\n",
            "3     4.4\n",
            "4     2.7\n",
            "5     4.7\n",
            "6     4.0\n",
            "7     3.0\n",
            "8     4.2\n",
            "9     2.2\n",
            "10    3.3\n",
            "11    4.9\n",
            "Name: Notas 2021-II, dtype: float64\n",
            "Notas 2021-II\n"
          ]
        }
      ]
    },
    {
      "cell_type": "markdown",
      "metadata": {
        "id": "Yz-P38qfXo-k"
      },
      "source": [
        "* #### *The statistical summaries:*"
      ]
    },
    {
      "cell_type": "code",
      "metadata": {
        "colab": {
          "base_uri": "https://localhost:8080/"
        },
        "id": "2Vb3YfEXXpea",
        "outputId": "9f6bece1-a8e5-4d19-b589-ec65b9f9abd5"
      },
      "source": [
        "#Ejemplo de QuantConnect\n",
        "print(s.describe())"
      ],
      "execution_count": 147,
      "outputs": [
        {
          "output_type": "stream",
          "name": "stdout",
          "text": [
            "count      6.000000\n",
            "mean     143.896667\n",
            "std        1.059711\n",
            "min      142.620000\n",
            "25%      143.545000\n",
            "50%      143.705000\n",
            "75%      143.947500\n",
            "max      145.830000\n",
            "Name: Apple Prices, dtype: float64\n"
          ]
        }
      ]
    },
    {
      "cell_type": "code",
      "metadata": {
        "colab": {
          "base_uri": "https://localhost:8080/"
        },
        "id": "6UTM3gEkXpr3",
        "outputId": "7816554c-4cf3-4fa9-842f-d33640258b0f"
      },
      "source": [
        "#Ejemplo Propio\n",
        "print(serie.describe())"
      ],
      "execution_count": 148,
      "outputs": [
        {
          "output_type": "stream",
          "name": "stdout",
          "text": [
            "count    12.000000\n",
            "mean      3.900000\n",
            "std       0.914529\n",
            "min       2.200000\n",
            "25%       3.225000\n",
            "50%       4.100000\n",
            "75%       4.625000\n",
            "max       5.000000\n",
            "Name: Notas 2021-II, dtype: float64\n"
          ]
        }
      ]
    },
    {
      "cell_type": "markdown",
      "metadata": {
        "id": "MgOHPgEwXqAC"
      },
      "source": [
        "### Time index:"
      ]
    },
    {
      "cell_type": "markdown",
      "metadata": {
        "id": "uXcQQBB8Xu7N"
      },
      "source": [
        "* #### *Creating date indices:*"
      ]
    },
    {
      "cell_type": "code",
      "metadata": {
        "colab": {
          "base_uri": "https://localhost:8080/"
        },
        "id": "g3_qLgenXxaD",
        "outputId": "563cfac7-cb14-4566-9aee-d12ad9883dfa"
      },
      "source": [
        "#Ejemplo de QuantConnect\n",
        "time_index = pd.date_range('2017-01-01', periods = len(s), freq = 'D')\n",
        "print(time_index)\n",
        "s.index = time_index\n",
        "print(s)"
      ],
      "execution_count": 149,
      "outputs": [
        {
          "output_type": "stream",
          "name": "stdout",
          "text": [
            "DatetimeIndex(['2017-01-01', '2017-01-02', '2017-01-03', '2017-01-04',\n",
            "               '2017-01-05', '2017-01-06'],\n",
            "              dtype='datetime64[ns]', freq='D')\n",
            "2017-01-01    143.73\n",
            "2017-01-02    145.83\n",
            "2017-01-03    143.68\n",
            "2017-01-04    144.02\n",
            "2017-01-05    143.50\n",
            "2017-01-06    142.62\n",
            "Freq: D, Name: Apple Prices, dtype: float64\n"
          ]
        }
      ]
    },
    {
      "cell_type": "code",
      "metadata": {
        "colab": {
          "base_uri": "https://localhost:8080/"
        },
        "id": "BnMYXi_mXxrx",
        "outputId": "153e8ada-710b-4d55-e570-36b2093ee343"
      },
      "source": [
        "#Ejemplo Propio\n",
        "indices_tiempo = pd.date_range('2009-12-31', periods = len(serie), freq = 'Y')\n",
        "print(indices_tiempo)\n",
        "serie.index = indices_tiempo\n",
        "print(serie)"
      ],
      "execution_count": 150,
      "outputs": [
        {
          "output_type": "stream",
          "name": "stdout",
          "text": [
            "DatetimeIndex(['2009-12-31', '2010-12-31', '2011-12-31', '2012-12-31',\n",
            "               '2013-12-31', '2014-12-31', '2015-12-31', '2016-12-31',\n",
            "               '2017-12-31', '2018-12-31', '2019-12-31', '2020-12-31'],\n",
            "              dtype='datetime64[ns]', freq='A-DEC')\n",
            "2009-12-31    5.0\n",
            "2010-12-31    4.6\n",
            "2011-12-31    3.8\n",
            "2012-12-31    4.4\n",
            "2013-12-31    2.7\n",
            "2014-12-31    4.7\n",
            "2015-12-31    4.0\n",
            "2016-12-31    3.0\n",
            "2017-12-31    4.2\n",
            "2018-12-31    2.2\n",
            "2019-12-31    3.3\n",
            "2020-12-31    4.9\n",
            "Freq: A-DEC, Name: Notas 2021-II, dtype: float64\n"
          ]
        }
      ]
    },
    {
      "cell_type": "markdown",
      "metadata": {
        "id": "3IznOI8RXx9v"
      },
      "source": [
        "* #### *Previous example:*"
      ]
    },
    {
      "cell_type": "code",
      "metadata": {
        "colab": {
          "base_uri": "https://localhost:8080/"
        },
        "id": "RfnbElaSXy5j",
        "outputId": "c02b09cf-3dcd-42ee-f4f4-ce3ea94eef6a"
      },
      "source": [
        "#Ejemplo de QuantConnect\n",
        "s.index = [6,5,4,3,2,1]\n",
        "print(s)\n",
        "print(s[1])"
      ],
      "execution_count": 151,
      "outputs": [
        {
          "output_type": "stream",
          "name": "stdout",
          "text": [
            "6    143.73\n",
            "5    145.83\n",
            "4    143.68\n",
            "3    144.02\n",
            "2    143.50\n",
            "1    142.62\n",
            "Name: Apple Prices, dtype: float64\n",
            "142.62\n"
          ]
        }
      ]
    },
    {
      "cell_type": "code",
      "metadata": {
        "colab": {
          "base_uri": "https://localhost:8080/"
        },
        "id": "2FT7fabTXzLc",
        "outputId": "ee3d01a7-eb94-458a-acb2-f5eb89ba2a35"
      },
      "source": [
        "#Ejemplo Propio\n",
        "serie.index = ['l','k','j','i','h','g','f','e','d','c','b','a']\n",
        "print(serie)\n",
        "print(\"Elemento en la quinta posición:\", serie[4])\n",
        "serie.index = [12,11,10,9,8,7,6,5,4,3,2,1]\n",
        "print(serie)\n",
        "print(\"Elemento con el índice etiquetado como '4':\", serie[4])"
      ],
      "execution_count": 152,
      "outputs": [
        {
          "output_type": "stream",
          "name": "stdout",
          "text": [
            "l    5.0\n",
            "k    4.6\n",
            "j    3.8\n",
            "i    4.4\n",
            "h    2.7\n",
            "g    4.7\n",
            "f    4.0\n",
            "e    3.0\n",
            "d    4.2\n",
            "c    2.2\n",
            "b    3.3\n",
            "a    4.9\n",
            "Name: Notas 2021-II, dtype: float64\n",
            "Elemento en la quinta posición: 2.7\n",
            "12    5.0\n",
            "11    4.6\n",
            "10    3.8\n",
            "9     4.4\n",
            "8     2.7\n",
            "7     4.7\n",
            "6     4.0\n",
            "5     3.0\n",
            "4     4.2\n",
            "3     2.2\n",
            "2     3.3\n",
            "1     4.9\n",
            "Name: Notas 2021-II, dtype: float64\n",
            "Elemento con el índice etiquetado como '4': 4.2\n"
          ]
        }
      ]
    },
    {
      "cell_type": "markdown",
      "metadata": {
        "id": "urNSzT2gXzdB"
      },
      "source": [
        "* #### *Using iloc[]:*"
      ]
    },
    {
      "cell_type": "code",
      "metadata": {
        "colab": {
          "base_uri": "https://localhost:8080/"
        },
        "id": "5pqGbI-mXzva",
        "outputId": "4bf991c7-c1b4-4ca5-e7fb-cbb0b7176760"
      },
      "source": [
        "#Ejemplo de QuantConnect\n",
        "print(s.iloc[1])"
      ],
      "execution_count": 153,
      "outputs": [
        {
          "output_type": "stream",
          "name": "stdout",
          "text": [
            "145.83\n"
          ]
        }
      ]
    },
    {
      "cell_type": "code",
      "metadata": {
        "colab": {
          "base_uri": "https://localhost:8080/"
        },
        "id": "5D-Qp-whX0Pt",
        "outputId": "1027a8b5-2f47-4796-fd67-1e3b6de97e60"
      },
      "source": [
        "#Ejemplo Propio\n",
        "print(\"Elemento en la quinta posición:\", serie.iloc[4])"
      ],
      "execution_count": 154,
      "outputs": [
        {
          "output_type": "stream",
          "name": "stdout",
          "text": [
            "Elemento en la quinta posición: 2.7\n"
          ]
        }
      ]
    },
    {
      "cell_type": "markdown",
      "metadata": {
        "id": "bC6KPZgbX0gr"
      },
      "source": [
        "* #### *Access the data by time index:*"
      ]
    },
    {
      "cell_type": "code",
      "metadata": {
        "colab": {
          "base_uri": "https://localhost:8080/"
        },
        "id": "uwVrphyRX0zm",
        "outputId": "ddbd3d0a-50ec-4d67-e56d-4623934f64c4"
      },
      "source": [
        "#Ejemplo de QuantConnect\n",
        "s.index = time_index\n",
        "print(s['2017-01-03'])"
      ],
      "execution_count": 155,
      "outputs": [
        {
          "output_type": "stream",
          "name": "stdout",
          "text": [
            "143.68\n"
          ]
        }
      ]
    },
    {
      "cell_type": "code",
      "metadata": {
        "colab": {
          "base_uri": "https://localhost:8080/"
        },
        "id": "jRDvVWrrX1h5",
        "outputId": "c437c8e3-0ee1-41e0-b302-59f265a4f774"
      },
      "source": [
        "#Ejemplo Propio\n",
        "serie.index = indices_tiempo\n",
        "print(serie['2014-12-31'])"
      ],
      "execution_count": 156,
      "outputs": [
        {
          "output_type": "stream",
          "name": "stdout",
          "text": [
            "4.7\n"
          ]
        }
      ]
    },
    {
      "cell_type": "markdown",
      "metadata": {
        "id": "8lVgwQ9cX10U"
      },
      "source": [
        "* #### *Access to a range of dates:*"
      ]
    },
    {
      "cell_type": "code",
      "metadata": {
        "colab": {
          "base_uri": "https://localhost:8080/"
        },
        "id": "3kI7CDeqX2S5",
        "outputId": "a524b0a3-468b-4eda-ed60-15b419131ce8"
      },
      "source": [
        "#Ejemplo de QuantConnect\n",
        "print(s['2017-01-02':'2017-01-05'])"
      ],
      "execution_count": 157,
      "outputs": [
        {
          "output_type": "stream",
          "name": "stdout",
          "text": [
            "2017-01-02    145.83\n",
            "2017-01-03    143.68\n",
            "2017-01-04    144.02\n",
            "2017-01-05    143.50\n",
            "Freq: D, Name: Apple Prices, dtype: float64\n"
          ]
        }
      ]
    },
    {
      "cell_type": "code",
      "metadata": {
        "colab": {
          "base_uri": "https://localhost:8080/"
        },
        "id": "rzWpJENfX2ow",
        "outputId": "8a70da74-bc10-4ebf-d00e-66f6c421094e"
      },
      "source": [
        "#Ejemplo Propio\n",
        "print(serie['2012':'2018'])"
      ],
      "execution_count": 158,
      "outputs": [
        {
          "output_type": "stream",
          "name": "stdout",
          "text": [
            "2012-12-31    4.4\n",
            "2013-12-31    2.7\n",
            "2014-12-31    4.7\n",
            "2015-12-31    4.0\n",
            "2016-12-31    3.0\n",
            "2017-12-31    4.2\n",
            "2018-12-31    2.2\n",
            "Freq: A-DEC, Name: Notas 2021-II, dtype: float64\n"
          ]
        }
      ]
    },
    {
      "cell_type": "markdown",
      "metadata": {
        "id": "CcptZSjGX27I"
      },
      "source": [
        "* #### *Adding conditions in the square brackets:*"
      ]
    },
    {
      "cell_type": "code",
      "metadata": {
        "colab": {
          "base_uri": "https://localhost:8080/"
        },
        "id": "krfonR4wX3N3",
        "outputId": "d96107d2-e7f3-4b5f-ab02-fc9e3eedee1c"
      },
      "source": [
        "#Ejemplo de QuantConnect\n",
        "print(s[s < np.mean(s)])\n",
        "print(s[(s > np.mean(s)) & (s < np.mean(s) + 1.64*np.std(s))])"
      ],
      "execution_count": 159,
      "outputs": [
        {
          "output_type": "stream",
          "name": "stdout",
          "text": [
            "2017-01-01    143.73\n",
            "2017-01-03    143.68\n",
            "2017-01-05    143.50\n",
            "2017-01-06    142.62\n",
            "Name: Apple Prices, dtype: float64\n",
            "2017-01-04    144.02\n",
            "Freq: D, Name: Apple Prices, dtype: float64\n"
          ]
        }
      ]
    },
    {
      "cell_type": "code",
      "metadata": {
        "colab": {
          "base_uri": "https://localhost:8080/"
        },
        "id": "5jVbBLloX3lx",
        "outputId": "ad429286-8e09-4ec2-db6e-b0db3f87d115"
      },
      "source": [
        "#Ejemplo Propio\n",
        "print(serie[(serie >= np.median(serie)) & (serie < np.percentile(serie,75))])\n",
        "print(serie[(serie > np.percentile(serie,90)) | ~(serie > np.var(serie)*np.mean(serie))])"
      ],
      "execution_count": 160,
      "outputs": [
        {
          "output_type": "stream",
          "name": "stdout",
          "text": [
            "2010-12-31    4.6\n",
            "2012-12-31    4.4\n",
            "2017-12-31    4.2\n",
            "Name: Notas 2021-II, dtype: float64\n",
            "2009-12-31    5.0\n",
            "2013-12-31    2.7\n",
            "2018-12-31    2.2\n",
            "2020-12-31    4.9\n",
            "Name: Notas 2021-II, dtype: float64\n"
          ]
        }
      ]
    },
    {
      "cell_type": "markdown",
      "metadata": {
        "id": "LRbhW8m_KH7Y"
      },
      "source": [
        "# **Tutorial 5. Python: Pandas-Resampling and DataFrame**"
      ]
    },
    {
      "cell_type": "markdown",
      "metadata": {
        "id": "E7iR0go1mt0p"
      },
      "source": [
        "## _**Fetching Data**_"
      ]
    },
    {
      "cell_type": "markdown",
      "metadata": {
        "id": "7EWHfrEFm_mf"
      },
      "source": [
        "### Use the Quandl API:"
      ]
    },
    {
      "cell_type": "code",
      "metadata": {
        "colab": {
          "base_uri": "https://localhost:8080/"
        },
        "id": "rfM-8JPPnL0h",
        "outputId": "ef3301c0-0d36-455f-d889-eecf28d2fd3c"
      },
      "source": [
        "!pip install quandl\n",
        "import quandl\n",
        "quandl.ApiConfig.api_key = 'Wfg5yZAz9QGfoxRSESK6'"
      ],
      "execution_count": 161,
      "outputs": [
        {
          "output_type": "stream",
          "name": "stdout",
          "text": [
            "Collecting quandl\n",
            "  Downloading Quandl-3.6.1-py2.py3-none-any.whl (26 kB)\n",
            "Requirement already satisfied: numpy>=1.8 in /usr/local/lib/python3.7/dist-packages (from quandl) (1.19.5)\n",
            "Requirement already satisfied: requests>=2.7.0 in /usr/local/lib/python3.7/dist-packages (from quandl) (2.23.0)\n",
            "Collecting inflection>=0.3.1\n",
            "  Downloading inflection-0.5.1-py2.py3-none-any.whl (9.5 kB)\n",
            "Requirement already satisfied: more-itertools in /usr/local/lib/python3.7/dist-packages (from quandl) (8.10.0)\n",
            "Requirement already satisfied: python-dateutil in /usr/local/lib/python3.7/dist-packages (from quandl) (2.8.2)\n",
            "Requirement already satisfied: six in /usr/local/lib/python3.7/dist-packages (from quandl) (1.15.0)\n",
            "Requirement already satisfied: pandas>=0.14 in /usr/local/lib/python3.7/dist-packages (from quandl) (1.1.5)\n",
            "Requirement already satisfied: pytz>=2017.2 in /usr/local/lib/python3.7/dist-packages (from pandas>=0.14->quandl) (2018.9)\n",
            "Requirement already satisfied: idna<3,>=2.5 in /usr/local/lib/python3.7/dist-packages (from requests>=2.7.0->quandl) (2.10)\n",
            "Requirement already satisfied: urllib3!=1.25.0,!=1.25.1,<1.26,>=1.21.1 in /usr/local/lib/python3.7/dist-packages (from requests>=2.7.0->quandl) (1.24.3)\n",
            "Requirement already satisfied: chardet<4,>=3.0.2 in /usr/local/lib/python3.7/dist-packages (from requests>=2.7.0->quandl) (3.0.4)\n",
            "Requirement already satisfied: certifi>=2017.4.17 in /usr/local/lib/python3.7/dist-packages (from requests>=2.7.0->quandl) (2021.5.30)\n",
            "Installing collected packages: inflection, quandl\n",
            "Successfully installed inflection-0.5.1 quandl-3.6.1\n"
          ]
        }
      ]
    },
    {
      "cell_type": "markdown",
      "metadata": {
        "id": "hUlmyeARnu2m"
      },
      "source": [
        "### Create a Series:"
      ]
    },
    {
      "cell_type": "code",
      "metadata": {
        "colab": {
          "base_uri": "https://localhost:8080/"
        },
        "id": "S1SVJ23Xn9LB",
        "outputId": "b39f969c-4a19-4185-85a3-3ad11cce00df"
      },
      "source": [
        "#Ejemplo de QuantConnect\n",
        "aapl_table = quandl.get('WIKI/AAPL')\n",
        "aapl = aapl_table['Adj. Close']['2017']\n",
        "print(aapl)"
      ],
      "execution_count": 162,
      "outputs": [
        {
          "output_type": "stream",
          "name": "stdout",
          "text": [
            "Date\n",
            "2017-01-03    114.715378\n",
            "2017-01-04    114.586983\n",
            "2017-01-05    115.169696\n",
            "2017-01-06    116.453639\n",
            "2017-01-09    117.520300\n",
            "                 ...    \n",
            "2017-12-22    175.010000\n",
            "2017-12-26    170.570000\n",
            "2017-12-27    170.600000\n",
            "2017-12-28    171.080000\n",
            "2017-12-29    169.230000\n",
            "Name: Adj. Close, Length: 249, dtype: float64\n"
          ]
        }
      ]
    },
    {
      "cell_type": "code",
      "metadata": {
        "colab": {
          "base_uri": "https://localhost:8080/"
        },
        "id": "zyQGuGJOs9qF",
        "outputId": "acdae8ae-f013-40c4-92ec-31f4d5ac8603"
      },
      "source": [
        "#Ejemplo Propio\n",
        "googl_table = quandl.get('WIKI/GOOGL')\n",
        "googl = googl_table['Adj. Close']['2014']\n",
        "print(googl)"
      ],
      "execution_count": 163,
      "outputs": [
        {
          "output_type": "stream",
          "name": "stdout",
          "text": [
            "Date\n",
            "2014-01-02    558.283367\n",
            "2014-01-03    554.210796\n",
            "2014-01-06    560.389870\n",
            "2014-01-07    571.193219\n",
            "2014-01-08    572.381888\n",
            "                 ...    \n",
            "2014-12-24    536.930000\n",
            "2014-12-26    541.520000\n",
            "2014-12-29    537.310000\n",
            "2014-12-30    535.280000\n",
            "2014-12-31    530.660000\n",
            "Name: Adj. Close, Length: 252, dtype: float64\n"
          ]
        }
      ]
    },
    {
      "cell_type": "markdown",
      "metadata": {
        "id": "55Y6ZauOuG_u"
      },
      "source": [
        "### Fetch the data in a specific month:"
      ]
    },
    {
      "cell_type": "code",
      "metadata": {
        "colab": {
          "base_uri": "https://localhost:8080/"
        },
        "id": "Ujp-hzN2uSrA",
        "outputId": "51b79210-f915-4b6e-9375-5a4295b9e7fb"
      },
      "source": [
        "#Ejemplo de QuantConnect\n",
        "print(aapl['2017-3'])"
      ],
      "execution_count": 164,
      "outputs": [
        {
          "output_type": "stream",
          "name": "stdout",
          "text": [
            "Date\n",
            "2017-03-01    138.657681\n",
            "2017-03-02    137.834404\n",
            "2017-03-03    138.647762\n",
            "2017-03-06    138.211326\n",
            "2017-03-07    138.389868\n",
            "2017-03-08    137.874080\n",
            "2017-03-09    137.556672\n",
            "2017-03-10    138.012946\n",
            "2017-03-13    138.072460\n",
            "2017-03-14    137.864161\n",
            "2017-03-15    139.322254\n",
            "2017-03-16    139.550391\n",
            "2017-03-17    138.856061\n",
            "2017-03-20    140.314154\n",
            "2017-03-21    138.707276\n",
            "2017-03-22    140.274478\n",
            "2017-03-23    139.778528\n",
            "2017-03-24    139.500796\n",
            "2017-03-27    139.738852\n",
            "2017-03-28    142.635200\n",
            "2017-03-29    142.952608\n",
            "2017-03-30    142.764147\n",
            "2017-03-31    142.496334\n",
            "Name: Adj. Close, dtype: float64\n"
          ]
        }
      ]
    },
    {
      "cell_type": "code",
      "metadata": {
        "colab": {
          "base_uri": "https://localhost:8080/"
        },
        "id": "kRSbeEkEuS8z",
        "outputId": "6e0c3b54-2b1b-4182-966d-3bdc7a9f58a6"
      },
      "source": [
        "#Ejemplo Propio\n",
        "print(googl['2014-5'])"
      ],
      "execution_count": 165,
      "outputs": [
        {
          "output_type": "stream",
          "name": "stdout",
          "text": [
            "Date\n",
            "2014-05-01    538.53\n",
            "2014-05-02    533.87\n",
            "2014-05-05    535.33\n",
            "2014-05-06    522.57\n",
            "2014-05-07    518.00\n",
            "2014-05-08    520.17\n",
            "2014-05-09    526.62\n",
            "2014-05-12    538.43\n",
            "2014-05-13    541.54\n",
            "2014-05-14    534.41\n",
            "2014-05-15    529.12\n",
            "2014-05-16    528.30\n",
            "2014-05-19    538.83\n",
            "2014-05-20    540.39\n",
            "2014-05-21    549.70\n",
            "2014-05-22    555.45\n",
            "2014-05-23    563.80\n",
            "2014-05-27    574.87\n",
            "2014-05-28    570.45\n",
            "2014-05-29    570.56\n",
            "2014-05-30    571.65\n",
            "Name: Adj. Close, dtype: float64\n"
          ]
        }
      ]
    },
    {
      "cell_type": "markdown",
      "metadata": {
        "id": "dvDG9pNxuTQ5"
      },
      "source": [
        "### Fetch the data in several consecutive months:"
      ]
    },
    {
      "cell_type": "code",
      "metadata": {
        "colab": {
          "base_uri": "https://localhost:8080/"
        },
        "id": "xaabiyyvudIC",
        "outputId": "57382354-dec7-49dd-dc18-22bd857cbe91"
      },
      "source": [
        "#Ejemplo de QuantConnect\n",
        "print(aapl['2017-2':'2017-4'])"
      ],
      "execution_count": 166,
      "outputs": [
        {
          "output_type": "stream",
          "name": "stdout",
          "text": [
            "Date\n",
            "2017-02-01    127.159749\n",
            "2017-02-02    126.942467\n",
            "2017-02-03    127.485673\n",
            "2017-02-06    128.680728\n",
            "2017-02-07    129.905412\n",
            "                 ...    \n",
            "2017-04-24    142.476496\n",
            "2017-04-25    143.369205\n",
            "2017-04-26    142.487208\n",
            "2017-04-27    142.625281\n",
            "2017-04-28    142.486415\n",
            "Name: Adj. Close, Length: 61, dtype: float64\n"
          ]
        }
      ]
    },
    {
      "cell_type": "code",
      "metadata": {
        "colab": {
          "base_uri": "https://localhost:8080/"
        },
        "id": "1rGwndeTudcY",
        "outputId": "8779de92-0db5-4768-c10d-6a25e6c47a0c"
      },
      "source": [
        "#Ejemplo Propio\n",
        "print(googl['2014-7':'2014-11'])"
      ],
      "execution_count": 167,
      "outputs": [
        {
          "output_type": "stream",
          "name": "stdout",
          "text": [
            "Date\n",
            "2014-07-01    591.49\n",
            "2014-07-02    590.78\n",
            "2014-07-03    593.08\n",
            "2014-07-07    590.76\n",
            "2014-07-08    578.40\n",
            "               ...  \n",
            "2014-11-21    545.89\n",
            "2014-11-24    547.48\n",
            "2014-11-25    549.23\n",
            "2014-11-26    547.73\n",
            "2014-11-28    549.08\n",
            "Name: Adj. Close, Length: 106, dtype: float64\n"
          ]
        }
      ]
    },
    {
      "cell_type": "markdown",
      "metadata": {
        "id": "0HLqsTyFud7t"
      },
      "source": [
        "### Methods for quickly accessing the first or last elements:"
      ]
    },
    {
      "cell_type": "code",
      "metadata": {
        "colab": {
          "base_uri": "https://localhost:8080/"
        },
        "id": "Mn5wvkm6utl8",
        "outputId": "c7ec2dc1-2b24-42a4-9dc7-ce824dd94388"
      },
      "source": [
        "#Ejemplo de QuantConnect\n",
        "print(aapl.head())\n",
        "print(aapl.tail(10))"
      ],
      "execution_count": 168,
      "outputs": [
        {
          "output_type": "stream",
          "name": "stdout",
          "text": [
            "Date\n",
            "2017-01-03    114.715378\n",
            "2017-01-04    114.586983\n",
            "2017-01-05    115.169696\n",
            "2017-01-06    116.453639\n",
            "2017-01-09    117.520300\n",
            "Name: Adj. Close, dtype: float64\n",
            "Date\n",
            "2017-12-15    173.87\n",
            "2017-12-18    176.42\n",
            "2017-12-19    174.54\n",
            "2017-12-20    174.35\n",
            "2017-12-21    175.01\n",
            "2017-12-22    175.01\n",
            "2017-12-26    170.57\n",
            "2017-12-27    170.60\n",
            "2017-12-28    171.08\n",
            "2017-12-29    169.23\n",
            "Name: Adj. Close, dtype: float64\n"
          ]
        }
      ]
    },
    {
      "cell_type": "code",
      "metadata": {
        "colab": {
          "base_uri": "https://localhost:8080/"
        },
        "id": "wkPUi7rEut2a",
        "outputId": "0610860d-7b6d-4127-f1e4-a989be7fc6eb"
      },
      "source": [
        "#Ejemplo Propio\n",
        "print(googl.head(8))\n",
        "print(googl.tail(7))"
      ],
      "execution_count": 169,
      "outputs": [
        {
          "output_type": "stream",
          "name": "stdout",
          "text": [
            "Date\n",
            "2014-01-02    558.283367\n",
            "2014-01-03    554.210796\n",
            "2014-01-06    560.389870\n",
            "2014-01-07    571.193219\n",
            "2014-01-08    572.381888\n",
            "2014-01-09    566.869873\n",
            "2014-01-10    566.839780\n",
            "2014-01-13    563.228633\n",
            "Name: Adj. Close, dtype: float64\n",
            "Date\n",
            "2014-12-22    532.30\n",
            "2014-12-23    538.77\n",
            "2014-12-24    536.93\n",
            "2014-12-26    541.52\n",
            "2014-12-29    537.31\n",
            "2014-12-30    535.28\n",
            "2014-12-31    530.66\n",
            "Name: Adj. Close, dtype: float64\n"
          ]
        }
      ]
    },
    {
      "cell_type": "markdown",
      "metadata": {
        "id": "7jVYk14twTbt"
      },
      "source": [
        "## _**Resampling**_"
      ]
    },
    {
      "cell_type": "markdown",
      "metadata": {
        "id": "pL7NGL0swXOY"
      },
      "source": [
        "### Aggregate the daily data into monthly data by mean:"
      ]
    },
    {
      "cell_type": "code",
      "metadata": {
        "colab": {
          "base_uri": "https://localhost:8080/"
        },
        "id": "806XsdJwwu8f",
        "outputId": "9a6a3b13-7800-4bef-8f74-2a6bb3a00526"
      },
      "source": [
        "#Ejemplo de QuantConnect\n",
        "by_month = aapl.resample('M').mean()\n",
        "print(by_month)"
      ],
      "execution_count": 170,
      "outputs": [
        {
          "output_type": "stream",
          "name": "stdout",
          "text": [
            "Date\n",
            "2017-01-31    118.093136\n",
            "2017-02-28    132.456268\n",
            "2017-03-31    139.478802\n",
            "2017-04-30    141.728436\n",
            "2017-05-31    151.386305\n",
            "2017-06-30    147.233064\n",
            "2017-07-31    147.706190\n",
            "2017-08-31    158.856375\n",
            "2017-09-30    157.606500\n",
            "2017-10-31    157.811627\n",
            "2017-11-30    172.214500\n",
            "2017-12-31    171.893100\n",
            "Freq: M, Name: Adj. Close, dtype: float64\n"
          ]
        }
      ]
    },
    {
      "cell_type": "code",
      "metadata": {
        "colab": {
          "base_uri": "https://localhost:8080/"
        },
        "id": "BlqM2w4KwvQ8",
        "outputId": "09741742-efee-4034-93df-01e03d0e46e1"
      },
      "source": [
        "#Ejemplo Propio\n",
        "mensual = googl.resample('M').mean()\n",
        "print(mensual)"
      ],
      "execution_count": 171,
      "outputs": [
        {
          "output_type": "stream",
          "name": "stdout",
          "text": [
            "Date\n",
            "2014-01-31    569.946752\n",
            "2014-02-28    596.930826\n",
            "2014-03-31    593.053318\n",
            "2014-04-30    546.673308\n",
            "2014-05-31    542.980476\n",
            "2014-06-30    567.282143\n",
            "2014-07-31    592.485455\n",
            "2014-08-31    583.337619\n",
            "2014-09-30    592.129524\n",
            "2014-10-31    557.543478\n",
            "2014-11-30    552.544211\n",
            "2014-12-31    529.193182\n",
            "Freq: M, Name: Adj. Close, dtype: float64\n"
          ]
        }
      ]
    },
    {
      "cell_type": "markdown",
      "metadata": {
        "id": "TgKe3IP5wvjw"
      },
      "source": [
        "### Aggregate the data by week:"
      ]
    },
    {
      "cell_type": "code",
      "metadata": {
        "colab": {
          "base_uri": "https://localhost:8080/"
        },
        "id": "vU9k3WspxqD2",
        "outputId": "1a83d846-ae55-4cca-be47-ac192fc435bf"
      },
      "source": [
        "#Ejemplo de QuantConnect\n",
        "by_week = aapl.resample('W').mean()\n",
        "print(by_week.head())"
      ],
      "execution_count": 172,
      "outputs": [
        {
          "output_type": "stream",
          "name": "stdout",
          "text": [
            "Date\n",
            "2017-01-08    115.231424\n",
            "2017-01-15    117.755360\n",
            "2017-01-22    118.461035\n",
            "2017-01-29    119.667448\n",
            "2017-02-05    124.313346\n",
            "Freq: W-SUN, Name: Adj. Close, dtype: float64\n"
          ]
        }
      ]
    },
    {
      "cell_type": "code",
      "metadata": {
        "colab": {
          "base_uri": "https://localhost:8080/"
        },
        "id": "yZQGJP5fxqfA",
        "outputId": "dfc51fa9-0e8d-4608-af78-6c14ee8bec0a"
      },
      "source": [
        "#Ejemplo Propio\n",
        "semanal = googl.resample('W').mean()\n",
        "print(semanal.head())"
      ],
      "execution_count": 173,
      "outputs": [
        {
          "output_type": "stream",
          "name": "stdout",
          "text": [
            "Date\n",
            "2014-01-05    556.247081\n",
            "2014-01-12    567.534926\n",
            "2014-01-19    574.548576\n",
            "2014-01-26    578.366612\n",
            "2014-02-02    566.500733\n",
            "Freq: W-SUN, Name: Adj. Close, dtype: float64\n"
          ]
        }
      ]
    },
    {
      "cell_type": "markdown",
      "metadata": {
        "id": "xVjnRAZKxrJk"
      },
      "source": [
        "### Different frequencies:"
      ]
    },
    {
      "cell_type": "code",
      "metadata": {
        "colab": {
          "base_uri": "https://localhost:8080/"
        },
        "id": "Tz1EEo1bx-nt",
        "outputId": "d78c660d-914f-4608-f498-08ff745b0017"
      },
      "source": [
        "#Ejemplo de QuantConnect\n",
        "three_day = aapl.resample('3D').mean()\n",
        "two_week  = aapl.resample('2W').mean()\n",
        "two_month = aapl.resample('2M').mean()\n",
        "print(three_day)\n",
        "print(two_week)\n",
        "print(two_month)"
      ],
      "execution_count": 174,
      "outputs": [
        {
          "output_type": "stream",
          "name": "stdout",
          "text": [
            "Date\n",
            "2017-01-03    114.824019\n",
            "2017-01-06    116.453639\n",
            "2017-01-09    117.810010\n",
            "2017-01-12    117.673385\n",
            "2017-01-15    118.517825\n",
            "                 ...    \n",
            "2017-12-17    175.480000\n",
            "2017-12-20    174.790000\n",
            "2017-12-23           NaN\n",
            "2017-12-26    170.750000\n",
            "2017-12-29    169.230000\n",
            "Freq: 3D, Name: Adj. Close, Length: 121, dtype: float64\n",
            "Date\n",
            "2017-01-08    115.231424\n",
            "2017-01-22    118.068993\n",
            "2017-02-05    121.990397\n",
            "2017-02-19    132.081078\n",
            "2017-03-05    136.601142\n",
            "2017-03-19    138.371022\n",
            "2017-04-02    140.916237\n",
            "2017-04-16    141.857109\n",
            "2017-04-30    141.612630\n",
            "2017-05-14    149.598217\n",
            "2017-05-28    152.932484\n",
            "2017-06-11    153.021346\n",
            "2017-06-25    144.695904\n",
            "2017-07-09    143.594041\n",
            "2017-07-23    147.841142\n",
            "2017-08-06    152.018194\n",
            "2017-08-20    158.929140\n",
            "2017-09-03    161.188000\n",
            "2017-09-17    160.445556\n",
            "2017-10-01    154.407000\n",
            "2017-10-15    155.371080\n",
            "2017-10-29    158.238500\n",
            "2017-11-12    171.430000\n",
            "2017-11-26    172.076667\n",
            "2017-12-10    170.681200\n",
            "2017-12-24    173.806000\n",
            "2018-01-07    170.370000\n",
            "Freq: 2W-SUN, Name: Adj. Close, dtype: float64\n",
            "Date\n",
            "2017-01-31    118.093136\n",
            "2017-03-31    136.301941\n",
            "2017-05-31    146.910707\n",
            "2017-07-31    147.458362\n",
            "2017-09-30    158.261196\n",
            "2017-11-30    164.670138\n",
            "2018-01-31    171.893100\n",
            "Freq: 2M, Name: Adj. Close, dtype: float64\n"
          ]
        }
      ]
    },
    {
      "cell_type": "code",
      "metadata": {
        "colab": {
          "base_uri": "https://localhost:8080/"
        },
        "id": "kQ_pbdTLx_CN",
        "outputId": "533206d1-143f-4232-dad7-aa83c6871f7c"
      },
      "source": [
        "#Ejemplo Propio\n",
        "veinte_dias = googl.resample('20D').mean()\n",
        "tres_semanas  = googl.resample('3W').mean()\n",
        "semestral = googl.resample('6M').mean()\n",
        "print(veinte_dias)\n",
        "print(tres_semanas)\n",
        "print(semestral)"
      ],
      "execution_count": 175,
      "outputs": [
        {
          "output_type": "stream",
          "name": "stdout",
          "text": [
            "Date\n",
            "2014-01-02    569.735642\n",
            "2014-01-22    573.971438\n",
            "2014-02-11    605.261847\n",
            "2014-03-03    602.987699\n",
            "2014-03-23    560.946244\n",
            "2014-04-12    539.521538\n",
            "2014-05-02    532.662857\n",
            "2014-05-22    565.336923\n",
            "2014-06-11    569.308929\n",
            "2014-07-01    589.110000\n",
            "2014-07-21    588.633333\n",
            "2014-08-10    586.456000\n",
            "2014-08-30    591.775385\n",
            "2014-09-19    588.144286\n",
            "2014-10-09    546.037857\n",
            "2014-10-29    557.860714\n",
            "2014-11-18    543.134615\n",
            "2014-12-08    525.223571\n",
            "2014-12-28    534.416667\n",
            "Freq: 20D, Name: Adj. Close, dtype: float64\n",
            "Date\n",
            "2014-01-05    556.247081\n",
            "2014-01-26    573.134569\n",
            "2014-02-16    580.198016\n",
            "2014-03-09    608.267664\n",
            "2014-03-30    590.040733\n",
            "2014-04-20    554.643571\n",
            "2014-05-11    531.280000\n",
            "2014-06-01    550.535714\n",
            "2014-06-22    561.669000\n",
            "2014-07-13    584.460714\n",
            "2014-08-03    594.248000\n",
            "2014-08-24    583.474667\n",
            "2014-09-14    589.747857\n",
            "2014-10-05    589.958667\n",
            "2014-10-26    552.088667\n",
            "2014-11-16    558.148667\n",
            "2014-12-07    543.385000\n",
            "2014-12-28    525.223571\n",
            "2015-01-18    534.416667\n",
            "Freq: 3W-SUN, Name: Adj. Close, dtype: float64\n",
            "Date\n",
            "2014-01-31    569.946752\n",
            "2014-07-31    573.009119\n",
            "2015-01-31    562.725472\n",
            "Freq: 6M, Name: Adj. Close, dtype: float64\n"
          ]
        }
      ]
    },
    {
      "cell_type": "markdown",
      "metadata": {
        "id": "CaVmJaZlx_V9"
      },
      "source": [
        "### Different methods:"
      ]
    },
    {
      "cell_type": "code",
      "metadata": {
        "colab": {
          "base_uri": "https://localhost:8080/"
        },
        "id": "Gpa3iKVYy2K4",
        "outputId": "ee305e62-6dd5-4582-feb2-e491c703474b"
      },
      "source": [
        "#Ejemplo de QuantConnect\n",
        "std = aapl.resample('W').std()    # standard deviation\n",
        "max = aapl.resample('W').max()    # maximum value\n",
        "min = aapl.resample('W').min()    # minimum value\n",
        "print(std)\n",
        "print(max)\n",
        "print(min)"
      ],
      "execution_count": 176,
      "outputs": [
        {
          "output_type": "stream",
          "name": "stdout",
          "text": [
            "Date\n",
            "2017-01-08    0.852296\n",
            "2017-01-15    0.303965\n",
            "2017-01-22    0.107097\n",
            "2017-01-29    1.027976\n",
            "2017-02-05    3.953127\n",
            "2017-02-12    1.054342\n",
            "2017-02-19    0.969247\n",
            "2017-02-26    0.248701\n",
            "2017-03-05    1.425250\n",
            "2017-03-12    0.319693\n",
            "2017-03-19    0.745266\n",
            "2017-03-26    0.659058\n",
            "2017-04-02    1.340247\n",
            "2017-04-09    0.539305\n",
            "2017-04-16    0.890443\n",
            "2017-04-23    0.732013\n",
            "2017-04-30    0.385246\n",
            "2017-05-07    0.983818\n",
            "2017-05-14    1.480644\n",
            "2017-05-21    2.250808\n",
            "2017-05-28    0.253079\n",
            "2017-06-04    1.178505\n",
            "2017-06-11    2.598342\n",
            "2017-06-18    1.593357\n",
            "2017-06-25    0.555420\n",
            "2017-07-02    1.104805\n",
            "2017-07-09    0.665854\n",
            "2017-07-16    1.694205\n",
            "2017-07-23    0.523784\n",
            "2017-07-30    1.611054\n",
            "2017-08-06    3.836757\n",
            "2017-08-13    2.272546\n",
            "2017-08-20    1.821903\n",
            "2017-08-27    1.155790\n",
            "2017-09-03    1.055026\n",
            "2017-09-10    1.599521\n",
            "2017-09-17    1.226206\n",
            "2017-09-24    3.081331\n",
            "2017-10-01    1.487222\n",
            "2017-10-08    0.867246\n",
            "2017-10-15    0.497624\n",
            "2017-10-22    2.190114\n",
            "2017-10-29    2.852625\n",
            "2017-11-05    2.349930\n",
            "2017-11-12    0.693752\n",
            "2017-11-19    1.821639\n",
            "2017-11-26    2.351374\n",
            "2017-12-03    1.785083\n",
            "2017-12-10    0.299377\n",
            "2017-12-17    0.816474\n",
            "2017-12-24    0.810697\n",
            "2017-12-31    0.795110\n",
            "Freq: W-SUN, Name: Adj. Close, dtype: float64\n",
            "Date\n",
            "2017-01-08    116.453639\n",
            "2017-01-15    118.270913\n",
            "2017-01-22    118.517825\n",
            "2017-01-29    120.443739\n",
            "2017-02-05    127.485673\n",
            "2017-02-12    131.347379\n",
            "2017-02-19    134.620649\n",
            "2017-02-26    135.999390\n",
            "2017-03-05    138.657681\n",
            "2017-03-12    138.389868\n",
            "2017-03-19    139.550391\n",
            "2017-03-26    140.314154\n",
            "2017-04-02    142.952608\n",
            "2017-04-09    143.597342\n",
            "2017-04-16    142.010303\n",
            "2017-04-23    141.286216\n",
            "2017-04-30    143.369205\n",
            "2017-05-07    147.753403\n",
            "2017-05-14    155.469192\n",
            "2017-05-21    155.070808\n",
            "2017-05-28    153.367718\n",
            "2017-06-04    154.821818\n",
            "2017-06-11    154.742142\n",
            "2017-06-18    145.997622\n",
            "2017-06-25    145.758592\n",
            "2017-07-02    145.240693\n",
            "2017-07-09    143.597361\n",
            "2017-07-16    148.437722\n",
            "2017-07-23    150.409720\n",
            "2017-07-30    152.839860\n",
            "2017-08-06    156.504989\n",
            "2017-08-13    160.409148\n",
            "2017-08-20    161.600000\n",
            "2017-08-27    159.980000\n",
            "2017-09-03    164.050000\n",
            "2017-09-10    162.080000\n",
            "2017-09-17    161.500000\n",
            "2017-09-24    158.730000\n",
            "2017-10-01    154.230000\n",
            "2017-10-08    155.390000\n",
            "2017-10-15    156.990000\n",
            "2017-10-22    160.470000\n",
            "2017-10-29    163.050000\n",
            "2017-11-05    172.500000\n",
            "2017-11-12    175.880000\n",
            "2017-11-19    173.970000\n",
            "2017-11-26    174.970000\n",
            "2017-12-03    174.090000\n",
            "2017-12-10    169.800000\n",
            "2017-12-17    173.870000\n",
            "2017-12-24    176.420000\n",
            "2017-12-31    171.080000\n",
            "Freq: W-SUN, Name: Adj. Close, dtype: float64\n",
            "Date\n",
            "2017-01-08    114.586983\n",
            "2017-01-15    117.520300\n",
            "2017-01-22    118.300542\n",
            "2017-01-29    118.488195\n",
            "2017-02-05    119.851150\n",
            "2017-02-12    128.680728\n",
            "2017-02-19    132.210332\n",
            "2017-02-26    135.424088\n",
            "2017-03-05    135.820848\n",
            "2017-03-12    137.556672\n",
            "2017-03-19    137.864161\n",
            "2017-03-26    138.707276\n",
            "2017-04-02    139.738852\n",
            "2017-04-09    142.178926\n",
            "2017-04-16    139.907475\n",
            "2017-04-23    139.540472\n",
            "2017-04-30    142.476496\n",
            "2017-05-07    145.343086\n",
            "2017-05-14    151.760678\n",
            "2017-05-21    149.642832\n",
            "2017-05-28    152.720345\n",
            "2017-06-04    152.142689\n",
            "2017-06-11    148.377964\n",
            "2017-06-18    141.695080\n",
            "2017-06-25    144.424007\n",
            "2017-07-02    143.099382\n",
            "2017-07-09    142.153221\n",
            "2017-07-16    144.473805\n",
            "2017-07-23    148.955620\n",
            "2017-07-30    148.895863\n",
            "2017-08-06    148.248489\n",
            "2017-08-13    155.270000\n",
            "2017-08-20    157.500000\n",
            "2017-08-27    157.210000\n",
            "2017-09-03    161.470000\n",
            "2017-09-10    158.630000\n",
            "2017-09-17    158.280000\n",
            "2017-09-24    151.890000\n",
            "2017-10-01    150.550000\n",
            "2017-10-08    153.450800\n",
            "2017-10-15    155.840000\n",
            "2017-10-22    155.980000\n",
            "2017-10-29    156.170000\n",
            "2017-11-05    166.720000\n",
            "2017-11-12    174.250000\n",
            "2017-11-19    169.080000\n",
            "2017-11-26    169.980000\n",
            "2017-12-03    169.480000\n",
            "2017-12-10    169.010000\n",
            "2017-12-17    171.700000\n",
            "2017-12-24    174.350000\n",
            "2017-12-31    169.230000\n",
            "Freq: W-SUN, Name: Adj. Close, dtype: float64\n"
          ]
        }
      ]
    },
    {
      "cell_type": "code",
      "metadata": {
        "colab": {
          "base_uri": "https://localhost:8080/"
        },
        "id": "_a14jUkVy2eJ",
        "outputId": "b5bbee43-cc75-457a-89a5-325e9a31ec96"
      },
      "source": [
        "#Ejemplo Propio\n",
        "dev = googl.resample('3M').std()\n",
        "maximo = googl.resample('3M').max()\n",
        "minimo = googl.resample('3M').min()\n",
        "print(dev)\n",
        "print(maximo)\n",
        "print(minimo)"
      ],
      "execution_count": 177,
      "outputs": [
        {
          "output_type": "stream",
          "name": "stdout",
          "text": [
            "Date\n",
            "2014-01-31    11.014532\n",
            "2014-04-30    27.824487\n",
            "2014-07-31    24.143012\n",
            "2014-10-31    19.318155\n",
            "2015-01-31    15.206120\n",
            "Freq: 3M, Name: Adj. Close, dtype: float64\n",
            "Date\n",
            "2014-01-31    592.313415\n",
            "2014-04-30    611.974105\n",
            "2014-07-31    605.190000\n",
            "2014-10-31    605.400000\n",
            "2015-01-31    564.190000\n",
            "Freq: 3M, Name: Adj. Close, dtype: float64\n",
            "Date\n",
            "2014-01-31    552.319959\n",
            "2014-04-30    522.980000\n",
            "2014-07-31    518.000000\n",
            "2014-10-31    522.970000\n",
            "2015-01-31    498.160000\n",
            "Freq: 3M, Name: Adj. Close, dtype: float64\n"
          ]
        }
      ]
    },
    {
      "cell_type": "markdown",
      "metadata": {
        "id": "KUTSxdj4y2xr"
      },
      "source": [
        "### Return the last day of each month:"
      ]
    },
    {
      "cell_type": "code",
      "metadata": {
        "colab": {
          "base_uri": "https://localhost:8080/"
        },
        "id": "iT8LgEDHzlMS",
        "outputId": "da59c396-ebac-4130-9505-0e21403459a6"
      },
      "source": [
        "#Ejemplo de QuantConnect\n",
        "last_day = aapl.resample('M').agg(lambda x: x[-1])\n",
        "print(last_day)"
      ],
      "execution_count": 178,
      "outputs": [
        {
          "output_type": "stream",
          "name": "stdout",
          "text": [
            "Date\n",
            "2017-01-31    119.851150\n",
            "2017-02-28    135.880362\n",
            "2017-03-31    142.496334\n",
            "2017-04-30    142.486415\n",
            "2017-05-31    152.142689\n",
            "2017-06-30    143.438008\n",
            "2017-07-31    148.248489\n",
            "2017-08-31    164.000000\n",
            "2017-09-30    154.120000\n",
            "2017-10-31    169.040000\n",
            "2017-11-30    171.850000\n",
            "2017-12-31    169.230000\n",
            "Freq: M, Name: Adj. Close, dtype: float64\n"
          ]
        }
      ]
    },
    {
      "cell_type": "code",
      "metadata": {
        "colab": {
          "base_uri": "https://localhost:8080/"
        },
        "id": "rmdL90AVzlaN",
        "outputId": "9ede8b04-500a-46d6-a9b4-72f57844c981"
      },
      "source": [
        "#Ejemplo Propio\n",
        "ultimo_dia = googl.resample('M').agg(lambda x: x[-1])\n",
        "print(ultimo_dia)"
      ],
      "execution_count": 179,
      "outputs": [
        {
          "output_type": "stream",
          "name": "stdout",
          "text": [
            "Date\n",
            "2014-01-31    592.313415\n",
            "2014-02-28    609.707107\n",
            "2014-03-31    558.980519\n",
            "2014-04-30    534.880000\n",
            "2014-05-31    571.650000\n",
            "2014-06-30    584.670000\n",
            "2014-07-31    579.550000\n",
            "2014-08-31    582.360000\n",
            "2014-09-30    588.410000\n",
            "2014-10-31    567.870000\n",
            "2014-11-30    549.080000\n",
            "2014-12-31    530.660000\n",
            "Freq: M, Name: Adj. Close, dtype: float64\n"
          ]
        }
      ]
    },
    {
      "cell_type": "markdown",
      "metadata": {
        "id": "EtfD8to9zsez"
      },
      "source": [
        "### Monthly rates of return:"
      ]
    },
    {
      "cell_type": "code",
      "metadata": {
        "colab": {
          "base_uri": "https://localhost:8080/"
        },
        "id": "kZduSfQOzwEW",
        "outputId": "a0dcc5e9-4925-4008-c22f-649760c1b604"
      },
      "source": [
        "#Ejemplo de QuantConnect\n",
        "monthly_return = aapl.resample('M').agg(lambda x: x[-1]/x[1] - 1)\n",
        "print(monthly_return)"
      ],
      "execution_count": 180,
      "outputs": [
        {
          "output_type": "stream",
          "name": "stdout",
          "text": [
            "Date\n",
            "2017-01-31    0.045940\n",
            "2017-02-28    0.070409\n",
            "2017-03-31    0.033823\n",
            "2017-04-30   -0.007736\n",
            "2017-05-31    0.039829\n",
            "2017-06-30   -0.073528\n",
            "2017-07-31    0.033035\n",
            "2017-08-31    0.047890\n",
            "2017-09-30   -0.049112\n",
            "2017-10-31    0.094252\n",
            "2017-11-30    0.022247\n",
            "2017-12-31   -0.003357\n",
            "Freq: M, Name: Adj. Close, dtype: float64\n"
          ]
        }
      ]
    },
    {
      "cell_type": "code",
      "metadata": {
        "colab": {
          "base_uri": "https://localhost:8080/"
        },
        "id": "kaovft5rzwRy",
        "outputId": "2de74ee7-0058-4ba8-8e06-94b045cd1246"
      },
      "source": [
        "#Ejemplo Propio\n",
        "retorno_mensual = googl.resample('M').agg(lambda x: x[-1]/x[1] - 1)\n",
        "print(retorno_mensual)"
      ],
      "execution_count": 181,
      "outputs": [
        {
          "output_type": "stream",
          "name": "stdout",
          "text": [
            "Date\n",
            "2014-01-31    0.068751\n",
            "2014-02-28    0.068084\n",
            "2014-03-31   -0.082640\n",
            "2014-04-30   -0.060472\n",
            "2014-05-31    0.070766\n",
            "2014-06-30    0.054390\n",
            "2014-07-31   -0.019009\n",
            "2014-08-31    0.000155\n",
            "2014-09-30   -0.001883\n",
            "2014-10-31   -0.022397\n",
            "2014-11-30   -0.026782\n",
            "2014-12-31   -0.014724\n",
            "Freq: M, Name: Adj. Close, dtype: float64\n"
          ]
        }
      ]
    },
    {
      "cell_type": "markdown",
      "metadata": {
        "id": "rT7vAZJk12l8"
      },
      "source": [
        "### Methods for quick calculation:"
      ]
    },
    {
      "cell_type": "code",
      "metadata": {
        "colab": {
          "base_uri": "https://localhost:8080/"
        },
        "id": "TcrYAwxj2ACZ",
        "outputId": "8e27d835-df33-4fc8-de2a-674725afa694"
      },
      "source": [
        "#Ejemplo de QuantConnect\n",
        "print(monthly_return.mean())\n",
        "print(monthly_return.std())\n",
        "print(monthly_return.max())"
      ],
      "execution_count": 182,
      "outputs": [
        {
          "output_type": "stream",
          "name": "stdout",
          "text": [
            "0.02114094011940022\n",
            "0.04775652864223314\n",
            "0.09425168306576914\n"
          ]
        }
      ]
    },
    {
      "cell_type": "code",
      "metadata": {
        "colab": {
          "base_uri": "https://localhost:8080/"
        },
        "id": "OsE2AQKf2AX0",
        "outputId": "98b31038-9304-4292-c410-463b0429b786"
      },
      "source": [
        "#Ejemplo Propio\n",
        "print(retorno_mensual.mean())\n",
        "print(retorno_mensual.std())\n",
        "print(retorno_mensual.max())\n",
        "print(retorno_mensual.min())\n",
        "print(retorno_mensual.var())\n",
        "print(retorno_mensual.median())"
      ],
      "execution_count": 183,
      "outputs": [
        {
          "output_type": "stream",
          "name": "stdout",
          "text": [
            "0.002853295069011543\n",
            "0.05180155725389699\n",
            "0.07076629141925928\n",
            "-0.08263986632754705\n",
            "0.002683401333928768\n",
            "-0.008303258996375629\n"
          ]
        }
      ]
    },
    {
      "cell_type": "markdown",
      "metadata": {
        "id": "N44wZL142AvG"
      },
      "source": [
        "### Methods .diff() and .pct_change():"
      ]
    },
    {
      "cell_type": "code",
      "metadata": {
        "colab": {
          "base_uri": "https://localhost:8080/"
        },
        "id": "N0T6XtmD2V-0",
        "outputId": "2ccfe232-4722-4638-d392-7960917bb342"
      },
      "source": [
        "#Ejemplo de QuantConnect\n",
        "print(last_day.diff())\n",
        "print(last_day.pct_change())"
      ],
      "execution_count": 184,
      "outputs": [
        {
          "output_type": "stream",
          "name": "stdout",
          "text": [
            "Date\n",
            "2017-01-31          NaN\n",
            "2017-02-28    16.029211\n",
            "2017-03-31     6.615972\n",
            "2017-04-30    -0.009919\n",
            "2017-05-31     9.656274\n",
            "2017-06-30    -8.704681\n",
            "2017-07-31     4.810482\n",
            "2017-08-31    15.751511\n",
            "2017-09-30    -9.880000\n",
            "2017-10-31    14.920000\n",
            "2017-11-30     2.810000\n",
            "2017-12-31    -2.620000\n",
            "Freq: M, Name: Adj. Close, dtype: float64\n",
            "Date\n",
            "2017-01-31         NaN\n",
            "2017-02-28    0.133743\n",
            "2017-03-31    0.048690\n",
            "2017-04-30   -0.000070\n",
            "2017-05-31    0.067770\n",
            "2017-06-30   -0.057214\n",
            "2017-07-31    0.033537\n",
            "2017-08-31    0.106251\n",
            "2017-09-30   -0.060244\n",
            "2017-10-31    0.096808\n",
            "2017-11-30    0.016623\n",
            "2017-12-31   -0.015246\n",
            "Freq: M, Name: Adj. Close, dtype: float64\n"
          ]
        }
      ]
    },
    {
      "cell_type": "code",
      "metadata": {
        "colab": {
          "base_uri": "https://localhost:8080/"
        },
        "id": "FyOjI1Yk2WQQ",
        "outputId": "6b0276fb-1ba8-46e3-b998-25372b133f38"
      },
      "source": [
        "#Ejemplo Propio\n",
        "print(ultimo_dia.diff())\n",
        "print(ultimo_dia.pct_change())"
      ],
      "execution_count": 185,
      "outputs": [
        {
          "output_type": "stream",
          "name": "stdout",
          "text": [
            "Date\n",
            "2014-01-31          NaN\n",
            "2014-02-28    17.393693\n",
            "2014-03-31   -50.726588\n",
            "2014-04-30   -24.100519\n",
            "2014-05-31    36.770000\n",
            "2014-06-30    13.020000\n",
            "2014-07-31    -5.120000\n",
            "2014-08-31     2.810000\n",
            "2014-09-30     6.050000\n",
            "2014-10-31   -20.540000\n",
            "2014-11-30   -18.790000\n",
            "2014-12-31   -18.420000\n",
            "Freq: M, Name: Adj. Close, dtype: float64\n",
            "Date\n",
            "2014-01-31         NaN\n",
            "2014-02-28    0.029366\n",
            "2014-03-31   -0.083198\n",
            "2014-04-30   -0.043115\n",
            "2014-05-31    0.068744\n",
            "2014-06-30    0.022776\n",
            "2014-07-31   -0.008757\n",
            "2014-08-31    0.004849\n",
            "2014-09-30    0.010389\n",
            "2014-10-31   -0.034908\n",
            "2014-11-30   -0.033089\n",
            "2014-12-31   -0.033547\n",
            "Freq: M, Name: Adj. Close, dtype: float64\n"
          ]
        }
      ]
    },
    {
      "cell_type": "markdown",
      "metadata": {
        "id": "F9A3Vdf32Wjz"
      },
      "source": [
        "### Fill NaN value with 0:"
      ]
    },
    {
      "cell_type": "code",
      "metadata": {
        "colab": {
          "base_uri": "https://localhost:8080/"
        },
        "id": "Rq6bab0F2j2x",
        "outputId": "77047dad-bfe7-441c-8db5-1016865be42b"
      },
      "source": [
        "#Ejemplo de QuantConnect\n",
        "daily_return = last_day.pct_change()\n",
        "print(daily_return.fillna(0))"
      ],
      "execution_count": 186,
      "outputs": [
        {
          "output_type": "stream",
          "name": "stdout",
          "text": [
            "Date\n",
            "2017-01-31    0.000000\n",
            "2017-02-28    0.133743\n",
            "2017-03-31    0.048690\n",
            "2017-04-30   -0.000070\n",
            "2017-05-31    0.067770\n",
            "2017-06-30   -0.057214\n",
            "2017-07-31    0.033537\n",
            "2017-08-31    0.106251\n",
            "2017-09-30   -0.060244\n",
            "2017-10-31    0.096808\n",
            "2017-11-30    0.016623\n",
            "2017-12-31   -0.015246\n",
            "Freq: M, Name: Adj. Close, dtype: float64\n"
          ]
        }
      ]
    },
    {
      "cell_type": "code",
      "metadata": {
        "colab": {
          "base_uri": "https://localhost:8080/"
        },
        "id": "fOVW3c812kGs",
        "outputId": "7d16cac5-eaa1-4b5f-a036-a7a5a771148b"
      },
      "source": [
        "#Ejemplo Propio\n",
        "retorno_diario = ultimo_dia.pct_change()\n",
        "print(retorno_diario.fillna(0))"
      ],
      "execution_count": 187,
      "outputs": [
        {
          "output_type": "stream",
          "name": "stdout",
          "text": [
            "Date\n",
            "2014-01-31    0.000000\n",
            "2014-02-28    0.029366\n",
            "2014-03-31   -0.083198\n",
            "2014-04-30   -0.043115\n",
            "2014-05-31    0.068744\n",
            "2014-06-30    0.022776\n",
            "2014-07-31   -0.008757\n",
            "2014-08-31    0.004849\n",
            "2014-09-30    0.010389\n",
            "2014-10-31   -0.034908\n",
            "2014-11-30   -0.033089\n",
            "2014-12-31   -0.033547\n",
            "Freq: M, Name: Adj. Close, dtype: float64\n"
          ]
        }
      ]
    },
    {
      "cell_type": "markdown",
      "metadata": {
        "id": "nM_kp-kL2kX4"
      },
      "source": [
        "### Backward fill:"
      ]
    },
    {
      "cell_type": "code",
      "metadata": {
        "colab": {
          "base_uri": "https://localhost:8080/"
        },
        "id": "Ju1QMtYM2rLK",
        "outputId": "8a6ed676-b3a6-44e9-8837-1f9bb39231b8"
      },
      "source": [
        "#Ejemplo de QuantConnect\n",
        "daily_return = last_day.pct_change()\n",
        "print(daily_return.fillna(method = 'bfill'))"
      ],
      "execution_count": 188,
      "outputs": [
        {
          "output_type": "stream",
          "name": "stdout",
          "text": [
            "Date\n",
            "2017-01-31    0.133743\n",
            "2017-02-28    0.133743\n",
            "2017-03-31    0.048690\n",
            "2017-04-30   -0.000070\n",
            "2017-05-31    0.067770\n",
            "2017-06-30   -0.057214\n",
            "2017-07-31    0.033537\n",
            "2017-08-31    0.106251\n",
            "2017-09-30   -0.060244\n",
            "2017-10-31    0.096808\n",
            "2017-11-30    0.016623\n",
            "2017-12-31   -0.015246\n",
            "Freq: M, Name: Adj. Close, dtype: float64\n"
          ]
        }
      ]
    },
    {
      "cell_type": "code",
      "metadata": {
        "colab": {
          "base_uri": "https://localhost:8080/"
        },
        "id": "qIhCihid2rdh",
        "outputId": "a6d95ac6-ccc4-441d-fbf5-4031e2c40ee1"
      },
      "source": [
        "#Ejemplo Propio\n",
        "retorno_diario = ultimo_dia.pct_change()\n",
        "print(retorno_diario.fillna('bfill'))"
      ],
      "execution_count": 189,
      "outputs": [
        {
          "output_type": "stream",
          "name": "stdout",
          "text": [
            "Date\n",
            "2014-01-31         bfill\n",
            "2014-02-28     0.0293657\n",
            "2014-03-31    -0.0831983\n",
            "2014-04-30    -0.0431151\n",
            "2014-05-31     0.0687444\n",
            "2014-06-30     0.0227762\n",
            "2014-07-31   -0.00875708\n",
            "2014-08-31    0.00484859\n",
            "2014-09-30     0.0103888\n",
            "2014-10-31    -0.0349076\n",
            "2014-11-30    -0.0330886\n",
            "2014-12-31     -0.033547\n",
            "Freq: M, Name: Adj. Close, dtype: object\n"
          ]
        }
      ]
    },
    {
      "cell_type": "markdown",
      "metadata": {
        "id": "bcXBhJiS2rxD"
      },
      "source": [
        "### Remove NaN values:"
      ]
    },
    {
      "cell_type": "code",
      "metadata": {
        "colab": {
          "base_uri": "https://localhost:8080/"
        },
        "id": "Fq6VSnML2yQ7",
        "outputId": "66538f7b-82be-49c8-f23e-ccdc25010744"
      },
      "source": [
        "#Ejemplo de QuantConnect\n",
        "daily_return = last_day.pct_change().dropna()\n",
        "print(daily_return)"
      ],
      "execution_count": 190,
      "outputs": [
        {
          "output_type": "stream",
          "name": "stdout",
          "text": [
            "Date\n",
            "2017-02-28    0.133743\n",
            "2017-03-31    0.048690\n",
            "2017-04-30   -0.000070\n",
            "2017-05-31    0.067770\n",
            "2017-06-30   -0.057214\n",
            "2017-07-31    0.033537\n",
            "2017-08-31    0.106251\n",
            "2017-09-30   -0.060244\n",
            "2017-10-31    0.096808\n",
            "2017-11-30    0.016623\n",
            "2017-12-31   -0.015246\n",
            "Freq: M, Name: Adj. Close, dtype: float64\n"
          ]
        }
      ]
    },
    {
      "cell_type": "code",
      "metadata": {
        "colab": {
          "base_uri": "https://localhost:8080/"
        },
        "id": "M-QkY7Eh2ycv",
        "outputId": "25eba870-5ef9-47ff-e15f-c32711d23735"
      },
      "source": [
        "#Ejemplo Propio\n",
        "retorno_diario = ultimo_dia.pct_change().dropna()\n",
        "print(retorno_diario)"
      ],
      "execution_count": 191,
      "outputs": [
        {
          "output_type": "stream",
          "name": "stdout",
          "text": [
            "Date\n",
            "2014-02-28    0.029366\n",
            "2014-03-31   -0.083198\n",
            "2014-04-30   -0.043115\n",
            "2014-05-31    0.068744\n",
            "2014-06-30    0.022776\n",
            "2014-07-31   -0.008757\n",
            "2014-08-31    0.004849\n",
            "2014-09-30    0.010389\n",
            "2014-10-31   -0.034908\n",
            "2014-11-30   -0.033089\n",
            "2014-12-31   -0.033547\n",
            "Freq: M, Name: Adj. Close, dtype: float64\n"
          ]
        }
      ]
    },
    {
      "cell_type": "markdown",
      "metadata": {
        "id": "d4usmc8r2y1y"
      },
      "source": [
        "## _**Data Frame**_"
      ]
    },
    {
      "cell_type": "markdown",
      "metadata": {
        "id": "7-D6tdwn7Nmc"
      },
      "source": [
        "### Create DataFrames:"
      ]
    },
    {
      "cell_type": "code",
      "metadata": {
        "colab": {
          "base_uri": "https://localhost:8080/"
        },
        "id": "62SMgUQr7RjB",
        "outputId": "8a9e696f-7c2d-4f12-f41f-692be92ef1e5"
      },
      "source": [
        "#Ejemplo de QuantConnect\n",
        "import pandas as pd\n",
        "dict = {'AAPL': [143.5,  144.09, 142.73, 144.18, 143.77],\n",
        "        'GOOG': [898.7,  911.71, 906.69, 918.59, 926.99],\n",
        "        'IBM':  [155.58, 153.67, 152.36, 152.94, 153.49]}\n",
        "dates = pd.date_range('2017-07-03', periods = 5, freq = 'D')\n",
        "df = pd.DataFrame(dict, index = dates)\n",
        "print(df)"
      ],
      "execution_count": 192,
      "outputs": [
        {
          "output_type": "stream",
          "name": "stdout",
          "text": [
            "              AAPL    GOOG     IBM\n",
            "2017-07-03  143.50  898.70  155.58\n",
            "2017-07-04  144.09  911.71  153.67\n",
            "2017-07-05  142.73  906.69  152.36\n",
            "2017-07-06  144.18  918.59  152.94\n",
            "2017-07-07  143.77  926.99  153.49\n"
          ]
        }
      ]
    },
    {
      "cell_type": "code",
      "metadata": {
        "colab": {
          "base_uri": "https://localhost:8080/"
        },
        "id": "vI_hiSci7R2J",
        "outputId": "c5a7beb9-8217-41d6-f154-1d1d9febb255"
      },
      "source": [
        "#Ejemplo Propio\n",
        "import pandas as pd\n",
        "dic = {'Estudiante1': [3.5, 5.0, 4.8, 4.5, 2.8, 3.9, 4.1, 4.4],\n",
        "        'Estudiante2': [5.0, 2.5, 4.9, 4.7, 4.6, 4.3, 2.0, 5.0],\n",
        "        'Estudiante3':  [2.9, 3.0, 2.8, 3.3, 2.1, 4.0, 3.9, 5.0]}\n",
        "fechas = pd.date_range('2013-12-31', periods = 8, freq = 'Y')\n",
        "df2 = pd.DataFrame(dic, index = fechas)\n",
        "print(df2)"
      ],
      "execution_count": 193,
      "outputs": [
        {
          "output_type": "stream",
          "name": "stdout",
          "text": [
            "            Estudiante1  Estudiante2  Estudiante3\n",
            "2013-12-31          3.5          5.0          2.9\n",
            "2014-12-31          5.0          2.5          3.0\n",
            "2015-12-31          4.8          4.9          2.8\n",
            "2016-12-31          4.5          4.7          3.3\n",
            "2017-12-31          2.8          4.6          2.1\n",
            "2018-12-31          3.9          4.3          4.0\n",
            "2019-12-31          4.1          2.0          3.9\n",
            "2020-12-31          4.4          5.0          5.0\n"
          ]
        }
      ]
    },
    {
      "cell_type": "markdown",
      "metadata": {
        "id": "xu4SJIdq7SGp"
      },
      "source": [
        "### Manipulating DataFrames:"
      ]
    },
    {
      "cell_type": "markdown",
      "metadata": {
        "id": "V575fidC8y6J"
      },
      "source": [
        "* #### *Fetch a column:*"
      ]
    },
    {
      "cell_type": "code",
      "metadata": {
        "colab": {
          "base_uri": "https://localhost:8080/"
        },
        "id": "32wCSmgQ7YTR",
        "outputId": "5937dd78-f38a-4f65-bf95-63310b9d7dde"
      },
      "source": [
        "#Ejemplo de QuantConnect\n",
        "df = aapl_table\n",
        "print(df.Close.tail(5))\n",
        "print(df['Adj. Volume'].tail(5))"
      ],
      "execution_count": 194,
      "outputs": [
        {
          "output_type": "stream",
          "name": "stdout",
          "text": [
            "Date\n",
            "2018-03-21    171.270\n",
            "2018-03-22    168.845\n",
            "2018-03-23    164.940\n",
            "2018-03-26    172.770\n",
            "2018-03-27    168.340\n",
            "Name: Close, dtype: float64\n",
            "Date\n",
            "2018-03-21    35247358.0\n",
            "2018-03-22    41051076.0\n",
            "2018-03-23    40248954.0\n",
            "2018-03-26    36272617.0\n",
            "2018-03-27    38962839.0\n",
            "Name: Adj. Volume, dtype: float64\n"
          ]
        }
      ]
    },
    {
      "cell_type": "code",
      "metadata": {
        "colab": {
          "base_uri": "https://localhost:8080/"
        },
        "id": "g986vV3l7Yjj",
        "outputId": "aa06005b-cc97-4f4a-a4e6-f5fe3885b1cf"
      },
      "source": [
        "#Ejemplo Propio\n",
        "df2 = googl_table\n",
        "print(df2.Close.tail(5))\n",
        "print(df2['Adj. Volume'].tail(5))"
      ],
      "execution_count": 195,
      "outputs": [
        {
          "output_type": "stream",
          "name": "stdout",
          "text": [
            "Date\n",
            "2018-03-21    1094.00\n",
            "2018-03-22    1053.15\n",
            "2018-03-23    1026.55\n",
            "2018-03-26    1054.09\n",
            "2018-03-27    1006.94\n",
            "Name: Close, dtype: float64\n",
            "Date\n",
            "2018-03-21    1990515.0\n",
            "2018-03-22    3418154.0\n",
            "2018-03-23    2413517.0\n",
            "2018-03-26    3272409.0\n",
            "2018-03-27    2940957.0\n",
            "Name: Adj. Volume, dtype: float64\n"
          ]
        }
      ]
    },
    {
      "cell_type": "markdown",
      "metadata": {
        "id": "FGYFx67B86ad"
      },
      "source": [
        "* #### *Resampling:*"
      ]
    },
    {
      "cell_type": "code",
      "metadata": {
        "colab": {
          "base_uri": "https://localhost:8080/"
        },
        "id": "LhP-K0-s86uJ",
        "outputId": "a7ed617f-0d84-4943-93a3-d58c59668f57"
      },
      "source": [
        "#Ejemplo de QuantConnect\n",
        "aapl_2016 = df['2016']\n",
        "aapl_month = aapl_2016.resample('M').agg(lambda x: x[-1])\n",
        "print(aapl_month)"
      ],
      "execution_count": 196,
      "outputs": [
        {
          "output_type": "stream",
          "name": "stdout",
          "text": [
            "              Open      High     Low  ...    Adj. Low  Adj. Close  Adj. Volume\n",
            "Date                                  ...                                     \n",
            "2016-01-31   94.79   97.3400   94.35  ...   91.156128   94.044912   64416504.0\n",
            "2016-02-29   96.86   98.2300   96.65  ...   93.880927   93.919781   35216277.0\n",
            "2016-03-31  109.72  109.9000  108.88  ...  105.760531  105.867380   25888449.0\n",
            "2016-04-30   93.99   94.7200   92.51  ...   89.859540   91.054300   68531478.0\n",
            "2016-05-31   99.60  100.4000   98.82  ...   96.575559   97.591939   42307212.0\n",
            "2016-06-30   94.44   95.7700   94.30  ...   92.158220   93.428693   35836356.0\n",
            "2016-07-31  104.19  104.5500  103.68  ...  101.325177  101.843140   27733688.0\n",
            "2016-08-31  105.66  106.5699  105.64  ...  103.796505  104.248477   29662406.0\n",
            "2016-09-30  112.46  113.3700  111.80  ...  109.849008  111.077195   36379106.0\n",
            "2016-10-31  113.65  114.2300  113.20  ...  111.224577  111.558644   26419398.0\n",
            "2016-11-30  111.56  112.2000  110.27  ...  108.908004  109.154917   36162258.0\n",
            "2016-12-31  116.65  117.2000  115.43  ...  114.004271  114.389454   30586265.0\n",
            "\n",
            "[12 rows x 12 columns]\n"
          ]
        }
      ]
    },
    {
      "cell_type": "code",
      "metadata": {
        "colab": {
          "base_uri": "https://localhost:8080/"
        },
        "id": "mqNfpL1G87BW",
        "outputId": "ab3ea7b0-0926-446c-99d4-d0987fb49be0"
      },
      "source": [
        "#Ejemplo Propio\n",
        "googl_2012 = df2['2012']\n",
        "googl_month = googl_2012.resample('M').agg(lambda x: x[-1])\n",
        "print(googl_month)"
      ],
      "execution_count": 197,
      "outputs": [
        {
          "output_type": "stream",
          "name": "stdout",
          "text": [
            "              Open     High     Low  ...    Adj. Low  Adj. Close  Adj. Volume\n",
            "Date                                 ...                                     \n",
            "2012-01-31  583.00  584.000  575.15  ...  288.465465  290.953144    4280500.0\n",
            "2012-02-29  618.60  625.600  615.50  ...  308.702936  310.082194    6267500.0\n",
            "2012-03-31  651.75  653.490  641.00  ...  321.492416  321.612788    4616700.0\n",
            "2012-04-30  612.99  616.082  600.61  ...  301.234883  303.361448    4809700.0\n",
            "2012-05-31  588.72  590.000  579.00  ...  290.396426  291.329306    5930600.0\n",
            "2012-06-30  574.96  580.130  572.20  ...  286.985898  290.933083    5033900.0\n",
            "2012-07-31  628.26  636.500  628.22  ...  315.082630  317.464984    3727400.0\n",
            "2012-08-31  684.00  688.580  680.04  ...  341.072859  343.605678    4249900.0\n",
            "2012-09-30  754.15  759.300  751.15  ...  376.737954  378.418141    5561400.0\n",
            "2012-10-31  679.86  681.000  675.00  ...  338.545056  341.202058    3070900.0\n",
            "2012-11-30  691.31  699.220  685.69  ...  343.906607  350.266238    6320800.0\n",
            "2012-12-31  700.00  710.570  696.00  ...  349.077569  354.785188    3990800.0\n",
            "\n",
            "[12 rows x 12 columns]\n"
          ]
        }
      ]
    },
    {
      "cell_type": "markdown",
      "metadata": {
        "id": "gi96KSa49EDa"
      },
      "source": [
        "* #### *Select columns by name:*"
      ]
    },
    {
      "cell_type": "code",
      "metadata": {
        "colab": {
          "base_uri": "https://localhost:8080/"
        },
        "id": "jNNTPeBm9Phf",
        "outputId": "c57bfa94-1755-4a88-a356-757105fe129a"
      },
      "source": [
        "#Ejemplo de QuantConnect\n",
        "aapl_bar = aapl_month[['Open', 'High', 'Low', 'Close']]\n",
        "print(aapl_bar)"
      ],
      "execution_count": 198,
      "outputs": [
        {
          "output_type": "stream",
          "name": "stdout",
          "text": [
            "              Open      High     Low   Close\n",
            "Date                                        \n",
            "2016-01-31   94.79   97.3400   94.35   97.34\n",
            "2016-02-29   96.86   98.2300   96.65   96.69\n",
            "2016-03-31  109.72  109.9000  108.88  108.99\n",
            "2016-04-30   93.99   94.7200   92.51   93.74\n",
            "2016-05-31   99.60  100.4000   98.82   99.86\n",
            "2016-06-30   94.44   95.7700   94.30   95.60\n",
            "2016-07-31  104.19  104.5500  103.68  104.21\n",
            "2016-08-31  105.66  106.5699  105.64  106.10\n",
            "2016-09-30  112.46  113.3700  111.80  113.05\n",
            "2016-10-31  113.65  114.2300  113.20  113.54\n",
            "2016-11-30  111.56  112.2000  110.27  110.52\n",
            "2016-12-31  116.65  117.2000  115.43  115.82\n"
          ]
        }
      ]
    },
    {
      "cell_type": "code",
      "metadata": {
        "colab": {
          "base_uri": "https://localhost:8080/"
        },
        "id": "Ck5Zv6ka9Pws",
        "outputId": "c7d6d3cd-f1c5-4d50-d65c-d3f88d35ca25"
      },
      "source": [
        "#Ejemplo Propio\n",
        "googl_bar = googl_month[['High', 'Low', 'Close', 'Adj. Volume']]\n",
        "print(googl_bar)"
      ],
      "execution_count": 199,
      "outputs": [
        {
          "output_type": "stream",
          "name": "stdout",
          "text": [
            "               High     Low     Close  Adj. Volume\n",
            "Date                                              \n",
            "2012-01-31  584.000  575.15  580.1100    4280500.0\n",
            "2012-02-29  625.600  615.50  618.2500    6267500.0\n",
            "2012-03-31  653.490  641.00  641.2400    4616700.0\n",
            "2012-04-30  616.082  600.61  604.8500    4809700.0\n",
            "2012-05-31  590.000  579.00  580.8600    5930600.0\n",
            "2012-06-30  580.130  572.20  580.0700    5033900.0\n",
            "2012-07-31  636.500  628.22  632.9700    3727400.0\n",
            "2012-08-31  688.580  680.04  685.0900    4249900.0\n",
            "2012-09-30  759.300  751.15  754.5000    5561400.0\n",
            "2012-10-31  681.000  675.00  680.2976    3070900.0\n",
            "2012-11-30  699.220  685.69  698.3700    6320800.0\n",
            "2012-12-31  710.570  696.00  707.3800    3990800.0\n"
          ]
        }
      ]
    },
    {
      "cell_type": "markdown",
      "metadata": {
        "id": "RMSowKP89QCZ"
      },
      "source": [
        "* #### *Specify columns and rows using loc[]:*"
      ]
    },
    {
      "cell_type": "code",
      "metadata": {
        "colab": {
          "base_uri": "https://localhost:8080/"
        },
        "id": "y-xZjdzI9WDG",
        "outputId": "0c47dd1b-1ec6-4c68-ec84-7a99da890ff4"
      },
      "source": [
        "#Ejemplo de QuantConnect\n",
        "print(aapl_month.loc['2016-03':'2016-06', ['Open', 'High', 'Low', 'Close']])"
      ],
      "execution_count": 200,
      "outputs": [
        {
          "output_type": "stream",
          "name": "stdout",
          "text": [
            "              Open    High     Low   Close\n",
            "Date                                      \n",
            "2016-03-31  109.72  109.90  108.88  108.99\n",
            "2016-04-30   93.99   94.72   92.51   93.74\n",
            "2016-05-31   99.60  100.40   98.82   99.86\n",
            "2016-06-30   94.44   95.77   94.30   95.60\n"
          ]
        }
      ]
    },
    {
      "cell_type": "code",
      "metadata": {
        "colab": {
          "base_uri": "https://localhost:8080/"
        },
        "id": "fbgyFbeb9WVs",
        "outputId": "84df6a8c-8591-4b6c-81f9-31544d5ba40f"
      },
      "source": [
        "#Ejemplo Propio\n",
        "print(googl_month.loc['2012-05':'2012-12', ['High', 'Low', 'Close', 'Adj. Volume']])"
      ],
      "execution_count": 201,
      "outputs": [
        {
          "output_type": "stream",
          "name": "stdout",
          "text": [
            "              High     Low     Close  Adj. Volume\n",
            "Date                                             \n",
            "2012-05-31  590.00  579.00  580.8600    5930600.0\n",
            "2012-06-30  580.13  572.20  580.0700    5033900.0\n",
            "2012-07-31  636.50  628.22  632.9700    3727400.0\n",
            "2012-08-31  688.58  680.04  685.0900    4249900.0\n",
            "2012-09-30  759.30  751.15  754.5000    5561400.0\n",
            "2012-10-31  681.00  675.00  680.2976    3070900.0\n",
            "2012-11-30  699.22  685.69  698.3700    6320800.0\n",
            "2012-12-31  710.57  696.00  707.3800    3990800.0\n"
          ]
        }
      ]
    },
    {
      "cell_type": "markdown",
      "metadata": {
        "id": "ifKAvvB79Wtx"
      },
      "source": [
        "* #### *Making customized subsets:*"
      ]
    },
    {
      "cell_type": "code",
      "metadata": {
        "colab": {
          "base_uri": "https://localhost:8080/"
        },
        "id": "WHGslhwx9d4L",
        "outputId": "8a1620da-2225-45d5-afb5-e752c9a8f155"
      },
      "source": [
        "#Ejemplo de QuantConnect\n",
        "import numpy as np\n",
        "above = aapl_bar[aapl_bar.Close > np.mean(aapl_bar.Close)]\n",
        "print(above)"
      ],
      "execution_count": 202,
      "outputs": [
        {
          "output_type": "stream",
          "name": "stdout",
          "text": [
            "              Open      High     Low   Close\n",
            "Date                                        \n",
            "2016-03-31  109.72  109.9000  108.88  108.99\n",
            "2016-08-31  105.66  106.5699  105.64  106.10\n",
            "2016-09-30  112.46  113.3700  111.80  113.05\n",
            "2016-10-31  113.65  114.2300  113.20  113.54\n",
            "2016-11-30  111.56  112.2000  110.27  110.52\n",
            "2016-12-31  116.65  117.2000  115.43  115.82\n"
          ]
        }
      ]
    },
    {
      "cell_type": "code",
      "metadata": {
        "colab": {
          "base_uri": "https://localhost:8080/"
        },
        "id": "HegYtWrf9eIF",
        "outputId": "ae6938ce-cfaf-48db-883f-4ead46e33b15"
      },
      "source": [
        "#Ejemplo Propio\n",
        "import numpy as np\n",
        "over = googl_bar[googl_bar.High < np.mean(googl_bar.High)]\n",
        "print(over)"
      ],
      "execution_count": 203,
      "outputs": [
        {
          "output_type": "stream",
          "name": "stdout",
          "text": [
            "               High     Low   Close  Adj. Volume\n",
            "Date                                            \n",
            "2012-01-31  584.000  575.15  580.11    4280500.0\n",
            "2012-02-29  625.600  615.50  618.25    6267500.0\n",
            "2012-04-30  616.082  600.61  604.85    4809700.0\n",
            "2012-05-31  590.000  579.00  580.86    5930600.0\n",
            "2012-06-30  580.130  572.20  580.07    5033900.0\n",
            "2012-07-31  636.500  628.22  632.97    3727400.0\n"
          ]
        }
      ]
    },
    {
      "cell_type": "markdown",
      "metadata": {
        "id": "9o_qbLaO9ech"
      },
      "source": [
        "### Data Validation:"
      ]
    },
    {
      "cell_type": "markdown",
      "metadata": {
        "id": "iN0VaQ5U9jZU"
      },
      "source": [
        "* #### *Add a new column:*"
      ]
    },
    {
      "cell_type": "code",
      "metadata": {
        "colab": {
          "base_uri": "https://localhost:8080/"
        },
        "id": "cM9Jj7vQ9tDY",
        "outputId": "d5081ff6-cf6c-4932-9f49-21b75e3ecccb"
      },
      "source": [
        "#Ejemplo de QuantConnect\n",
        "aapl_bar['rate_return'] = aapl_bar.Close.pct_change()\n",
        "print(aapl_bar)"
      ],
      "execution_count": 204,
      "outputs": [
        {
          "output_type": "stream",
          "name": "stdout",
          "text": [
            "              Open      High     Low   Close  rate_return\n",
            "Date                                                     \n",
            "2016-01-31   94.79   97.3400   94.35   97.34          NaN\n",
            "2016-02-29   96.86   98.2300   96.65   96.69    -0.006678\n",
            "2016-03-31  109.72  109.9000  108.88  108.99     0.127211\n",
            "2016-04-30   93.99   94.7200   92.51   93.74    -0.139921\n",
            "2016-05-31   99.60  100.4000   98.82   99.86     0.065287\n",
            "2016-06-30   94.44   95.7700   94.30   95.60    -0.042660\n",
            "2016-07-31  104.19  104.5500  103.68  104.21     0.090063\n",
            "2016-08-31  105.66  106.5699  105.64  106.10     0.018136\n",
            "2016-09-30  112.46  113.3700  111.80  113.05     0.065504\n",
            "2016-10-31  113.65  114.2300  113.20  113.54     0.004334\n",
            "2016-11-30  111.56  112.2000  110.27  110.52    -0.026599\n",
            "2016-12-31  116.65  117.2000  115.43  115.82     0.047955\n"
          ]
        },
        {
          "output_type": "stream",
          "name": "stderr",
          "text": [
            "/usr/local/lib/python3.7/dist-packages/ipykernel_launcher.py:2: SettingWithCopyWarning: \n",
            "A value is trying to be set on a copy of a slice from a DataFrame.\n",
            "Try using .loc[row_indexer,col_indexer] = value instead\n",
            "\n",
            "See the caveats in the documentation: https://pandas.pydata.org/pandas-docs/stable/user_guide/indexing.html#returning-a-view-versus-a-copy\n",
            "  \n"
          ]
        }
      ]
    },
    {
      "cell_type": "code",
      "metadata": {
        "colab": {
          "base_uri": "https://localhost:8080/"
        },
        "id": "f3OcrzEI9tR1",
        "outputId": "54b8b524-6ab6-441b-d312-f9e887b169d1"
      },
      "source": [
        "#Ejemplo Propio\n",
        "googl_bar['h_rate_return'] = googl_bar.High.pct_change()\n",
        "print(googl_bar)"
      ],
      "execution_count": 205,
      "outputs": [
        {
          "output_type": "stream",
          "name": "stdout",
          "text": [
            "               High     Low     Close  Adj. Volume  h_rate_return\n",
            "Date                                                             \n",
            "2012-01-31  584.000  575.15  580.1100    4280500.0            NaN\n",
            "2012-02-29  625.600  615.50  618.2500    6267500.0       0.071233\n",
            "2012-03-31  653.490  641.00  641.2400    4616700.0       0.044581\n",
            "2012-04-30  616.082  600.61  604.8500    4809700.0      -0.057243\n",
            "2012-05-31  590.000  579.00  580.8600    5930600.0      -0.042335\n",
            "2012-06-30  580.130  572.20  580.0700    5033900.0      -0.016729\n",
            "2012-07-31  636.500  628.22  632.9700    3727400.0       0.097168\n",
            "2012-08-31  688.580  680.04  685.0900    4249900.0       0.081822\n",
            "2012-09-30  759.300  751.15  754.5000    5561400.0       0.102704\n",
            "2012-10-31  681.000  675.00  680.2976    3070900.0      -0.103121\n",
            "2012-11-30  699.220  685.69  698.3700    6320800.0       0.026755\n",
            "2012-12-31  710.570  696.00  707.3800    3990800.0       0.016232\n"
          ]
        },
        {
          "output_type": "stream",
          "name": "stderr",
          "text": [
            "/usr/local/lib/python3.7/dist-packages/ipykernel_launcher.py:2: SettingWithCopyWarning: \n",
            "A value is trying to be set on a copy of a slice from a DataFrame.\n",
            "Try using .loc[row_indexer,col_indexer] = value instead\n",
            "\n",
            "See the caveats in the documentation: https://pandas.pydata.org/pandas-docs/stable/user_guide/indexing.html#returning-a-view-versus-a-copy\n",
            "  \n"
          ]
        }
      ]
    },
    {
      "cell_type": "markdown",
      "metadata": {
        "id": "tiz-3fkM9tky"
      },
      "source": [
        "* #### *Check abnormal values:*"
      ]
    },
    {
      "cell_type": "code",
      "metadata": {
        "colab": {
          "base_uri": "https://localhost:8080/"
        },
        "id": "gp37O9hJ92xh",
        "outputId": "fe153c14-6576-4c58-a6cc-ad743e187155"
      },
      "source": [
        "#Ejemplo de QuantConnect\n",
        "missing = aapl_bar.isnull()\n",
        "print(missing)\n",
        "print('---------------------------------------------')\n",
        "print(missing.describe())"
      ],
      "execution_count": 206,
      "outputs": [
        {
          "output_type": "stream",
          "name": "stdout",
          "text": [
            "             Open   High    Low  Close  rate_return\n",
            "Date                                               \n",
            "2016-01-31  False  False  False  False         True\n",
            "2016-02-29  False  False  False  False        False\n",
            "2016-03-31  False  False  False  False        False\n",
            "2016-04-30  False  False  False  False        False\n",
            "2016-05-31  False  False  False  False        False\n",
            "2016-06-30  False  False  False  False        False\n",
            "2016-07-31  False  False  False  False        False\n",
            "2016-08-31  False  False  False  False        False\n",
            "2016-09-30  False  False  False  False        False\n",
            "2016-10-31  False  False  False  False        False\n",
            "2016-11-30  False  False  False  False        False\n",
            "2016-12-31  False  False  False  False        False\n",
            "---------------------------------------------\n",
            "         Open   High    Low  Close rate_return\n",
            "count      12     12     12     12          12\n",
            "unique      1      1      1      1           2\n",
            "top     False  False  False  False       False\n",
            "freq       12     12     12     12          11\n"
          ]
        }
      ]
    },
    {
      "cell_type": "code",
      "metadata": {
        "colab": {
          "base_uri": "https://localhost:8080/"
        },
        "id": "akPDtmia93LN",
        "outputId": "bbe5c102-6e75-41c9-a22c-72c7e20221e9"
      },
      "source": [
        "#Ejemplo Propio\n",
        "no_encontrado = googl_bar.isnull()\n",
        "print(no_encontrado)\n",
        "print('---------------------------------------------')\n",
        "print(no_encontrado.describe())"
      ],
      "execution_count": 207,
      "outputs": [
        {
          "output_type": "stream",
          "name": "stdout",
          "text": [
            "             High    Low  Close  Adj. Volume  h_rate_return\n",
            "Date                                                       \n",
            "2012-01-31  False  False  False        False           True\n",
            "2012-02-29  False  False  False        False          False\n",
            "2012-03-31  False  False  False        False          False\n",
            "2012-04-30  False  False  False        False          False\n",
            "2012-05-31  False  False  False        False          False\n",
            "2012-06-30  False  False  False        False          False\n",
            "2012-07-31  False  False  False        False          False\n",
            "2012-08-31  False  False  False        False          False\n",
            "2012-09-30  False  False  False        False          False\n",
            "2012-10-31  False  False  False        False          False\n",
            "2012-11-30  False  False  False        False          False\n",
            "2012-12-31  False  False  False        False          False\n",
            "---------------------------------------------\n",
            "         High    Low  Close Adj. Volume h_rate_return\n",
            "count      12     12     12          12            12\n",
            "unique      1      1      1           1             2\n",
            "top     False  False  False       False         False\n",
            "freq       12     12     12          12            11\n"
          ]
        }
      ]
    },
    {
      "cell_type": "markdown",
      "metadata": {
        "id": "H7UcS5X193ln"
      },
      "source": [
        "* #### *Find the rows with missing values:*"
      ]
    },
    {
      "cell_type": "code",
      "metadata": {
        "colab": {
          "base_uri": "https://localhost:8080/"
        },
        "id": "8rBJ63Wj9_TQ",
        "outputId": "e4377f52-3b28-4362-a8b7-38b5bb6df529"
      },
      "source": [
        "#Ejemplo de QuantConnect\n",
        "print(missing[missing.rate_return == True])"
      ],
      "execution_count": 208,
      "outputs": [
        {
          "output_type": "stream",
          "name": "stdout",
          "text": [
            "             Open   High    Low  Close  rate_return\n",
            "Date                                               \n",
            "2016-01-31  False  False  False  False         True\n"
          ]
        }
      ]
    },
    {
      "cell_type": "code",
      "metadata": {
        "colab": {
          "base_uri": "https://localhost:8080/"
        },
        "id": "dr1NBmC09_mZ",
        "outputId": "69b9b628-bcd2-4f98-b857-cf9e5f34971e"
      },
      "source": [
        "#Ejemplo Propio\n",
        "print(no_encontrado[no_encontrado.h_rate_return == True])"
      ],
      "execution_count": 209,
      "outputs": [
        {
          "output_type": "stream",
          "name": "stdout",
          "text": [
            "             High    Low  Close  Adj. Volume  h_rate_return\n",
            "Date                                                       \n",
            "2012-01-31  False  False  False        False           True\n"
          ]
        }
      ]
    },
    {
      "cell_type": "markdown",
      "metadata": {
        "id": "q-2l05Ho9_32"
      },
      "source": [
        "* #### *Drop and fill NaN values:*"
      ]
    },
    {
      "cell_type": "code",
      "metadata": {
        "colab": {
          "base_uri": "https://localhost:8080/"
        },
        "id": "0Z0M8z0H-Jck",
        "outputId": "eab04e7c-b1b4-4f76-fa00-392b0c989a37"
      },
      "source": [
        "#Ejemplo de QuantConnect\n",
        "drop = aapl_bar.dropna()\n",
        "print(drop)\n",
        "print('\\n--------------------------------------------------\\n')\n",
        "fill = aapl_bar.fillna(0)\n",
        "print(fill)"
      ],
      "execution_count": 210,
      "outputs": [
        {
          "output_type": "stream",
          "name": "stdout",
          "text": [
            "              Open      High     Low   Close  rate_return\n",
            "Date                                                     \n",
            "2016-02-29   96.86   98.2300   96.65   96.69    -0.006678\n",
            "2016-03-31  109.72  109.9000  108.88  108.99     0.127211\n",
            "2016-04-30   93.99   94.7200   92.51   93.74    -0.139921\n",
            "2016-05-31   99.60  100.4000   98.82   99.86     0.065287\n",
            "2016-06-30   94.44   95.7700   94.30   95.60    -0.042660\n",
            "2016-07-31  104.19  104.5500  103.68  104.21     0.090063\n",
            "2016-08-31  105.66  106.5699  105.64  106.10     0.018136\n",
            "2016-09-30  112.46  113.3700  111.80  113.05     0.065504\n",
            "2016-10-31  113.65  114.2300  113.20  113.54     0.004334\n",
            "2016-11-30  111.56  112.2000  110.27  110.52    -0.026599\n",
            "2016-12-31  116.65  117.2000  115.43  115.82     0.047955\n",
            "\n",
            "--------------------------------------------------\n",
            "\n",
            "              Open      High     Low   Close  rate_return\n",
            "Date                                                     \n",
            "2016-01-31   94.79   97.3400   94.35   97.34     0.000000\n",
            "2016-02-29   96.86   98.2300   96.65   96.69    -0.006678\n",
            "2016-03-31  109.72  109.9000  108.88  108.99     0.127211\n",
            "2016-04-30   93.99   94.7200   92.51   93.74    -0.139921\n",
            "2016-05-31   99.60  100.4000   98.82   99.86     0.065287\n",
            "2016-06-30   94.44   95.7700   94.30   95.60    -0.042660\n",
            "2016-07-31  104.19  104.5500  103.68  104.21     0.090063\n",
            "2016-08-31  105.66  106.5699  105.64  106.10     0.018136\n",
            "2016-09-30  112.46  113.3700  111.80  113.05     0.065504\n",
            "2016-10-31  113.65  114.2300  113.20  113.54     0.004334\n",
            "2016-11-30  111.56  112.2000  110.27  110.52    -0.026599\n",
            "2016-12-31  116.65  117.2000  115.43  115.82     0.047955\n"
          ]
        }
      ]
    },
    {
      "cell_type": "code",
      "metadata": {
        "colab": {
          "base_uri": "https://localhost:8080/"
        },
        "id": "nQpwoF9o-J1H",
        "outputId": "de3c9a15-ed24-4a29-9f69-04c1f572991a"
      },
      "source": [
        "#Ejemplo Propio\n",
        "drop2 = googl_bar.dropna()\n",
        "print(drop2)\n",
        "print('\\n--------------------------------------------------\\n')\n",
        "fill2 = googl_bar.fillna(0)\n",
        "print(fill2)"
      ],
      "execution_count": 211,
      "outputs": [
        {
          "output_type": "stream",
          "name": "stdout",
          "text": [
            "               High     Low     Close  Adj. Volume  h_rate_return\n",
            "Date                                                             \n",
            "2012-02-29  625.600  615.50  618.2500    6267500.0       0.071233\n",
            "2012-03-31  653.490  641.00  641.2400    4616700.0       0.044581\n",
            "2012-04-30  616.082  600.61  604.8500    4809700.0      -0.057243\n",
            "2012-05-31  590.000  579.00  580.8600    5930600.0      -0.042335\n",
            "2012-06-30  580.130  572.20  580.0700    5033900.0      -0.016729\n",
            "2012-07-31  636.500  628.22  632.9700    3727400.0       0.097168\n",
            "2012-08-31  688.580  680.04  685.0900    4249900.0       0.081822\n",
            "2012-09-30  759.300  751.15  754.5000    5561400.0       0.102704\n",
            "2012-10-31  681.000  675.00  680.2976    3070900.0      -0.103121\n",
            "2012-11-30  699.220  685.69  698.3700    6320800.0       0.026755\n",
            "2012-12-31  710.570  696.00  707.3800    3990800.0       0.016232\n",
            "\n",
            "--------------------------------------------------\n",
            "\n",
            "               High     Low     Close  Adj. Volume  h_rate_return\n",
            "Date                                                             \n",
            "2012-01-31  584.000  575.15  580.1100    4280500.0       0.000000\n",
            "2012-02-29  625.600  615.50  618.2500    6267500.0       0.071233\n",
            "2012-03-31  653.490  641.00  641.2400    4616700.0       0.044581\n",
            "2012-04-30  616.082  600.61  604.8500    4809700.0      -0.057243\n",
            "2012-05-31  590.000  579.00  580.8600    5930600.0      -0.042335\n",
            "2012-06-30  580.130  572.20  580.0700    5033900.0      -0.016729\n",
            "2012-07-31  636.500  628.22  632.9700    3727400.0       0.097168\n",
            "2012-08-31  688.580  680.04  685.0900    4249900.0       0.081822\n",
            "2012-09-30  759.300  751.15  754.5000    5561400.0       0.102704\n",
            "2012-10-31  681.000  675.00  680.2976    3070900.0      -0.103121\n",
            "2012-11-30  699.220  685.69  698.3700    6320800.0       0.026755\n",
            "2012-12-31  710.570  696.00  707.3800    3990800.0       0.016232\n"
          ]
        }
      ]
    },
    {
      "cell_type": "markdown",
      "metadata": {
        "id": "ctLOX_aR-KLr"
      },
      "source": [
        "### DataFrame Concat:"
      ]
    },
    {
      "cell_type": "markdown",
      "metadata": {
        "id": "AIo1pYT1-PE7"
      },
      "source": [
        "* #### *Merge multiple Series to a DataFrame:*"
      ]
    },
    {
      "cell_type": "code",
      "metadata": {
        "colab": {
          "base_uri": "https://localhost:8080/"
        },
        "id": "XFSIiY-k-VtC",
        "outputId": "86b75b68-8523-4371-9fae-eb7e09af638a"
      },
      "source": [
        "#Ejemplo de QuantConnect\n",
        "s1 = pd.Series([143.5, 144.09, 142.73, 144.18, 143.77], name = 'AAPL')\n",
        "s2 = pd.Series([898.7, 911.71, 906.69, 918.59, 926.99], name = 'GOOG')\n",
        "data_frame = pd.concat([s1, s2], axis = 1)\n",
        "print(data_frame)"
      ],
      "execution_count": 212,
      "outputs": [
        {
          "output_type": "stream",
          "name": "stdout",
          "text": [
            "     AAPL    GOOG\n",
            "0  143.50  898.70\n",
            "1  144.09  911.71\n",
            "2  142.73  906.69\n",
            "3  144.18  918.59\n",
            "4  143.77  926.99\n"
          ]
        }
      ]
    },
    {
      "cell_type": "code",
      "metadata": {
        "colab": {
          "base_uri": "https://localhost:8080/"
        },
        "id": "zhvZ1zsG-V9K",
        "outputId": "2aa3ca38-0516-42f1-fada-6fb95d23433e"
      },
      "source": [
        "#Ejemplo Propio\n",
        "serie1 = pd.Series([3.5, 5.0, 4.8, 4.5, 2.8, 3.9, 4.1, 4.4], name = 'Estudiante1')\n",
        "serie2 = pd.Series([5.0, 2.5, 4.9, 4.7, 4.6, 4.3, 2.0, 5.0], name = 'Estudiante2')\n",
        "serie3 = pd.Series([2.9, 3.0, 2.8, 3.3, 2.1, 4.0, 3.9, 5.0], name = 'Estudiante3')\n",
        "nuevo_data_frame = pd.concat([serie1, serie2, serie3], axis = 1)\n",
        "print(nuevo_data_frame)"
      ],
      "execution_count": 213,
      "outputs": [
        {
          "output_type": "stream",
          "name": "stdout",
          "text": [
            "   Estudiante1  Estudiante2  Estudiante3\n",
            "0          3.5          5.0          2.9\n",
            "1          5.0          2.5          3.0\n",
            "2          4.8          4.9          2.8\n",
            "3          4.5          4.7          3.3\n",
            "4          2.8          4.6          2.1\n",
            "5          3.9          4.3          4.0\n",
            "6          4.1          2.0          3.9\n",
            "7          4.4          5.0          5.0\n"
          ]
        }
      ]
    },
    {
      "cell_type": "markdown",
      "metadata": {
        "id": "QxRq5NdF-WTK"
      },
      "source": [
        "* #### *Join two DataFrames by columns:*"
      ]
    },
    {
      "cell_type": "code",
      "metadata": {
        "colab": {
          "base_uri": "https://localhost:8080/"
        },
        "id": "B5fMFPPW-cba",
        "outputId": "a244a41d-4d76-4e64-9d90-eca9e1e48288"
      },
      "source": [
        "#Ejemplo de QuantConnect\n",
        "log_price = np.log(aapl_bar.Close)\n",
        "log_price.name = 'log_price'\n",
        "print(log_price)\n",
        "print('\\n--------------------------------------------\\n')\n",
        "concat = pd.concat([aapl_bar, log_price], axis = 1)\n",
        "print(concat)"
      ],
      "execution_count": 214,
      "outputs": [
        {
          "output_type": "stream",
          "name": "stdout",
          "text": [
            "Date\n",
            "2016-01-31    4.578210\n",
            "2016-02-29    4.571510\n",
            "2016-03-31    4.691256\n",
            "2016-04-30    4.540525\n",
            "2016-05-31    4.603769\n",
            "2016-06-30    4.560173\n",
            "2016-07-31    4.646408\n",
            "2016-08-31    4.664382\n",
            "2016-09-30    4.727830\n",
            "2016-10-31    4.732155\n",
            "2016-11-30    4.705197\n",
            "2016-12-31    4.752037\n",
            "Freq: M, Name: log_price, dtype: float64\n",
            "\n",
            "--------------------------------------------\n",
            "\n",
            "              Open      High     Low   Close  rate_return  log_price\n",
            "Date                                                                \n",
            "2016-01-31   94.79   97.3400   94.35   97.34          NaN   4.578210\n",
            "2016-02-29   96.86   98.2300   96.65   96.69    -0.006678   4.571510\n",
            "2016-03-31  109.72  109.9000  108.88  108.99     0.127211   4.691256\n",
            "2016-04-30   93.99   94.7200   92.51   93.74    -0.139921   4.540525\n",
            "2016-05-31   99.60  100.4000   98.82   99.86     0.065287   4.603769\n",
            "2016-06-30   94.44   95.7700   94.30   95.60    -0.042660   4.560173\n",
            "2016-07-31  104.19  104.5500  103.68  104.21     0.090063   4.646408\n",
            "2016-08-31  105.66  106.5699  105.64  106.10     0.018136   4.664382\n",
            "2016-09-30  112.46  113.3700  111.80  113.05     0.065504   4.727830\n",
            "2016-10-31  113.65  114.2300  113.20  113.54     0.004334   4.732155\n",
            "2016-11-30  111.56  112.2000  110.27  110.52    -0.026599   4.705197\n",
            "2016-12-31  116.65  117.2000  115.43  115.82     0.047955   4.752037\n"
          ]
        }
      ]
    },
    {
      "cell_type": "code",
      "metadata": {
        "colab": {
          "base_uri": "https://localhost:8080/"
        },
        "id": "ZXiGPFFf-cpx",
        "outputId": "fbd68467-c658-459b-fa04-ddd715ddceab"
      },
      "source": [
        "#Ejemplo Propio\n",
        "log_high = np.log(googl_bar.High)\n",
        "log_high.name = 'log_high'\n",
        "print(log_high)\n",
        "print('\\n--------------------------------------------\\n')\n",
        "concatenado = pd.concat([googl_bar, log_high], axis = 1)\n",
        "print(concatenado)"
      ],
      "execution_count": 215,
      "outputs": [
        {
          "output_type": "stream",
          "name": "stdout",
          "text": [
            "Date\n",
            "2012-01-31    6.369901\n",
            "2012-02-29    6.438711\n",
            "2012-03-31    6.482327\n",
            "2012-04-30    6.423380\n",
            "2012-05-31    6.380123\n",
            "2012-06-30    6.363252\n",
            "2012-07-31    6.455984\n",
            "2012-08-31    6.534632\n",
            "2012-09-30    6.632397\n",
            "2012-10-31    6.523562\n",
            "2012-11-30    6.549965\n",
            "2012-12-31    6.566067\n",
            "Freq: M, Name: log_high, dtype: float64\n",
            "\n",
            "--------------------------------------------\n",
            "\n",
            "               High     Low     Close  Adj. Volume  h_rate_return  log_high\n",
            "Date                                                                       \n",
            "2012-01-31  584.000  575.15  580.1100    4280500.0            NaN  6.369901\n",
            "2012-02-29  625.600  615.50  618.2500    6267500.0       0.071233  6.438711\n",
            "2012-03-31  653.490  641.00  641.2400    4616700.0       0.044581  6.482327\n",
            "2012-04-30  616.082  600.61  604.8500    4809700.0      -0.057243  6.423380\n",
            "2012-05-31  590.000  579.00  580.8600    5930600.0      -0.042335  6.380123\n",
            "2012-06-30  580.130  572.20  580.0700    5033900.0      -0.016729  6.363252\n",
            "2012-07-31  636.500  628.22  632.9700    3727400.0       0.097168  6.455984\n",
            "2012-08-31  688.580  680.04  685.0900    4249900.0       0.081822  6.534632\n",
            "2012-09-30  759.300  751.15  754.5000    5561400.0       0.102704  6.632397\n",
            "2012-10-31  681.000  675.00  680.2976    3070900.0      -0.103121  6.523562\n",
            "2012-11-30  699.220  685.69  698.3700    6320800.0       0.026755  6.549965\n",
            "2012-12-31  710.570  696.00  707.3800    3990800.0       0.016232  6.566067\n"
          ]
        }
      ]
    },
    {
      "cell_type": "markdown",
      "metadata": {
        "id": "Xc9EWol9-dBC"
      },
      "source": [
        "* #### *Consider two DataFrames:*"
      ]
    },
    {
      "cell_type": "code",
      "metadata": {
        "colab": {
          "base_uri": "https://localhost:8080/"
        },
        "id": "cJUj-TnR-jOM",
        "outputId": "69947a7f-008f-4fe1-c6bb-732676669d26"
      },
      "source": [
        "#Ejemplo de QuantConnect\n",
        "df_volume = aapl_table.loc['2016-10':'2017-04', ['Volume', 'Split Ratio']].resample('M').agg(lambda x: x[-1])\n",
        "print(df_volume)\n",
        "print('\\n-------------------------------------------\\n')\n",
        "df_2017 = aapl_table.loc['2016-10':'2017-04', ['Open', 'High', 'Low', 'Close']].resample('M').agg(lambda x: x[-1])\n",
        "print(df_2017)"
      ],
      "execution_count": 216,
      "outputs": [
        {
          "output_type": "stream",
          "name": "stdout",
          "text": [
            "                Volume  Split Ratio\n",
            "Date                               \n",
            "2016-10-31  26419398.0          1.0\n",
            "2016-11-30  36162258.0          1.0\n",
            "2016-12-31  30586265.0          1.0\n",
            "2017-01-31  49200993.0          1.0\n",
            "2017-02-28  23482860.0          1.0\n",
            "2017-03-31  19661651.0          1.0\n",
            "2017-04-30  20247187.0          1.0\n",
            "\n",
            "-------------------------------------------\n",
            "\n",
            "              Open     High     Low   Close\n",
            "Date                                       \n",
            "2016-10-31  113.65  114.230  113.20  113.54\n",
            "2016-11-30  111.56  112.200  110.27  110.52\n",
            "2016-12-31  116.65  117.200  115.43  115.82\n",
            "2017-01-31  121.15  121.390  120.62  121.35\n",
            "2017-02-28  137.08  137.435  136.70  136.99\n",
            "2017-03-31  143.72  144.270  143.01  143.66\n",
            "2017-04-30  144.09  144.300  143.27  143.65\n"
          ]
        }
      ]
    },
    {
      "cell_type": "code",
      "metadata": {
        "colab": {
          "base_uri": "https://localhost:8080/"
        },
        "id": "zdGAudZl-jck",
        "outputId": "212499d2-bec4-45a0-a26f-a18f8ee196e4"
      },
      "source": [
        "#Ejemplo Propio\n",
        "df2_volume = googl_table.loc['2011-10':'2012-04', ['Volume', 'Split Ratio']].resample('M').agg(lambda x: x[-1])\n",
        "print(df2_volume)\n",
        "print('\\n-------------------------------------------\\n')\n",
        "df2_2012 = googl_table.loc['2011-10':'2012-04', ['High', 'Low', 'Close', 'Adj. Volume']].resample('M').agg(lambda x: x[-1])\n",
        "print(df2_2012)"
      ],
      "execution_count": 217,
      "outputs": [
        {
          "output_type": "stream",
          "name": "stdout",
          "text": [
            "               Volume  Split Ratio\n",
            "Date                              \n",
            "2011-10-31  5110400.0          1.0\n",
            "2011-11-30  6787200.0          1.0\n",
            "2011-12-31  3561000.0          1.0\n",
            "2012-01-31  4280500.0          1.0\n",
            "2012-02-29  6267500.0          1.0\n",
            "2012-03-31  4616700.0          1.0\n",
            "2012-04-30  4809700.0          1.0\n",
            "\n",
            "-------------------------------------------\n",
            "\n",
            "               High     Low   Close  Adj. Volume\n",
            "Date                                            \n",
            "2011-10-31  599.690  591.67  592.64    5110400.0\n",
            "2011-11-30  599.510  592.09  599.39    6787200.0\n",
            "2011-12-31  646.760  642.02  645.90    3561000.0\n",
            "2012-01-31  584.000  575.15  580.11    4280500.0\n",
            "2012-02-29  625.600  615.50  618.25    6267500.0\n",
            "2012-03-31  653.490  641.00  641.24    4616700.0\n",
            "2012-04-30  616.082  600.61  604.85    4809700.0\n"
          ]
        }
      ]
    },
    {
      "cell_type": "markdown",
      "metadata": {
        "id": "YXajhLMO-jvV"
      },
      "source": [
        "* #### *Merge DataFrames by rows:*"
      ]
    },
    {
      "cell_type": "code",
      "metadata": {
        "colab": {
          "base_uri": "https://localhost:8080/"
        },
        "id": "Xr1ViBGF_YPc",
        "outputId": "c81bb499-bf30-4603-ee6c-a66ac8e4b3f9"
      },
      "source": [
        "#Ejemplo de QuantConnect\n",
        "concat = pd.concat([aapl_bar, df_volume], axis = 1)\n",
        "print(concat)"
      ],
      "execution_count": 218,
      "outputs": [
        {
          "output_type": "stream",
          "name": "stdout",
          "text": [
            "              Open      High     Low  ...  rate_return      Volume  Split Ratio\n",
            "Date                                  ...                                      \n",
            "2016-01-31   94.79   97.3400   94.35  ...          NaN         NaN          NaN\n",
            "2016-02-29   96.86   98.2300   96.65  ...    -0.006678         NaN          NaN\n",
            "2016-03-31  109.72  109.9000  108.88  ...     0.127211         NaN          NaN\n",
            "2016-04-30   93.99   94.7200   92.51  ...    -0.139921         NaN          NaN\n",
            "2016-05-31   99.60  100.4000   98.82  ...     0.065287         NaN          NaN\n",
            "2016-06-30   94.44   95.7700   94.30  ...    -0.042660         NaN          NaN\n",
            "2016-07-31  104.19  104.5500  103.68  ...     0.090063         NaN          NaN\n",
            "2016-08-31  105.66  106.5699  105.64  ...     0.018136         NaN          NaN\n",
            "2016-09-30  112.46  113.3700  111.80  ...     0.065504         NaN          NaN\n",
            "2016-10-31  113.65  114.2300  113.20  ...     0.004334  26419398.0          1.0\n",
            "2016-11-30  111.56  112.2000  110.27  ...    -0.026599  36162258.0          1.0\n",
            "2016-12-31  116.65  117.2000  115.43  ...     0.047955  30586265.0          1.0\n",
            "2017-01-31     NaN       NaN     NaN  ...          NaN  49200993.0          1.0\n",
            "2017-02-28     NaN       NaN     NaN  ...          NaN  23482860.0          1.0\n",
            "2017-03-31     NaN       NaN     NaN  ...          NaN  19661651.0          1.0\n",
            "2017-04-30     NaN       NaN     NaN  ...          NaN  20247187.0          1.0\n",
            "\n",
            "[16 rows x 7 columns]\n"
          ]
        }
      ]
    },
    {
      "cell_type": "code",
      "metadata": {
        "colab": {
          "base_uri": "https://localhost:8080/"
        },
        "id": "oxPKk8yR_Yj2",
        "outputId": "902263ed-8fa6-4361-84d5-e165a26a00e1"
      },
      "source": [
        "#Ejemplo Propio\n",
        "concatenado = pd.concat([googl_bar, df2_volume], axis = 1)\n",
        "print(concatenado)"
      ],
      "execution_count": 219,
      "outputs": [
        {
          "output_type": "stream",
          "name": "stdout",
          "text": [
            "               High     Low     Close  ...  h_rate_return     Volume  Split Ratio\n",
            "Date                                   ...                                       \n",
            "2011-10-31      NaN     NaN       NaN  ...            NaN  5110400.0          1.0\n",
            "2011-11-30      NaN     NaN       NaN  ...            NaN  6787200.0          1.0\n",
            "2011-12-31      NaN     NaN       NaN  ...            NaN  3561000.0          1.0\n",
            "2012-01-31  584.000  575.15  580.1100  ...            NaN  4280500.0          1.0\n",
            "2012-02-29  625.600  615.50  618.2500  ...       0.071233  6267500.0          1.0\n",
            "2012-03-31  653.490  641.00  641.2400  ...       0.044581  4616700.0          1.0\n",
            "2012-04-30  616.082  600.61  604.8500  ...      -0.057243  4809700.0          1.0\n",
            "2012-05-31  590.000  579.00  580.8600  ...      -0.042335        NaN          NaN\n",
            "2012-06-30  580.130  572.20  580.0700  ...      -0.016729        NaN          NaN\n",
            "2012-07-31  636.500  628.22  632.9700  ...       0.097168        NaN          NaN\n",
            "2012-08-31  688.580  680.04  685.0900  ...       0.081822        NaN          NaN\n",
            "2012-09-30  759.300  751.15  754.5000  ...       0.102704        NaN          NaN\n",
            "2012-10-31  681.000  675.00  680.2976  ...      -0.103121        NaN          NaN\n",
            "2012-11-30  699.220  685.69  698.3700  ...       0.026755        NaN          NaN\n",
            "2012-12-31  710.570  696.00  707.3800  ...       0.016232        NaN          NaN\n",
            "\n",
            "[15 rows x 7 columns]\n"
          ]
        }
      ]
    },
    {
      "cell_type": "markdown",
      "metadata": {
        "id": "oyL9Usfp_Y22"
      },
      "source": [
        "* #### *Inner join:*"
      ]
    },
    {
      "cell_type": "code",
      "metadata": {
        "colab": {
          "base_uri": "https://localhost:8080/"
        },
        "id": "lgs_ELfb_as-",
        "outputId": "cc1e18d2-6c87-42d2-fda2-976f08297b78"
      },
      "source": [
        "#Ejemplo de QuantConnect\n",
        "concat = pd.concat([aapl_bar, df_volume], axis = 1, join = 'inner')\n",
        "print(concat)"
      ],
      "execution_count": 220,
      "outputs": [
        {
          "output_type": "stream",
          "name": "stdout",
          "text": [
            "              Open    High     Low  ...  rate_return      Volume  Split Ratio\n",
            "Date                                ...                                      \n",
            "2016-10-31  113.65  114.23  113.20  ...     0.004334  26419398.0          1.0\n",
            "2016-11-30  111.56  112.20  110.27  ...    -0.026599  36162258.0          1.0\n",
            "2016-12-31  116.65  117.20  115.43  ...     0.047955  30586265.0          1.0\n",
            "\n",
            "[3 rows x 7 columns]\n"
          ]
        }
      ]
    },
    {
      "cell_type": "code",
      "metadata": {
        "colab": {
          "base_uri": "https://localhost:8080/"
        },
        "id": "s72-KG6n_a7-",
        "outputId": "96bbc6e7-53ed-4091-cccc-91888f22121c"
      },
      "source": [
        "#Ejemplo Propio\n",
        "concatenado = pd.concat([googl_bar, df2_volume], axis = 1, join = 'inner')\n",
        "print(concatenado)"
      ],
      "execution_count": 221,
      "outputs": [
        {
          "output_type": "stream",
          "name": "stdout",
          "text": [
            "               High     Low   Close  ...  h_rate_return     Volume  Split Ratio\n",
            "Date                                 ...                                       \n",
            "2012-01-31  584.000  575.15  580.11  ...            NaN  4280500.0          1.0\n",
            "2012-02-29  625.600  615.50  618.25  ...       0.071233  6267500.0          1.0\n",
            "2012-03-31  653.490  641.00  641.24  ...       0.044581  4616700.0          1.0\n",
            "2012-04-30  616.082  600.61  604.85  ...      -0.057243  4809700.0          1.0\n",
            "\n",
            "[4 rows x 7 columns]\n"
          ]
        }
      ]
    },
    {
      "cell_type": "markdown",
      "metadata": {
        "id": "F6Nkloy0_fe2"
      },
      "source": [
        "* #### *Append a DataFrame to another:*"
      ]
    },
    {
      "cell_type": "code",
      "metadata": {
        "colab": {
          "base_uri": "https://localhost:8080/"
        },
        "id": "bozCRzSi_mlr",
        "outputId": "5aaade36-ebd0-4926-aea4-1a2e3dfc2ab7"
      },
      "source": [
        "#Ejemplo de QuantConnect\n",
        "append = aapl_bar.append(df_2017)\n",
        "print(append)"
      ],
      "execution_count": 222,
      "outputs": [
        {
          "output_type": "stream",
          "name": "stdout",
          "text": [
            "              Open      High     Low   Close  rate_return\n",
            "Date                                                     \n",
            "2016-01-31   94.79   97.3400   94.35   97.34          NaN\n",
            "2016-02-29   96.86   98.2300   96.65   96.69    -0.006678\n",
            "2016-03-31  109.72  109.9000  108.88  108.99     0.127211\n",
            "2016-04-30   93.99   94.7200   92.51   93.74    -0.139921\n",
            "2016-05-31   99.60  100.4000   98.82   99.86     0.065287\n",
            "2016-06-30   94.44   95.7700   94.30   95.60    -0.042660\n",
            "2016-07-31  104.19  104.5500  103.68  104.21     0.090063\n",
            "2016-08-31  105.66  106.5699  105.64  106.10     0.018136\n",
            "2016-09-30  112.46  113.3700  111.80  113.05     0.065504\n",
            "2016-10-31  113.65  114.2300  113.20  113.54     0.004334\n",
            "2016-11-30  111.56  112.2000  110.27  110.52    -0.026599\n",
            "2016-12-31  116.65  117.2000  115.43  115.82     0.047955\n",
            "2016-10-31  113.65  114.2300  113.20  113.54          NaN\n",
            "2016-11-30  111.56  112.2000  110.27  110.52          NaN\n",
            "2016-12-31  116.65  117.2000  115.43  115.82          NaN\n",
            "2017-01-31  121.15  121.3900  120.62  121.35          NaN\n",
            "2017-02-28  137.08  137.4350  136.70  136.99          NaN\n",
            "2017-03-31  143.72  144.2700  143.01  143.66          NaN\n",
            "2017-04-30  144.09  144.3000  143.27  143.65          NaN\n"
          ]
        }
      ]
    },
    {
      "cell_type": "code",
      "metadata": {
        "colab": {
          "base_uri": "https://localhost:8080/"
        },
        "id": "WA3kuKHo_mzM",
        "outputId": "35e426a0-651b-480f-fc77-08007df9a863"
      },
      "source": [
        "#Ejemplo Propio\n",
        "append2 = googl_bar.append(df2_2012)\n",
        "print(append2)"
      ],
      "execution_count": 223,
      "outputs": [
        {
          "output_type": "stream",
          "name": "stdout",
          "text": [
            "               High     Low     Close  Adj. Volume  h_rate_return\n",
            "Date                                                             \n",
            "2012-01-31  584.000  575.15  580.1100    4280500.0            NaN\n",
            "2012-02-29  625.600  615.50  618.2500    6267500.0       0.071233\n",
            "2012-03-31  653.490  641.00  641.2400    4616700.0       0.044581\n",
            "2012-04-30  616.082  600.61  604.8500    4809700.0      -0.057243\n",
            "2012-05-31  590.000  579.00  580.8600    5930600.0      -0.042335\n",
            "2012-06-30  580.130  572.20  580.0700    5033900.0      -0.016729\n",
            "2012-07-31  636.500  628.22  632.9700    3727400.0       0.097168\n",
            "2012-08-31  688.580  680.04  685.0900    4249900.0       0.081822\n",
            "2012-09-30  759.300  751.15  754.5000    5561400.0       0.102704\n",
            "2012-10-31  681.000  675.00  680.2976    3070900.0      -0.103121\n",
            "2012-11-30  699.220  685.69  698.3700    6320800.0       0.026755\n",
            "2012-12-31  710.570  696.00  707.3800    3990800.0       0.016232\n",
            "2011-10-31  599.690  591.67  592.6400    5110400.0            NaN\n",
            "2011-11-30  599.510  592.09  599.3900    6787200.0            NaN\n",
            "2011-12-31  646.760  642.02  645.9000    3561000.0            NaN\n",
            "2012-01-31  584.000  575.15  580.1100    4280500.0            NaN\n",
            "2012-02-29  625.600  615.50  618.2500    6267500.0            NaN\n",
            "2012-03-31  653.490  641.00  641.2400    4616700.0            NaN\n",
            "2012-04-30  616.082  600.61  604.8500    4809700.0            NaN\n"
          ]
        }
      ]
    },
    {
      "cell_type": "markdown",
      "metadata": {
        "id": "C4B94QZM_nE2"
      },
      "source": [
        "* #### *Alternative way to append a DataFrame:*"
      ]
    },
    {
      "cell_type": "code",
      "metadata": {
        "colab": {
          "base_uri": "https://localhost:8080/"
        },
        "id": "-2BUQ_oy_vJR",
        "outputId": "8380d820-313d-4af0-839b-18957b0d5544"
      },
      "source": [
        "#Ejemplo de QuantConnect\n",
        "concat = pd.concat([aapl_bar, df_2017], axis = 0)\n",
        "print(concat)"
      ],
      "execution_count": 224,
      "outputs": [
        {
          "output_type": "stream",
          "name": "stdout",
          "text": [
            "              Open      High     Low   Close  rate_return\n",
            "Date                                                     \n",
            "2016-01-31   94.79   97.3400   94.35   97.34          NaN\n",
            "2016-02-29   96.86   98.2300   96.65   96.69    -0.006678\n",
            "2016-03-31  109.72  109.9000  108.88  108.99     0.127211\n",
            "2016-04-30   93.99   94.7200   92.51   93.74    -0.139921\n",
            "2016-05-31   99.60  100.4000   98.82   99.86     0.065287\n",
            "2016-06-30   94.44   95.7700   94.30   95.60    -0.042660\n",
            "2016-07-31  104.19  104.5500  103.68  104.21     0.090063\n",
            "2016-08-31  105.66  106.5699  105.64  106.10     0.018136\n",
            "2016-09-30  112.46  113.3700  111.80  113.05     0.065504\n",
            "2016-10-31  113.65  114.2300  113.20  113.54     0.004334\n",
            "2016-11-30  111.56  112.2000  110.27  110.52    -0.026599\n",
            "2016-12-31  116.65  117.2000  115.43  115.82     0.047955\n",
            "2016-10-31  113.65  114.2300  113.20  113.54          NaN\n",
            "2016-11-30  111.56  112.2000  110.27  110.52          NaN\n",
            "2016-12-31  116.65  117.2000  115.43  115.82          NaN\n",
            "2017-01-31  121.15  121.3900  120.62  121.35          NaN\n",
            "2017-02-28  137.08  137.4350  136.70  136.99          NaN\n",
            "2017-03-31  143.72  144.2700  143.01  143.66          NaN\n",
            "2017-04-30  144.09  144.3000  143.27  143.65          NaN\n"
          ]
        }
      ]
    },
    {
      "cell_type": "code",
      "metadata": {
        "colab": {
          "base_uri": "https://localhost:8080/"
        },
        "id": "dgzt9r-4_vVc",
        "outputId": "56cb979a-5f3a-4482-d64c-e998738e6c96"
      },
      "source": [
        "#Ejemplo Propio\n",
        "concatenado = pd.concat([googl_bar, df2_2012], axis = 0)\n",
        "print(concatenado)"
      ],
      "execution_count": 225,
      "outputs": [
        {
          "output_type": "stream",
          "name": "stdout",
          "text": [
            "               High     Low     Close  Adj. Volume  h_rate_return\n",
            "Date                                                             \n",
            "2012-01-31  584.000  575.15  580.1100    4280500.0            NaN\n",
            "2012-02-29  625.600  615.50  618.2500    6267500.0       0.071233\n",
            "2012-03-31  653.490  641.00  641.2400    4616700.0       0.044581\n",
            "2012-04-30  616.082  600.61  604.8500    4809700.0      -0.057243\n",
            "2012-05-31  590.000  579.00  580.8600    5930600.0      -0.042335\n",
            "2012-06-30  580.130  572.20  580.0700    5033900.0      -0.016729\n",
            "2012-07-31  636.500  628.22  632.9700    3727400.0       0.097168\n",
            "2012-08-31  688.580  680.04  685.0900    4249900.0       0.081822\n",
            "2012-09-30  759.300  751.15  754.5000    5561400.0       0.102704\n",
            "2012-10-31  681.000  675.00  680.2976    3070900.0      -0.103121\n",
            "2012-11-30  699.220  685.69  698.3700    6320800.0       0.026755\n",
            "2012-12-31  710.570  696.00  707.3800    3990800.0       0.016232\n",
            "2011-10-31  599.690  591.67  592.6400    5110400.0            NaN\n",
            "2011-11-30  599.510  592.09  599.3900    6787200.0            NaN\n",
            "2011-12-31  646.760  642.02  645.9000    3561000.0            NaN\n",
            "2012-01-31  584.000  575.15  580.1100    4280500.0            NaN\n",
            "2012-02-29  625.600  615.50  618.2500    6267500.0            NaN\n",
            "2012-03-31  653.490  641.00  641.2400    4616700.0            NaN\n",
            "2012-04-30  616.082  600.61  604.8500    4809700.0            NaN\n"
          ]
        }
      ]
    },
    {
      "cell_type": "markdown",
      "metadata": {
        "id": "XY7LCn82_vo-"
      },
      "source": [
        "* #### *Changing column names:*"
      ]
    },
    {
      "cell_type": "code",
      "metadata": {
        "colab": {
          "base_uri": "https://localhost:8080/"
        },
        "id": "TasRktn0_3O7",
        "outputId": "01d034ea-1d7f-4857-a2ef-d4f2389f5fcc"
      },
      "source": [
        "#Ejemplo de QuantConnect\n",
        "df_2017.columns = ['Change', 'High', 'Low', 'Close']\n",
        "concat = pd.concat([aapl_bar, df_2017], axis = 0)\n",
        "print(concat)"
      ],
      "execution_count": 226,
      "outputs": [
        {
          "output_type": "stream",
          "name": "stdout",
          "text": [
            "              Open      High     Low   Close  rate_return  Change\n",
            "Date                                                             \n",
            "2016-01-31   94.79   97.3400   94.35   97.34          NaN     NaN\n",
            "2016-02-29   96.86   98.2300   96.65   96.69    -0.006678     NaN\n",
            "2016-03-31  109.72  109.9000  108.88  108.99     0.127211     NaN\n",
            "2016-04-30   93.99   94.7200   92.51   93.74    -0.139921     NaN\n",
            "2016-05-31   99.60  100.4000   98.82   99.86     0.065287     NaN\n",
            "2016-06-30   94.44   95.7700   94.30   95.60    -0.042660     NaN\n",
            "2016-07-31  104.19  104.5500  103.68  104.21     0.090063     NaN\n",
            "2016-08-31  105.66  106.5699  105.64  106.10     0.018136     NaN\n",
            "2016-09-30  112.46  113.3700  111.80  113.05     0.065504     NaN\n",
            "2016-10-31  113.65  114.2300  113.20  113.54     0.004334     NaN\n",
            "2016-11-30  111.56  112.2000  110.27  110.52    -0.026599     NaN\n",
            "2016-12-31  116.65  117.2000  115.43  115.82     0.047955     NaN\n",
            "2016-10-31     NaN  114.2300  113.20  113.54          NaN  113.65\n",
            "2016-11-30     NaN  112.2000  110.27  110.52          NaN  111.56\n",
            "2016-12-31     NaN  117.2000  115.43  115.82          NaN  116.65\n",
            "2017-01-31     NaN  121.3900  120.62  121.35          NaN  121.15\n",
            "2017-02-28     NaN  137.4350  136.70  136.99          NaN  137.08\n",
            "2017-03-31     NaN  144.2700  143.01  143.66          NaN  143.72\n",
            "2017-04-30     NaN  144.3000  143.27  143.65          NaN  144.09\n"
          ]
        }
      ]
    },
    {
      "cell_type": "code",
      "metadata": {
        "colab": {
          "base_uri": "https://localhost:8080/"
        },
        "id": "ISJVslAp_3bz",
        "outputId": "044d4951-f9e5-4d16-9dd4-3cf5dd5ab6bc"
      },
      "source": [
        "#Ejemplo Propio\n",
        "df2_2012.columns = ['High', 'Change', 'Close', 'Another Change']\n",
        "concatenado = pd.concat([googl_bar, df2_2012], axis = 0)\n",
        "print(concatenado)"
      ],
      "execution_count": 227,
      "outputs": [
        {
          "output_type": "stream",
          "name": "stdout",
          "text": [
            "               High     Low     Close  ...  h_rate_return  Change  Another Change\n",
            "Date                                   ...                                       \n",
            "2012-01-31  584.000  575.15  580.1100  ...            NaN     NaN             NaN\n",
            "2012-02-29  625.600  615.50  618.2500  ...       0.071233     NaN             NaN\n",
            "2012-03-31  653.490  641.00  641.2400  ...       0.044581     NaN             NaN\n",
            "2012-04-30  616.082  600.61  604.8500  ...      -0.057243     NaN             NaN\n",
            "2012-05-31  590.000  579.00  580.8600  ...      -0.042335     NaN             NaN\n",
            "2012-06-30  580.130  572.20  580.0700  ...      -0.016729     NaN             NaN\n",
            "2012-07-31  636.500  628.22  632.9700  ...       0.097168     NaN             NaN\n",
            "2012-08-31  688.580  680.04  685.0900  ...       0.081822     NaN             NaN\n",
            "2012-09-30  759.300  751.15  754.5000  ...       0.102704     NaN             NaN\n",
            "2012-10-31  681.000  675.00  680.2976  ...      -0.103121     NaN             NaN\n",
            "2012-11-30  699.220  685.69  698.3700  ...       0.026755     NaN             NaN\n",
            "2012-12-31  710.570  696.00  707.3800  ...       0.016232     NaN             NaN\n",
            "2011-10-31  599.690     NaN  592.6400  ...            NaN  591.67       5110400.0\n",
            "2011-11-30  599.510     NaN  599.3900  ...            NaN  592.09       6787200.0\n",
            "2011-12-31  646.760     NaN  645.9000  ...            NaN  642.02       3561000.0\n",
            "2012-01-31  584.000     NaN  580.1100  ...            NaN  575.15       4280500.0\n",
            "2012-02-29  625.600     NaN  618.2500  ...            NaN  615.50       6267500.0\n",
            "2012-03-31  653.490     NaN  641.2400  ...            NaN  641.00       4616700.0\n",
            "2012-04-30  616.082     NaN  604.8500  ...            NaN  600.61       4809700.0\n",
            "\n",
            "[19 rows x 7 columns]\n"
          ]
        }
      ]
    }
  ]
}