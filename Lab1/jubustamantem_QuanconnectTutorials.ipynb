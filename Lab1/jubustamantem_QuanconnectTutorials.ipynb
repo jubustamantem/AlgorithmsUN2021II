{
  "nbformat": 4,
  "nbformat_minor": 0,
  "metadata": {
    "colab": {
      "name": "jubustamantem_QuanconnectTutorials.ipynb",
      "provenance": [],
      "collapsed_sections": [
        "hi8e33tTQdWz",
        "1EA646c50vxU",
        "oT3A35Y_NOW9",
        "E1VxRClrUd6V",
        "LRbhW8m_KH7Y"
      ]
    },
    "kernelspec": {
      "name": "python3",
      "display_name": "Python 3"
    },
    "language_info": {
      "name": "python"
    }
  },
  "cells": [
    {
      "cell_type": "markdown",
      "metadata": {
        "id": "hi8e33tTQdWz"
      },
      "source": [
        "# **Tutorial 1. Python: Data Types and Data Structures**"
      ]
    },
    {
      "cell_type": "markdown",
      "metadata": {
        "id": "EQCldC2oSacG"
      },
      "source": [
        "## _**Basic Variable Types**_"
      ]
    },
    {
      "cell_type": "markdown",
      "metadata": {
        "id": "tuyR89DbSzgA"
      },
      "source": [
        "### Strings:"
      ]
    },
    {
      "cell_type": "code",
      "metadata": {
        "colab": {
          "base_uri": "https://localhost:8080/"
        },
        "id": "DnxXYTfOILfP",
        "outputId": "7385bca0-5271-4e44-db3b-ac83064ef32f"
      },
      "source": [
        "#Ejemplo de QuantConnect\n",
        "my_string1 = 'Welcome to'\n",
        "my_string2 = \"QuantConnect\"\n",
        "print(my_string1 + ' ' + my_string2)"
      ],
      "execution_count": null,
      "outputs": [
        {
          "output_type": "stream",
          "name": "stdout",
          "text": [
            "Welcome to QuantConnect\n"
          ]
        }
      ]
    },
    {
      "cell_type": "code",
      "metadata": {
        "colab": {
          "base_uri": "https://localhost:8080/"
        },
        "id": "-C-M7oYeRB0N",
        "outputId": "5eeeec47-aea7-4ad4-9262-c97e62b320af"
      },
      "source": [
        "#Ejemplo Propio\n",
        "cadena1 = 'Presentado por'\n",
        "cadena2 = \"Juan Pablo Bustamante Moreno\"\n",
        "print(cadena1 + ' ' + cadena2)"
      ],
      "execution_count": null,
      "outputs": [
        {
          "output_type": "stream",
          "name": "stdout",
          "text": [
            "Presentado por Juan Pablo Bustamante Moreno\n"
          ]
        }
      ]
    },
    {
      "cell_type": "markdown",
      "metadata": {
        "id": "ZlKocfENUcPP"
      },
      "source": [
        "### Integers:"
      ]
    },
    {
      "cell_type": "code",
      "metadata": {
        "colab": {
          "base_uri": "https://localhost:8080/"
        },
        "id": "ZJa-2a8oUkIB",
        "outputId": "84992de7-f44d-4969-b7d5-e99260f92870"
      },
      "source": [
        "#Ejemplo de QuantConnect\n",
        "my_int = 10\n",
        "print(my_int)\n",
        "print(type(my_int))"
      ],
      "execution_count": null,
      "outputs": [
        {
          "output_type": "stream",
          "name": "stdout",
          "text": [
            "10\n",
            "<class 'int'>\n"
          ]
        }
      ]
    },
    {
      "cell_type": "code",
      "metadata": {
        "colab": {
          "base_uri": "https://localhost:8080/"
        },
        "id": "9F2zESwrVBeV",
        "outputId": "895ef986-3d60-469b-e43d-bb2c2895fc8f"
      },
      "source": [
        "#Ejemplo Propio\n",
        "num_entero = 24\n",
        "print(num_entero)\n",
        "print(type(num_entero))"
      ],
      "execution_count": null,
      "outputs": [
        {
          "output_type": "stream",
          "name": "stdout",
          "text": [
            "24\n",
            "<class 'int'>\n"
          ]
        }
      ]
    },
    {
      "cell_type": "markdown",
      "metadata": {
        "id": "QicxZe32VZo6"
      },
      "source": [
        "### Built-in function int():"
      ]
    },
    {
      "cell_type": "code",
      "metadata": {
        "colab": {
          "base_uri": "https://localhost:8080/"
        },
        "id": "XL1Y4eeTVfrx",
        "outputId": "d5441ae1-90c2-4a18-ee1a-1dda4389b932"
      },
      "source": [
        "#Ejemplo de QuantConnect\n",
        "my_string = \"100\"\n",
        "print(type(my_string))\n",
        "my_int = int(my_string)\n",
        "print(type(my_int))"
      ],
      "execution_count": null,
      "outputs": [
        {
          "output_type": "stream",
          "name": "stdout",
          "text": [
            "<class 'str'>\n",
            "<class 'int'>\n"
          ]
        }
      ]
    },
    {
      "cell_type": "code",
      "metadata": {
        "colab": {
          "base_uri": "https://localhost:8080/"
        },
        "id": "f4d7-HW0Vf95",
        "outputId": "1d92ac95-e641-40a1-a257-73d019ad4d71"
      },
      "source": [
        "#Ejemplo Propio\n",
        "cadena = \"1824\"\n",
        "print(type(cadena))\n",
        "entero = int(cadena)\n",
        "print(type(entero))"
      ],
      "execution_count": null,
      "outputs": [
        {
          "output_type": "stream",
          "name": "stdout",
          "text": [
            "<class 'str'>\n",
            "<class 'int'>\n"
          ]
        }
      ]
    },
    {
      "cell_type": "markdown",
      "metadata": {
        "id": "22xjlZxGVgam"
      },
      "source": [
        "### Float:"
      ]
    },
    {
      "cell_type": "code",
      "metadata": {
        "colab": {
          "base_uri": "https://localhost:8080/"
        },
        "id": "vmCeC4UPXvw1",
        "outputId": "2356c2e7-69cb-44a5-c536-37f0e8da11ed"
      },
      "source": [
        "#Ejemplo de QuantConnect\n",
        "my_float = 1.0\n",
        "print(type(my_float))\n",
        "my_int = 1\n",
        "print(type(my_int))"
      ],
      "execution_count": null,
      "outputs": [
        {
          "output_type": "stream",
          "name": "stdout",
          "text": [
            "<class 'float'>\n",
            "<class 'int'>\n"
          ]
        }
      ]
    },
    {
      "cell_type": "code",
      "metadata": {
        "colab": {
          "base_uri": "https://localhost:8080/"
        },
        "id": "fjoJ1AVfXwFd",
        "outputId": "75f82384-a913-483a-fbd0-d6436edc4cd5"
      },
      "source": [
        "#Ejemplo Propio\n",
        "flotante = 17.45\n",
        "print(type(flotante))\n",
        "entero = 36\n",
        "print(type(entero))"
      ],
      "execution_count": null,
      "outputs": [
        {
          "output_type": "stream",
          "name": "stdout",
          "text": [
            "<class 'float'>\n",
            "<class 'int'>\n"
          ]
        }
      ]
    },
    {
      "cell_type": "markdown",
      "metadata": {
        "id": "953tQ2ZOZOqs"
      },
      "source": [
        "### Built-in function float():"
      ]
    },
    {
      "cell_type": "code",
      "metadata": {
        "colab": {
          "base_uri": "https://localhost:8080/"
        },
        "id": "2OWUamKuZQIB",
        "outputId": "d4486328-b6db-46b9-93b1-8d4e3e589673"
      },
      "source": [
        "#Ejemplo de QuantConnect\n",
        "my_string = \"100\"\n",
        "my_float = float(my_string)\n",
        "print(type(my_float))"
      ],
      "execution_count": null,
      "outputs": [
        {
          "output_type": "stream",
          "name": "stdout",
          "text": [
            "<class 'float'>\n"
          ]
        }
      ]
    },
    {
      "cell_type": "code",
      "metadata": {
        "colab": {
          "base_uri": "https://localhost:8080/"
        },
        "id": "Ay5_eqv_ZQiB",
        "outputId": "b0c630d5-f047-45c9-cbc9-ac0b5dff1eb1"
      },
      "source": [
        "#Ejemplo Propio\n",
        "cadena = \"12.678\"\n",
        "flotante = float(cadena)\n",
        "print(type(flotante))"
      ],
      "execution_count": null,
      "outputs": [
        {
          "output_type": "stream",
          "name": "stdout",
          "text": [
            "<class 'float'>\n"
          ]
        }
      ]
    },
    {
      "cell_type": "markdown",
      "metadata": {
        "id": "ML4rvKPkZuac"
      },
      "source": [
        "### Boolean:"
      ]
    },
    {
      "cell_type": "code",
      "metadata": {
        "colab": {
          "base_uri": "https://localhost:8080/"
        },
        "id": "1ID9mLkRZ4yW",
        "outputId": "6f628b5d-7d0e-4aac-fff0-e6d169631271"
      },
      "source": [
        "#Ejemplo de QuantConnect\n",
        "my_bool = False\n",
        "print(my_bool)\n",
        "print(type(my_bool))"
      ],
      "execution_count": null,
      "outputs": [
        {
          "output_type": "stream",
          "name": "stdout",
          "text": [
            "False\n",
            "<class 'bool'>\n"
          ]
        }
      ]
    },
    {
      "cell_type": "code",
      "metadata": {
        "colab": {
          "base_uri": "https://localhost:8080/"
        },
        "id": "sIzrKquXZ5HS",
        "outputId": "0d945e42-9457-40ca-b50e-8a61f8bb4187"
      },
      "source": [
        "#Ejemplo Propio\n",
        "booleano = True\n",
        "print(booleano)\n",
        "print(type(booleano))"
      ],
      "execution_count": null,
      "outputs": [
        {
          "output_type": "stream",
          "name": "stdout",
          "text": [
            "True\n",
            "<class 'bool'>\n"
          ]
        }
      ]
    },
    {
      "cell_type": "markdown",
      "metadata": {
        "id": "fvZjtRUkZ5ks"
      },
      "source": [
        "## _**Basic Math Operators**_"
      ]
    },
    {
      "cell_type": "code",
      "metadata": {
        "colab": {
          "base_uri": "https://localhost:8080/"
        },
        "id": "BoKWsJvva8zW",
        "outputId": "676b39ec-504d-42f3-e186-7c3d53475b1e"
      },
      "source": [
        "#Ejemplo de QuantConnect\n",
        "print(\"Addition \", 1+1)\n",
        "print(\"Subtraction \", 5-2)\n",
        "print(\"Multiplication \", 2*3)\n",
        "print(\"Division\", 10/2)\n",
        "print(\"exponent\", 2**3)"
      ],
      "execution_count": null,
      "outputs": [
        {
          "output_type": "stream",
          "name": "stdout",
          "text": [
            "Addition  2\n",
            "Subtraction  3\n",
            "Multiplication  6\n",
            "Division 5.0\n",
            "exponent 8\n"
          ]
        }
      ]
    },
    {
      "cell_type": "code",
      "metadata": {
        "colab": {
          "base_uri": "https://localhost:8080/"
        },
        "id": "OUse7Awma9Kp",
        "outputId": "3c5a655b-286a-47eb-b1da-7c018f8bef74"
      },
      "source": [
        "#Ejemplo Propio\n",
        "print(\"Adición: 15 + 71 =\", 15+71)\n",
        "print(\"Sustracción: 58 - 24 =\", 58-24)\n",
        "print(\"Multiplicación: 26 x 13 =\", 26*13)\n",
        "print(\"División: 144 ÷ 12 =\", 144/12)\n",
        "print(\"Potencia: 29² =\", 29**2)"
      ],
      "execution_count": null,
      "outputs": [
        {
          "output_type": "stream",
          "name": "stdout",
          "text": [
            "Adición: 15 + 71 = 86\n",
            "Sustracción: 58 - 24 = 34\n",
            "Multiplicación: 26 x 13 = 338\n",
            "División: 144 ÷ 12 = 12.0\n",
            "Potencia: 29² = 841\n"
          ]
        }
      ]
    },
    {
      "cell_type": "markdown",
      "metadata": {
        "id": "nSuuXWxTdVgx"
      },
      "source": [
        "## _**Data Collections**_"
      ]
    },
    {
      "cell_type": "markdown",
      "metadata": {
        "id": "TM_sEycVdpuG"
      },
      "source": [
        "### List:"
      ]
    },
    {
      "cell_type": "markdown",
      "metadata": {
        "id": "YzXc1_kfeNCv"
      },
      "source": [
        "* #### *Creating a list:*"
      ]
    },
    {
      "cell_type": "code",
      "metadata": {
        "colab": {
          "base_uri": "https://localhost:8080/"
        },
        "id": "VYo3SgTkfCCx",
        "outputId": "2cc6ca4d-fdd9-4c5d-d296-b9423c15551e"
      },
      "source": [
        "#Ejemplo de QuantConnect\n",
        "my_list = ['Quant', 'Connect', 1,2,3]\n",
        "print(my_list)"
      ],
      "execution_count": null,
      "outputs": [
        {
          "output_type": "stream",
          "name": "stdout",
          "text": [
            "['Quant', 'Connect', 1, 2, 3]\n"
          ]
        }
      ]
    },
    {
      "cell_type": "code",
      "metadata": {
        "colab": {
          "base_uri": "https://localhost:8080/"
        },
        "id": "voYzh0ljfCZ_",
        "outputId": "6a937e85-79f0-47d5-a2ae-6406f7f61ef3"
      },
      "source": [
        "#Ejemplo Propio\n",
        "lista = ['Juan', 'Pablo', 7,8,2001]\n",
        "print(lista)"
      ],
      "execution_count": null,
      "outputs": [
        {
          "output_type": "stream",
          "name": "stdout",
          "text": [
            "['Juan', 'Pablo', 7, 8, 2001]\n"
          ]
        }
      ]
    },
    {
      "cell_type": "markdown",
      "metadata": {
        "id": "yBad9ppug7b3"
      },
      "source": [
        "* #### *Access list elements and the built-in function len():*"
      ]
    },
    {
      "cell_type": "code",
      "metadata": {
        "colab": {
          "base_uri": "https://localhost:8080/"
        },
        "id": "WipOR-kJhOCp",
        "outputId": "f934b406-bac6-4f2a-d0e1-4af4a021c804"
      },
      "source": [
        "#Ejemplo de QuantConnect\n",
        "my_list = ['Quant', 'Connect', 1,2,3]\n",
        "print(len(my_list))\n",
        "print(my_list[0])\n",
        "print(my_list[len(my_list) - 1])"
      ],
      "execution_count": null,
      "outputs": [
        {
          "output_type": "stream",
          "name": "stdout",
          "text": [
            "5\n",
            "Quant\n",
            "3\n"
          ]
        }
      ]
    },
    {
      "cell_type": "code",
      "metadata": {
        "colab": {
          "base_uri": "https://localhost:8080/"
        },
        "id": "OJTpTWbBhOil",
        "outputId": "c88a0526-b7a8-46da-f259-2e9efded090c"
      },
      "source": [
        "#Ejemplo Propio\n",
        "lista = ['Juan', 'Pablo', 7,8,2001]\n",
        "print(len(lista))\n",
        "print(lista[0])\n",
        "print(lista[len(lista) - 1])"
      ],
      "execution_count": null,
      "outputs": [
        {
          "output_type": "stream",
          "name": "stdout",
          "text": [
            "5\n",
            "Juan\n",
            "2001\n"
          ]
        }
      ]
    },
    {
      "cell_type": "markdown",
      "metadata": {
        "id": "Z2iKeOFVhmw8"
      },
      "source": [
        "* #### *Change list elements*"
      ]
    },
    {
      "cell_type": "code",
      "metadata": {
        "colab": {
          "base_uri": "https://localhost:8080/"
        },
        "id": "BJR25ifEhnM0",
        "outputId": "606049c1-65bc-413b-8e3a-aa1f185ffaa9"
      },
      "source": [
        "#Ejemplo de QuantConnect\n",
        "my_list = ['Quant','Connect',1,2,3]\n",
        "my_list[2] = 'go'\n",
        "print(my_list)"
      ],
      "execution_count": null,
      "outputs": [
        {
          "output_type": "stream",
          "name": "stdout",
          "text": [
            "['Quant', 'Connect', 'go', 2, 3]\n"
          ]
        }
      ]
    },
    {
      "cell_type": "code",
      "metadata": {
        "colab": {
          "base_uri": "https://localhost:8080/"
        },
        "id": "X3bY1gmchnlQ",
        "outputId": "a563cad5-017e-4f19-b18f-2ed2582901e0"
      },
      "source": [
        "#Ejemplo Propio\n",
        "lista = ['Juan', 'Pablo', 7,8,2001]\n",
        "lista[2] = 'Bustamante'\n",
        "print(lista)"
      ],
      "execution_count": null,
      "outputs": [
        {
          "output_type": "stream",
          "name": "stdout",
          "text": [
            "['Juan', 'Pablo', 'Bustamante', 8, 2001]\n"
          ]
        }
      ]
    },
    {
      "cell_type": "markdown",
      "metadata": {
        "id": "9LVv2xv1hoAe"
      },
      "source": [
        "* #### *Slicing a list:*"
      ]
    },
    {
      "cell_type": "code",
      "metadata": {
        "colab": {
          "base_uri": "https://localhost:8080/"
        },
        "id": "ZmrMAzPyiZNO",
        "outputId": "84cb0839-6c9a-4e86-f08e-726526836e3f"
      },
      "source": [
        "#Ejemplo de QuantConnect\n",
        "my_list = ['Quant','Connect',1,2,3]\n",
        "print(my_list[1:3])"
      ],
      "execution_count": null,
      "outputs": [
        {
          "output_type": "stream",
          "name": "stdout",
          "text": [
            "['Connect', 1]\n"
          ]
        }
      ]
    },
    {
      "cell_type": "code",
      "metadata": {
        "colab": {
          "base_uri": "https://localhost:8080/"
        },
        "id": "jrqQocLBiZfD",
        "outputId": "2bde4fcc-0eb4-4c74-bb0f-093e5f057a74"
      },
      "source": [
        "#Ejemplo Propio\n",
        "lista = ['Juan', 'Pablo', 7,8,2001]\n",
        "print(lista[1:3])"
      ],
      "execution_count": null,
      "outputs": [
        {
          "output_type": "stream",
          "name": "stdout",
          "text": [
            "['Pablo', 7]\n"
          ]
        }
      ]
    },
    {
      "cell_type": "markdown",
      "metadata": {
        "id": "r6DtLRJ0i3Df"
      },
      "source": [
        "* #### *Select all elements starting from index 1:*"
      ]
    },
    {
      "cell_type": "code",
      "metadata": {
        "colab": {
          "base_uri": "https://localhost:8080/"
        },
        "id": "Q1Y_W0jSjJXX",
        "outputId": "8912dcc4-8caa-430c-9913-b900567a3ce0"
      },
      "source": [
        "#Ejemplo de QuantConnect\n",
        "print(my_list[1:])"
      ],
      "execution_count": null,
      "outputs": [
        {
          "output_type": "stream",
          "name": "stdout",
          "text": [
            "['Connect', 1, 2, 3]\n"
          ]
        }
      ]
    },
    {
      "cell_type": "code",
      "metadata": {
        "colab": {
          "base_uri": "https://localhost:8080/"
        },
        "id": "hvTU_o3SjKri",
        "outputId": "c1d4f90c-85f5-4ed1-cdac-3e0c140c846c"
      },
      "source": [
        "#Ejemplo Propio\n",
        "print(lista[1:])"
      ],
      "execution_count": null,
      "outputs": [
        {
          "output_type": "stream",
          "name": "stdout",
          "text": [
            "['Pablo', 7, 8, 2001]\n"
          ]
        }
      ]
    },
    {
      "cell_type": "markdown",
      "metadata": {
        "id": "PHxZRKnsjK_c"
      },
      "source": [
        "* #### *Select all elements up to index 3 without including it:*"
      ]
    },
    {
      "cell_type": "code",
      "metadata": {
        "colab": {
          "base_uri": "https://localhost:8080/"
        },
        "id": "BZAAhAh9jLTq",
        "outputId": "d1dbc945-76df-424a-c009-01df22f45dc2"
      },
      "source": [
        "#Ejemplo de QuantConnect\n",
        "print(my_list[:3])"
      ],
      "execution_count": null,
      "outputs": [
        {
          "output_type": "stream",
          "name": "stdout",
          "text": [
            "['Quant', 'Connect', 1]\n"
          ]
        }
      ]
    },
    {
      "cell_type": "code",
      "metadata": {
        "colab": {
          "base_uri": "https://localhost:8080/"
        },
        "id": "KPdkv_dFjLn7",
        "outputId": "8cc6cdd3-a943-486c-ef50-0b6c330156db"
      },
      "source": [
        "#Ejemplo Propio\n",
        "print(lista[:3])"
      ],
      "execution_count": null,
      "outputs": [
        {
          "output_type": "stream",
          "name": "stdout",
          "text": [
            "['Juan', 'Pablo', 7]\n"
          ]
        }
      ]
    },
    {
      "cell_type": "markdown",
      "metadata": {
        "id": "AXd4O57kj4Ki"
      },
      "source": [
        "* #### *Methods append() and remove():*\n",
        "\n"
      ]
    },
    {
      "cell_type": "code",
      "metadata": {
        "colab": {
          "base_uri": "https://localhost:8080/"
        },
        "id": "WSVYS1OlkCnP",
        "outputId": "24a9fe09-5c6b-4fd4-df81-219157ca76ad"
      },
      "source": [
        "#Ejemplo de QuantConnect\n",
        "my_list = ['Hello', 'Quant']\n",
        "my_list.append('Hello')\n",
        "print(my_list)\n",
        "my_list.remove('Hello')\n",
        "print(my_list)"
      ],
      "execution_count": null,
      "outputs": [
        {
          "output_type": "stream",
          "name": "stdout",
          "text": [
            "['Hello', 'Quant', 'Hello']\n",
            "['Quant', 'Hello']\n"
          ]
        }
      ]
    },
    {
      "cell_type": "code",
      "metadata": {
        "colab": {
          "base_uri": "https://localhost:8080/"
        },
        "id": "XXD_u6WZkDDd",
        "outputId": "136a5661-b3ea-416d-83ef-785a5f1a1651"
      },
      "source": [
        "#Ejemplo Propio\n",
        "lista = ['Hola', 'Juan']\n",
        "lista.append('Hola')\n",
        "print(lista)\n",
        "lista.remove('Hola')\n",
        "print(lista)"
      ],
      "execution_count": null,
      "outputs": [
        {
          "output_type": "stream",
          "name": "stdout",
          "text": [
            "['Hola', 'Juan', 'Hola']\n",
            "['Juan', 'Hola']\n"
          ]
        }
      ]
    },
    {
      "cell_type": "markdown",
      "metadata": {
        "id": "LjqzKZ7Kk2cW"
      },
      "source": [
        "### Tuple:"
      ]
    },
    {
      "cell_type": "markdown",
      "metadata": {
        "id": "_xRyltRrlBR8"
      },
      "source": [
        "* #### *Creating a tuple*:"
      ]
    },
    {
      "cell_type": "code",
      "metadata": {
        "id": "rCzWOrTSlMdu"
      },
      "source": [
        "#Ejemplo de QuantConnect\n",
        "my_tuple = ('Welcome','to','QuantConnect')"
      ],
      "execution_count": null,
      "outputs": []
    },
    {
      "cell_type": "code",
      "metadata": {
        "id": "E8f57RiIl1MZ"
      },
      "source": [
        "#Ejemplo Propio\n",
        "tupla = ('Presentado','por','@jubustamantem')"
      ],
      "execution_count": null,
      "outputs": []
    },
    {
      "cell_type": "markdown",
      "metadata": {
        "id": "9flZE7c5ml84"
      },
      "source": [
        "* #### *Slicing a tuple:*"
      ]
    },
    {
      "cell_type": "code",
      "metadata": {
        "colab": {
          "base_uri": "https://localhost:8080/"
        },
        "id": "ArkIlZJomqXx",
        "outputId": "14adf009-fc8b-45fb-f55b-141d66ff1c1e"
      },
      "source": [
        "#Ejemplo de QuantConnect\n",
        "my_tuple = ('Welcome','to','QuantConnect')\n",
        "print(my_tuple[1:])"
      ],
      "execution_count": null,
      "outputs": [
        {
          "output_type": "stream",
          "name": "stdout",
          "text": [
            "('to', 'QuantConnect')\n"
          ]
        }
      ]
    },
    {
      "cell_type": "code",
      "metadata": {
        "colab": {
          "base_uri": "https://localhost:8080/"
        },
        "id": "AgefFHVMmrhX",
        "outputId": "1e851f89-27b2-49d4-b1db-690e221a9aa2"
      },
      "source": [
        "#Ejemplo Propio\n",
        "tupla = ('Presentado','por','@jubustamantem')\n",
        "print(tupla[1:])"
      ],
      "execution_count": null,
      "outputs": [
        {
          "output_type": "stream",
          "name": "stdout",
          "text": [
            "('por', '@jubustamantem')\n"
          ]
        }
      ]
    },
    {
      "cell_type": "markdown",
      "metadata": {
        "id": "oWYnolDynKsZ"
      },
      "source": [
        "### Set:"
      ]
    },
    {
      "cell_type": "code",
      "metadata": {
        "colab": {
          "base_uri": "https://localhost:8080/"
        },
        "id": "dYdAlqipnLC6",
        "outputId": "7f1bb712-1766-4ab5-87a2-5bbf7ef5c4e3"
      },
      "source": [
        "#Ejemplo de QuantConnect\n",
        "stock_list = ['AAPL','GOOG','IBM','AAPL','IBM','FB','F','GOOG']\n",
        "stock_set = set(stock_list)\n",
        "print(stock_set)"
      ],
      "execution_count": null,
      "outputs": [
        {
          "output_type": "stream",
          "name": "stdout",
          "text": [
            "{'FB', 'AAPL', 'F', 'GOOG', 'IBM'}\n"
          ]
        }
      ]
    },
    {
      "cell_type": "code",
      "metadata": {
        "colab": {
          "base_uri": "https://localhost:8080/"
        },
        "id": "I8_gMQoWnx0E",
        "outputId": "5618e8eb-8e88-4ae5-db9f-02d3c6948b41"
      },
      "source": [
        "#Ejemplo Propio\n",
        "nueva_lista = ['UN','COL','WEA2021','UN','WEA2021','TW','J','COL']\n",
        "conjunto = set(nueva_lista)\n",
        "print(conjunto)"
      ],
      "execution_count": null,
      "outputs": [
        {
          "output_type": "stream",
          "name": "stdout",
          "text": [
            "{'J', 'TW', 'COL', 'WEA2021', 'UN'}\n"
          ]
        }
      ]
    },
    {
      "cell_type": "markdown",
      "metadata": {
        "id": "kURDvUJmnLVk"
      },
      "source": [
        "### Dictionary:"
      ]
    },
    {
      "cell_type": "markdown",
      "metadata": {
        "id": "SwKdarTfocBn"
      },
      "source": [
        "* #### *Creating a dictionary:*"
      ]
    },
    {
      "cell_type": "code",
      "metadata": {
        "id": "QTj7XZDkogOt"
      },
      "source": [
        "#Ejemplo de QuantConnect\n",
        "my_dic = {'AAPL': 'Apple', 'FB': 'FaceBook', 'GOOG': 'Alphabet'}"
      ],
      "execution_count": null,
      "outputs": []
    },
    {
      "cell_type": "code",
      "metadata": {
        "id": "RvN9W43CoggZ"
      },
      "source": [
        "#Ejemplo Propio\n",
        "diccionario = {'ALG': 'Algorithms', 'WA': 'WhatsApp', 'JS': 'JavaScript'}"
      ],
      "execution_count": null,
      "outputs": []
    },
    {
      "cell_type": "markdown",
      "metadata": {
        "id": "vZtT1lMUogz3"
      },
      "source": [
        "* #### *Access by key:*"
      ]
    },
    {
      "cell_type": "code",
      "metadata": {
        "colab": {
          "base_uri": "https://localhost:8080/"
        },
        "id": "GWG-DewBpYVX",
        "outputId": "b2a7cab9-b971-4961-e151-357403eba5bc"
      },
      "source": [
        "#Ejemplo de QuantConnect\n",
        "print(my_dic['GOOG'])"
      ],
      "execution_count": null,
      "outputs": [
        {
          "output_type": "stream",
          "name": "stdout",
          "text": [
            "Alphabet\n"
          ]
        }
      ]
    },
    {
      "cell_type": "code",
      "metadata": {
        "colab": {
          "base_uri": "https://localhost:8080/"
        },
        "id": "Lhq9hZpppYn3",
        "outputId": "56685f9d-1851-4b03-f500-818b6710d581"
      },
      "source": [
        "#Ejemplo Propio\n",
        "print(diccionario['WA'])"
      ],
      "execution_count": null,
      "outputs": [
        {
          "output_type": "stream",
          "name": "stdout",
          "text": [
            "WhatsApp\n"
          ]
        }
      ]
    },
    {
      "cell_type": "markdown",
      "metadata": {
        "id": "iGK8EkD1pZBD"
      },
      "source": [
        "* #### *Change value associated with a key:*"
      ]
    },
    {
      "cell_type": "code",
      "metadata": {
        "colab": {
          "base_uri": "https://localhost:8080/"
        },
        "id": "EOGvRaf5p5ko",
        "outputId": "18bf2b3e-d114-46dd-f76e-e39832f8c070"
      },
      "source": [
        "#Ejemplo de QuantConnect\n",
        "my_dic['GOOG'] = 'Alphabet Company'\n",
        "print(my_dic['GOOG'])"
      ],
      "execution_count": null,
      "outputs": [
        {
          "output_type": "stream",
          "name": "stdout",
          "text": [
            "Alphabet Company\n"
          ]
        }
      ]
    },
    {
      "cell_type": "code",
      "metadata": {
        "colab": {
          "base_uri": "https://localhost:8080/"
        },
        "id": "TEvcUYshp6D7",
        "outputId": "33b38414-6d7d-4bde-d0bb-0f4665a8282f"
      },
      "source": [
        "#Ejemplo Propio\n",
        "diccionario['WA'] = 'WhatsApp Messenger'\n",
        "print(diccionario['WA'])"
      ],
      "execution_count": null,
      "outputs": [
        {
          "output_type": "stream",
          "name": "stdout",
          "text": [
            "WhatsApp Messenger\n"
          ]
        }
      ]
    },
    {
      "cell_type": "markdown",
      "metadata": {
        "id": "KkWw7ZVhqUG8"
      },
      "source": [
        "* #### *Built-in method dict.keys():*"
      ]
    },
    {
      "cell_type": "code",
      "metadata": {
        "colab": {
          "base_uri": "https://localhost:8080/"
        },
        "id": "Y4CRvlnlqbJe",
        "outputId": "8938003f-6d54-439e-def5-9e615c0f4ac3"
      },
      "source": [
        "#Ejemplo de QuantConnect\n",
        "print(my_dic.keys())"
      ],
      "execution_count": null,
      "outputs": [
        {
          "output_type": "stream",
          "name": "stdout",
          "text": [
            "dict_keys(['AAPL', 'FB', 'GOOG'])\n"
          ]
        }
      ]
    },
    {
      "cell_type": "code",
      "metadata": {
        "colab": {
          "base_uri": "https://localhost:8080/"
        },
        "id": "Jn2OxtS9qbdu",
        "outputId": "7e6ec62f-b3ff-41b0-c87f-3af03681a011"
      },
      "source": [
        "#Ejemplo Propio\n",
        "print(diccionario.keys())"
      ],
      "execution_count": null,
      "outputs": [
        {
          "output_type": "stream",
          "name": "stdout",
          "text": [
            "dict_keys(['ALG', 'WA', 'JS'])\n"
          ]
        }
      ]
    },
    {
      "cell_type": "markdown",
      "metadata": {
        "id": "HYDG-B30rOBI"
      },
      "source": [
        "## _**Common String Operations**_"
      ]
    },
    {
      "cell_type": "markdown",
      "metadata": {
        "id": "C0TBPV45rZkI"
      },
      "source": [
        "### Slicing by index:"
      ]
    },
    {
      "cell_type": "code",
      "metadata": {
        "colab": {
          "base_uri": "https://localhost:8080/"
        },
        "id": "AlqUeR4prlji",
        "outputId": "d38e5b6a-f075-43f3-cbf4-79469e1f72fc"
      },
      "source": [
        "#Ejemplo de QuantConnect\n",
        "my_str = 'Welcome to QuantConnect'\n",
        "print(my_str[8:])"
      ],
      "execution_count": null,
      "outputs": [
        {
          "output_type": "stream",
          "name": "stdout",
          "text": [
            "to QuantConnect\n"
          ]
        }
      ]
    },
    {
      "cell_type": "code",
      "metadata": {
        "colab": {
          "base_uri": "https://localhost:8080/"
        },
        "id": "2lFKtYMaswI5",
        "outputId": "9b796f7f-a2b0-485a-fefc-a4c08c1a45eb"
      },
      "source": [
        "#Ejemplo Propio\n",
        "mi_cadena = 'Presentado por Juan Pablo Bustamante'\n",
        "print(mi_cadena[15:])"
      ],
      "execution_count": null,
      "outputs": [
        {
          "output_type": "stream",
          "name": "stdout",
          "text": [
            "Juan Pablo Bustamante\n"
          ]
        }
      ]
    },
    {
      "cell_type": "markdown",
      "metadata": {
        "id": "RUcEbQWiswbv"
      },
      "source": [
        "### Methods string.count(), string.find() and string.replace():"
      ]
    },
    {
      "cell_type": "code",
      "metadata": {
        "colab": {
          "base_uri": "https://localhost:8080/"
        },
        "id": "CHv6lAEVtyrS",
        "outputId": "ebc66317-87a4-46ee-d6fe-fd3b9f1963eb"
      },
      "source": [
        "#Ejemplo de QuantConnect\n",
        "print(\"Counting the number of e's in this sentence\".count('e'))\n",
        "print('The first time e appears in this sentence'.find('e'))\n",
        "print('all the a in this sentence now becomes e'.replace('a','e'))"
      ],
      "execution_count": null,
      "outputs": [
        {
          "output_type": "stream",
          "name": "stdout",
          "text": [
            "6\n",
            "2\n",
            "ell the e in this sentence now becomes e\n"
          ]
        }
      ]
    },
    {
      "cell_type": "code",
      "metadata": {
        "colab": {
          "base_uri": "https://localhost:8080/"
        },
        "id": "KQC8qMiXtzDV",
        "outputId": "4f9d0493-68bb-4368-af8f-c05e459956ee"
      },
      "source": [
        "#Ejemplo Propio\n",
        "print(\"Contando la cantidad de a's en esta frase\".count('a'))\n",
        "print('La primera vez que la letra z aparece en esta frase'.find('z'))\n",
        "print(\"Todas las o's en esta frase se convierten en u\".replace('o','u'))"
      ],
      "execution_count": null,
      "outputs": [
        {
          "output_type": "stream",
          "name": "stdout",
          "text": [
            "7\n",
            "13\n",
            "Tudas las u's en esta frase se cunvierten en u\n"
          ]
        }
      ]
    },
    {
      "cell_type": "markdown",
      "metadata": {
        "id": "SID7xZQqvVJs"
      },
      "source": [
        "### Method string.split():"
      ]
    },
    {
      "cell_type": "code",
      "metadata": {
        "colab": {
          "base_uri": "https://localhost:8080/"
        },
        "id": "nXjVndkavb_0",
        "outputId": "a229a768-f4e6-475f-dfd2-25194e525f4a"
      },
      "source": [
        "#Ejemplo de QuantConnect\n",
        "Time = '2016-04-01 09:43:00'\n",
        "splited_list = Time.split(' ')\n",
        "date = splited_list[0]\n",
        "time = splited_list[1]\n",
        "print(date, time)\n",
        "hour = time.split(':')[0]\n",
        "print(hour)"
      ],
      "execution_count": null,
      "outputs": [
        {
          "output_type": "stream",
          "name": "stdout",
          "text": [
            "2016-04-01 09:43:00\n",
            "09\n"
          ]
        }
      ]
    },
    {
      "cell_type": "code",
      "metadata": {
        "colab": {
          "base_uri": "https://localhost:8080/"
        },
        "id": "WcJ8NFmnvcYS",
        "outputId": "7286fb07-06cd-45d7-be3c-1b3c8f43ab76"
      },
      "source": [
        "#Ejemplo Propio\n",
        "tiempo = '2020-07-11 06:22:55'\n",
        "lista_dividida = tiempo.split(' ')\n",
        "fecha = lista_dividida[0]\n",
        "horario = lista_dividida[1]\n",
        "print(fecha, horario)\n",
        "hora = horario.split(':')[0]\n",
        "print(hora)"
      ],
      "execution_count": null,
      "outputs": [
        {
          "output_type": "stream",
          "name": "stdout",
          "text": [
            "2020-07-11 06:22:55\n",
            "06\n"
          ]
        }
      ]
    },
    {
      "cell_type": "markdown",
      "metadata": {
        "id": "TE1p8NtLvctM"
      },
      "source": [
        "### String formatting:"
      ]
    },
    {
      "cell_type": "code",
      "metadata": {
        "colab": {
          "base_uri": "https://localhost:8080/"
        },
        "id": "FGldrdPnvg3X",
        "outputId": "fd902a93-8417-4f67-9a89-90013fec087c"
      },
      "source": [
        "#Ejemplo de QuantConnect\n",
        "my_time = 'Hour: {}, Minute: {}'.format(9, 43)\n",
        "print(my_time)"
      ],
      "execution_count": null,
      "outputs": [
        {
          "output_type": "stream",
          "name": "stdout",
          "text": [
            "Hour: 9, Minute: 43\n"
          ]
        }
      ]
    },
    {
      "cell_type": "code",
      "metadata": {
        "colab": {
          "base_uri": "https://localhost:8080/"
        },
        "id": "Pqk1ICTxvhWE",
        "outputId": "63232cd5-abb1-468d-fe80-e255a2e1f167"
      },
      "source": [
        "#Ejemplo Propio\n",
        "mi_fecha = 'Día: {}, Mes: {}'.format(12, 10)\n",
        "print(mi_fecha)"
      ],
      "execution_count": null,
      "outputs": [
        {
          "output_type": "stream",
          "name": "stdout",
          "text": [
            "Día: 12, Mes: 10\n"
          ]
        }
      ]
    },
    {
      "cell_type": "markdown",
      "metadata": {
        "id": "k3xLff7evhsz"
      },
      "source": [
        "### String formatting using the % symbol:"
      ]
    },
    {
      "cell_type": "code",
      "metadata": {
        "colab": {
          "base_uri": "https://localhost:8080/"
        },
        "id": "erwbwLHOvoZH",
        "outputId": "5a2c1c04-f6d8-46c3-838e-c72b24e35beb"
      },
      "source": [
        "#Ejemplo de QuantConnect\n",
        "print('pi is %f' % 3.14)\n",
        "print('%s to %s' % ('Welcome', 'QuantConnect'))"
      ],
      "execution_count": null,
      "outputs": [
        {
          "output_type": "stream",
          "name": "stdout",
          "text": [
            "pi is 3.140000\n",
            "Welcome to QuantConnect\n"
          ]
        }
      ]
    },
    {
      "cell_type": "code",
      "metadata": {
        "colab": {
          "base_uri": "https://localhost:8080/"
        },
        "id": "mArYTZ3Qvowg",
        "outputId": "7e4f3085-7ec6-4b22-de4c-6e84957542dd"
      },
      "source": [
        "#Ejemplo Propio\n",
        "print('The golden ratio (φ) is %f' % 1.618033988749)\n",
        "print('%s = %f' % ('3/5', 3/5))\n",
        "print('Cantidad de tutoriales completados: %d' % 1.0)"
      ],
      "execution_count": null,
      "outputs": [
        {
          "output_type": "stream",
          "name": "stdout",
          "text": [
            "The golden ratio (φ) is 1.618034\n",
            "3/5 = 0.600000\n",
            "Cantidad de tutoriales completados: 1\n"
          ]
        }
      ]
    },
    {
      "cell_type": "markdown",
      "metadata": {
        "id": "1EA646c50vxU"
      },
      "source": [
        "# **Tutorial 2. Python: Logical Operations and Loops**"
      ]
    },
    {
      "cell_type": "markdown",
      "metadata": {
        "id": "3-jr6zOJ0_4z"
      },
      "source": [
        "## _**Logical Operations**_"
      ]
    },
    {
      "cell_type": "markdown",
      "metadata": {
        "id": "CP0mvE1K1EGQ"
      },
      "source": [
        "### Comparison operators:"
      ]
    },
    {
      "cell_type": "code",
      "metadata": {
        "colab": {
          "base_uri": "https://localhost:8080/"
        },
        "id": "BPNUfW4r1bxR",
        "outputId": "5f9d7071-738e-43cd-f492-81e141bd004a"
      },
      "source": [
        "#Ejemplo de QuantConnect\n",
        "print(1 == 0)    # 1 equals 0\n",
        "print(1 == 1)    # 1 equals 1\n",
        "print(1 != 0)   # 1 is not equal to 0\n",
        "print(5 >= 5)    # 5 is greater than or equal to 5\n",
        "print(5 >= 6)    # 5 is greater than or equal to 6"
      ],
      "execution_count": null,
      "outputs": [
        {
          "output_type": "stream",
          "name": "stdout",
          "text": [
            "False\n",
            "True\n",
            "True\n",
            "True\n",
            "False\n"
          ]
        }
      ]
    },
    {
      "cell_type": "code",
      "metadata": {
        "colab": {
          "base_uri": "https://localhost:8080/"
        },
        "id": "TPimuN6K1cEZ",
        "outputId": "1d25e087-817b-44c1-f36f-344bf305842d"
      },
      "source": [
        "#Ejemplo Propio\n",
        "print(18 == 9*2)    # 18 equals 9x2\n",
        "print(18 == 9**2)    # 18 equals 9^2\n",
        "print(9*2 != 9**2)    # 18 is not equal to 81\n",
        "print(18 >= 9**2)    # 18 is greater than or equal to 81\n",
        "print(18 >= 9*2)    # 18 is greater than or equal to 18"
      ],
      "execution_count": null,
      "outputs": [
        {
          "output_type": "stream",
          "name": "stdout",
          "text": [
            "True\n",
            "False\n",
            "True\n",
            "False\n",
            "True\n"
          ]
        }
      ]
    },
    {
      "cell_type": "markdown",
      "metadata": {
        "id": "C9YdKfuT1czO"
      },
      "source": [
        "### Complex statements using logical operators:"
      ]
    },
    {
      "cell_type": "code",
      "metadata": {
        "colab": {
          "base_uri": "https://localhost:8080/"
        },
        "id": "IOgmJ6DN3ASs",
        "outputId": "47e9134d-275c-4846-e744-0a3c458097fd"
      },
      "source": [
        "#Ejemplo de QuantConnect\n",
        "print(2 > 1 and 3 > 2)\n",
        "print(2 > 1 and 3 < 2)\n",
        "print(2 > 1 or  3 < 2)\n",
        "print(2 < 1 and 3 < 2)"
      ],
      "execution_count": null,
      "outputs": [
        {
          "output_type": "stream",
          "name": "stdout",
          "text": [
            "True\n",
            "False\n",
            "True\n",
            "False\n"
          ]
        }
      ]
    },
    {
      "cell_type": "code",
      "metadata": {
        "colab": {
          "base_uri": "https://localhost:8080/"
        },
        "id": "-NWNaFtj3Amd",
        "outputId": "141c45d8-7aa2-40df-8aca-28f4d7fe3ae4"
      },
      "source": [
        "#Ejemplo Propio\n",
        "print(9**2 > 18 and 3*3 > 9)\n",
        "print(9*2 > 3*3 and 3**3 < 9**2)\n",
        "print(2*9 > 3*9 or  3*3 < 9*2)\n",
        "print(2**3 < 3*3 and 3**3 < 2*9)"
      ],
      "execution_count": null,
      "outputs": [
        {
          "output_type": "stream",
          "name": "stdout",
          "text": [
            "False\n",
            "True\n",
            "True\n",
            "False\n"
          ]
        }
      ]
    },
    {
      "cell_type": "markdown",
      "metadata": {
        "id": "kXwtJvyq3zLG"
      },
      "source": [
        "### Brackets in very complex statements:"
      ]
    },
    {
      "cell_type": "code",
      "metadata": {
        "colab": {
          "base_uri": "https://localhost:8080/"
        },
        "id": "Xfm0lBF036kr",
        "outputId": "0242ae5d-ee86-49f2-9b4d-6592620b906d"
      },
      "source": [
        "#Ejemplo de QuantConnect\n",
        "print((3 > 2 or 1 < 3) and (1!=3 and 4>3) and not ( 3 < 2 or 1 < 3 and (1!=3 and 4>3)))\n",
        "print(3 > 2 or 1 < 3 and (1!=3 and 4>3) and not ( 3 < 2 or 1 < 3 and (1!=3 and 4>3)))"
      ],
      "execution_count": null,
      "outputs": [
        {
          "output_type": "stream",
          "name": "stdout",
          "text": [
            "False\n",
            "True\n"
          ]
        }
      ]
    },
    {
      "cell_type": "code",
      "metadata": {
        "colab": {
          "base_uri": "https://localhost:8080/"
        },
        "id": "K4ESCBU537CU",
        "outputId": "8c25dcb5-af11-4f6b-a88f-526d1f6c1243"
      },
      "source": [
        "#Ejemplo Propio\n",
        "print((3**2 > 2**3 or 18 < 3**3) and (9!=3*3 and 81>=9**2) and not (3*2 < 9 and 18 < 3**3 and (18!=9*2 and 81>3**4)))\n",
        "print((3**2 > 2**3 or 18 < 3**3) and (9!=3*3 and 81>=9**2) or not (3*2 < 9 and 18 < 3**3 and (18!=9*2 and 81>3**4)))"
      ],
      "execution_count": null,
      "outputs": [
        {
          "output_type": "stream",
          "name": "stdout",
          "text": [
            "False\n",
            "True\n"
          ]
        }
      ]
    },
    {
      "cell_type": "markdown",
      "metadata": {
        "id": "2KNef1Jm5x5l"
      },
      "source": [
        "## _**If Statement**_"
      ]
    },
    {
      "cell_type": "markdown",
      "metadata": {
        "id": "aDMaqMKY5yNy"
      },
      "source": [
        "### Structure if, elif and else:"
      ]
    },
    {
      "cell_type": "code",
      "metadata": {
        "id": "ncO_VNVq6HY9"
      },
      "source": [
        "#Ejemplo de QuantConnect\n",
        "#if condition1:\n",
        "    # if condition1 is true, execute the code here\n",
        "    # and ignore the rest of this if statement\n",
        "#elif condition2:\n",
        "    # if condition1 is false, and condition2 is true, execute the code here\n",
        "    # and ignore the rest of this if statement\n",
        "#else:\n",
        "    # if none of the above conditions is True, execute the code here"
      ],
      "execution_count": null,
      "outputs": []
    },
    {
      "cell_type": "code",
      "metadata": {
        "colab": {
          "base_uri": "https://localhost:8080/"
        },
        "id": "QM7Gxfiu6HwT",
        "outputId": "12ba75ad-f68c-4830-9ac0-8facee676000"
      },
      "source": [
        "#Ejemplo Propio\n",
        "condicion_1 = 3*2 < 5\n",
        "condicion_2 = 3**2 < 10\n",
        "if condicion_1:\n",
        "    print('6 < 5')\n",
        "elif condicion_2:\n",
        "    print('9 < 10')\n",
        "else:\n",
        "    print('6 > 5 y 9 > 10')"
      ],
      "execution_count": null,
      "outputs": [
        {
          "output_type": "stream",
          "name": "stdout",
          "text": [
            "9 < 10\n"
          ]
        }
      ]
    },
    {
      "cell_type": "markdown",
      "metadata": {
        "id": "PfXtSX0v7ic7"
      },
      "source": [
        "### Without elif and else:"
      ]
    },
    {
      "cell_type": "code",
      "metadata": {
        "colab": {
          "base_uri": "https://localhost:8080/"
        },
        "id": "9RI1LXY07i2w",
        "outputId": "f7089768-0e02-4b82-f289-4f4bee990adf"
      },
      "source": [
        "#Ejemplo de QuantConnect\n",
        "i = 0\n",
        "if i == 0: print('i == 0 is True')"
      ],
      "execution_count": null,
      "outputs": [
        {
          "output_type": "stream",
          "name": "stdout",
          "text": [
            "i == 0 is True\n"
          ]
        }
      ]
    },
    {
      "cell_type": "code",
      "metadata": {
        "colab": {
          "base_uri": "https://localhost:8080/"
        },
        "id": "R6KGubKD7jK2",
        "outputId": "2abbd456-2549-4384-abae-5564ecf9338f"
      },
      "source": [
        "#Ejemplo Propio\n",
        "operacion = 3**3\n",
        "if operacion == 27: print('3^3 == 27 is True')"
      ],
      "execution_count": null,
      "outputs": [
        {
          "output_type": "stream",
          "name": "stdout",
          "text": [
            "3^3 == 27 is True\n"
          ]
        }
      ]
    },
    {
      "cell_type": "markdown",
      "metadata": {
        "id": "XJluDQ0-7jgr"
      },
      "source": [
        "### With complex statements:"
      ]
    },
    {
      "cell_type": "code",
      "metadata": {
        "colab": {
          "base_uri": "https://localhost:8080/"
        },
        "id": "FXZ0iQxO7kJ3",
        "outputId": "aeec52e6-5be1-421e-bbe8-6f412409f2d8"
      },
      "source": [
        "#Ejemplo de QuantConnect\n",
        "p = 1 > 0\n",
        "q = 2 > 3\n",
        "if p and q:\n",
        "    print('p and q is true')\n",
        "elif p and not q:\n",
        "    print('q is false')\n",
        "elif q and not p:\n",
        "    print('p is false')\n",
        "else:\n",
        "    print('None of p and q is true')"
      ],
      "execution_count": null,
      "outputs": [
        {
          "output_type": "stream",
          "name": "stdout",
          "text": [
            "q is false\n"
          ]
        }
      ]
    },
    {
      "cell_type": "code",
      "metadata": {
        "colab": {
          "base_uri": "https://localhost:8080/"
        },
        "id": "vVJk7aAA7kZJ",
        "outputId": "4d91b757-5b68-4123-bf1f-13dd04abf7a1"
      },
      "source": [
        "#Ejemplo Propio\n",
        "a = 3**3 > 3*3\n",
        "b = 2**2 > 2*2\n",
        "c = 3**2 > 3*2 and 2**3 > 2*3\n",
        "if a and b and c:\n",
        "    print('Todos los enunciados son correctos')\n",
        "elif not a and b and c:\n",
        "    print('a es falsa')\n",
        "elif a and b and not c:\n",
        "    print('c es falsa')\n",
        "elif not a and b and not c:\n",
        "    print('Sólo b es verdadera')\n",
        "elif a and not b and c:\n",
        "    print('b es falsa')\n",
        "elif not a and not b and c:\n",
        "    print('Sólo c es verdadera')\n",
        "elif a and not b and not c:\n",
        "    print('Sólo a es verdadera')\n",
        "else:\n",
        "    print('Todos los enunciados son falsos')"
      ],
      "execution_count": null,
      "outputs": [
        {
          "output_type": "stream",
          "name": "stdout",
          "text": [
            "b es falsa\n"
          ]
        }
      ]
    },
    {
      "cell_type": "markdown",
      "metadata": {
        "id": "oDiMnNsz-6ZP"
      },
      "source": [
        "## _**Loop Structure**_"
      ]
    },
    {
      "cell_type": "markdown",
      "metadata": {
        "id": "Ox8S4RGi_4Uy"
      },
      "source": [
        "### While Loop:"
      ]
    },
    {
      "cell_type": "code",
      "metadata": {
        "colab": {
          "base_uri": "https://localhost:8080/"
        },
        "id": "gxG7eWQ8_8XR",
        "outputId": "f6b8bdb3-ed2c-4b4f-fe5c-dc1ae9fd1e37"
      },
      "source": [
        "#Ejemplo de QuantConnect\n",
        "i = 0\n",
        "while i < 5:\n",
        "    print(i)\n",
        "    i += 1"
      ],
      "execution_count": null,
      "outputs": [
        {
          "output_type": "stream",
          "name": "stdout",
          "text": [
            "0\n",
            "1\n",
            "2\n",
            "3\n",
            "4\n"
          ]
        }
      ]
    },
    {
      "cell_type": "code",
      "metadata": {
        "colab": {
          "base_uri": "https://localhost:8080/"
        },
        "id": "xxK8Bf_4Aa07",
        "outputId": "da494cc9-cf96-42cf-abc0-da5b6df6a1dd"
      },
      "source": [
        "#Ejemplo Propio\n",
        "numero = 144.0\n",
        "while numero >= 4:\n",
        "    print(numero)\n",
        "    numero /= 2"
      ],
      "execution_count": null,
      "outputs": [
        {
          "output_type": "stream",
          "name": "stdout",
          "text": [
            "144.0\n",
            "72.0\n",
            "36.0\n",
            "18.0\n",
            "9.0\n",
            "4.5\n"
          ]
        }
      ]
    },
    {
      "cell_type": "markdown",
      "metadata": {
        "id": "3zxg0UpaAbNr"
      },
      "source": [
        "### For Loop:"
      ]
    },
    {
      "cell_type": "markdown",
      "metadata": {
        "id": "Dxu6p8QNBxzN"
      },
      "source": [
        "* #### *Simple iteration:*"
      ]
    },
    {
      "cell_type": "code",
      "metadata": {
        "colab": {
          "base_uri": "https://localhost:8080/"
        },
        "id": "q_08_gzoB4Qu",
        "outputId": "e13fa93d-92d7-4846-b1ff-a179f666c188"
      },
      "source": [
        "#Ejemplo de QuantConnect\n",
        "for x in [1,2,3,4,5]: print(x)"
      ],
      "execution_count": null,
      "outputs": [
        {
          "output_type": "stream",
          "name": "stdout",
          "text": [
            "1\n",
            "2\n",
            "3\n",
            "4\n",
            "5\n"
          ]
        }
      ]
    },
    {
      "cell_type": "code",
      "metadata": {
        "colab": {
          "base_uri": "https://localhost:8080/"
        },
        "id": "nUN5lEbuB4iQ",
        "outputId": "10904c17-1370-4203-c55a-652a7dd31ca3"
      },
      "source": [
        "#Ejemplo Propio\n",
        "for letra in 'JuanPabloBustamante': print(letra)"
      ],
      "execution_count": null,
      "outputs": [
        {
          "output_type": "stream",
          "name": "stdout",
          "text": [
            "J\n",
            "u\n",
            "a\n",
            "n\n",
            "P\n",
            "a\n",
            "b\n",
            "l\n",
            "o\n",
            "B\n",
            "u\n",
            "s\n",
            "t\n",
            "a\n",
            "m\n",
            "a\n",
            "n\n",
            "t\n",
            "e\n"
          ]
        }
      ]
    },
    {
      "cell_type": "markdown",
      "metadata": {
        "id": "DPUh6bllCZvj"
      },
      "source": [
        "* #### *Pairs trading algorithm:*"
      ]
    },
    {
      "cell_type": "code",
      "metadata": {
        "colab": {
          "base_uri": "https://localhost:8080/"
        },
        "id": "dqu2ycvtCaOH",
        "outputId": "5bb7c20c-6cf7-4698-dcda-16b55ca393c0"
      },
      "source": [
        "#Ejemplo de QuantConnect\n",
        "stocks = ['AAPL','GOOG','IBM','FB','F','V', 'G', 'GE']\n",
        "selected = ['AAPL','IBM']\n",
        "new_list = []\n",
        "for stock in stocks:\n",
        "    if stock not in selected:\n",
        "        new_list.append(stock)\n",
        "print(new_list)"
      ],
      "execution_count": null,
      "outputs": [
        {
          "output_type": "stream",
          "name": "stdout",
          "text": [
            "['GOOG', 'FB', 'F', 'V', 'G', 'GE']\n"
          ]
        }
      ]
    },
    {
      "cell_type": "code",
      "metadata": {
        "colab": {
          "base_uri": "https://localhost:8080/"
        },
        "id": "b1UbpT3VCauU",
        "outputId": "36853a9d-35ab-48f3-902c-337c3c50f97d"
      },
      "source": [
        "#Ejemplo Propio\n",
        "productos = ['Producto1','Producto2','Producto3','Producto4','Producto5','Producto6', 'Producto7', 'Producto8', 'Producto9']\n",
        "seleccionados = ['Producto6','Producto2','Producto9']\n",
        "disponibles = []\n",
        "for producto in productos:\n",
        "    if producto not in seleccionados:\n",
        "        disponibles.append(producto)\n",
        "print(disponibles)"
      ],
      "execution_count": null,
      "outputs": [
        {
          "output_type": "stream",
          "name": "stdout",
          "text": [
            "['Producto1', 'Producto3', 'Producto4', 'Producto5', 'Producto7', 'Producto8']\n"
          ]
        }
      ]
    },
    {
      "cell_type": "markdown",
      "metadata": {
        "id": "yO6wUduzFTR9"
      },
      "source": [
        "### Break and continue:"
      ]
    },
    {
      "cell_type": "markdown",
      "metadata": {
        "id": "29FykLpwF2cX"
      },
      "source": [
        "* #### *Break:*"
      ]
    },
    {
      "cell_type": "code",
      "metadata": {
        "colab": {
          "base_uri": "https://localhost:8080/"
        },
        "id": "00AwJZ-dFa6H",
        "outputId": "596efd19-451b-488f-ccea-7a2a8a66c2b7"
      },
      "source": [
        "#Ejemplo de QuantConnect\n",
        "stocks = ['AAPL','GOOG','IBM','FB','F','V', 'G', 'GE']\n",
        "for stock in stocks:\n",
        "    print(stock)\n",
        "    if stock == 'FB': break"
      ],
      "execution_count": null,
      "outputs": [
        {
          "output_type": "stream",
          "name": "stdout",
          "text": [
            "AAPL\n",
            "GOOG\n",
            "IBM\n",
            "FB\n"
          ]
        }
      ]
    },
    {
      "cell_type": "code",
      "metadata": {
        "colab": {
          "base_uri": "https://localhost:8080/"
        },
        "id": "IjZYaeNnFgji",
        "outputId": "47c3d60e-b3dd-47e6-e665-5e865b02d3f0"
      },
      "source": [
        "#Ejemplo Propio\n",
        "digitos = [1,2,3,4,5,6,7,8,9]\n",
        "for digito in digitos:\n",
        "    print(digito, 'x', 7, '=', digito*7)\n",
        "    if digito == 7: break"
      ],
      "execution_count": null,
      "outputs": [
        {
          "output_type": "stream",
          "name": "stdout",
          "text": [
            "1 x 7 = 7\n",
            "2 x 7 = 14\n",
            "3 x 7 = 21\n",
            "4 x 7 = 28\n",
            "5 x 7 = 35\n",
            "6 x 7 = 42\n",
            "7 x 7 = 49\n"
          ]
        }
      ]
    },
    {
      "cell_type": "markdown",
      "metadata": {
        "id": "z3okQaU9FhHk"
      },
      "source": [
        "* #### *Continue:*"
      ]
    },
    {
      "cell_type": "code",
      "metadata": {
        "colab": {
          "base_uri": "https://localhost:8080/"
        },
        "id": "JJbRM1hWG_Wf",
        "outputId": "c37468e6-1dfa-446d-b61e-e9965c34ca60"
      },
      "source": [
        "#Ejemplo de QuantConnect\n",
        "stocks = ['AAPL','GOOG','IBM','FB','F','V', 'G', 'GE']\n",
        "for stock in stocks:\n",
        "    if stock == 'FB': continue\n",
        "    print(stock)"
      ],
      "execution_count": null,
      "outputs": [
        {
          "output_type": "stream",
          "name": "stdout",
          "text": [
            "AAPL\n",
            "GOOG\n",
            "IBM\n",
            "F\n",
            "V\n",
            "G\n",
            "GE\n"
          ]
        }
      ]
    },
    {
      "cell_type": "code",
      "metadata": {
        "colab": {
          "base_uri": "https://localhost:8080/"
        },
        "id": "YPOGnkDFG_vn",
        "outputId": "1ab6b25f-acfe-4317-df9f-a57cf52e5b35"
      },
      "source": [
        "#Ejemplo Propio\n",
        "digitos = [1,2,3,4,5,0,6,7,8,9]\n",
        "for digito in digitos:\n",
        "    print(digito, 'x', 9, '=', digito*9)\n",
        "    if digito == 0: break"
      ],
      "execution_count": null,
      "outputs": [
        {
          "output_type": "stream",
          "name": "stdout",
          "text": [
            "1 x 9 = 9\n",
            "2 x 9 = 18\n",
            "3 x 9 = 27\n",
            "4 x 9 = 36\n",
            "5 x 9 = 45\n",
            "0 x 9 = 0\n"
          ]
        }
      ]
    },
    {
      "cell_type": "markdown",
      "metadata": {
        "id": "2lKdBfZWHADG"
      },
      "source": [
        "## _**List Comprehension**_"
      ]
    },
    {
      "cell_type": "markdown",
      "metadata": {
        "id": "M8RDu93XH38C"
      },
      "source": [
        "### Create a list using a loop:"
      ]
    },
    {
      "cell_type": "code",
      "metadata": {
        "colab": {
          "base_uri": "https://localhost:8080/"
        },
        "id": "eAe_RnaqH2rw",
        "outputId": "20b90106-61c6-44b5-8245-e2034195e425"
      },
      "source": [
        "#Ejemplo de QuantConnect\n",
        "squares = []\n",
        "for i in [1,2,3,4,5]:\n",
        "    squares.append(i**2)\n",
        "print(squares)"
      ],
      "execution_count": null,
      "outputs": [
        {
          "output_type": "stream",
          "name": "stdout",
          "text": [
            "[1, 4, 9, 16, 25]\n"
          ]
        }
      ]
    },
    {
      "cell_type": "code",
      "metadata": {
        "colab": {
          "base_uri": "https://localhost:8080/"
        },
        "id": "g3_RcrR4IKbR",
        "outputId": "3b832f5e-526f-472d-cfcb-21f1030e4cc5"
      },
      "source": [
        "#Ejemplo Propio\n",
        "cubos_i = []\n",
        "impares = [1,3,5,7,9]\n",
        "for j in impares:\n",
        "    cubos_i.append(j**3)\n",
        "print(cubos_i)"
      ],
      "execution_count": null,
      "outputs": [
        {
          "output_type": "stream",
          "name": "stdout",
          "text": [
            "[1, 27, 125, 343, 729]\n"
          ]
        }
      ]
    },
    {
      "cell_type": "markdown",
      "metadata": {
        "id": "ijXfexTNIK1F"
      },
      "source": [
        "### Create a list using list comprehension:"
      ]
    },
    {
      "cell_type": "code",
      "metadata": {
        "colab": {
          "base_uri": "https://localhost:8080/"
        },
        "id": "GXOch-yuI2l7",
        "outputId": "355d2358-0985-4bf1-89c4-2ecd78527863"
      },
      "source": [
        "#Ejemplo de QuantConnect\n",
        "foo = [1,2,3,4,5]\n",
        "squares = [x**2 for x in foo]\n",
        "print(squares)"
      ],
      "execution_count": null,
      "outputs": [
        {
          "output_type": "stream",
          "name": "stdout",
          "text": [
            "[1, 4, 9, 16, 25]\n"
          ]
        }
      ]
    },
    {
      "cell_type": "code",
      "metadata": {
        "colab": {
          "base_uri": "https://localhost:8080/"
        },
        "id": "aP87A8WMI26e",
        "outputId": "4743a11a-ba2d-49f7-f04e-aafd697fd4c8"
      },
      "source": [
        "#Ejemplo Propio\n",
        "pares = [2,4,6,8,10]\n",
        "cubos_p = [y**3 for y in pares]\n",
        "print(cubos_p)"
      ],
      "execution_count": null,
      "outputs": [
        {
          "output_type": "stream",
          "name": "stdout",
          "text": [
            "[8, 64, 216, 512, 1000]\n"
          ]
        }
      ]
    },
    {
      "cell_type": "markdown",
      "metadata": {
        "id": "1SY8f97wJb8M"
      },
      "source": [
        "### Select sotcks with list comprehension:"
      ]
    },
    {
      "cell_type": "code",
      "metadata": {
        "colab": {
          "base_uri": "https://localhost:8080/"
        },
        "id": "HnK2RcOdJjeU",
        "outputId": "d2a7a3c1-953a-45a5-de73-67b45a1ab61d"
      },
      "source": [
        "#Ejemplo de QuantConnect\n",
        "stocks = ['AAPL','GOOG','IBM','FB','F','V', 'G', 'GE']\n",
        "selected = ['AAPL','IBM']\n",
        "new_list = [x for x in stocks if x not in selected]\n",
        "print(new_list)"
      ],
      "execution_count": null,
      "outputs": [
        {
          "output_type": "stream",
          "name": "stdout",
          "text": [
            "['GOOG', 'FB', 'F', 'V', 'G', 'GE']\n"
          ]
        }
      ]
    },
    {
      "cell_type": "code",
      "metadata": {
        "colab": {
          "base_uri": "https://localhost:8080/"
        },
        "id": "nNmhuP-GJjwo",
        "outputId": "15b1f885-89ba-4e75-92a8-3a1d1c8dcd74"
      },
      "source": [
        "#Ejemplo Propio\n",
        "productos = ['Producto1','Producto2','Producto3','Producto4','Producto5','Producto6', 'Producto7', 'Producto8', 'Producto9']\n",
        "seleccionados = ['Producto6','Producto2','Producto9']\n",
        "disponibles = [producto for producto in productos if producto not in seleccionados]\n",
        "print(disponibles)"
      ],
      "execution_count": null,
      "outputs": [
        {
          "output_type": "stream",
          "name": "stdout",
          "text": [
            "['Producto1', 'Producto3', 'Producto4', 'Producto5', 'Producto7', 'Producto8']\n"
          ]
        }
      ]
    },
    {
      "cell_type": "markdown",
      "metadata": {
        "id": "JbYxhxfYKYmP"
      },
      "source": [
        "### List comprehension with \"for\" and \"if\" clauses:"
      ]
    },
    {
      "cell_type": "code",
      "metadata": {
        "colab": {
          "base_uri": "https://localhost:8080/"
        },
        "id": "1K7xEhZUKpvc",
        "outputId": "b3ffd117-48ea-4760-8bb5-665ceae6db56"
      },
      "source": [
        "#Ejemplo de QuantConnect\n",
        "print([(x, y) for x in [1,2,3] for y in [3,1,4] if x != y])\n",
        "print([str(x) + ' vs ' + str(y) for x in ['AAPL','GOOG','IBM','FB']\n",
        "                                for y in ['F','V','G','GE'] if x != y])"
      ],
      "execution_count": null,
      "outputs": [
        {
          "output_type": "stream",
          "name": "stdout",
          "text": [
            "[(1, 3), (1, 4), (2, 3), (2, 1), (2, 4), (3, 1), (3, 4)]\n",
            "['AAPL vs F', 'AAPL vs V', 'AAPL vs G', 'AAPL vs GE', 'GOOG vs F', 'GOOG vs V', 'GOOG vs G', 'GOOG vs GE', 'IBM vs F', 'IBM vs V', 'IBM vs G', 'IBM vs GE', 'FB vs F', 'FB vs V', 'FB vs G', 'FB vs GE']\n"
          ]
        }
      ]
    },
    {
      "cell_type": "code",
      "metadata": {
        "colab": {
          "base_uri": "https://localhost:8080/"
        },
        "id": "r_XhDDWZKqA0",
        "outputId": "5dbdcb8e-71bc-4c78-9e81-fd618e7702ce"
      },
      "source": [
        "#Ejemplo Propio\n",
        "print([(i*j) for i in [4,5,6,7] for j in [2,4,6,8] if i == j])\n",
        "print([str(m) + ' = ' + str(n) for m in ['Twitter','Facebook','WhatsApp']\n",
        "                                for n in ['Facebook','Instagram'] if m != n])"
      ],
      "execution_count": null,
      "outputs": [
        {
          "output_type": "stream",
          "name": "stdout",
          "text": [
            "[16, 36]\n",
            "['Twitter = Facebook', 'Twitter = Instagram', 'Facebook = Instagram', 'WhatsApp = Facebook', 'WhatsApp = Instagram']\n"
          ]
        }
      ]
    },
    {
      "cell_type": "markdown",
      "metadata": {
        "id": "oT3A35Y_NOW9"
      },
      "source": [
        "# **Tutorial 3. Python: Functions and Object-Oriented Programming**"
      ]
    },
    {
      "cell_type": "markdown",
      "metadata": {
        "id": "hy1y1jC6Ng2t"
      },
      "source": [
        "## _**Functions**_"
      ]
    },
    {
      "cell_type": "markdown",
      "metadata": {
        "id": "4_g88kmTQEki"
      },
      "source": [
        "### Define a function:"
      ]
    },
    {
      "cell_type": "code",
      "metadata": {
        "colab": {
          "base_uri": "https://localhost:8080/"
        },
        "id": "n9cgyr3ZQGXP",
        "outputId": "b02a474b-dbf6-4095-b96a-d950775b56af"
      },
      "source": [
        "#Ejemplo de QuantConnect\n",
        "def product(x,y):\n",
        "    return x*y\n",
        "print(product(2,3))\n",
        "print(product(5,10))"
      ],
      "execution_count": null,
      "outputs": [
        {
          "output_type": "stream",
          "name": "stdout",
          "text": [
            "6\n",
            "50\n"
          ]
        }
      ]
    },
    {
      "cell_type": "code",
      "metadata": {
        "colab": {
          "base_uri": "https://localhost:8080/"
        },
        "id": "rvv1nL8VQGs9",
        "outputId": "95906dee-1a2b-40a2-ff47-8fb7afd54119"
      },
      "source": [
        "#Ejemplo Propio\n",
        "def divisiones_sucesivas(a,b,c):\n",
        "  for i in range(0,c):\n",
        "    a = a/b\n",
        "  return a\n",
        "print(divisiones_sucesivas(512,2,6))\n",
        "print(divisiones_sucesivas(2187,3,4))"
      ],
      "execution_count": null,
      "outputs": [
        {
          "output_type": "stream",
          "name": "stdout",
          "text": [
            "8.0\n",
            "27.0\n"
          ]
        }
      ]
    },
    {
      "cell_type": "markdown",
      "metadata": {
        "id": "8l5dAHlHQHAI"
      },
      "source": [
        "### Function without parameters:"
      ]
    },
    {
      "cell_type": "code",
      "metadata": {
        "colab": {
          "base_uri": "https://localhost:8080/"
        },
        "id": "MkmDb-oIQIN1",
        "outputId": "d26a8313-a2ba-463e-9831-e95ecd3e20f1"
      },
      "source": [
        "#Ejemplo de QuantConnect\n",
        "def say_hi():\n",
        "    print(\"Welcome to QuantConnect\")\n",
        "say_hi()"
      ],
      "execution_count": null,
      "outputs": [
        {
          "output_type": "stream",
          "name": "stdout",
          "text": [
            "Welcome to QuantConnect\n"
          ]
        }
      ]
    },
    {
      "cell_type": "code",
      "metadata": {
        "colab": {
          "base_uri": "https://localhost:8080/"
        },
        "id": "TKdtXOtdQIrp",
        "outputId": "92f035fc-0454-44c6-f2b4-248018670817"
      },
      "source": [
        "#Ejemplo Propio\n",
        "def alfabeto():\n",
        "    for l in \"abcdefghijklmnopqrstuvwxyz\": print(l)\n",
        "alfabeto()"
      ],
      "execution_count": null,
      "outputs": [
        {
          "output_type": "stream",
          "name": "stdout",
          "text": [
            "a\n",
            "b\n",
            "c\n",
            "d\n",
            "e\n",
            "f\n",
            "g\n",
            "h\n",
            "i\n",
            "j\n",
            "k\n",
            "l\n",
            "m\n",
            "n\n",
            "o\n",
            "p\n",
            "q\n",
            "r\n",
            "s\n",
            "t\n",
            "u\n",
            "v\n",
            "w\n",
            "x\n",
            "y\n",
            "z\n"
          ]
        }
      ]
    },
    {
      "cell_type": "markdown",
      "metadata": {
        "id": "EOqQHiChQJAb"
      },
      "source": [
        "## _**Built-in Function**_"
      ]
    },
    {
      "cell_type": "markdown",
      "metadata": {
        "id": "1ZcQyIshUTDZ"
      },
      "source": [
        "### range():"
      ]
    },
    {
      "cell_type": "code",
      "metadata": {
        "colab": {
          "base_uri": "https://localhost:8080/"
        },
        "id": "yeHvPY5uUgnA",
        "outputId": "d3449f61-7a4c-43af-c2c9-75d70393fd9e"
      },
      "source": [
        "#Ejemplo de QuantConnect\n",
        "print(list(range(10)))\n",
        "print(list(range(1, 11)))\n",
        "print(list(range(1, 11, 2)))"
      ],
      "execution_count": null,
      "outputs": [
        {
          "output_type": "stream",
          "name": "stdout",
          "text": [
            "[0, 1, 2, 3, 4, 5, 6, 7, 8, 9]\n",
            "[1, 2, 3, 4, 5, 6, 7, 8, 9, 10]\n",
            "[1, 3, 5, 7, 9]\n"
          ]
        }
      ]
    },
    {
      "cell_type": "code",
      "metadata": {
        "colab": {
          "base_uri": "https://localhost:8080/"
        },
        "id": "B4V61M7DUg9T",
        "outputId": "c3232d1c-8f91-4a39-9d69-cc9ac94f94e6"
      },
      "source": [
        "#Ejemplo Propio\n",
        "print(list(range(6)))\n",
        "print(list(range(18, 28)))\n",
        "print(list(range(15, 31, 3)))"
      ],
      "execution_count": null,
      "outputs": [
        {
          "output_type": "stream",
          "name": "stdout",
          "text": [
            "[0, 1, 2, 3, 4, 5]\n",
            "[18, 19, 20, 21, 22, 23, 24, 25, 26, 27]\n",
            "[15, 18, 21, 24, 27, 30]\n"
          ]
        }
      ]
    },
    {
      "cell_type": "markdown",
      "metadata": {
        "id": "FE-DKeQsUhWC"
      },
      "source": [
        "### len():"
      ]
    },
    {
      "cell_type": "code",
      "metadata": {
        "colab": {
          "base_uri": "https://localhost:8080/"
        },
        "id": "J_cJ4IjmUnRV",
        "outputId": "de7dcb3e-c0b1-4e45-883f-8b3f3cb408f7"
      },
      "source": [
        "#Ejemplo de QuantConnect\n",
        "tickers = ['AAPL', 'GOOGL', 'IBM', 'FB', 'F', 'V', 'G', 'GE']\n",
        "print(\"The number of tickers is {}\".format(len(tickers)))\n",
        "for k in range(len(tickers)):\n",
        "    print(k + 1, tickers[k])"
      ],
      "execution_count": null,
      "outputs": [
        {
          "output_type": "stream",
          "name": "stdout",
          "text": [
            "The number of tickers is 8\n",
            "1 AAPL\n",
            "2 GOOGL\n",
            "3 IBM\n",
            "4 FB\n",
            "5 F\n",
            "6 V\n",
            "7 G\n",
            "8 GE\n"
          ]
        }
      ]
    },
    {
      "cell_type": "code",
      "metadata": {
        "colab": {
          "base_uri": "https://localhost:8080/"
        },
        "id": "S2inyuwjUnuQ",
        "outputId": "5e4877d0-4d58-4eb8-b8ce-896e900ffcb4"
      },
      "source": [
        "#Ejemplo Propio\n",
        "redes = ['Facebook', 'Twitter', 'WhatsApp', 'Instagram', 'Tiktok', 'YouTube']\n",
        "print(\"El número de redes es {}\".format(len(redes)))\n",
        "for w in range(len(redes)):\n",
        "    print(w + 1, redes[w])"
      ],
      "execution_count": null,
      "outputs": [
        {
          "output_type": "stream",
          "name": "stdout",
          "text": [
            "El número de redes es 6\n",
            "1 Facebook\n",
            "2 Twitter\n",
            "3 WhatsApp\n",
            "4 Instagram\n",
            "5 Tiktok\n",
            "6 YouTube\n"
          ]
        }
      ]
    },
    {
      "cell_type": "markdown",
      "metadata": {
        "id": "XLvQXZVUUob_"
      },
      "source": [
        "### map():"
      ]
    },
    {
      "cell_type": "markdown",
      "metadata": {
        "id": "Gg67Z0haU8mn"
      },
      "source": [
        "* #### *Using the function:*"
      ]
    },
    {
      "cell_type": "code",
      "metadata": {
        "id": "gigC4sJxVDFY",
        "colab": {
          "base_uri": "https://localhost:8080/"
        },
        "outputId": "513a14ed-7f44-4cbd-a08a-626d3b663c14"
      },
      "source": [
        "#Ejemplo de QuantConnect\n",
        "tickers = ['AAPL','GOOG','IBM','FB','F','V', 'G', 'GE']\n",
        "print(list(map(len,tickers)))"
      ],
      "execution_count": null,
      "outputs": [
        {
          "output_type": "stream",
          "name": "stdout",
          "text": [
            "[4, 4, 3, 2, 1, 1, 1, 2]\n"
          ]
        }
      ]
    },
    {
      "cell_type": "code",
      "metadata": {
        "id": "1U34coVgVDZD",
        "colab": {
          "base_uri": "https://localhost:8080/"
        },
        "outputId": "b4dd1299-4a7d-494d-8c31-baee4e5836dc"
      },
      "source": [
        "#Ejemplo Propio\n",
        "def minusculas(cad):\n",
        "    return cad.lower()\n",
        "cadenas = ['JUAN','PABLO','BUSTAMANTE','MORENO','UN', 'ALGORITMOS']\n",
        "print(list(map(minusculas,cadenas)))"
      ],
      "execution_count": null,
      "outputs": [
        {
          "output_type": "stream",
          "name": "stdout",
          "text": [
            "['juan', 'pablo', 'bustamante', 'moreno', 'un', 'algoritmos']\n"
          ]
        }
      ]
    },
    {
      "cell_type": "markdown",
      "metadata": {
        "id": "Nj0zIDRsVDvX"
      },
      "source": [
        "* #### *The lambda operator:*"
      ]
    },
    {
      "cell_type": "code",
      "metadata": {
        "id": "fLPRW-xoVHb1",
        "colab": {
          "base_uri": "https://localhost:8080/"
        },
        "outputId": "1d0e419d-4ee1-4fbd-843f-d2c5e9096a0e"
      },
      "source": [
        "#Ejemplo de QuantConnect\n",
        "print(list(map(lambda x: x**2, range(10))))"
      ],
      "execution_count": null,
      "outputs": [
        {
          "output_type": "stream",
          "name": "stdout",
          "text": [
            "[0, 1, 4, 9, 16, 25, 36, 49, 64, 81]\n"
          ]
        }
      ]
    },
    {
      "cell_type": "code",
      "metadata": {
        "id": "dkVkkjigVH2N",
        "colab": {
          "base_uri": "https://localhost:8080/"
        },
        "outputId": "44aed4ec-fb3b-4774-e303-830b21e365d8"
      },
      "source": [
        "#Ejemplo Propio\n",
        "print(list(range(1,10,2)))\n",
        "print(list(map(lambda x: x**3 > (x*2)**2, range(1,10,2))))"
      ],
      "execution_count": null,
      "outputs": [
        {
          "output_type": "stream",
          "name": "stdout",
          "text": [
            "[1, 3, 5, 7, 9]\n",
            "[False, False, True, True, True]\n"
          ]
        }
      ]
    },
    {
      "cell_type": "markdown",
      "metadata": {
        "id": "uqnL9SxBVIR7"
      },
      "source": [
        "* #### *Applying it to more than one list:*"
      ]
    },
    {
      "cell_type": "code",
      "metadata": {
        "id": "cN6M8Fx2VQRL",
        "colab": {
          "base_uri": "https://localhost:8080/"
        },
        "outputId": "62d9ec54-f212-4d65-fe73-c9f3bad1b7ec"
      },
      "source": [
        "#Ejemplo de QuantConnect\n",
        "print(list(map(lambda x, y: x+y, [1,2,3,4,5], [5,4,3,2,1])))"
      ],
      "execution_count": null,
      "outputs": [
        {
          "output_type": "stream",
          "name": "stdout",
          "text": [
            "[6, 6, 6, 6, 6]\n"
          ]
        }
      ]
    },
    {
      "cell_type": "code",
      "metadata": {
        "id": "X_gw9K-_VQrz",
        "colab": {
          "base_uri": "https://localhost:8080/"
        },
        "outputId": "d86bfa65-745a-4097-9d9d-be5dd2191f06"
      },
      "source": [
        "#Ejemplo Propio\n",
        "print(list(range(3,17,2)))\n",
        "print(list(range(16,1,-2)))\n",
        "print(\"Vector resultante:\")\n",
        "print(list(map(lambda x, y: (x*y)-(x+y), range(3,17,2), range(16,1,-2))))"
      ],
      "execution_count": null,
      "outputs": [
        {
          "output_type": "stream",
          "name": "stdout",
          "text": [
            "[3, 5, 7, 9, 11, 13, 15]\n",
            "[16, 14, 12, 10, 8, 6, 4, 2]\n",
            "Vector resultante:\n",
            "[29, 51, 65, 71, 69, 59, 41]\n"
          ]
        }
      ]
    },
    {
      "cell_type": "markdown",
      "metadata": {
        "id": "89ypgUj2VVyk"
      },
      "source": [
        "### sorted():"
      ]
    },
    {
      "cell_type": "markdown",
      "metadata": {
        "id": "qxwQl50uVXFX"
      },
      "source": [
        "* #### *Using the function:*"
      ]
    },
    {
      "cell_type": "code",
      "metadata": {
        "id": "KMEHiTCgVbDa",
        "colab": {
          "base_uri": "https://localhost:8080/"
        },
        "outputId": "c2beecd4-ca6c-494e-e7a3-bd1b659a22a6"
      },
      "source": [
        "#Ejemplo de QuantConnect\n",
        "sorted([5,2,3,4,1])"
      ],
      "execution_count": null,
      "outputs": [
        {
          "output_type": "execute_result",
          "data": {
            "text/plain": [
              "[1, 2, 3, 4, 5]"
            ]
          },
          "metadata": {},
          "execution_count": 199
        }
      ]
    },
    {
      "cell_type": "code",
      "metadata": {
        "id": "cW-uDiZCVbia",
        "colab": {
          "base_uri": "https://localhost:8080/"
        },
        "outputId": "6c66d300-d709-47b3-88aa-295f7e901c1d"
      },
      "source": [
        "#Ejemplo Propio\n",
        "sorted([3**2,2**4,2**3,3*4,3**4,4**3,2*3])"
      ],
      "execution_count": null,
      "outputs": [
        {
          "output_type": "execute_result",
          "data": {
            "text/plain": [
              "[6, 8, 9, 12, 16, 64, 81]"
            ]
          },
          "metadata": {},
          "execution_count": 200
        }
      ]
    },
    {
      "cell_type": "markdown",
      "metadata": {
        "id": "twuypuCBVcAm"
      },
      "source": [
        "* #### *Adding a key:*"
      ]
    },
    {
      "cell_type": "code",
      "metadata": {
        "id": "XZwi1B56ViI-",
        "colab": {
          "base_uri": "https://localhost:8080/"
        },
        "outputId": "b3e0e47d-ab9f-481f-c691-76fb7c5cb630"
      },
      "source": [
        "#Ejemplo de QuantConnect\n",
        "price_list = [('AAPL', 144.09), ('GOOGL', 911.71), ('MSFT', 69), ('FB', 150), ('WMT', 75.32)]\n",
        "sorted(price_list, key = lambda x: x[1])"
      ],
      "execution_count": null,
      "outputs": [
        {
          "output_type": "execute_result",
          "data": {
            "text/plain": [
              "[('MSFT', 69),\n",
              " ('WMT', 75.32),\n",
              " ('AAPL', 144.09),\n",
              " ('FB', 150),\n",
              " ('GOOGL', 911.71)]"
            ]
          },
          "metadata": {},
          "execution_count": 201
        }
      ]
    },
    {
      "cell_type": "code",
      "metadata": {
        "id": "bU3D82eSVieM",
        "colab": {
          "base_uri": "https://localhost:8080/"
        },
        "outputId": "d1244f3c-e0b1-492f-b511-2bfe033ba4c2"
      },
      "source": [
        "#Ejemplo Propio\n",
        "precios = [('Arroz', 2990, 3), ('Leche', 13200, 1), ('Café', 9360, 4), ('Chocolate', 4792, 2)]\n",
        "sorted(precios, key = lambda x: x[2])"
      ],
      "execution_count": null,
      "outputs": [
        {
          "output_type": "execute_result",
          "data": {
            "text/plain": [
              "[('Leche', 13200, 1),\n",
              " ('Chocolate', 4792, 2),\n",
              " ('Arroz', 2990, 3),\n",
              " ('Café', 9360, 4)]"
            ]
          },
          "metadata": {},
          "execution_count": 202
        }
      ]
    },
    {
      "cell_type": "markdown",
      "metadata": {
        "id": "1328FDjyVi0G"
      },
      "source": [
        "* #### *Reverse order:*"
      ]
    },
    {
      "cell_type": "code",
      "metadata": {
        "id": "k2vTBlKnVqPs",
        "colab": {
          "base_uri": "https://localhost:8080/"
        },
        "outputId": "67fee6d0-618f-4d43-bc1a-c03897b371ef"
      },
      "source": [
        "#Ejemplo de QuantConnect\n",
        "price_list = [('AAPL', 144.09), ('GOOGL', 911.71), ('MSFT', 69), ('FB', 150), ('WMT', 75.32)]\n",
        "sorted(price_list, key = lambda x: x[1], reverse = True)"
      ],
      "execution_count": null,
      "outputs": [
        {
          "output_type": "execute_result",
          "data": {
            "text/plain": [
              "[('GOOGL', 911.71),\n",
              " ('FB', 150),\n",
              " ('AAPL', 144.09),\n",
              " ('WMT', 75.32),\n",
              " ('MSFT', 69)]"
            ]
          },
          "metadata": {},
          "execution_count": 203
        }
      ]
    },
    {
      "cell_type": "code",
      "metadata": {
        "id": "_j339eQOVqra",
        "colab": {
          "base_uri": "https://localhost:8080/"
        },
        "outputId": "27b733f2-b6ad-4de9-d8ed-3509ca6cd752"
      },
      "source": [
        "#Ejemplo Propio\n",
        "precios = [('Arroz', 2990, 3), ('Leche', 13200, 1), ('Café', 9360, 4), ('Chocolate', 4792, 2)]\n",
        "sorted(precios, key = lambda x: x[1], reverse = True)"
      ],
      "execution_count": null,
      "outputs": [
        {
          "output_type": "execute_result",
          "data": {
            "text/plain": [
              "[('Leche', 13200, 1),\n",
              " ('Café', 9360, 4),\n",
              " ('Chocolate', 4792, 2),\n",
              " ('Arroz', 2990, 3)]"
            ]
          },
          "metadata": {},
          "execution_count": 204
        }
      ]
    },
    {
      "cell_type": "markdown",
      "metadata": {
        "id": "XU0cx6mjVrdv"
      },
      "source": [
        "* #### *The list.sort() function:*"
      ]
    },
    {
      "cell_type": "code",
      "metadata": {
        "id": "8BupIFzcV1LB",
        "colab": {
          "base_uri": "https://localhost:8080/"
        },
        "outputId": "d43025c1-ab9e-4a92-fabc-0b55718ba22c"
      },
      "source": [
        "#Ejemplo de QuantConnect\n",
        "price_list = [('AAPL', 144.09), ('GOOGL', 911.71), ('MSFT', 69), ('FB', 150), ('WMT', 75.32)]\n",
        "price_list.sort(key = lambda x: x[1])\n",
        "print(price_list)"
      ],
      "execution_count": null,
      "outputs": [
        {
          "output_type": "stream",
          "name": "stdout",
          "text": [
            "[('MSFT', 69), ('WMT', 75.32), ('AAPL', 144.09), ('FB', 150), ('GOOGL', 911.71)]\n"
          ]
        }
      ]
    },
    {
      "cell_type": "code",
      "metadata": {
        "id": "9PkepZTNV1nW",
        "colab": {
          "base_uri": "https://localhost:8080/"
        },
        "outputId": "5aaacec9-ee4f-4806-82e9-7075834c2d8e"
      },
      "source": [
        "#Ejemplo Propio\n",
        "precios = [('Arroz', 2990, 3), ('Leche', 13200, 1), ('Café', 9360, 4), ('Chocolate', 4792, 2)]\n",
        "precios.sort(key = lambda x: x[0], reverse = True)\n",
        "print(precios)"
      ],
      "execution_count": null,
      "outputs": [
        {
          "output_type": "stream",
          "name": "stdout",
          "text": [
            "[('Leche', 13200, 1), ('Chocolate', 4792, 2), ('Café', 9360, 4), ('Arroz', 2990, 3)]\n"
          ]
        }
      ]
    },
    {
      "cell_type": "markdown",
      "metadata": {
        "id": "zqhyjC86qFEG"
      },
      "source": [
        "## _**Object-Oriented Programming**_"
      ]
    },
    {
      "cell_type": "markdown",
      "metadata": {
        "id": "UxtsWiqIqQ-5"
      },
      "source": [
        "### Class:"
      ]
    },
    {
      "cell_type": "markdown",
      "metadata": {
        "id": "MBMoDToGqS97"
      },
      "source": [
        "* #### *Defining a class:*"
      ]
    },
    {
      "cell_type": "code",
      "metadata": {
        "id": "kS0hqyC1qfdc"
      },
      "source": [
        "#Ejemplo de QuantConnect\n",
        "class Stock:\n",
        "    def __init__(self, ticker, open, close, volume):\n",
        "        self.ticker = ticker\n",
        "        self.open = open\n",
        "        self.close = close\n",
        "        self.volume = volume\n",
        "        self.rate_return = float(close)/open - 1\n",
        "\n",
        "    def update(self, open, close):\n",
        "        self.open = open\n",
        "        self.close = close\n",
        "        self.rate_return = float(self.close)/self.open - 1\n",
        "\n",
        "    def print_return(self):\n",
        "        print(self.rate_return)"
      ],
      "execution_count": null,
      "outputs": []
    },
    {
      "cell_type": "code",
      "metadata": {
        "id": "C2tJrwgTqfvh"
      },
      "source": [
        "#Ejemplo Propio\n",
        "class Estudiante:\n",
        "  def __init__(self, nombre, id, sede, carrera):\n",
        "    self.nombre = nombre\n",
        "    self.id = id\n",
        "    self.sede = sede\n",
        "    self.carrera = carrera\n",
        "    self.nota1 = None\n",
        "    self.nota2 = None\n",
        "    self.nota3 = None\n",
        "    self.promedio = None\n",
        "\n",
        "  def actualizar_datos(self, nombre, id, sede, carrera):\n",
        "    self.nombre = nombre\n",
        "    self.id = id\n",
        "    self.sede = sede\n",
        "    self.carrera = carrera \n",
        "\n",
        "  def cargar_notas(self, nota1, nota2, nota3):\n",
        "    self.nota1 = nota1\n",
        "    self.nota2 = nota2\n",
        "    self.nota3 = nota3\n",
        "    if self.nota1 != None and self.nota2 != None and self.nota3 != None:\n",
        "      self.promedio = (nota1+nota2+nota3)/3\n",
        "\n",
        "  def aprobacion(self):\n",
        "    if self.nota1 == None or self.nota2 == None or self.nota3 == None:\n",
        "      print(\"Faltan notas por subir\")\n",
        "    elif self.promedio < 3.0:\n",
        "      print(\"Estudiante Reprobado\")\n",
        "    else:\n",
        "      print(\"Estudiante Aprobado\")"
      ],
      "execution_count": null,
      "outputs": []
    },
    {
      "cell_type": "markdown",
      "metadata": {
        "id": "slrcu7BhqgFj"
      },
      "source": [
        "* #### *Creating objects:*"
      ]
    },
    {
      "cell_type": "code",
      "metadata": {
        "id": "jwtRYgJptPOU"
      },
      "source": [
        "#Ejemplo de QuantConnect\n",
        "apple  = Stock('AAPL', 143.69, 144.09, 20109375)\n",
        "google = Stock('GOOGL', 898.7, 911.7, 1561616)"
      ],
      "execution_count": null,
      "outputs": []
    },
    {
      "cell_type": "code",
      "metadata": {
        "id": "rTSEfJc-tPjv"
      },
      "source": [
        "#Ejemplo Propio\n",
        "primer_estudiante = Estudiante(\"Juan Pablo\",1001112569,\"Bogotá\",\"Ing. Sistemas\")\n",
        "segundo_estudiante = Estudiante(\"Rosa Lilia\",20659822,\"Palmira\",\"Idiomas\")"
      ],
      "execution_count": null,
      "outputs": []
    },
    {
      "cell_type": "markdown",
      "metadata": {
        "id": "_MiZsQkStQYG"
      },
      "source": [
        "* #### *Accessing the attributes and calling the methods:*"
      ]
    },
    {
      "cell_type": "code",
      "metadata": {
        "colab": {
          "base_uri": "https://localhost:8080/"
        },
        "id": "DC-Ih2QSuSNX",
        "outputId": "3e9fa424-150e-4594-c60b-aa60226a44ed"
      },
      "source": [
        "#Ejemplo de QuantConnect\n",
        "print(apple.ticker)\n",
        "google.print_return()\n",
        "google.update(912.8,913.4)\n",
        "google.print_return()"
      ],
      "execution_count": null,
      "outputs": [
        {
          "output_type": "stream",
          "name": "stdout",
          "text": [
            "AAPL\n",
            "0.014465338822744034\n",
            "0.0006573181419806673\n"
          ]
        }
      ]
    },
    {
      "cell_type": "code",
      "metadata": {
        "colab": {
          "base_uri": "https://localhost:8080/"
        },
        "id": "BaVX5q9TuSjQ",
        "outputId": "2f71f7bc-993f-4000-b88c-c29d797e7801"
      },
      "source": [
        "#Ejemplo Propio\n",
        "print(segundo_estudiante.id)\n",
        "print(segundo_estudiante.sede)\n",
        "segundo_estudiante.aprobacion()\n",
        "segundo_estudiante.cargar_notas(3.0,2.8,1.5)\n",
        "segundo_estudiante.aprobacion()\n",
        "segundo_estudiante.actualizar_datos(segundo_estudiante.nombre,segundo_estudiante.id,\"Bogotá\", segundo_estudiante.carrera)\n",
        "print(segundo_estudiante.sede)\n",
        "segundo_estudiante.cargar_notas(4.0,3.8,3.5)\n",
        "segundo_estudiante.aprobacion()"
      ],
      "execution_count": null,
      "outputs": [
        {
          "output_type": "stream",
          "name": "stdout",
          "text": [
            "20659822\n",
            "Palmira\n",
            "Faltan notas por subir\n",
            "Estudiante Reprobado\n",
            "Bogotá\n",
            "Estudiante Aprobado\n"
          ]
        }
      ]
    },
    {
      "cell_type": "markdown",
      "metadata": {
        "id": "RRD1siiOuS5X"
      },
      "source": [
        "* #### *Adding an attribute::*"
      ]
    },
    {
      "cell_type": "code",
      "metadata": {
        "colab": {
          "base_uri": "https://localhost:8080/"
        },
        "id": "BOzAx7NpughV",
        "outputId": "9a3fd701-9f03-4e07-c986-6acc73971565"
      },
      "source": [
        "#Ejemplo de QuantConnect\n",
        "apple.ceo = 'Tim Cook'\n",
        "print(apple.ceo)"
      ],
      "execution_count": null,
      "outputs": [
        {
          "output_type": "stream",
          "name": "stdout",
          "text": [
            "Tim Cook\n"
          ]
        }
      ]
    },
    {
      "cell_type": "code",
      "metadata": {
        "colab": {
          "base_uri": "https://localhost:8080/"
        },
        "id": "46C8PUVbugyN",
        "outputId": "6f8b8ac6-f4df-4f6f-84bc-0df6837f827f"
      },
      "source": [
        "#Ejemplo Propio\n",
        "primer_estudiante.ingreso = 2019\n",
        "print(primer_estudiante.ingreso)"
      ],
      "execution_count": null,
      "outputs": [
        {
          "output_type": "stream",
          "name": "stdout",
          "text": [
            "2019\n"
          ]
        }
      ]
    },
    {
      "cell_type": "markdown",
      "metadata": {
        "id": "wwft-c8_uhBN"
      },
      "source": [
        "* #### *The function dir():*"
      ]
    },
    {
      "cell_type": "code",
      "metadata": {
        "colab": {
          "base_uri": "https://localhost:8080/"
        },
        "id": "TGib1XfJun8l",
        "outputId": "19a803f5-b900-44e3-a163-3cc1d165ed62"
      },
      "source": [
        "#Ejemplo de QuantConnect\n",
        "dir(apple)"
      ],
      "execution_count": null,
      "outputs": [
        {
          "output_type": "execute_result",
          "data": {
            "text/plain": [
              "['__class__',\n",
              " '__delattr__',\n",
              " '__dict__',\n",
              " '__dir__',\n",
              " '__doc__',\n",
              " '__eq__',\n",
              " '__format__',\n",
              " '__ge__',\n",
              " '__getattribute__',\n",
              " '__gt__',\n",
              " '__hash__',\n",
              " '__init__',\n",
              " '__init_subclass__',\n",
              " '__le__',\n",
              " '__lt__',\n",
              " '__module__',\n",
              " '__ne__',\n",
              " '__new__',\n",
              " '__reduce__',\n",
              " '__reduce_ex__',\n",
              " '__repr__',\n",
              " '__setattr__',\n",
              " '__sizeof__',\n",
              " '__str__',\n",
              " '__subclasshook__',\n",
              " '__weakref__',\n",
              " 'ceo',\n",
              " 'close',\n",
              " 'open',\n",
              " 'print_return',\n",
              " 'rate_return',\n",
              " 'ticker',\n",
              " 'update',\n",
              " 'volume']"
            ]
          },
          "metadata": {},
          "execution_count": 215
        }
      ]
    },
    {
      "cell_type": "code",
      "metadata": {
        "colab": {
          "base_uri": "https://localhost:8080/"
        },
        "id": "HKYx9vBDuoPi",
        "outputId": "723060f0-e215-4277-a844-1295544b8c9e"
      },
      "source": [
        "#Ejemplo Propio\n",
        "dir(primer_estudiante)"
      ],
      "execution_count": null,
      "outputs": [
        {
          "output_type": "execute_result",
          "data": {
            "text/plain": [
              "['__class__',\n",
              " '__delattr__',\n",
              " '__dict__',\n",
              " '__dir__',\n",
              " '__doc__',\n",
              " '__eq__',\n",
              " '__format__',\n",
              " '__ge__',\n",
              " '__getattribute__',\n",
              " '__gt__',\n",
              " '__hash__',\n",
              " '__init__',\n",
              " '__init_subclass__',\n",
              " '__le__',\n",
              " '__lt__',\n",
              " '__module__',\n",
              " '__ne__',\n",
              " '__new__',\n",
              " '__reduce__',\n",
              " '__reduce_ex__',\n",
              " '__repr__',\n",
              " '__setattr__',\n",
              " '__sizeof__',\n",
              " '__str__',\n",
              " '__subclasshook__',\n",
              " '__weakref__',\n",
              " 'actualizar_datos',\n",
              " 'aprobacion',\n",
              " 'cargar_notas',\n",
              " 'carrera',\n",
              " 'id',\n",
              " 'ingreso',\n",
              " 'nombre',\n",
              " 'nota1',\n",
              " 'nota2',\n",
              " 'nota3',\n",
              " 'promedio',\n",
              " 'sede']"
            ]
          },
          "metadata": {},
          "execution_count": 216
        }
      ]
    },
    {
      "cell_type": "markdown",
      "metadata": {
        "id": "ydPByef8uoog"
      },
      "source": [
        "### Inheritance:"
      ]
    },
    {
      "cell_type": "markdown",
      "metadata": {
        "id": "WTSDWGZJusRB"
      },
      "source": [
        "* #### *Defining the child class:*"
      ]
    },
    {
      "cell_type": "code",
      "metadata": {
        "id": "onFG9SuEu0WP"
      },
      "source": [
        "#Ejemplo de QuantConnect\n",
        "class Child(Stock):\n",
        "    def __init__(self, name):\n",
        "        self.name = name"
      ],
      "execution_count": null,
      "outputs": []
    },
    {
      "cell_type": "code",
      "metadata": {
        "id": "TR1mQt38u0pA"
      },
      "source": [
        "#Ejemplo Propio\n",
        "class Monitor(Estudiante):\n",
        "  def __init__(self, salario):\n",
        "    self.salario = salario"
      ],
      "execution_count": null,
      "outputs": []
    },
    {
      "cell_type": "markdown",
      "metadata": {
        "id": "mp8vpxrfu075"
      },
      "source": [
        "* #### *Creating an object and using the methods of the parent class:*"
      ]
    },
    {
      "cell_type": "code",
      "metadata": {
        "colab": {
          "base_uri": "https://localhost:8080/"
        },
        "id": "M4B7n4b3u3kr",
        "outputId": "d9ff4660-67c4-47e1-96ea-9fade1ce8af5"
      },
      "source": [
        "#Ejemplo de QuantConnect\n",
        "aa = Child('AA')\n",
        "print(aa.name)\n",
        "aa.update(100, 102)\n",
        "print(aa.open)\n",
        "print(aa.close)\n",
        "aa.print_return()"
      ],
      "execution_count": null,
      "outputs": [
        {
          "output_type": "stream",
          "name": "stdout",
          "text": [
            "AA\n",
            "100\n",
            "102\n",
            "0.020000000000000018\n"
          ]
        }
      ]
    },
    {
      "cell_type": "code",
      "metadata": {
        "colab": {
          "base_uri": "https://localhost:8080/"
        },
        "id": "uhnIMowou35D",
        "outputId": "3d8886a6-976c-4085-927a-41847d90515e"
      },
      "source": [
        "#Ejemplo Propio\n",
        "monitor = Monitor(950000)\n",
        "print(monitor.salario)\n",
        "monitor.actualizar_datos(\"Blanca Estela\", 51754022, \"Medellín\", \"Artes Plásticas\")\n",
        "print(monitor.nombre)\n",
        "print(monitor.carrera)\n",
        "monitor.cargar_notas(5.0, 4.0, None)\n",
        "monitor.aprobacion()\n",
        "monitor.cargar_notas(monitor.nota1, monitor.nota2, 0.0)\n",
        "monitor.aprobacion()"
      ],
      "execution_count": null,
      "outputs": [
        {
          "output_type": "stream",
          "name": "stdout",
          "text": [
            "950000\n",
            "Blanca Estela\n",
            "Artes Plásticas\n",
            "Faltan notas por subir\n",
            "Estudiante Aprobado\n"
          ]
        }
      ]
    },
    {
      "cell_type": "markdown",
      "metadata": {
        "id": "E1VxRClrUd6V"
      },
      "source": [
        "# **Tutorial 4. Python: NumPy and Basic Pandas**"
      ]
    },
    {
      "cell_type": "markdown",
      "metadata": {
        "id": "FZbr9rrQUsPg"
      },
      "source": [
        "## _**NumPy**_"
      ]
    },
    {
      "cell_type": "markdown",
      "metadata": {
        "id": "_E2tPr4MU0Mh"
      },
      "source": [
        "### Import the package:"
      ]
    },
    {
      "cell_type": "code",
      "metadata": {
        "id": "8Lz518uJVMfv"
      },
      "source": [
        "import numpy as np"
      ],
      "execution_count": null,
      "outputs": []
    },
    {
      "cell_type": "markdown",
      "metadata": {
        "id": "x7kjUA8jVMzh"
      },
      "source": [
        "### Basic NumPy Arrays:"
      ]
    },
    {
      "cell_type": "markdown",
      "metadata": {
        "id": "mdqzRVNzVsk1"
      },
      "source": [
        "* #### *Make an array by passing a list:*"
      ]
    },
    {
      "cell_type": "code",
      "metadata": {
        "colab": {
          "base_uri": "https://localhost:8080/"
        },
        "id": "sy5zi_swV0qB",
        "outputId": "a19f0034-2a96-4f26-9343-122f353d33aa"
      },
      "source": [
        "#Ejemplo de QuantConnect\n",
        "price_list = [143.73, 145.83, 143.68, 144.02, 143.5, 142.62]\n",
        "price_array = np.array(price_list)\n",
        "print(price_array, type(price_array))"
      ],
      "execution_count": null,
      "outputs": [
        {
          "output_type": "stream",
          "name": "stdout",
          "text": [
            "[143.73 145.83 143.68 144.02 143.5  142.62] <class 'numpy.ndarray'>\n"
          ]
        }
      ]
    },
    {
      "cell_type": "code",
      "metadata": {
        "colab": {
          "base_uri": "https://localhost:8080/"
        },
        "id": "PuFTegt-V07c",
        "outputId": "b73b720c-09a6-4970-9527-eaa8881913fe"
      },
      "source": [
        "#Ejemplo Propio\n",
        "lista_notas = [5.0, 4.6, 3.8, 1.5, 2.7, 4.7, 4.0, 3.0, 4.2, 2.2, 3.3, 4.9]\n",
        "array_notas = np.array(lista_notas)\n",
        "print(array_notas)\n",
        "print(type(array_notas))"
      ],
      "execution_count": null,
      "outputs": [
        {
          "output_type": "stream",
          "name": "stdout",
          "text": [
            "[5.  4.6 3.8 1.5 2.7 4.7 4.  3.  4.2 2.2 3.3 4.9]\n",
            "<class 'numpy.ndarray'>\n"
          ]
        }
      ]
    },
    {
      "cell_type": "markdown",
      "metadata": {
        "id": "eoNzuc6DV1QQ"
      },
      "source": [
        "* #### *Create a 2-dimensional array:*"
      ]
    },
    {
      "cell_type": "code",
      "metadata": {
        "colab": {
          "base_uri": "https://localhost:8080/"
        },
        "id": "dd9-ha7QV_1y",
        "outputId": "16db2c69-2437-4ee7-9a81-4d2029a74853"
      },
      "source": [
        "#Ejemplo de QuantConnect\n",
        "Ar = np.array([[1,3], [2,4]])\n",
        "print(Ar, type(Ar))"
      ],
      "execution_count": null,
      "outputs": [
        {
          "output_type": "stream",
          "name": "stdout",
          "text": [
            "[[1 3]\n",
            " [2 4]] <class 'numpy.ndarray'>\n"
          ]
        }
      ]
    },
    {
      "cell_type": "code",
      "metadata": {
        "colab": {
          "base_uri": "https://localhost:8080/"
        },
        "id": "eGr6lnNYWAFw",
        "outputId": "7867f6db-ff93-4edc-eaf5-61531c407bee"
      },
      "source": [
        "#Ejemplo Propio\n",
        "costos = np.array([[21200,52990,11490], [15750,4380,44320], [1600, 87150, 34800]])\n",
        "print(costos)\n",
        "print(type(costos))"
      ],
      "execution_count": null,
      "outputs": [
        {
          "output_type": "stream",
          "name": "stdout",
          "text": [
            "[[21200 52990 11490]\n",
            " [15750  4380 44320]\n",
            " [ 1600 87150 34800]]\n",
            "<class 'numpy.ndarray'>\n"
          ]
        }
      ]
    },
    {
      "cell_type": "markdown",
      "metadata": {
        "id": "jQ3qMA1wWAX8"
      },
      "source": [
        "* #### *Get the dimensions of an ndarray:*"
      ]
    },
    {
      "cell_type": "code",
      "metadata": {
        "colab": {
          "base_uri": "https://localhost:8080/"
        },
        "id": "eduy-vHgWWBm",
        "outputId": "b6c7d32c-2707-44c0-f248-b5b1d026af00"
      },
      "source": [
        "#Ejemplo de QuantConnect\n",
        "print(Ar.shape)"
      ],
      "execution_count": null,
      "outputs": [
        {
          "output_type": "stream",
          "name": "stdout",
          "text": [
            "(2, 2)\n"
          ]
        }
      ]
    },
    {
      "cell_type": "code",
      "metadata": {
        "colab": {
          "base_uri": "https://localhost:8080/"
        },
        "id": "4haFYJ5YWWVy",
        "outputId": "42d2daa1-4791-410f-939f-b6ea128ea088"
      },
      "source": [
        "#Ejemplo Propio\n",
        "print(costos.shape)"
      ],
      "execution_count": null,
      "outputs": [
        {
          "output_type": "stream",
          "name": "stdout",
          "text": [
            "(3, 3)\n"
          ]
        }
      ]
    },
    {
      "cell_type": "markdown",
      "metadata": {
        "id": "A-45TjbCWeh7"
      },
      "source": [
        "* #### *Access each row by index:*"
      ]
    },
    {
      "cell_type": "code",
      "metadata": {
        "colab": {
          "base_uri": "https://localhost:8080/"
        },
        "id": "T05o2S8jWe1O",
        "outputId": "e0232174-7940-4653-9c5b-7e802e8c3391"
      },
      "source": [
        "#Ejemplo de QuantConnect\n",
        "print(Ar[0])\n",
        "print(Ar[1])"
      ],
      "execution_count": null,
      "outputs": [
        {
          "output_type": "stream",
          "name": "stdout",
          "text": [
            "[1 3]\n",
            "[2 4]\n"
          ]
        }
      ]
    },
    {
      "cell_type": "code",
      "metadata": {
        "colab": {
          "base_uri": "https://localhost:8080/"
        },
        "id": "Od9bv45bWfNQ",
        "outputId": "f04ffef3-ffb4-4812-9022-40cd372cb6af"
      },
      "source": [
        "#Ejemplo Propio\n",
        "print(costos[2])\n",
        "print(costos[0])\n",
        "print(costos[1])"
      ],
      "execution_count": null,
      "outputs": [
        {
          "output_type": "stream",
          "name": "stdout",
          "text": [
            "[ 1600 87150 34800]\n",
            "[21200 52990 11490]\n",
            "[15750  4380 44320]\n"
          ]
        }
      ]
    },
    {
      "cell_type": "markdown",
      "metadata": {
        "id": "kc2HKvu3Wfhr"
      },
      "source": [
        "* #### *Access the matrix by column:*"
      ]
    },
    {
      "cell_type": "code",
      "metadata": {
        "colab": {
          "base_uri": "https://localhost:8080/"
        },
        "id": "LUXBZdD4WvlB",
        "outputId": "69375799-4832-48d7-e7f8-141462cdc28b"
      },
      "source": [
        "#Ejemplo de QuantConnect\n",
        "print('First column:', Ar[:,0])\n",
        "print('Second column:', Ar[:,1])"
      ],
      "execution_count": null,
      "outputs": [
        {
          "output_type": "stream",
          "name": "stdout",
          "text": [
            "First column: [1 2]\n",
            "Second column: [3 4]\n"
          ]
        }
      ]
    },
    {
      "cell_type": "code",
      "metadata": {
        "colab": {
          "base_uri": "https://localhost:8080/"
        },
        "id": "InPuQty3Wv2U",
        "outputId": "5e0e310a-28dc-4469-bdc7-29713ef2744e"
      },
      "source": [
        "#Ejemplo Propio\n",
        "print('Tercera columna:', costos[:,2])\n",
        "print('Segunda columna:', costos[:,1])\n",
        "print('Primera columna:', costos[:,0])"
      ],
      "execution_count": null,
      "outputs": [
        {
          "output_type": "stream",
          "name": "stdout",
          "text": [
            "Tercera columna: [11490 44320 34800]\n",
            "Segunda columna: [52990  4380 87150]\n",
            "Primera columna: [21200 15750  1600]\n"
          ]
        }
      ]
    },
    {
      "cell_type": "markdown",
      "metadata": {
        "id": "y_8bFEzhWzcF"
      },
      "source": [
        "### Array Functions:"
      ]
    },
    {
      "cell_type": "markdown",
      "metadata": {
        "id": "znQ2gW12Wz35"
      },
      "source": [
        "* #### *Natural logarithm to each element of an array:*"
      ]
    },
    {
      "cell_type": "code",
      "metadata": {
        "colab": {
          "base_uri": "https://localhost:8080/"
        },
        "id": "4I0QEx5JW8zR",
        "outputId": "51bf2418-5ca2-4245-c6a7-36aa69b0111c"
      },
      "source": [
        "#Ejemplo de QuantConnect\n",
        "np.log(price_array)"
      ],
      "execution_count": null,
      "outputs": [
        {
          "output_type": "execute_result",
          "data": {
            "text/plain": [
              "array([4.96793654, 4.98244156, 4.9675886 , 4.96995218, 4.96633504,\n",
              "       4.96018375])"
            ]
          },
          "metadata": {},
          "execution_count": 19
        }
      ]
    },
    {
      "cell_type": "code",
      "metadata": {
        "colab": {
          "base_uri": "https://localhost:8080/"
        },
        "id": "lCJzBQ39W9EG",
        "outputId": "49cc8fc5-4f08-4fd9-8a43-1d65cf6e4eba"
      },
      "source": [
        "#Ejemplo Propio\n",
        "print(np.log(array_notas))\n",
        "print(np.log(costos))"
      ],
      "execution_count": null,
      "outputs": [
        {
          "output_type": "stream",
          "name": "stdout",
          "text": [
            "[1.60943791 1.5260563  1.33500107 0.40546511 0.99325177 1.54756251\n",
            " 1.38629436 1.09861229 1.43508453 0.78845736 1.19392247 1.58923521]\n",
            "[[ 9.96175646 10.8778585   9.34923237]\n",
            " [ 9.66459564  8.384804   10.69919132]\n",
            " [ 7.37775891 11.37538605 10.45737267]]\n"
          ]
        }
      ]
    },
    {
      "cell_type": "markdown",
      "metadata": {
        "id": "-mKO_VLZW9XQ"
      },
      "source": [
        "* #### *Functions that return a single value:*"
      ]
    },
    {
      "cell_type": "code",
      "metadata": {
        "colab": {
          "base_uri": "https://localhost:8080/"
        },
        "id": "KwDoTbAnW90g",
        "outputId": "861ebbdc-a460-4cb2-bd0b-f854fc21b6da"
      },
      "source": [
        "#Ejemplo de QuantConnect\n",
        "print(np.mean(price_array))\n",
        "print(np.std(price_array))\n",
        "print(np.sum(price_array))\n",
        "print(np.max(price_array))"
      ],
      "execution_count": null,
      "outputs": [
        {
          "output_type": "stream",
          "name": "stdout",
          "text": [
            "143.89666666666668\n",
            "0.9673790478515796\n",
            "863.38\n",
            "145.83\n"
          ]
        }
      ]
    },
    {
      "cell_type": "code",
      "metadata": {
        "colab": {
          "base_uri": "https://localhost:8080/"
        },
        "id": "M9WZQq-wW-el",
        "outputId": "ceda5d0e-a3b3-4014-ffc1-2ea74da9467c"
      },
      "source": [
        "#Ejemplo Propio\n",
        "print(np.median(array_notas))\n",
        "print(np.var(costos))\n",
        "print(np.sum(costos[2]))\n",
        "print(np.percentile(array_notas,75))\n",
        "print(np.count_nonzero(array_notas))\n",
        "print(np.dot(costos[1], costos[2]))\n",
        "print(np.trace(costos))"
      ],
      "execution_count": null,
      "outputs": [
        {
          "output_type": "stream",
          "name": "stdout",
          "text": [
            "4.1\n",
            "678591920.9876542\n",
            "123550\n",
            "4.625\n",
            "12\n",
            "1949253000\n",
            "60380\n"
          ]
        }
      ]
    },
    {
      "cell_type": "markdown",
      "metadata": {
        "id": "8151DtFVXAsY"
      },
      "source": [
        "## _**Pandas**_"
      ]
    },
    {
      "cell_type": "markdown",
      "metadata": {
        "id": "7RX4npDnXIj6"
      },
      "source": [
        "### Import the package:"
      ]
    },
    {
      "cell_type": "code",
      "metadata": {
        "id": "_8KRFX9rXMsd"
      },
      "source": [
        "import pandas as pd"
      ],
      "execution_count": 39,
      "outputs": []
    },
    {
      "cell_type": "markdown",
      "metadata": {
        "id": "_4BYsWwRXM_o"
      },
      "source": [
        "###Series:"
      ]
    },
    {
      "cell_type": "markdown",
      "metadata": {
        "id": "CsUrXqKmXa6a"
      },
      "source": [
        "* #### *Create a Series:*"
      ]
    },
    {
      "cell_type": "code",
      "metadata": {
        "colab": {
          "base_uri": "https://localhost:8080/"
        },
        "id": "aIYMwCSTXdTi",
        "outputId": "f7e0f584-4a5f-41a8-8ec4-0670df40315c"
      },
      "source": [
        "#Ejemplo de QuantConnect\n",
        "price = [143.73, 145.83, 143.68, 144.02, 143.5, 142.62]\n",
        "s = pd.Series(price)\n",
        "print(s)"
      ],
      "execution_count": null,
      "outputs": [
        {
          "output_type": "stream",
          "name": "stdout",
          "text": [
            "0    143.73\n",
            "1    145.83\n",
            "2    143.68\n",
            "3    144.02\n",
            "4    143.50\n",
            "5    142.62\n",
            "dtype: float64\n"
          ]
        }
      ]
    },
    {
      "cell_type": "code",
      "metadata": {
        "colab": {
          "base_uri": "https://localhost:8080/"
        },
        "id": "pdo1NHlsXdil",
        "outputId": "08af12b8-d7e4-480b-b4dd-3a1a38b95808"
      },
      "source": [
        "#Ejemplo Propio\n",
        "serie = pd.Series(array_notas)\n",
        "print(serie)"
      ],
      "execution_count": null,
      "outputs": [
        {
          "output_type": "stream",
          "name": "stdout",
          "text": [
            "0     5.0\n",
            "1     4.6\n",
            "2     3.8\n",
            "3     1.5\n",
            "4     2.7\n",
            "5     4.7\n",
            "6     4.0\n",
            "7     3.0\n",
            "8     4.2\n",
            "9     2.2\n",
            "10    3.3\n",
            "11    4.9\n",
            "dtype: float64\n"
          ]
        }
      ]
    },
    {
      "cell_type": "markdown",
      "metadata": {
        "id": "iFkJRKy-Xdyy"
      },
      "source": [
        "* #### *Customize the indices of a new Series:*"
      ]
    },
    {
      "cell_type": "code",
      "metadata": {
        "colab": {
          "base_uri": "https://localhost:8080/"
        },
        "id": "TWCo7giqXeWB",
        "outputId": "311ca86d-97f3-4f21-ddf6-d9280ad27e05"
      },
      "source": [
        "#Ejemplo de QuantConnect\n",
        "s = pd.Series(price, index = ['a', 'b', 'c', 'd', 'e', 'f'])\n",
        "print(s)"
      ],
      "execution_count": null,
      "outputs": [
        {
          "output_type": "stream",
          "name": "stdout",
          "text": [
            "a    143.73\n",
            "b    145.83\n",
            "c    143.68\n",
            "d    144.02\n",
            "e    143.50\n",
            "f    142.62\n",
            "dtype: float64\n"
          ]
        }
      ]
    },
    {
      "cell_type": "code",
      "metadata": {
        "colab": {
          "base_uri": "https://localhost:8080/"
        },
        "id": "gNIBPWcFXel9",
        "outputId": "1375c4d4-b647-4c13-9d91-978373750841"
      },
      "source": [
        "#Ejemplo Propio\n",
        "serie = pd.Series(array_notas, index = ['primero', 'segundo', 'tercero',\n",
        "                                        'cuarto', 'quinto', 'sexto',\n",
        "                                        'séptimo', 'octavo', 'noveno',\n",
        "                                        'décimo', 'undécimo', 'duodécimo'])\n",
        "print(serie)"
      ],
      "execution_count": null,
      "outputs": [
        {
          "output_type": "stream",
          "name": "stdout",
          "text": [
            "primero      5.0\n",
            "segundo      4.6\n",
            "tercero      3.8\n",
            "cuarto       1.5\n",
            "quinto       2.7\n",
            "sexto        4.7\n",
            "séptimo      4.0\n",
            "octavo       3.0\n",
            "noveno       4.2\n",
            "décimo       2.2\n",
            "undécimo     3.3\n",
            "duodécimo    4.9\n",
            "dtype: float64\n"
          ]
        }
      ]
    },
    {
      "cell_type": "markdown",
      "metadata": {
        "id": "Ngx6nvHHXe72"
      },
      "source": [
        "* #### *Change the indices of an existing Series:*"
      ]
    },
    {
      "cell_type": "code",
      "metadata": {
        "colab": {
          "base_uri": "https://localhost:8080/"
        },
        "id": "Jf9xZ6_sXkLD",
        "outputId": "b61a8de2-4f84-48cf-9c24-82941447041a"
      },
      "source": [
        "#Ejemplo de QuantConnect\n",
        "s.index = [6,5,4,3,2,1]\n",
        "print(s)"
      ],
      "execution_count": null,
      "outputs": [
        {
          "output_type": "stream",
          "name": "stdout",
          "text": [
            "6    143.73\n",
            "5    145.83\n",
            "4    143.68\n",
            "3    144.02\n",
            "2    143.50\n",
            "1    142.62\n",
            "dtype: float64\n"
          ]
        }
      ]
    },
    {
      "cell_type": "code",
      "metadata": {
        "colab": {
          "base_uri": "https://localhost:8080/"
        },
        "id": "kGoEWwa0XkfM",
        "outputId": "73d315c5-e4c1-4d3c-d83c-eb38f4fc9101"
      },
      "source": [
        "#Ejemplo Propio\n",
        "serie.index = ['l','k','j','i','h','g','f','e','d','c','b','a']\n",
        "print(serie)"
      ],
      "execution_count": null,
      "outputs": [
        {
          "output_type": "stream",
          "name": "stdout",
          "text": [
            "l    5.0\n",
            "k    4.6\n",
            "j    3.8\n",
            "i    1.5\n",
            "h    2.7\n",
            "g    4.7\n",
            "f    4.0\n",
            "e    3.0\n",
            "d    4.2\n",
            "c    2.2\n",
            "b    3.3\n",
            "a    4.9\n",
            "dtype: float64\n"
          ]
        }
      ]
    },
    {
      "cell_type": "markdown",
      "metadata": {
        "id": "b46SSNPeXkwq"
      },
      "source": [
        "* #### *Slice a Series by index:*"
      ]
    },
    {
      "cell_type": "code",
      "metadata": {
        "colab": {
          "base_uri": "https://localhost:8080/"
        },
        "id": "Ay9Jso4CXlHk",
        "outputId": "8240bf99-edf6-4ba5-dfde-025141bf4def"
      },
      "source": [
        "#Ejemplo de QuantConnect\n",
        "print(s[1:])\n",
        "print(s[:-2])"
      ],
      "execution_count": null,
      "outputs": [
        {
          "output_type": "stream",
          "name": "stdout",
          "text": [
            "5    145.83\n",
            "4    143.68\n",
            "3    144.02\n",
            "2    143.50\n",
            "1    142.62\n",
            "dtype: float64\n",
            "6    143.73\n",
            "5    145.83\n",
            "4    143.68\n",
            "3    144.02\n",
            "dtype: float64\n"
          ]
        }
      ]
    },
    {
      "cell_type": "code",
      "metadata": {
        "colab": {
          "base_uri": "https://localhost:8080/"
        },
        "id": "q0NTOARQXlcG",
        "outputId": "62e58eb2-0c62-4edb-e72a-5674a1384a3d"
      },
      "source": [
        "#Ejemplo Propio\n",
        "print(serie[2:10])\n",
        "print(serie[5:-5])"
      ],
      "execution_count": null,
      "outputs": [
        {
          "output_type": "stream",
          "name": "stdout",
          "text": [
            "j    3.8\n",
            "i    1.5\n",
            "h    2.7\n",
            "g    4.7\n",
            "f    4.0\n",
            "e    3.0\n",
            "d    4.2\n",
            "c    2.2\n",
            "dtype: float64\n",
            "g    4.7\n",
            "f    4.0\n",
            "dtype: float64\n"
          ]
        }
      ]
    },
    {
      "cell_type": "markdown",
      "metadata": {
        "id": "_XKaYdunXmFj"
      },
      "source": [
        "* #### *Set or fetch values by index label:*"
      ]
    },
    {
      "cell_type": "code",
      "metadata": {
        "colab": {
          "base_uri": "https://localhost:8080/"
        },
        "id": "4f03zty9XmYW",
        "outputId": "c2578645-a149-454e-f113-59121d7293ee"
      },
      "source": [
        "#Ejemplo de QuantConnect\n",
        "print(s[4])\n",
        "s[4] = 0\n",
        "print(s)"
      ],
      "execution_count": null,
      "outputs": [
        {
          "output_type": "stream",
          "name": "stdout",
          "text": [
            "143.68\n",
            "6    143.73\n",
            "5    145.83\n",
            "4      0.00\n",
            "3    144.02\n",
            "2    143.50\n",
            "1    142.62\n",
            "dtype: float64\n"
          ]
        }
      ]
    },
    {
      "cell_type": "code",
      "metadata": {
        "colab": {
          "base_uri": "https://localhost:8080/"
        },
        "id": "X1x5O8WCXmtf",
        "outputId": "a8aa8ddc-e5e7-4ed5-b16e-91962c8c9a30"
      },
      "source": [
        "#Ejemplo Propio\n",
        "print(serie['i'])\n",
        "serie['i'] = 4.4\n",
        "print(serie)"
      ],
      "execution_count": null,
      "outputs": [
        {
          "output_type": "stream",
          "name": "stdout",
          "text": [
            "1.5\n",
            "l    5.0\n",
            "k    4.6\n",
            "j    3.8\n",
            "i    4.4\n",
            "h    2.7\n",
            "g    4.7\n",
            "f    4.0\n",
            "e    3.0\n",
            "d    4.2\n",
            "c    2.2\n",
            "b    3.3\n",
            "a    4.9\n",
            "dtype: float64\n"
          ]
        }
      ]
    },
    {
      "cell_type": "markdown",
      "metadata": {
        "id": "mhjrRsEvXnAa"
      },
      "source": [
        "* #### *The name attribute:*"
      ]
    },
    {
      "cell_type": "code",
      "metadata": {
        "colab": {
          "base_uri": "https://localhost:8080/"
        },
        "id": "uST5OQWVXoa8",
        "outputId": "0822ac8e-d609-470a-84d0-b2fbe583157a"
      },
      "source": [
        "#Ejemplo de QuantConnect\n",
        "s = pd.Series(price, name = 'Apple Prices')\n",
        "print(s)\n",
        "print(s.name)"
      ],
      "execution_count": null,
      "outputs": [
        {
          "output_type": "stream",
          "name": "stdout",
          "text": [
            "0    143.73\n",
            "1    145.83\n",
            "2    143.68\n",
            "3    144.02\n",
            "4    143.50\n",
            "5    142.62\n",
            "Name: Apple Prices, dtype: float64\n",
            "Apple Prices\n"
          ]
        }
      ]
    },
    {
      "cell_type": "code",
      "metadata": {
        "colab": {
          "base_uri": "https://localhost:8080/"
        },
        "id": "dB9Zj854Xonq",
        "outputId": "2bd49adf-7724-404b-950c-74f2787c2b39"
      },
      "source": [
        "#Ejemplo Propio\n",
        "serie = pd.Series(array_notas, name = \"Notas 2021-II\")\n",
        "print(serie)\n",
        "print(serie.name)"
      ],
      "execution_count": null,
      "outputs": [
        {
          "output_type": "stream",
          "name": "stdout",
          "text": [
            "0     5.0\n",
            "1     4.6\n",
            "2     3.8\n",
            "3     4.4\n",
            "4     2.7\n",
            "5     4.7\n",
            "6     4.0\n",
            "7     3.0\n",
            "8     4.2\n",
            "9     2.2\n",
            "10    3.3\n",
            "11    4.9\n",
            "Name: Notas 2021-II, dtype: float64\n",
            "Notas 2021-II\n"
          ]
        }
      ]
    },
    {
      "cell_type": "markdown",
      "metadata": {
        "id": "Yz-P38qfXo-k"
      },
      "source": [
        "* #### *The statistical summaries:*"
      ]
    },
    {
      "cell_type": "code",
      "metadata": {
        "colab": {
          "base_uri": "https://localhost:8080/"
        },
        "id": "2Vb3YfEXXpea",
        "outputId": "b5b5abef-fcce-48d6-b82f-9900a5839aff"
      },
      "source": [
        "#Ejemplo de QuantConnect\n",
        "print(s.describe())"
      ],
      "execution_count": null,
      "outputs": [
        {
          "output_type": "stream",
          "name": "stdout",
          "text": [
            "count      6.000000\n",
            "mean     143.896667\n",
            "std        1.059711\n",
            "min      142.620000\n",
            "25%      143.545000\n",
            "50%      143.705000\n",
            "75%      143.947500\n",
            "max      145.830000\n",
            "Name: Apple Prices, dtype: float64\n"
          ]
        }
      ]
    },
    {
      "cell_type": "code",
      "metadata": {
        "colab": {
          "base_uri": "https://localhost:8080/"
        },
        "id": "6UTM3gEkXpr3",
        "outputId": "16d2e2d9-b02a-4793-ba47-9252cb549eb7"
      },
      "source": [
        "#Ejemplo Propio\n",
        "print(serie.describe())"
      ],
      "execution_count": null,
      "outputs": [
        {
          "output_type": "stream",
          "name": "stdout",
          "text": [
            "count    12.000000\n",
            "mean      3.900000\n",
            "std       0.914529\n",
            "min       2.200000\n",
            "25%       3.225000\n",
            "50%       4.100000\n",
            "75%       4.625000\n",
            "max       5.000000\n",
            "Name: Notas 2021-II, dtype: float64\n"
          ]
        }
      ]
    },
    {
      "cell_type": "markdown",
      "metadata": {
        "id": "MgOHPgEwXqAC"
      },
      "source": [
        "### Time index:"
      ]
    },
    {
      "cell_type": "markdown",
      "metadata": {
        "id": "uXcQQBB8Xu7N"
      },
      "source": [
        "* #### *Creating date indices:*"
      ]
    },
    {
      "cell_type": "code",
      "metadata": {
        "colab": {
          "base_uri": "https://localhost:8080/"
        },
        "id": "g3_qLgenXxaD",
        "outputId": "e3ac183f-9619-45de-f311-3651453246db"
      },
      "source": [
        "#Ejemplo de QuantConnect\n",
        "time_index = pd.date_range('2017-01-01', periods = len(s), freq = 'D')\n",
        "print(time_index)\n",
        "s.index = time_index\n",
        "print(s)"
      ],
      "execution_count": null,
      "outputs": [
        {
          "output_type": "stream",
          "name": "stdout",
          "text": [
            "DatetimeIndex(['2017-01-01', '2017-01-02', '2017-01-03', '2017-01-04',\n",
            "               '2017-01-05', '2017-01-06'],\n",
            "              dtype='datetime64[ns]', freq='D')\n",
            "2017-01-01    143.73\n",
            "2017-01-02    145.83\n",
            "2017-01-03    143.68\n",
            "2017-01-04    144.02\n",
            "2017-01-05    143.50\n",
            "2017-01-06    142.62\n",
            "Freq: D, Name: Apple Prices, dtype: float64\n"
          ]
        }
      ]
    },
    {
      "cell_type": "code",
      "metadata": {
        "colab": {
          "base_uri": "https://localhost:8080/"
        },
        "id": "BnMYXi_mXxrx",
        "outputId": "89eb6ddf-eb54-4889-c676-9e0f8c9a8f29"
      },
      "source": [
        "#Ejemplo Propio\n",
        "indices_tiempo = pd.date_range('2009-12-31', periods = len(serie), freq = 'Y')\n",
        "print(indices_tiempo)\n",
        "serie.index = indices_tiempo\n",
        "print(serie)"
      ],
      "execution_count": null,
      "outputs": [
        {
          "output_type": "stream",
          "name": "stdout",
          "text": [
            "DatetimeIndex(['2009-12-31', '2010-12-31', '2011-12-31', '2012-12-31',\n",
            "               '2013-12-31', '2014-12-31', '2015-12-31', '2016-12-31',\n",
            "               '2017-12-31', '2018-12-31', '2019-12-31', '2020-12-31'],\n",
            "              dtype='datetime64[ns]', freq='A-DEC')\n",
            "2009-12-31    5.0\n",
            "2010-12-31    4.6\n",
            "2011-12-31    3.8\n",
            "2012-12-31    4.4\n",
            "2013-12-31    2.7\n",
            "2014-12-31    4.7\n",
            "2015-12-31    4.0\n",
            "2016-12-31    3.0\n",
            "2017-12-31    4.2\n",
            "2018-12-31    2.2\n",
            "2019-12-31    3.3\n",
            "2020-12-31    4.9\n",
            "Freq: A-DEC, Name: Notas 2021-II, dtype: float64\n"
          ]
        }
      ]
    },
    {
      "cell_type": "markdown",
      "metadata": {
        "id": "3IznOI8RXx9v"
      },
      "source": [
        "* #### *Previous example:*"
      ]
    },
    {
      "cell_type": "code",
      "metadata": {
        "colab": {
          "base_uri": "https://localhost:8080/"
        },
        "id": "RfnbElaSXy5j",
        "outputId": "f2dea152-aece-4290-dfe9-da7943dafbc8"
      },
      "source": [
        "#Ejemplo de QuantConnect\n",
        "s.index = [6,5,4,3,2,1]\n",
        "print(s)\n",
        "print(s[1])"
      ],
      "execution_count": null,
      "outputs": [
        {
          "output_type": "stream",
          "name": "stdout",
          "text": [
            "6    143.73\n",
            "5    145.83\n",
            "4    143.68\n",
            "3    144.02\n",
            "2    143.50\n",
            "1    142.62\n",
            "Name: Apple Prices, dtype: float64\n",
            "142.62\n"
          ]
        }
      ]
    },
    {
      "cell_type": "code",
      "metadata": {
        "colab": {
          "base_uri": "https://localhost:8080/"
        },
        "id": "2FT7fabTXzLc",
        "outputId": "835542c1-79e3-4e0a-fae0-101a25092184"
      },
      "source": [
        "#Ejemplo Propio\n",
        "serie.index = ['l','k','j','i','h','g','f','e','d','c','b','a']\n",
        "print(serie)\n",
        "print(\"Elemento en la quinta posición:\", serie[4])\n",
        "serie.index = [12,11,10,9,8,7,6,5,4,3,2,1]\n",
        "print(serie)\n",
        "print(\"Elemento con el índice etiquetado como '4':\", serie[4])"
      ],
      "execution_count": null,
      "outputs": [
        {
          "output_type": "stream",
          "name": "stdout",
          "text": [
            "l    5.0\n",
            "k    4.6\n",
            "j    3.8\n",
            "i    4.4\n",
            "h    2.7\n",
            "g    4.7\n",
            "f    4.0\n",
            "e    3.0\n",
            "d    4.2\n",
            "c    2.2\n",
            "b    3.3\n",
            "a    4.9\n",
            "Name: Notas 2021-II, dtype: float64\n",
            "Elemento en la quinta posición: 2.7\n",
            "12    5.0\n",
            "11    4.6\n",
            "10    3.8\n",
            "9     4.4\n",
            "8     2.7\n",
            "7     4.7\n",
            "6     4.0\n",
            "5     3.0\n",
            "4     4.2\n",
            "3     2.2\n",
            "2     3.3\n",
            "1     4.9\n",
            "Name: Notas 2021-II, dtype: float64\n",
            "Elemento con el índice etiquetado como '4': 4.2\n"
          ]
        }
      ]
    },
    {
      "cell_type": "markdown",
      "metadata": {
        "id": "urNSzT2gXzdB"
      },
      "source": [
        "* #### *Using iloc[]:*"
      ]
    },
    {
      "cell_type": "code",
      "metadata": {
        "colab": {
          "base_uri": "https://localhost:8080/"
        },
        "id": "5pqGbI-mXzva",
        "outputId": "a7bb9bcb-16da-4a01-ab50-a7080a8f0b77"
      },
      "source": [
        "#Ejemplo de QuantConnect\n",
        "print(s.iloc[1])"
      ],
      "execution_count": null,
      "outputs": [
        {
          "output_type": "stream",
          "name": "stdout",
          "text": [
            "145.83\n"
          ]
        }
      ]
    },
    {
      "cell_type": "code",
      "metadata": {
        "colab": {
          "base_uri": "https://localhost:8080/"
        },
        "id": "5D-Qp-whX0Pt",
        "outputId": "f009f5ec-50b8-4029-f08a-f7f51c16dec9"
      },
      "source": [
        "#Ejemplo Propio\n",
        "print(\"Elemento en la quinta posición:\", serie.iloc[4])"
      ],
      "execution_count": null,
      "outputs": [
        {
          "output_type": "stream",
          "name": "stdout",
          "text": [
            "Elemento en la quinta posición: 2.7\n"
          ]
        }
      ]
    },
    {
      "cell_type": "markdown",
      "metadata": {
        "id": "bC6KPZgbX0gr"
      },
      "source": [
        "* #### *Access the data by time index:*"
      ]
    },
    {
      "cell_type": "code",
      "metadata": {
        "colab": {
          "base_uri": "https://localhost:8080/"
        },
        "id": "uwVrphyRX0zm",
        "outputId": "aa438161-5700-4b28-8654-a09ccec8fb16"
      },
      "source": [
        "#Ejemplo de QuantConnect\n",
        "s.index = time_index\n",
        "print(s['2017-01-03'])"
      ],
      "execution_count": null,
      "outputs": [
        {
          "output_type": "stream",
          "name": "stdout",
          "text": [
            "143.68\n"
          ]
        }
      ]
    },
    {
      "cell_type": "code",
      "metadata": {
        "colab": {
          "base_uri": "https://localhost:8080/"
        },
        "id": "jRDvVWrrX1h5",
        "outputId": "49b1eed1-51c4-4556-a368-59b894d690d7"
      },
      "source": [
        "#Ejemplo Propio\n",
        "serie.index = indices_tiempo\n",
        "print(serie['2014-12-31'])"
      ],
      "execution_count": null,
      "outputs": [
        {
          "output_type": "stream",
          "name": "stdout",
          "text": [
            "4.7\n"
          ]
        }
      ]
    },
    {
      "cell_type": "markdown",
      "metadata": {
        "id": "8lVgwQ9cX10U"
      },
      "source": [
        "* #### *Access to a range of dates:*"
      ]
    },
    {
      "cell_type": "code",
      "metadata": {
        "colab": {
          "base_uri": "https://localhost:8080/"
        },
        "id": "3kI7CDeqX2S5",
        "outputId": "5a3d7722-9bd1-471f-ea7f-0b6d95d325b5"
      },
      "source": [
        "#Ejemplo de QuantConnect\n",
        "print(s['2017-01-02':'2017-01-05'])"
      ],
      "execution_count": null,
      "outputs": [
        {
          "output_type": "stream",
          "name": "stdout",
          "text": [
            "2017-01-02    145.83\n",
            "2017-01-03    143.68\n",
            "2017-01-04    144.02\n",
            "2017-01-05    143.50\n",
            "Freq: D, Name: Apple Prices, dtype: float64\n"
          ]
        }
      ]
    },
    {
      "cell_type": "code",
      "metadata": {
        "colab": {
          "base_uri": "https://localhost:8080/"
        },
        "id": "rzWpJENfX2ow",
        "outputId": "d2f6aeec-5437-437e-c930-bf3ebcf30742"
      },
      "source": [
        "#Ejemplo Propio\n",
        "print(serie['2012':'2018'])"
      ],
      "execution_count": null,
      "outputs": [
        {
          "output_type": "stream",
          "name": "stdout",
          "text": [
            "2012-12-31    4.4\n",
            "2013-12-31    2.7\n",
            "2014-12-31    4.7\n",
            "2015-12-31    4.0\n",
            "2016-12-31    3.0\n",
            "2017-12-31    4.2\n",
            "2018-12-31    2.2\n",
            "Freq: A-DEC, Name: Notas 2021-II, dtype: float64\n"
          ]
        }
      ]
    },
    {
      "cell_type": "markdown",
      "metadata": {
        "id": "CcptZSjGX27I"
      },
      "source": [
        "* #### *Adding conditions in the square brackets:*"
      ]
    },
    {
      "cell_type": "code",
      "metadata": {
        "colab": {
          "base_uri": "https://localhost:8080/"
        },
        "id": "krfonR4wX3N3",
        "outputId": "edbbbe16-83ef-44e7-8ce7-879d0b05118a"
      },
      "source": [
        "#Ejemplo de QuantConnect\n",
        "print(s[s < np.mean(s)])\n",
        "print(s[(s > np.mean(s)) & (s < np.mean(s) + 1.64*np.std(s))])"
      ],
      "execution_count": null,
      "outputs": [
        {
          "output_type": "stream",
          "name": "stdout",
          "text": [
            "2017-01-01    143.73\n",
            "2017-01-03    143.68\n",
            "2017-01-05    143.50\n",
            "2017-01-06    142.62\n",
            "Name: Apple Prices, dtype: float64\n",
            "2017-01-04    144.02\n",
            "Freq: D, Name: Apple Prices, dtype: float64\n"
          ]
        }
      ]
    },
    {
      "cell_type": "code",
      "metadata": {
        "colab": {
          "base_uri": "https://localhost:8080/"
        },
        "id": "5jVbBLloX3lx",
        "outputId": "2196d100-557a-4083-e00d-3eb0933dc9e1"
      },
      "source": [
        "#Ejemplo Propio\n",
        "print(serie[(serie >= np.median(serie)) & (serie < np.percentile(serie,75))])\n",
        "print(serie[(serie > np.percentile(serie,90)) | ~(serie > np.var(serie)*np.mean(serie))])"
      ],
      "execution_count": null,
      "outputs": [
        {
          "output_type": "stream",
          "name": "stdout",
          "text": [
            "2010-12-31    4.6\n",
            "2012-12-31    4.4\n",
            "2017-12-31    4.2\n",
            "Name: Notas 2021-II, dtype: float64\n",
            "2009-12-31    5.0\n",
            "2013-12-31    2.7\n",
            "2018-12-31    2.2\n",
            "2020-12-31    4.9\n",
            "Name: Notas 2021-II, dtype: float64\n"
          ]
        }
      ]
    },
    {
      "cell_type": "markdown",
      "metadata": {
        "id": "LRbhW8m_KH7Y"
      },
      "source": [
        "# **Tutorial 5. Python: Pandas-Resampling and DataFrame**"
      ]
    },
    {
      "cell_type": "markdown",
      "metadata": {
        "id": "E7iR0go1mt0p"
      },
      "source": [
        "## _**Fetching Data**_"
      ]
    },
    {
      "cell_type": "markdown",
      "metadata": {
        "id": "7EWHfrEFm_mf"
      },
      "source": [
        "### Use the Quandl API:"
      ]
    },
    {
      "cell_type": "code",
      "metadata": {
        "colab": {
          "base_uri": "https://localhost:8080/"
        },
        "id": "rfM-8JPPnL0h",
        "outputId": "86d7de46-b6df-4f71-e073-8928450d8260"
      },
      "source": [
        "!pip install quandl\n",
        "import quandl\n",
        "quandl.ApiConfig.api_key = 'Wfg5yZAz9QGfoxRSESK6'"
      ],
      "execution_count": 48,
      "outputs": [
        {
          "output_type": "stream",
          "name": "stdout",
          "text": [
            "Requirement already satisfied: quandl in /usr/local/lib/python3.7/dist-packages (3.6.1)\n",
            "Requirement already satisfied: inflection>=0.3.1 in /usr/local/lib/python3.7/dist-packages (from quandl) (0.5.1)\n",
            "Requirement already satisfied: more-itertools in /usr/local/lib/python3.7/dist-packages (from quandl) (8.10.0)\n",
            "Requirement already satisfied: python-dateutil in /usr/local/lib/python3.7/dist-packages (from quandl) (2.8.2)\n",
            "Requirement already satisfied: numpy>=1.8 in /usr/local/lib/python3.7/dist-packages (from quandl) (1.19.5)\n",
            "Requirement already satisfied: six in /usr/local/lib/python3.7/dist-packages (from quandl) (1.15.0)\n",
            "Requirement already satisfied: pandas>=0.14 in /usr/local/lib/python3.7/dist-packages (from quandl) (1.1.5)\n",
            "Requirement already satisfied: requests>=2.7.0 in /usr/local/lib/python3.7/dist-packages (from quandl) (2.23.0)\n",
            "Requirement already satisfied: pytz>=2017.2 in /usr/local/lib/python3.7/dist-packages (from pandas>=0.14->quandl) (2018.9)\n",
            "Requirement already satisfied: urllib3!=1.25.0,!=1.25.1,<1.26,>=1.21.1 in /usr/local/lib/python3.7/dist-packages (from requests>=2.7.0->quandl) (1.24.3)\n",
            "Requirement already satisfied: certifi>=2017.4.17 in /usr/local/lib/python3.7/dist-packages (from requests>=2.7.0->quandl) (2021.5.30)\n",
            "Requirement already satisfied: idna<3,>=2.5 in /usr/local/lib/python3.7/dist-packages (from requests>=2.7.0->quandl) (2.10)\n",
            "Requirement already satisfied: chardet<4,>=3.0.2 in /usr/local/lib/python3.7/dist-packages (from requests>=2.7.0->quandl) (3.0.4)\n"
          ]
        }
      ]
    },
    {
      "cell_type": "markdown",
      "metadata": {
        "id": "hUlmyeARnu2m"
      },
      "source": [
        "### Create a Series:"
      ]
    },
    {
      "cell_type": "code",
      "metadata": {
        "colab": {
          "base_uri": "https://localhost:8080/"
        },
        "id": "S1SVJ23Xn9LB",
        "outputId": "466ee069-3a12-449b-b2ad-3a958ea5ee3d"
      },
      "source": [
        "#Ejemplo de QuantConnect\n",
        "aapl_table = quandl.get('WIKI/AAPL')\n",
        "aapl = aapl_table['Adj. Close']['2017']\n",
        "print(aapl)"
      ],
      "execution_count": 49,
      "outputs": [
        {
          "output_type": "stream",
          "name": "stdout",
          "text": [
            "Date\n",
            "2017-01-03    114.715378\n",
            "2017-01-04    114.586983\n",
            "2017-01-05    115.169696\n",
            "2017-01-06    116.453639\n",
            "2017-01-09    117.520300\n",
            "                 ...    \n",
            "2017-12-22    175.010000\n",
            "2017-12-26    170.570000\n",
            "2017-12-27    170.600000\n",
            "2017-12-28    171.080000\n",
            "2017-12-29    169.230000\n",
            "Name: Adj. Close, Length: 249, dtype: float64\n"
          ]
        }
      ]
    },
    {
      "cell_type": "code",
      "metadata": {
        "colab": {
          "base_uri": "https://localhost:8080/"
        },
        "id": "zyQGuGJOs9qF",
        "outputId": "6aa7986f-e48f-4d65-f788-98741980cb29"
      },
      "source": [
        "#Ejemplo Propio\n",
        "googl_table = quandl.get('WIKI/GOOGL')\n",
        "googl = googl_table['Adj. Close']['2014']\n",
        "print(googl)"
      ],
      "execution_count": 50,
      "outputs": [
        {
          "output_type": "stream",
          "name": "stdout",
          "text": [
            "Date\n",
            "2014-01-02    558.283367\n",
            "2014-01-03    554.210796\n",
            "2014-01-06    560.389870\n",
            "2014-01-07    571.193219\n",
            "2014-01-08    572.381888\n",
            "                 ...    \n",
            "2014-12-24    536.930000\n",
            "2014-12-26    541.520000\n",
            "2014-12-29    537.310000\n",
            "2014-12-30    535.280000\n",
            "2014-12-31    530.660000\n",
            "Name: Adj. Close, Length: 252, dtype: float64\n"
          ]
        }
      ]
    },
    {
      "cell_type": "markdown",
      "metadata": {
        "id": "55Y6ZauOuG_u"
      },
      "source": [
        "### Fetch the data in a specific month:"
      ]
    },
    {
      "cell_type": "code",
      "metadata": {
        "colab": {
          "base_uri": "https://localhost:8080/"
        },
        "id": "Ujp-hzN2uSrA",
        "outputId": "b81a5c1b-f3b9-4fc9-a86f-fad831855c3e"
      },
      "source": [
        "#Ejemplo de QuantConnect\n",
        "print(aapl['2017-3'])"
      ],
      "execution_count": 51,
      "outputs": [
        {
          "output_type": "stream",
          "name": "stdout",
          "text": [
            "Date\n",
            "2017-03-01    138.657681\n",
            "2017-03-02    137.834404\n",
            "2017-03-03    138.647762\n",
            "2017-03-06    138.211326\n",
            "2017-03-07    138.389868\n",
            "2017-03-08    137.874080\n",
            "2017-03-09    137.556672\n",
            "2017-03-10    138.012946\n",
            "2017-03-13    138.072460\n",
            "2017-03-14    137.864161\n",
            "2017-03-15    139.322254\n",
            "2017-03-16    139.550391\n",
            "2017-03-17    138.856061\n",
            "2017-03-20    140.314154\n",
            "2017-03-21    138.707276\n",
            "2017-03-22    140.274478\n",
            "2017-03-23    139.778528\n",
            "2017-03-24    139.500796\n",
            "2017-03-27    139.738852\n",
            "2017-03-28    142.635200\n",
            "2017-03-29    142.952608\n",
            "2017-03-30    142.764147\n",
            "2017-03-31    142.496334\n",
            "Name: Adj. Close, dtype: float64\n"
          ]
        }
      ]
    },
    {
      "cell_type": "code",
      "metadata": {
        "colab": {
          "base_uri": "https://localhost:8080/"
        },
        "id": "kRSbeEkEuS8z",
        "outputId": "b71b460a-4e4d-4d65-cca7-17037898642d"
      },
      "source": [
        "#Ejemplo Propio\n",
        "print(googl['2014-5'])"
      ],
      "execution_count": 52,
      "outputs": [
        {
          "output_type": "stream",
          "name": "stdout",
          "text": [
            "Date\n",
            "2014-05-01    538.53\n",
            "2014-05-02    533.87\n",
            "2014-05-05    535.33\n",
            "2014-05-06    522.57\n",
            "2014-05-07    518.00\n",
            "2014-05-08    520.17\n",
            "2014-05-09    526.62\n",
            "2014-05-12    538.43\n",
            "2014-05-13    541.54\n",
            "2014-05-14    534.41\n",
            "2014-05-15    529.12\n",
            "2014-05-16    528.30\n",
            "2014-05-19    538.83\n",
            "2014-05-20    540.39\n",
            "2014-05-21    549.70\n",
            "2014-05-22    555.45\n",
            "2014-05-23    563.80\n",
            "2014-05-27    574.87\n",
            "2014-05-28    570.45\n",
            "2014-05-29    570.56\n",
            "2014-05-30    571.65\n",
            "Name: Adj. Close, dtype: float64\n"
          ]
        }
      ]
    },
    {
      "cell_type": "markdown",
      "metadata": {
        "id": "dvDG9pNxuTQ5"
      },
      "source": [
        "### Fetch the data in several consecutive months:"
      ]
    },
    {
      "cell_type": "code",
      "metadata": {
        "colab": {
          "base_uri": "https://localhost:8080/"
        },
        "id": "xaabiyyvudIC",
        "outputId": "0c7a257f-0b25-48d0-a14d-be25791144e8"
      },
      "source": [
        "#Ejemplo de QuantConnect\n",
        "print(aapl['2017-2':'2017-4'])"
      ],
      "execution_count": 53,
      "outputs": [
        {
          "output_type": "stream",
          "name": "stdout",
          "text": [
            "Date\n",
            "2017-02-01    127.159749\n",
            "2017-02-02    126.942467\n",
            "2017-02-03    127.485673\n",
            "2017-02-06    128.680728\n",
            "2017-02-07    129.905412\n",
            "                 ...    \n",
            "2017-04-24    142.476496\n",
            "2017-04-25    143.369205\n",
            "2017-04-26    142.487208\n",
            "2017-04-27    142.625281\n",
            "2017-04-28    142.486415\n",
            "Name: Adj. Close, Length: 61, dtype: float64\n"
          ]
        }
      ]
    },
    {
      "cell_type": "code",
      "metadata": {
        "colab": {
          "base_uri": "https://localhost:8080/"
        },
        "id": "1rGwndeTudcY",
        "outputId": "5aea452c-aefc-493b-8b69-700554240ef0"
      },
      "source": [
        "#Ejemplo Propio\n",
        "print(googl['2014-7':'2014-11'])"
      ],
      "execution_count": 54,
      "outputs": [
        {
          "output_type": "stream",
          "name": "stdout",
          "text": [
            "Date\n",
            "2014-07-01    591.49\n",
            "2014-07-02    590.78\n",
            "2014-07-03    593.08\n",
            "2014-07-07    590.76\n",
            "2014-07-08    578.40\n",
            "               ...  \n",
            "2014-11-21    545.89\n",
            "2014-11-24    547.48\n",
            "2014-11-25    549.23\n",
            "2014-11-26    547.73\n",
            "2014-11-28    549.08\n",
            "Name: Adj. Close, Length: 106, dtype: float64\n"
          ]
        }
      ]
    },
    {
      "cell_type": "markdown",
      "metadata": {
        "id": "0HLqsTyFud7t"
      },
      "source": [
        "### Methods for quickly accessing the first or last elements:"
      ]
    },
    {
      "cell_type": "code",
      "metadata": {
        "colab": {
          "base_uri": "https://localhost:8080/"
        },
        "id": "Mn5wvkm6utl8",
        "outputId": "2aea572f-b873-4009-fb28-25a1168f7d8e"
      },
      "source": [
        "#Ejemplo de QuantConnect\n",
        "print(aapl.head())\n",
        "print(aapl.tail(10))"
      ],
      "execution_count": 55,
      "outputs": [
        {
          "output_type": "stream",
          "name": "stdout",
          "text": [
            "Date\n",
            "2017-01-03    114.715378\n",
            "2017-01-04    114.586983\n",
            "2017-01-05    115.169696\n",
            "2017-01-06    116.453639\n",
            "2017-01-09    117.520300\n",
            "Name: Adj. Close, dtype: float64\n",
            "Date\n",
            "2017-12-15    173.87\n",
            "2017-12-18    176.42\n",
            "2017-12-19    174.54\n",
            "2017-12-20    174.35\n",
            "2017-12-21    175.01\n",
            "2017-12-22    175.01\n",
            "2017-12-26    170.57\n",
            "2017-12-27    170.60\n",
            "2017-12-28    171.08\n",
            "2017-12-29    169.23\n",
            "Name: Adj. Close, dtype: float64\n"
          ]
        }
      ]
    },
    {
      "cell_type": "code",
      "metadata": {
        "colab": {
          "base_uri": "https://localhost:8080/"
        },
        "id": "wkPUi7rEut2a",
        "outputId": "bd9bd2d1-929c-41b3-9d57-0356700afcf7"
      },
      "source": [
        "#Ejemplo Propio\n",
        "print(googl.head(8))\n",
        "print(googl.tail(7))"
      ],
      "execution_count": 56,
      "outputs": [
        {
          "output_type": "stream",
          "name": "stdout",
          "text": [
            "Date\n",
            "2014-01-02    558.283367\n",
            "2014-01-03    554.210796\n",
            "2014-01-06    560.389870\n",
            "2014-01-07    571.193219\n",
            "2014-01-08    572.381888\n",
            "2014-01-09    566.869873\n",
            "2014-01-10    566.839780\n",
            "2014-01-13    563.228633\n",
            "Name: Adj. Close, dtype: float64\n",
            "Date\n",
            "2014-12-22    532.30\n",
            "2014-12-23    538.77\n",
            "2014-12-24    536.93\n",
            "2014-12-26    541.52\n",
            "2014-12-29    537.31\n",
            "2014-12-30    535.28\n",
            "2014-12-31    530.66\n",
            "Name: Adj. Close, dtype: float64\n"
          ]
        }
      ]
    },
    {
      "cell_type": "markdown",
      "metadata": {
        "id": "7jVYk14twTbt"
      },
      "source": [
        "## _**Resampling**_"
      ]
    },
    {
      "cell_type": "markdown",
      "metadata": {
        "id": "pL7NGL0swXOY"
      },
      "source": [
        "### Aggregate the daily data into monthly data by mean:"
      ]
    },
    {
      "cell_type": "code",
      "metadata": {
        "colab": {
          "base_uri": "https://localhost:8080/"
        },
        "id": "806XsdJwwu8f",
        "outputId": "2733910d-8ee6-4aae-b866-4859017ebc87"
      },
      "source": [
        "#Ejemplo de QuantConnect\n",
        "by_month = aapl.resample('M').mean()\n",
        "print(by_month)"
      ],
      "execution_count": 57,
      "outputs": [
        {
          "output_type": "stream",
          "name": "stdout",
          "text": [
            "Date\n",
            "2017-01-31    118.093136\n",
            "2017-02-28    132.456268\n",
            "2017-03-31    139.478802\n",
            "2017-04-30    141.728436\n",
            "2017-05-31    151.386305\n",
            "2017-06-30    147.233064\n",
            "2017-07-31    147.706190\n",
            "2017-08-31    158.856375\n",
            "2017-09-30    157.606500\n",
            "2017-10-31    157.811627\n",
            "2017-11-30    172.214500\n",
            "2017-12-31    171.893100\n",
            "Freq: M, Name: Adj. Close, dtype: float64\n"
          ]
        }
      ]
    },
    {
      "cell_type": "code",
      "metadata": {
        "colab": {
          "base_uri": "https://localhost:8080/"
        },
        "id": "BlqM2w4KwvQ8",
        "outputId": "c5931d6f-aeec-43ff-fc18-5161292e1905"
      },
      "source": [
        "#Ejemplo Propio\n",
        "mensual = googl.resample('M').mean()\n",
        "print(mensual)"
      ],
      "execution_count": 58,
      "outputs": [
        {
          "output_type": "stream",
          "name": "stdout",
          "text": [
            "Date\n",
            "2014-01-31    569.946752\n",
            "2014-02-28    596.930826\n",
            "2014-03-31    593.053318\n",
            "2014-04-30    546.673308\n",
            "2014-05-31    542.980476\n",
            "2014-06-30    567.282143\n",
            "2014-07-31    592.485455\n",
            "2014-08-31    583.337619\n",
            "2014-09-30    592.129524\n",
            "2014-10-31    557.543478\n",
            "2014-11-30    552.544211\n",
            "2014-12-31    529.193182\n",
            "Freq: M, Name: Adj. Close, dtype: float64\n"
          ]
        }
      ]
    },
    {
      "cell_type": "markdown",
      "metadata": {
        "id": "TgKe3IP5wvjw"
      },
      "source": [
        "### Aggregate the data by week:"
      ]
    },
    {
      "cell_type": "code",
      "metadata": {
        "colab": {
          "base_uri": "https://localhost:8080/"
        },
        "id": "vU9k3WspxqD2",
        "outputId": "a97bc13e-5df5-469c-f395-0665a19fa3e9"
      },
      "source": [
        "#Ejemplo de QuantConnect\n",
        "by_week = aapl.resample('W').mean()\n",
        "print(by_week.head())"
      ],
      "execution_count": 59,
      "outputs": [
        {
          "output_type": "stream",
          "name": "stdout",
          "text": [
            "Date\n",
            "2017-01-08    115.231424\n",
            "2017-01-15    117.755360\n",
            "2017-01-22    118.461035\n",
            "2017-01-29    119.667448\n",
            "2017-02-05    124.313346\n",
            "Freq: W-SUN, Name: Adj. Close, dtype: float64\n"
          ]
        }
      ]
    },
    {
      "cell_type": "code",
      "metadata": {
        "colab": {
          "base_uri": "https://localhost:8080/"
        },
        "id": "yZQGJP5fxqfA",
        "outputId": "101267ac-be01-4e31-a05d-9016a44d2613"
      },
      "source": [
        "#Ejemplo Propio\n",
        "semanal = googl.resample('W').mean()\n",
        "print(semanal.head())"
      ],
      "execution_count": 60,
      "outputs": [
        {
          "output_type": "stream",
          "name": "stdout",
          "text": [
            "Date\n",
            "2014-01-05    556.247081\n",
            "2014-01-12    567.534926\n",
            "2014-01-19    574.548576\n",
            "2014-01-26    578.366612\n",
            "2014-02-02    566.500733\n",
            "Freq: W-SUN, Name: Adj. Close, dtype: float64\n"
          ]
        }
      ]
    },
    {
      "cell_type": "markdown",
      "metadata": {
        "id": "xVjnRAZKxrJk"
      },
      "source": [
        "### Different frequencies:"
      ]
    },
    {
      "cell_type": "code",
      "metadata": {
        "colab": {
          "base_uri": "https://localhost:8080/"
        },
        "id": "Tz1EEo1bx-nt",
        "outputId": "eb828743-2305-499a-eb6e-e44b48534186"
      },
      "source": [
        "#Ejemplo de QuantConnect\n",
        "three_day = aapl.resample('3D').mean()\n",
        "two_week  = aapl.resample('2W').mean()\n",
        "two_month = aapl.resample('2M').mean()\n",
        "print(three_day)\n",
        "print(two_week)\n",
        "print(two_month)"
      ],
      "execution_count": 61,
      "outputs": [
        {
          "output_type": "stream",
          "name": "stdout",
          "text": [
            "Date\n",
            "2017-01-03    114.824019\n",
            "2017-01-06    116.453639\n",
            "2017-01-09    117.810010\n",
            "2017-01-12    117.673385\n",
            "2017-01-15    118.517825\n",
            "                 ...    \n",
            "2017-12-17    175.480000\n",
            "2017-12-20    174.790000\n",
            "2017-12-23           NaN\n",
            "2017-12-26    170.750000\n",
            "2017-12-29    169.230000\n",
            "Freq: 3D, Name: Adj. Close, Length: 121, dtype: float64\n",
            "Date\n",
            "2017-01-08    115.231424\n",
            "2017-01-22    118.068993\n",
            "2017-02-05    121.990397\n",
            "2017-02-19    132.081078\n",
            "2017-03-05    136.601142\n",
            "2017-03-19    138.371022\n",
            "2017-04-02    140.916237\n",
            "2017-04-16    141.857109\n",
            "2017-04-30    141.612630\n",
            "2017-05-14    149.598217\n",
            "2017-05-28    152.932484\n",
            "2017-06-11    153.021346\n",
            "2017-06-25    144.695904\n",
            "2017-07-09    143.594041\n",
            "2017-07-23    147.841142\n",
            "2017-08-06    152.018194\n",
            "2017-08-20    158.929140\n",
            "2017-09-03    161.188000\n",
            "2017-09-17    160.445556\n",
            "2017-10-01    154.407000\n",
            "2017-10-15    155.371080\n",
            "2017-10-29    158.238500\n",
            "2017-11-12    171.430000\n",
            "2017-11-26    172.076667\n",
            "2017-12-10    170.681200\n",
            "2017-12-24    173.806000\n",
            "2018-01-07    170.370000\n",
            "Freq: 2W-SUN, Name: Adj. Close, dtype: float64\n",
            "Date\n",
            "2017-01-31    118.093136\n",
            "2017-03-31    136.301941\n",
            "2017-05-31    146.910707\n",
            "2017-07-31    147.458362\n",
            "2017-09-30    158.261196\n",
            "2017-11-30    164.670138\n",
            "2018-01-31    171.893100\n",
            "Freq: 2M, Name: Adj. Close, dtype: float64\n"
          ]
        }
      ]
    },
    {
      "cell_type": "code",
      "metadata": {
        "colab": {
          "base_uri": "https://localhost:8080/"
        },
        "id": "kQ_pbdTLx_CN",
        "outputId": "f34ed3d1-0289-44cb-e5c1-a4a9b53b81cf"
      },
      "source": [
        "#Ejemplo Propio\n",
        "veinte_dias = googl.resample('20D').mean()\n",
        "tres_semanas  = googl.resample('3W').mean()\n",
        "semestral = googl.resample('6M').mean()\n",
        "print(veinte_dias)\n",
        "print(tres_semanas)\n",
        "print(semestral)"
      ],
      "execution_count": 62,
      "outputs": [
        {
          "output_type": "stream",
          "name": "stdout",
          "text": [
            "Date\n",
            "2014-01-02    569.735642\n",
            "2014-01-22    573.971438\n",
            "2014-02-11    605.261847\n",
            "2014-03-03    602.987699\n",
            "2014-03-23    560.946244\n",
            "2014-04-12    539.521538\n",
            "2014-05-02    532.662857\n",
            "2014-05-22    565.336923\n",
            "2014-06-11    569.308929\n",
            "2014-07-01    589.110000\n",
            "2014-07-21    588.633333\n",
            "2014-08-10    586.456000\n",
            "2014-08-30    591.775385\n",
            "2014-09-19    588.144286\n",
            "2014-10-09    546.037857\n",
            "2014-10-29    557.860714\n",
            "2014-11-18    543.134615\n",
            "2014-12-08    525.223571\n",
            "2014-12-28    534.416667\n",
            "Freq: 20D, Name: Adj. Close, dtype: float64\n",
            "Date\n",
            "2014-01-05    556.247081\n",
            "2014-01-26    573.134569\n",
            "2014-02-16    580.198016\n",
            "2014-03-09    608.267664\n",
            "2014-03-30    590.040733\n",
            "2014-04-20    554.643571\n",
            "2014-05-11    531.280000\n",
            "2014-06-01    550.535714\n",
            "2014-06-22    561.669000\n",
            "2014-07-13    584.460714\n",
            "2014-08-03    594.248000\n",
            "2014-08-24    583.474667\n",
            "2014-09-14    589.747857\n",
            "2014-10-05    589.958667\n",
            "2014-10-26    552.088667\n",
            "2014-11-16    558.148667\n",
            "2014-12-07    543.385000\n",
            "2014-12-28    525.223571\n",
            "2015-01-18    534.416667\n",
            "Freq: 3W-SUN, Name: Adj. Close, dtype: float64\n",
            "Date\n",
            "2014-01-31    569.946752\n",
            "2014-07-31    573.009119\n",
            "2015-01-31    562.725472\n",
            "Freq: 6M, Name: Adj. Close, dtype: float64\n"
          ]
        }
      ]
    },
    {
      "cell_type": "markdown",
      "metadata": {
        "id": "CaVmJaZlx_V9"
      },
      "source": [
        "### Different methods:"
      ]
    },
    {
      "cell_type": "code",
      "metadata": {
        "colab": {
          "base_uri": "https://localhost:8080/"
        },
        "id": "Gpa3iKVYy2K4",
        "outputId": "8203b4ee-905b-4c07-f7b9-d0e7b2789dba"
      },
      "source": [
        "#Ejemplo de QuantConnect\n",
        "std = aapl.resample('W').std()    # standard deviation\n",
        "max = aapl.resample('W').max()    # maximum value\n",
        "min = aapl.resample('W').min()    # minimum value\n",
        "print(std)\n",
        "print(max)\n",
        "print(min)"
      ],
      "execution_count": 63,
      "outputs": [
        {
          "output_type": "stream",
          "name": "stdout",
          "text": [
            "Date\n",
            "2017-01-08    0.852296\n",
            "2017-01-15    0.303965\n",
            "2017-01-22    0.107097\n",
            "2017-01-29    1.027976\n",
            "2017-02-05    3.953127\n",
            "2017-02-12    1.054342\n",
            "2017-02-19    0.969247\n",
            "2017-02-26    0.248701\n",
            "2017-03-05    1.425250\n",
            "2017-03-12    0.319693\n",
            "2017-03-19    0.745266\n",
            "2017-03-26    0.659058\n",
            "2017-04-02    1.340247\n",
            "2017-04-09    0.539305\n",
            "2017-04-16    0.890443\n",
            "2017-04-23    0.732013\n",
            "2017-04-30    0.385246\n",
            "2017-05-07    0.983818\n",
            "2017-05-14    1.480644\n",
            "2017-05-21    2.250808\n",
            "2017-05-28    0.253079\n",
            "2017-06-04    1.178505\n",
            "2017-06-11    2.598342\n",
            "2017-06-18    1.593357\n",
            "2017-06-25    0.555420\n",
            "2017-07-02    1.104805\n",
            "2017-07-09    0.665854\n",
            "2017-07-16    1.694205\n",
            "2017-07-23    0.523784\n",
            "2017-07-30    1.611054\n",
            "2017-08-06    3.836757\n",
            "2017-08-13    2.272546\n",
            "2017-08-20    1.821903\n",
            "2017-08-27    1.155790\n",
            "2017-09-03    1.055026\n",
            "2017-09-10    1.599521\n",
            "2017-09-17    1.226206\n",
            "2017-09-24    3.081331\n",
            "2017-10-01    1.487222\n",
            "2017-10-08    0.867246\n",
            "2017-10-15    0.497624\n",
            "2017-10-22    2.190114\n",
            "2017-10-29    2.852625\n",
            "2017-11-05    2.349930\n",
            "2017-11-12    0.693752\n",
            "2017-11-19    1.821639\n",
            "2017-11-26    2.351374\n",
            "2017-12-03    1.785083\n",
            "2017-12-10    0.299377\n",
            "2017-12-17    0.816474\n",
            "2017-12-24    0.810697\n",
            "2017-12-31    0.795110\n",
            "Freq: W-SUN, Name: Adj. Close, dtype: float64\n",
            "Date\n",
            "2017-01-08    116.453639\n",
            "2017-01-15    118.270913\n",
            "2017-01-22    118.517825\n",
            "2017-01-29    120.443739\n",
            "2017-02-05    127.485673\n",
            "2017-02-12    131.347379\n",
            "2017-02-19    134.620649\n",
            "2017-02-26    135.999390\n",
            "2017-03-05    138.657681\n",
            "2017-03-12    138.389868\n",
            "2017-03-19    139.550391\n",
            "2017-03-26    140.314154\n",
            "2017-04-02    142.952608\n",
            "2017-04-09    143.597342\n",
            "2017-04-16    142.010303\n",
            "2017-04-23    141.286216\n",
            "2017-04-30    143.369205\n",
            "2017-05-07    147.753403\n",
            "2017-05-14    155.469192\n",
            "2017-05-21    155.070808\n",
            "2017-05-28    153.367718\n",
            "2017-06-04    154.821818\n",
            "2017-06-11    154.742142\n",
            "2017-06-18    145.997622\n",
            "2017-06-25    145.758592\n",
            "2017-07-02    145.240693\n",
            "2017-07-09    143.597361\n",
            "2017-07-16    148.437722\n",
            "2017-07-23    150.409720\n",
            "2017-07-30    152.839860\n",
            "2017-08-06    156.504989\n",
            "2017-08-13    160.409148\n",
            "2017-08-20    161.600000\n",
            "2017-08-27    159.980000\n",
            "2017-09-03    164.050000\n",
            "2017-09-10    162.080000\n",
            "2017-09-17    161.500000\n",
            "2017-09-24    158.730000\n",
            "2017-10-01    154.230000\n",
            "2017-10-08    155.390000\n",
            "2017-10-15    156.990000\n",
            "2017-10-22    160.470000\n",
            "2017-10-29    163.050000\n",
            "2017-11-05    172.500000\n",
            "2017-11-12    175.880000\n",
            "2017-11-19    173.970000\n",
            "2017-11-26    174.970000\n",
            "2017-12-03    174.090000\n",
            "2017-12-10    169.800000\n",
            "2017-12-17    173.870000\n",
            "2017-12-24    176.420000\n",
            "2017-12-31    171.080000\n",
            "Freq: W-SUN, Name: Adj. Close, dtype: float64\n",
            "Date\n",
            "2017-01-08    114.586983\n",
            "2017-01-15    117.520300\n",
            "2017-01-22    118.300542\n",
            "2017-01-29    118.488195\n",
            "2017-02-05    119.851150\n",
            "2017-02-12    128.680728\n",
            "2017-02-19    132.210332\n",
            "2017-02-26    135.424088\n",
            "2017-03-05    135.820848\n",
            "2017-03-12    137.556672\n",
            "2017-03-19    137.864161\n",
            "2017-03-26    138.707276\n",
            "2017-04-02    139.738852\n",
            "2017-04-09    142.178926\n",
            "2017-04-16    139.907475\n",
            "2017-04-23    139.540472\n",
            "2017-04-30    142.476496\n",
            "2017-05-07    145.343086\n",
            "2017-05-14    151.760678\n",
            "2017-05-21    149.642832\n",
            "2017-05-28    152.720345\n",
            "2017-06-04    152.142689\n",
            "2017-06-11    148.377964\n",
            "2017-06-18    141.695080\n",
            "2017-06-25    144.424007\n",
            "2017-07-02    143.099382\n",
            "2017-07-09    142.153221\n",
            "2017-07-16    144.473805\n",
            "2017-07-23    148.955620\n",
            "2017-07-30    148.895863\n",
            "2017-08-06    148.248489\n",
            "2017-08-13    155.270000\n",
            "2017-08-20    157.500000\n",
            "2017-08-27    157.210000\n",
            "2017-09-03    161.470000\n",
            "2017-09-10    158.630000\n",
            "2017-09-17    158.280000\n",
            "2017-09-24    151.890000\n",
            "2017-10-01    150.550000\n",
            "2017-10-08    153.450800\n",
            "2017-10-15    155.840000\n",
            "2017-10-22    155.980000\n",
            "2017-10-29    156.170000\n",
            "2017-11-05    166.720000\n",
            "2017-11-12    174.250000\n",
            "2017-11-19    169.080000\n",
            "2017-11-26    169.980000\n",
            "2017-12-03    169.480000\n",
            "2017-12-10    169.010000\n",
            "2017-12-17    171.700000\n",
            "2017-12-24    174.350000\n",
            "2017-12-31    169.230000\n",
            "Freq: W-SUN, Name: Adj. Close, dtype: float64\n"
          ]
        }
      ]
    },
    {
      "cell_type": "code",
      "metadata": {
        "colab": {
          "base_uri": "https://localhost:8080/"
        },
        "id": "_a14jUkVy2eJ",
        "outputId": "eef3a82a-a907-4ab2-b48e-038fa4b9881a"
      },
      "source": [
        "#Ejemplo Propio\n",
        "dev = googl.resample('3M').std()\n",
        "maximo = googl.resample('3M').max()\n",
        "minimo = googl.resample('3M').min()\n",
        "print(dev)\n",
        "print(maximo)\n",
        "print(minimo)"
      ],
      "execution_count": 64,
      "outputs": [
        {
          "output_type": "stream",
          "name": "stdout",
          "text": [
            "Date\n",
            "2014-01-31    11.014532\n",
            "2014-04-30    27.824487\n",
            "2014-07-31    24.143012\n",
            "2014-10-31    19.318155\n",
            "2015-01-31    15.206120\n",
            "Freq: 3M, Name: Adj. Close, dtype: float64\n",
            "Date\n",
            "2014-01-31    592.313415\n",
            "2014-04-30    611.974105\n",
            "2014-07-31    605.190000\n",
            "2014-10-31    605.400000\n",
            "2015-01-31    564.190000\n",
            "Freq: 3M, Name: Adj. Close, dtype: float64\n",
            "Date\n",
            "2014-01-31    552.319959\n",
            "2014-04-30    522.980000\n",
            "2014-07-31    518.000000\n",
            "2014-10-31    522.970000\n",
            "2015-01-31    498.160000\n",
            "Freq: 3M, Name: Adj. Close, dtype: float64\n"
          ]
        }
      ]
    },
    {
      "cell_type": "markdown",
      "metadata": {
        "id": "KUTSxdj4y2xr"
      },
      "source": [
        "### Return the last day of each month:"
      ]
    },
    {
      "cell_type": "code",
      "metadata": {
        "colab": {
          "base_uri": "https://localhost:8080/"
        },
        "id": "iT8LgEDHzlMS",
        "outputId": "fde41251-c732-4756-a842-010bff16a441"
      },
      "source": [
        "#Ejemplo de QuantConnect\n",
        "last_day = aapl.resample('M').agg(lambda x: x[-1])\n",
        "print(last_day)"
      ],
      "execution_count": 65,
      "outputs": [
        {
          "output_type": "stream",
          "name": "stdout",
          "text": [
            "Date\n",
            "2017-01-31    119.851150\n",
            "2017-02-28    135.880362\n",
            "2017-03-31    142.496334\n",
            "2017-04-30    142.486415\n",
            "2017-05-31    152.142689\n",
            "2017-06-30    143.438008\n",
            "2017-07-31    148.248489\n",
            "2017-08-31    164.000000\n",
            "2017-09-30    154.120000\n",
            "2017-10-31    169.040000\n",
            "2017-11-30    171.850000\n",
            "2017-12-31    169.230000\n",
            "Freq: M, Name: Adj. Close, dtype: float64\n"
          ]
        }
      ]
    },
    {
      "cell_type": "code",
      "metadata": {
        "colab": {
          "base_uri": "https://localhost:8080/"
        },
        "id": "rmdL90AVzlaN",
        "outputId": "f98c7ba0-5c1e-4666-8a3c-9a7643fb60ce"
      },
      "source": [
        "#Ejemplo Propio\n",
        "ultimo_dia = googl.resample('M').agg(lambda x: x[-1])\n",
        "print(ultimo_dia)"
      ],
      "execution_count": 66,
      "outputs": [
        {
          "output_type": "stream",
          "name": "stdout",
          "text": [
            "Date\n",
            "2014-01-31    592.313415\n",
            "2014-02-28    609.707107\n",
            "2014-03-31    558.980519\n",
            "2014-04-30    534.880000\n",
            "2014-05-31    571.650000\n",
            "2014-06-30    584.670000\n",
            "2014-07-31    579.550000\n",
            "2014-08-31    582.360000\n",
            "2014-09-30    588.410000\n",
            "2014-10-31    567.870000\n",
            "2014-11-30    549.080000\n",
            "2014-12-31    530.660000\n",
            "Freq: M, Name: Adj. Close, dtype: float64\n"
          ]
        }
      ]
    },
    {
      "cell_type": "markdown",
      "metadata": {
        "id": "EtfD8to9zsez"
      },
      "source": [
        "### Monthly rates of return:"
      ]
    },
    {
      "cell_type": "code",
      "metadata": {
        "colab": {
          "base_uri": "https://localhost:8080/"
        },
        "id": "kZduSfQOzwEW",
        "outputId": "3c91e967-1c3c-4730-a411-a11cfcf636b5"
      },
      "source": [
        "#Ejemplo de QuantConnect\n",
        "monthly_return = aapl.resample('M').agg(lambda x: x[-1]/x[1] - 1)\n",
        "print(monthly_return)"
      ],
      "execution_count": 67,
      "outputs": [
        {
          "output_type": "stream",
          "name": "stdout",
          "text": [
            "Date\n",
            "2017-01-31    0.045940\n",
            "2017-02-28    0.070409\n",
            "2017-03-31    0.033823\n",
            "2017-04-30   -0.007736\n",
            "2017-05-31    0.039829\n",
            "2017-06-30   -0.073528\n",
            "2017-07-31    0.033035\n",
            "2017-08-31    0.047890\n",
            "2017-09-30   -0.049112\n",
            "2017-10-31    0.094252\n",
            "2017-11-30    0.022247\n",
            "2017-12-31   -0.003357\n",
            "Freq: M, Name: Adj. Close, dtype: float64\n"
          ]
        }
      ]
    },
    {
      "cell_type": "code",
      "metadata": {
        "colab": {
          "base_uri": "https://localhost:8080/"
        },
        "id": "kaovft5rzwRy",
        "outputId": "6e3d490b-6056-49a0-f8d6-71394941367c"
      },
      "source": [
        "#Ejemplo Propio\n",
        "retorno_mensual = googl.resample('M').agg(lambda x: x[-1]/x[1] - 1)\n",
        "print(retorno_mensual)"
      ],
      "execution_count": 68,
      "outputs": [
        {
          "output_type": "stream",
          "name": "stdout",
          "text": [
            "Date\n",
            "2014-01-31    0.068751\n",
            "2014-02-28    0.068084\n",
            "2014-03-31   -0.082640\n",
            "2014-04-30   -0.060472\n",
            "2014-05-31    0.070766\n",
            "2014-06-30    0.054390\n",
            "2014-07-31   -0.019009\n",
            "2014-08-31    0.000155\n",
            "2014-09-30   -0.001883\n",
            "2014-10-31   -0.022397\n",
            "2014-11-30   -0.026782\n",
            "2014-12-31   -0.014724\n",
            "Freq: M, Name: Adj. Close, dtype: float64\n"
          ]
        }
      ]
    },
    {
      "cell_type": "markdown",
      "metadata": {
        "id": "rT7vAZJk12l8"
      },
      "source": [
        "### Methods for quick calculation:"
      ]
    },
    {
      "cell_type": "code",
      "metadata": {
        "colab": {
          "base_uri": "https://localhost:8080/"
        },
        "id": "TcrYAwxj2ACZ",
        "outputId": "3b8c63d6-163e-42cd-cef6-9bdd53faf27f"
      },
      "source": [
        "#Ejemplo de QuantConnect\n",
        "print(monthly_return.mean())\n",
        "print(monthly_return.std())\n",
        "print(monthly_return.max())"
      ],
      "execution_count": 69,
      "outputs": [
        {
          "output_type": "stream",
          "name": "stdout",
          "text": [
            "0.02114094011940022\n",
            "0.04775652864223314\n",
            "0.09425168306576914\n"
          ]
        }
      ]
    },
    {
      "cell_type": "code",
      "metadata": {
        "colab": {
          "base_uri": "https://localhost:8080/"
        },
        "id": "OsE2AQKf2AX0",
        "outputId": "5514b644-4945-4a8a-bfdf-67999abf1d13"
      },
      "source": [
        "#Ejemplo Propio\n",
        "print(retorno_mensual.mean())\n",
        "print(retorno_mensual.std())\n",
        "print(retorno_mensual.max())\n",
        "print(retorno_mensual.min())\n",
        "print(retorno_mensual.var())\n",
        "print(retorno_mensual.median())"
      ],
      "execution_count": 70,
      "outputs": [
        {
          "output_type": "stream",
          "name": "stdout",
          "text": [
            "0.002853295069011543\n",
            "0.05180155725389699\n",
            "0.07076629141925928\n",
            "-0.08263986632754705\n",
            "0.002683401333928768\n",
            "-0.008303258996375629\n"
          ]
        }
      ]
    },
    {
      "cell_type": "markdown",
      "metadata": {
        "id": "N44wZL142AvG"
      },
      "source": [
        "### Methods .diff() and .pct_change():"
      ]
    },
    {
      "cell_type": "code",
      "metadata": {
        "colab": {
          "base_uri": "https://localhost:8080/"
        },
        "id": "N0T6XtmD2V-0",
        "outputId": "e652b3f0-f693-4c3d-c379-caaaf58ce6a2"
      },
      "source": [
        "#Ejemplo de QuantConnect\n",
        "print(last_day.diff())\n",
        "print(last_day.pct_change())"
      ],
      "execution_count": 71,
      "outputs": [
        {
          "output_type": "stream",
          "name": "stdout",
          "text": [
            "Date\n",
            "2017-01-31          NaN\n",
            "2017-02-28    16.029211\n",
            "2017-03-31     6.615972\n",
            "2017-04-30    -0.009919\n",
            "2017-05-31     9.656274\n",
            "2017-06-30    -8.704681\n",
            "2017-07-31     4.810482\n",
            "2017-08-31    15.751511\n",
            "2017-09-30    -9.880000\n",
            "2017-10-31    14.920000\n",
            "2017-11-30     2.810000\n",
            "2017-12-31    -2.620000\n",
            "Freq: M, Name: Adj. Close, dtype: float64\n",
            "Date\n",
            "2017-01-31         NaN\n",
            "2017-02-28    0.133743\n",
            "2017-03-31    0.048690\n",
            "2017-04-30   -0.000070\n",
            "2017-05-31    0.067770\n",
            "2017-06-30   -0.057214\n",
            "2017-07-31    0.033537\n",
            "2017-08-31    0.106251\n",
            "2017-09-30   -0.060244\n",
            "2017-10-31    0.096808\n",
            "2017-11-30    0.016623\n",
            "2017-12-31   -0.015246\n",
            "Freq: M, Name: Adj. Close, dtype: float64\n"
          ]
        }
      ]
    },
    {
      "cell_type": "code",
      "metadata": {
        "colab": {
          "base_uri": "https://localhost:8080/"
        },
        "id": "FyOjI1Yk2WQQ",
        "outputId": "d3008d79-92e4-40a3-fd74-9ffca661a5f7"
      },
      "source": [
        "#Ejemplo Propio\n",
        "print(ultimo_dia.diff())\n",
        "print(ultimo_dia.pct_change())"
      ],
      "execution_count": 72,
      "outputs": [
        {
          "output_type": "stream",
          "name": "stdout",
          "text": [
            "Date\n",
            "2014-01-31          NaN\n",
            "2014-02-28    17.393693\n",
            "2014-03-31   -50.726588\n",
            "2014-04-30   -24.100519\n",
            "2014-05-31    36.770000\n",
            "2014-06-30    13.020000\n",
            "2014-07-31    -5.120000\n",
            "2014-08-31     2.810000\n",
            "2014-09-30     6.050000\n",
            "2014-10-31   -20.540000\n",
            "2014-11-30   -18.790000\n",
            "2014-12-31   -18.420000\n",
            "Freq: M, Name: Adj. Close, dtype: float64\n",
            "Date\n",
            "2014-01-31         NaN\n",
            "2014-02-28    0.029366\n",
            "2014-03-31   -0.083198\n",
            "2014-04-30   -0.043115\n",
            "2014-05-31    0.068744\n",
            "2014-06-30    0.022776\n",
            "2014-07-31   -0.008757\n",
            "2014-08-31    0.004849\n",
            "2014-09-30    0.010389\n",
            "2014-10-31   -0.034908\n",
            "2014-11-30   -0.033089\n",
            "2014-12-31   -0.033547\n",
            "Freq: M, Name: Adj. Close, dtype: float64\n"
          ]
        }
      ]
    },
    {
      "cell_type": "markdown",
      "metadata": {
        "id": "F9A3Vdf32Wjz"
      },
      "source": [
        "### Fill NaN value with 0:"
      ]
    },
    {
      "cell_type": "code",
      "metadata": {
        "colab": {
          "base_uri": "https://localhost:8080/"
        },
        "id": "Rq6bab0F2j2x",
        "outputId": "e9fbc1f6-c69e-449f-91fe-8230fca3c764"
      },
      "source": [
        "#Ejemplo de QuantConnect\n",
        "daily_return = last_day.pct_change()\n",
        "print(daily_return.fillna(0))"
      ],
      "execution_count": 73,
      "outputs": [
        {
          "output_type": "stream",
          "name": "stdout",
          "text": [
            "Date\n",
            "2017-01-31    0.000000\n",
            "2017-02-28    0.133743\n",
            "2017-03-31    0.048690\n",
            "2017-04-30   -0.000070\n",
            "2017-05-31    0.067770\n",
            "2017-06-30   -0.057214\n",
            "2017-07-31    0.033537\n",
            "2017-08-31    0.106251\n",
            "2017-09-30   -0.060244\n",
            "2017-10-31    0.096808\n",
            "2017-11-30    0.016623\n",
            "2017-12-31   -0.015246\n",
            "Freq: M, Name: Adj. Close, dtype: float64\n"
          ]
        }
      ]
    },
    {
      "cell_type": "code",
      "metadata": {
        "colab": {
          "base_uri": "https://localhost:8080/"
        },
        "id": "fOVW3c812kGs",
        "outputId": "e00344fb-b448-4107-d79f-6791bb5d1571"
      },
      "source": [
        "#Ejemplo Propio\n",
        "retorno_diario = ultimo_dia.pct_change()\n",
        "print(retorno_diario.fillna(0))"
      ],
      "execution_count": 74,
      "outputs": [
        {
          "output_type": "stream",
          "name": "stdout",
          "text": [
            "Date\n",
            "2014-01-31    0.000000\n",
            "2014-02-28    0.029366\n",
            "2014-03-31   -0.083198\n",
            "2014-04-30   -0.043115\n",
            "2014-05-31    0.068744\n",
            "2014-06-30    0.022776\n",
            "2014-07-31   -0.008757\n",
            "2014-08-31    0.004849\n",
            "2014-09-30    0.010389\n",
            "2014-10-31   -0.034908\n",
            "2014-11-30   -0.033089\n",
            "2014-12-31   -0.033547\n",
            "Freq: M, Name: Adj. Close, dtype: float64\n"
          ]
        }
      ]
    },
    {
      "cell_type": "markdown",
      "metadata": {
        "id": "nM_kp-kL2kX4"
      },
      "source": [
        "### Backward fill:"
      ]
    },
    {
      "cell_type": "code",
      "metadata": {
        "colab": {
          "base_uri": "https://localhost:8080/"
        },
        "id": "Ju1QMtYM2rLK",
        "outputId": "0c748179-c305-4943-f501-e5ef213c27d3"
      },
      "source": [
        "#Ejemplo de QuantConnect\n",
        "daily_return = last_day.pct_change()\n",
        "print(daily_return.fillna(method = 'bfill'))"
      ],
      "execution_count": 75,
      "outputs": [
        {
          "output_type": "stream",
          "name": "stdout",
          "text": [
            "Date\n",
            "2017-01-31    0.133743\n",
            "2017-02-28    0.133743\n",
            "2017-03-31    0.048690\n",
            "2017-04-30   -0.000070\n",
            "2017-05-31    0.067770\n",
            "2017-06-30   -0.057214\n",
            "2017-07-31    0.033537\n",
            "2017-08-31    0.106251\n",
            "2017-09-30   -0.060244\n",
            "2017-10-31    0.096808\n",
            "2017-11-30    0.016623\n",
            "2017-12-31   -0.015246\n",
            "Freq: M, Name: Adj. Close, dtype: float64\n"
          ]
        }
      ]
    },
    {
      "cell_type": "code",
      "metadata": {
        "colab": {
          "base_uri": "https://localhost:8080/"
        },
        "id": "qIhCihid2rdh",
        "outputId": "9ba48fc2-4a7e-47b9-d950-fd5de37e8183"
      },
      "source": [
        "#Ejemplo Propio\n",
        "retorno_diario = ultimo_dia.pct_change()\n",
        "print(retorno_diario.fillna('bfill'))"
      ],
      "execution_count": 76,
      "outputs": [
        {
          "output_type": "stream",
          "name": "stdout",
          "text": [
            "Date\n",
            "2014-01-31         bfill\n",
            "2014-02-28     0.0293657\n",
            "2014-03-31    -0.0831983\n",
            "2014-04-30    -0.0431151\n",
            "2014-05-31     0.0687444\n",
            "2014-06-30     0.0227762\n",
            "2014-07-31   -0.00875708\n",
            "2014-08-31    0.00484859\n",
            "2014-09-30     0.0103888\n",
            "2014-10-31    -0.0349076\n",
            "2014-11-30    -0.0330886\n",
            "2014-12-31     -0.033547\n",
            "Freq: M, Name: Adj. Close, dtype: object\n"
          ]
        }
      ]
    },
    {
      "cell_type": "markdown",
      "metadata": {
        "id": "bcXBhJiS2rxD"
      },
      "source": [
        "### Remove NaN values:"
      ]
    },
    {
      "cell_type": "code",
      "metadata": {
        "colab": {
          "base_uri": "https://localhost:8080/"
        },
        "id": "Fq6VSnML2yQ7",
        "outputId": "db19aa9d-6eb1-4979-de60-a3fc7cf261d9"
      },
      "source": [
        "#Ejemplo de QuantConnect\n",
        "daily_return = last_day.pct_change().dropna()\n",
        "print(daily_return)"
      ],
      "execution_count": 77,
      "outputs": [
        {
          "output_type": "stream",
          "name": "stdout",
          "text": [
            "Date\n",
            "2017-02-28    0.133743\n",
            "2017-03-31    0.048690\n",
            "2017-04-30   -0.000070\n",
            "2017-05-31    0.067770\n",
            "2017-06-30   -0.057214\n",
            "2017-07-31    0.033537\n",
            "2017-08-31    0.106251\n",
            "2017-09-30   -0.060244\n",
            "2017-10-31    0.096808\n",
            "2017-11-30    0.016623\n",
            "2017-12-31   -0.015246\n",
            "Freq: M, Name: Adj. Close, dtype: float64\n"
          ]
        }
      ]
    },
    {
      "cell_type": "code",
      "metadata": {
        "colab": {
          "base_uri": "https://localhost:8080/"
        },
        "id": "M-QkY7Eh2ycv",
        "outputId": "0eb18bdf-8e98-4446-a8dc-aa3c0d2f789b"
      },
      "source": [
        "#Ejemplo Propio\n",
        "retorno_diario = ultimo_dia.pct_change().dropna()\n",
        "print(retorno_diario)"
      ],
      "execution_count": 78,
      "outputs": [
        {
          "output_type": "stream",
          "name": "stdout",
          "text": [
            "Date\n",
            "2014-02-28    0.029366\n",
            "2014-03-31   -0.083198\n",
            "2014-04-30   -0.043115\n",
            "2014-05-31    0.068744\n",
            "2014-06-30    0.022776\n",
            "2014-07-31   -0.008757\n",
            "2014-08-31    0.004849\n",
            "2014-09-30    0.010389\n",
            "2014-10-31   -0.034908\n",
            "2014-11-30   -0.033089\n",
            "2014-12-31   -0.033547\n",
            "Freq: M, Name: Adj. Close, dtype: float64\n"
          ]
        }
      ]
    },
    {
      "cell_type": "markdown",
      "metadata": {
        "id": "d4usmc8r2y1y"
      },
      "source": [
        "## _**Data Frame**_"
      ]
    },
    {
      "cell_type": "markdown",
      "metadata": {
        "id": "7-D6tdwn7Nmc"
      },
      "source": [
        "### Create DataFrames:"
      ]
    },
    {
      "cell_type": "code",
      "metadata": {
        "colab": {
          "base_uri": "https://localhost:8080/"
        },
        "id": "62SMgUQr7RjB",
        "outputId": "62ba0e9f-7f7f-44e1-9325-174ea2284d2b"
      },
      "source": [
        "#Ejemplo de QuantConnect\n",
        "import pandas as pd\n",
        "dict = {'AAPL': [143.5,  144.09, 142.73, 144.18, 143.77],\n",
        "        'GOOG': [898.7,  911.71, 906.69, 918.59, 926.99],\n",
        "        'IBM':  [155.58, 153.67, 152.36, 152.94, 153.49]}\n",
        "dates = pd.date_range('2017-07-03', periods = 5, freq = 'D')\n",
        "df = pd.DataFrame(dict, index = dates)\n",
        "print(df)"
      ],
      "execution_count": 79,
      "outputs": [
        {
          "output_type": "stream",
          "name": "stdout",
          "text": [
            "              AAPL    GOOG     IBM\n",
            "2017-07-03  143.50  898.70  155.58\n",
            "2017-07-04  144.09  911.71  153.67\n",
            "2017-07-05  142.73  906.69  152.36\n",
            "2017-07-06  144.18  918.59  152.94\n",
            "2017-07-07  143.77  926.99  153.49\n"
          ]
        }
      ]
    },
    {
      "cell_type": "code",
      "metadata": {
        "colab": {
          "base_uri": "https://localhost:8080/"
        },
        "id": "vI_hiSci7R2J",
        "outputId": "20aee15b-560c-40d0-a5cd-d3287d1bd6f4"
      },
      "source": [
        "#Ejemplo Propio\n",
        "import pandas as pd\n",
        "dic = {'Estudiante1': [3.5, 5.0, 4.8, 4.5, 2.8, 3.9, 4.1, 4.4],\n",
        "        'Estudiante2': [5.0, 2.5, 4.9, 4.7, 4.6, 4.3, 2.0, 5.0],\n",
        "        'Estudiante3':  [2.9, 3.0, 2.8, 3.3, 2.1, 4.0, 3.9, 5.0]}\n",
        "fechas = pd.date_range('2013-12-31', periods = 8, freq = 'Y')\n",
        "df2 = pd.DataFrame(dic, index = fechas)\n",
        "print(df2)"
      ],
      "execution_count": 80,
      "outputs": [
        {
          "output_type": "stream",
          "name": "stdout",
          "text": [
            "            Estudiante1  Esttudiante2  Estudiante3\n",
            "2013-12-31          3.5           5.0          2.9\n",
            "2014-12-31          5.0           2.5          3.0\n",
            "2015-12-31          4.8           4.9          2.8\n",
            "2016-12-31          4.5           4.7          3.3\n",
            "2017-12-31          2.8           4.6          2.1\n",
            "2018-12-31          3.9           4.3          4.0\n",
            "2019-12-31          4.1           2.0          3.9\n",
            "2020-12-31          4.4           5.0          5.0\n"
          ]
        }
      ]
    },
    {
      "cell_type": "markdown",
      "metadata": {
        "id": "xu4SJIdq7SGp"
      },
      "source": [
        "### Manipulating DataFrames:"
      ]
    },
    {
      "cell_type": "markdown",
      "metadata": {
        "id": "V575fidC8y6J"
      },
      "source": [
        "* #### *Fetch a column:*"
      ]
    },
    {
      "cell_type": "code",
      "metadata": {
        "colab": {
          "base_uri": "https://localhost:8080/"
        },
        "id": "32wCSmgQ7YTR",
        "outputId": "b7a7f6ce-f6e5-4a89-e601-63fb2ceb8acf"
      },
      "source": [
        "#Ejemplo de QuantConnect\n",
        "df = aapl_table\n",
        "print(df.Close.tail(5))\n",
        "print(df['Adj. Volume'].tail(5))"
      ],
      "execution_count": 81,
      "outputs": [
        {
          "output_type": "stream",
          "name": "stdout",
          "text": [
            "Date\n",
            "2018-03-21    171.270\n",
            "2018-03-22    168.845\n",
            "2018-03-23    164.940\n",
            "2018-03-26    172.770\n",
            "2018-03-27    168.340\n",
            "Name: Close, dtype: float64\n",
            "Date\n",
            "2018-03-21    35247358.0\n",
            "2018-03-22    41051076.0\n",
            "2018-03-23    40248954.0\n",
            "2018-03-26    36272617.0\n",
            "2018-03-27    38962839.0\n",
            "Name: Adj. Volume, dtype: float64\n"
          ]
        }
      ]
    },
    {
      "cell_type": "code",
      "metadata": {
        "colab": {
          "base_uri": "https://localhost:8080/"
        },
        "id": "g986vV3l7Yjj",
        "outputId": "462e19a5-b60b-4f8d-beab-2aa9d2239444"
      },
      "source": [
        "#Ejemplo Propio\n",
        "df2 = googl_table\n",
        "print(df2.Close.tail(5))\n",
        "print(df2['Adj. Volume'].tail(5))"
      ],
      "execution_count": 82,
      "outputs": [
        {
          "output_type": "stream",
          "name": "stdout",
          "text": [
            "Date\n",
            "2018-03-21    1094.00\n",
            "2018-03-22    1053.15\n",
            "2018-03-23    1026.55\n",
            "2018-03-26    1054.09\n",
            "2018-03-27    1006.94\n",
            "Name: Close, dtype: float64\n",
            "Date\n",
            "2018-03-21    1990515.0\n",
            "2018-03-22    3418154.0\n",
            "2018-03-23    2413517.0\n",
            "2018-03-26    3272409.0\n",
            "2018-03-27    2940957.0\n",
            "Name: Adj. Volume, dtype: float64\n"
          ]
        }
      ]
    },
    {
      "cell_type": "markdown",
      "metadata": {
        "id": "FGYFx67B86ad"
      },
      "source": [
        "* #### *Resampling:*"
      ]
    },
    {
      "cell_type": "code",
      "metadata": {
        "colab": {
          "base_uri": "https://localhost:8080/"
        },
        "id": "LhP-K0-s86uJ",
        "outputId": "340646fe-8235-4e51-a334-3d0ebb715bdb"
      },
      "source": [
        "#Ejemplo de QuantConnect\n",
        "aapl_2016 = df['2016']\n",
        "aapl_month = aapl_2016.resample('M').agg(lambda x: x[-1])\n",
        "print(aapl_month)"
      ],
      "execution_count": 83,
      "outputs": [
        {
          "output_type": "stream",
          "name": "stdout",
          "text": [
            "              Open      High     Low  ...    Adj. Low  Adj. Close  Adj. Volume\n",
            "Date                                  ...                                     \n",
            "2016-01-31   94.79   97.3400   94.35  ...   91.156128   94.044912   64416504.0\n",
            "2016-02-29   96.86   98.2300   96.65  ...   93.880927   93.919781   35216277.0\n",
            "2016-03-31  109.72  109.9000  108.88  ...  105.760531  105.867380   25888449.0\n",
            "2016-04-30   93.99   94.7200   92.51  ...   89.859540   91.054300   68531478.0\n",
            "2016-05-31   99.60  100.4000   98.82  ...   96.575559   97.591939   42307212.0\n",
            "2016-06-30   94.44   95.7700   94.30  ...   92.158220   93.428693   35836356.0\n",
            "2016-07-31  104.19  104.5500  103.68  ...  101.325177  101.843140   27733688.0\n",
            "2016-08-31  105.66  106.5699  105.64  ...  103.796505  104.248477   29662406.0\n",
            "2016-09-30  112.46  113.3700  111.80  ...  109.849008  111.077195   36379106.0\n",
            "2016-10-31  113.65  114.2300  113.20  ...  111.224577  111.558644   26419398.0\n",
            "2016-11-30  111.56  112.2000  110.27  ...  108.908004  109.154917   36162258.0\n",
            "2016-12-31  116.65  117.2000  115.43  ...  114.004271  114.389454   30586265.0\n",
            "\n",
            "[12 rows x 12 columns]\n"
          ]
        }
      ]
    },
    {
      "cell_type": "code",
      "metadata": {
        "colab": {
          "base_uri": "https://localhost:8080/"
        },
        "id": "mqNfpL1G87BW",
        "outputId": "b0ce6466-54e2-43d1-9e0a-2d8b8be338ea"
      },
      "source": [
        "#Ejemplo Propio\n",
        "googl_2012 = df2['2012']\n",
        "googl_month = googl_2012.resample('M').agg(lambda x: x[-1])\n",
        "print(googl_month)"
      ],
      "execution_count": 88,
      "outputs": [
        {
          "output_type": "stream",
          "name": "stdout",
          "text": [
            "              Open     High     Low  ...    Adj. Low  Adj. Close  Adj. Volume\n",
            "Date                                 ...                                     \n",
            "2012-01-31  583.00  584.000  575.15  ...  288.465465  290.953144    4280500.0\n",
            "2012-02-29  618.60  625.600  615.50  ...  308.702936  310.082194    6267500.0\n",
            "2012-03-31  651.75  653.490  641.00  ...  321.492416  321.612788    4616700.0\n",
            "2012-04-30  612.99  616.082  600.61  ...  301.234883  303.361448    4809700.0\n",
            "2012-05-31  588.72  590.000  579.00  ...  290.396426  291.329306    5930600.0\n",
            "2012-06-30  574.96  580.130  572.20  ...  286.985898  290.933083    5033900.0\n",
            "2012-07-31  628.26  636.500  628.22  ...  315.082630  317.464984    3727400.0\n",
            "2012-08-31  684.00  688.580  680.04  ...  341.072859  343.605678    4249900.0\n",
            "2012-09-30  754.15  759.300  751.15  ...  376.737954  378.418141    5561400.0\n",
            "2012-10-31  679.86  681.000  675.00  ...  338.545056  341.202058    3070900.0\n",
            "2012-11-30  691.31  699.220  685.69  ...  343.906607  350.266238    6320800.0\n",
            "2012-12-31  700.00  710.570  696.00  ...  349.077569  354.785188    3990800.0\n",
            "\n",
            "[12 rows x 12 columns]\n"
          ]
        }
      ]
    },
    {
      "cell_type": "markdown",
      "metadata": {
        "id": "gi96KSa49EDa"
      },
      "source": [
        "* #### *Select columns by name:*"
      ]
    },
    {
      "cell_type": "code",
      "metadata": {
        "colab": {
          "base_uri": "https://localhost:8080/"
        },
        "id": "jNNTPeBm9Phf",
        "outputId": "5b6ba94e-0138-4e75-cb5a-333d925d718e"
      },
      "source": [
        "#Ejemplo de QuantConnect\n",
        "aapl_bar = aapl_month[['Open', 'High', 'Low', 'Close']]\n",
        "print(aapl_bar)"
      ],
      "execution_count": 85,
      "outputs": [
        {
          "output_type": "stream",
          "name": "stdout",
          "text": [
            "              Open      High     Low   Close\n",
            "Date                                        \n",
            "2016-01-31   94.79   97.3400   94.35   97.34\n",
            "2016-02-29   96.86   98.2300   96.65   96.69\n",
            "2016-03-31  109.72  109.9000  108.88  108.99\n",
            "2016-04-30   93.99   94.7200   92.51   93.74\n",
            "2016-05-31   99.60  100.4000   98.82   99.86\n",
            "2016-06-30   94.44   95.7700   94.30   95.60\n",
            "2016-07-31  104.19  104.5500  103.68  104.21\n",
            "2016-08-31  105.66  106.5699  105.64  106.10\n",
            "2016-09-30  112.46  113.3700  111.80  113.05\n",
            "2016-10-31  113.65  114.2300  113.20  113.54\n",
            "2016-11-30  111.56  112.2000  110.27  110.52\n",
            "2016-12-31  116.65  117.2000  115.43  115.82\n"
          ]
        }
      ]
    },
    {
      "cell_type": "code",
      "metadata": {
        "colab": {
          "base_uri": "https://localhost:8080/"
        },
        "id": "Ck5Zv6ka9Pws",
        "outputId": "aba7c756-15e3-44db-f7f1-f8275fa737bf"
      },
      "source": [
        "#Ejemplo Propio\n",
        "googl_bar = googl_month[['High', 'Low', 'Close', 'Adj. Volume']]\n",
        "print(googl_bar)"
      ],
      "execution_count": 99,
      "outputs": [
        {
          "output_type": "stream",
          "name": "stdout",
          "text": [
            "               High     Low     Close  Adj. Volume\n",
            "Date                                              \n",
            "2012-01-31  584.000  575.15  580.1100    4280500.0\n",
            "2012-02-29  625.600  615.50  618.2500    6267500.0\n",
            "2012-03-31  653.490  641.00  641.2400    4616700.0\n",
            "2012-04-30  616.082  600.61  604.8500    4809700.0\n",
            "2012-05-31  590.000  579.00  580.8600    5930600.0\n",
            "2012-06-30  580.130  572.20  580.0700    5033900.0\n",
            "2012-07-31  636.500  628.22  632.9700    3727400.0\n",
            "2012-08-31  688.580  680.04  685.0900    4249900.0\n",
            "2012-09-30  759.300  751.15  754.5000    5561400.0\n",
            "2012-10-31  681.000  675.00  680.2976    3070900.0\n",
            "2012-11-30  699.220  685.69  698.3700    6320800.0\n",
            "2012-12-31  710.570  696.00  707.3800    3990800.0\n"
          ]
        }
      ]
    },
    {
      "cell_type": "markdown",
      "metadata": {
        "id": "RMSowKP89QCZ"
      },
      "source": [
        "* #### *Specify columns and rows using loc[]:*"
      ]
    },
    {
      "cell_type": "code",
      "metadata": {
        "colab": {
          "base_uri": "https://localhost:8080/"
        },
        "id": "y-xZjdzI9WDG",
        "outputId": "cc2a4c45-19b2-41fc-b652-e76a25784482"
      },
      "source": [
        "#Ejemplo de QuantConnect\n",
        "print(aapl_month.loc['2016-03':'2016-06', ['Open', 'High', 'Low', 'Close']])"
      ],
      "execution_count": 90,
      "outputs": [
        {
          "output_type": "stream",
          "name": "stdout",
          "text": [
            "              Open    High     Low   Close\n",
            "Date                                      \n",
            "2016-03-31  109.72  109.90  108.88  108.99\n",
            "2016-04-30   93.99   94.72   92.51   93.74\n",
            "2016-05-31   99.60  100.40   98.82   99.86\n",
            "2016-06-30   94.44   95.77   94.30   95.60\n"
          ]
        }
      ]
    },
    {
      "cell_type": "code",
      "metadata": {
        "colab": {
          "base_uri": "https://localhost:8080/"
        },
        "id": "fbgyFbeb9WVs",
        "outputId": "52597a28-0431-4a48-db22-767ad8043084"
      },
      "source": [
        "#Ejemplo Propio\n",
        "print(googl_month.loc['2012-05':'2012-12', ['High', 'Low', 'Close', 'Adj. Volume']])"
      ],
      "execution_count": 100,
      "outputs": [
        {
          "output_type": "stream",
          "name": "stdout",
          "text": [
            "              High     Low     Close  Adj. Volume\n",
            "Date                                             \n",
            "2012-05-31  590.00  579.00  580.8600    5930600.0\n",
            "2012-06-30  580.13  572.20  580.0700    5033900.0\n",
            "2012-07-31  636.50  628.22  632.9700    3727400.0\n",
            "2012-08-31  688.58  680.04  685.0900    4249900.0\n",
            "2012-09-30  759.30  751.15  754.5000    5561400.0\n",
            "2012-10-31  681.00  675.00  680.2976    3070900.0\n",
            "2012-11-30  699.22  685.69  698.3700    6320800.0\n",
            "2012-12-31  710.57  696.00  707.3800    3990800.0\n"
          ]
        }
      ]
    },
    {
      "cell_type": "markdown",
      "metadata": {
        "id": "ifKAvvB79Wtx"
      },
      "source": [
        "* #### *Making customized subsets:*"
      ]
    },
    {
      "cell_type": "code",
      "metadata": {
        "colab": {
          "base_uri": "https://localhost:8080/"
        },
        "id": "WHGslhwx9d4L",
        "outputId": "67355cac-854d-408f-fa58-a6da1fcf55e7"
      },
      "source": [
        "#Ejemplo de QuantConnect\n",
        "import numpy as np\n",
        "above = aapl_bar[aapl_bar.Close > np.mean(aapl_bar.Close)]\n",
        "print(above)"
      ],
      "execution_count": 93,
      "outputs": [
        {
          "output_type": "stream",
          "name": "stdout",
          "text": [
            "              Open      High     Low   Close\n",
            "Date                                        \n",
            "2016-03-31  109.72  109.9000  108.88  108.99\n",
            "2016-08-31  105.66  106.5699  105.64  106.10\n",
            "2016-09-30  112.46  113.3700  111.80  113.05\n",
            "2016-10-31  113.65  114.2300  113.20  113.54\n",
            "2016-11-30  111.56  112.2000  110.27  110.52\n",
            "2016-12-31  116.65  117.2000  115.43  115.82\n"
          ]
        }
      ]
    },
    {
      "cell_type": "code",
      "metadata": {
        "colab": {
          "base_uri": "https://localhost:8080/"
        },
        "id": "HegYtWrf9eIF",
        "outputId": "5b82f801-aa73-4f89-d4b4-6e4032b913b7"
      },
      "source": [
        "#Ejemplo Propio\n",
        "import numpy as np\n",
        "over = googl_bar[googl_bar.High < np.mean(googl_bar.High)]\n",
        "print(over)"
      ],
      "execution_count": 101,
      "outputs": [
        {
          "output_type": "stream",
          "name": "stdout",
          "text": [
            "               High     Low   Close  Adj. Volume\n",
            "Date                                            \n",
            "2012-01-31  584.000  575.15  580.11    4280500.0\n",
            "2012-02-29  625.600  615.50  618.25    6267500.0\n",
            "2012-04-30  616.082  600.61  604.85    4809700.0\n",
            "2012-05-31  590.000  579.00  580.86    5930600.0\n",
            "2012-06-30  580.130  572.20  580.07    5033900.0\n",
            "2012-07-31  636.500  628.22  632.97    3727400.0\n"
          ]
        }
      ]
    },
    {
      "cell_type": "markdown",
      "metadata": {
        "id": "9o_qbLaO9ech"
      },
      "source": [
        "### Data Validation:"
      ]
    },
    {
      "cell_type": "markdown",
      "metadata": {
        "id": "iN0VaQ5U9jZU"
      },
      "source": [
        "* #### *Add a new column:*"
      ]
    },
    {
      "cell_type": "code",
      "metadata": {
        "colab": {
          "base_uri": "https://localhost:8080/"
        },
        "id": "cM9Jj7vQ9tDY",
        "outputId": "273f46ff-06f3-4af0-ce06-b888971e03aa"
      },
      "source": [
        "#Ejemplo de QuantConnect\n",
        "aapl_bar['rate_return'] = aapl_bar.Close.pct_change()\n",
        "print(aapl_bar)"
      ],
      "execution_count": 103,
      "outputs": [
        {
          "output_type": "stream",
          "name": "stdout",
          "text": [
            "              Open      High     Low   Close  rate_return\n",
            "Date                                                     \n",
            "2016-01-31   94.79   97.3400   94.35   97.34          NaN\n",
            "2016-02-29   96.86   98.2300   96.65   96.69    -0.006678\n",
            "2016-03-31  109.72  109.9000  108.88  108.99     0.127211\n",
            "2016-04-30   93.99   94.7200   92.51   93.74    -0.139921\n",
            "2016-05-31   99.60  100.4000   98.82   99.86     0.065287\n",
            "2016-06-30   94.44   95.7700   94.30   95.60    -0.042660\n",
            "2016-07-31  104.19  104.5500  103.68  104.21     0.090063\n",
            "2016-08-31  105.66  106.5699  105.64  106.10     0.018136\n",
            "2016-09-30  112.46  113.3700  111.80  113.05     0.065504\n",
            "2016-10-31  113.65  114.2300  113.20  113.54     0.004334\n",
            "2016-11-30  111.56  112.2000  110.27  110.52    -0.026599\n",
            "2016-12-31  116.65  117.2000  115.43  115.82     0.047955\n"
          ]
        },
        {
          "output_type": "stream",
          "name": "stderr",
          "text": [
            "/usr/local/lib/python3.7/dist-packages/ipykernel_launcher.py:2: SettingWithCopyWarning: \n",
            "A value is trying to be set on a copy of a slice from a DataFrame.\n",
            "Try using .loc[row_indexer,col_indexer] = value instead\n",
            "\n",
            "See the caveats in the documentation: https://pandas.pydata.org/pandas-docs/stable/user_guide/indexing.html#returning-a-view-versus-a-copy\n",
            "  \n"
          ]
        }
      ]
    },
    {
      "cell_type": "code",
      "metadata": {
        "colab": {
          "base_uri": "https://localhost:8080/"
        },
        "id": "f3OcrzEI9tR1",
        "outputId": "ff0ff059-2a76-44d9-e5f6-389034c9dde6"
      },
      "source": [
        "#Ejemplo Propio\n",
        "googl_bar['h_rate_return'] = googl_bar.High.pct_change()\n",
        "print(googl_bar)"
      ],
      "execution_count": 104,
      "outputs": [
        {
          "output_type": "stream",
          "name": "stdout",
          "text": [
            "               High     Low     Close  Adj. Volume  h_rate_return\n",
            "Date                                                             \n",
            "2012-01-31  584.000  575.15  580.1100    4280500.0            NaN\n",
            "2012-02-29  625.600  615.50  618.2500    6267500.0       0.071233\n",
            "2012-03-31  653.490  641.00  641.2400    4616700.0       0.044581\n",
            "2012-04-30  616.082  600.61  604.8500    4809700.0      -0.057243\n",
            "2012-05-31  590.000  579.00  580.8600    5930600.0      -0.042335\n",
            "2012-06-30  580.130  572.20  580.0700    5033900.0      -0.016729\n",
            "2012-07-31  636.500  628.22  632.9700    3727400.0       0.097168\n",
            "2012-08-31  688.580  680.04  685.0900    4249900.0       0.081822\n",
            "2012-09-30  759.300  751.15  754.5000    5561400.0       0.102704\n",
            "2012-10-31  681.000  675.00  680.2976    3070900.0      -0.103121\n",
            "2012-11-30  699.220  685.69  698.3700    6320800.0       0.026755\n",
            "2012-12-31  710.570  696.00  707.3800    3990800.0       0.016232\n"
          ]
        },
        {
          "output_type": "stream",
          "name": "stderr",
          "text": [
            "/usr/local/lib/python3.7/dist-packages/ipykernel_launcher.py:2: SettingWithCopyWarning: \n",
            "A value is trying to be set on a copy of a slice from a DataFrame.\n",
            "Try using .loc[row_indexer,col_indexer] = value instead\n",
            "\n",
            "See the caveats in the documentation: https://pandas.pydata.org/pandas-docs/stable/user_guide/indexing.html#returning-a-view-versus-a-copy\n",
            "  \n"
          ]
        }
      ]
    },
    {
      "cell_type": "markdown",
      "metadata": {
        "id": "tiz-3fkM9tky"
      },
      "source": [
        "* #### *Check abnormal values:*"
      ]
    },
    {
      "cell_type": "code",
      "metadata": {
        "colab": {
          "base_uri": "https://localhost:8080/"
        },
        "id": "gp37O9hJ92xh",
        "outputId": "db71f02e-aafd-4e8c-9ea8-4a13c7c6e1e8"
      },
      "source": [
        "#Ejemplo de QuantConnect\n",
        "missing = aapl_bar.isnull()\n",
        "print(missing)\n",
        "print('---------------------------------------------')\n",
        "print(missing.describe())"
      ],
      "execution_count": 106,
      "outputs": [
        {
          "output_type": "stream",
          "name": "stdout",
          "text": [
            "             Open   High    Low  Close  rate_return\n",
            "Date                                               \n",
            "2016-01-31  False  False  False  False         True\n",
            "2016-02-29  False  False  False  False        False\n",
            "2016-03-31  False  False  False  False        False\n",
            "2016-04-30  False  False  False  False        False\n",
            "2016-05-31  False  False  False  False        False\n",
            "2016-06-30  False  False  False  False        False\n",
            "2016-07-31  False  False  False  False        False\n",
            "2016-08-31  False  False  False  False        False\n",
            "2016-09-30  False  False  False  False        False\n",
            "2016-10-31  False  False  False  False        False\n",
            "2016-11-30  False  False  False  False        False\n",
            "2016-12-31  False  False  False  False        False\n",
            "---------------------------------------------\n",
            "         Open   High    Low  Close rate_return\n",
            "count      12     12     12     12          12\n",
            "unique      1      1      1      1           2\n",
            "top     False  False  False  False       False\n",
            "freq       12     12     12     12          11\n"
          ]
        }
      ]
    },
    {
      "cell_type": "code",
      "metadata": {
        "colab": {
          "base_uri": "https://localhost:8080/"
        },
        "id": "akPDtmia93LN",
        "outputId": "9b5595ce-e1bd-4099-e9ce-79c514573e17"
      },
      "source": [
        "#Ejemplo Propio\n",
        "no_encontrado = googl_bar.isnull()\n",
        "print(no_encontrado)\n",
        "print('---------------------------------------------')\n",
        "print(no_encontrado.describe())"
      ],
      "execution_count": 107,
      "outputs": [
        {
          "output_type": "stream",
          "name": "stdout",
          "text": [
            "             High    Low  Close  Adj. Volume  h_rate_return\n",
            "Date                                                       \n",
            "2012-01-31  False  False  False        False           True\n",
            "2012-02-29  False  False  False        False          False\n",
            "2012-03-31  False  False  False        False          False\n",
            "2012-04-30  False  False  False        False          False\n",
            "2012-05-31  False  False  False        False          False\n",
            "2012-06-30  False  False  False        False          False\n",
            "2012-07-31  False  False  False        False          False\n",
            "2012-08-31  False  False  False        False          False\n",
            "2012-09-30  False  False  False        False          False\n",
            "2012-10-31  False  False  False        False          False\n",
            "2012-11-30  False  False  False        False          False\n",
            "2012-12-31  False  False  False        False          False\n",
            "---------------------------------------------\n",
            "         High    Low  Close Adj. Volume h_rate_return\n",
            "count      12     12     12          12            12\n",
            "unique      1      1      1           1             2\n",
            "top     False  False  False       False         False\n",
            "freq       12     12     12          12            11\n"
          ]
        }
      ]
    },
    {
      "cell_type": "markdown",
      "metadata": {
        "id": "H7UcS5X193ln"
      },
      "source": [
        "* #### *Find the rows with missing values:*"
      ]
    },
    {
      "cell_type": "code",
      "metadata": {
        "colab": {
          "base_uri": "https://localhost:8080/"
        },
        "id": "8rBJ63Wj9_TQ",
        "outputId": "52d0092f-3684-42a1-e6d9-47e525d97a11"
      },
      "source": [
        "#Ejemplo de QuantConnect\n",
        "print(missing[missing.rate_return == True])"
      ],
      "execution_count": 108,
      "outputs": [
        {
          "output_type": "stream",
          "name": "stdout",
          "text": [
            "             Open   High    Low  Close  rate_return\n",
            "Date                                               \n",
            "2016-01-31  False  False  False  False         True\n"
          ]
        }
      ]
    },
    {
      "cell_type": "code",
      "metadata": {
        "colab": {
          "base_uri": "https://localhost:8080/"
        },
        "id": "dr1NBmC09_mZ",
        "outputId": "89479b60-6fb5-43c4-93d1-ebfb7406fda0"
      },
      "source": [
        "#Ejemplo Propio\n",
        "print(no_encontrado[no_encontrado.h_rate_return == True])"
      ],
      "execution_count": 109,
      "outputs": [
        {
          "output_type": "stream",
          "name": "stdout",
          "text": [
            "             High    Low  Close  Adj. Volume  h_rate_return\n",
            "Date                                                       \n",
            "2012-01-31  False  False  False        False           True\n"
          ]
        }
      ]
    },
    {
      "cell_type": "markdown",
      "metadata": {
        "id": "q-2l05Ho9_32"
      },
      "source": [
        "* #### *Drop and fill NaN values:*"
      ]
    },
    {
      "cell_type": "code",
      "metadata": {
        "colab": {
          "base_uri": "https://localhost:8080/"
        },
        "id": "0Z0M8z0H-Jck",
        "outputId": "54c5828a-6c6d-41d6-a9b4-81996b5295f2"
      },
      "source": [
        "#Ejemplo de QuantConnect\n",
        "drop = aapl_bar.dropna()\n",
        "print(drop)\n",
        "print('\\n--------------------------------------------------\\n')\n",
        "fill = aapl_bar.fillna(0)\n",
        "print(fill)"
      ],
      "execution_count": 110,
      "outputs": [
        {
          "output_type": "stream",
          "name": "stdout",
          "text": [
            "              Open      High     Low   Close  rate_return\n",
            "Date                                                     \n",
            "2016-02-29   96.86   98.2300   96.65   96.69    -0.006678\n",
            "2016-03-31  109.72  109.9000  108.88  108.99     0.127211\n",
            "2016-04-30   93.99   94.7200   92.51   93.74    -0.139921\n",
            "2016-05-31   99.60  100.4000   98.82   99.86     0.065287\n",
            "2016-06-30   94.44   95.7700   94.30   95.60    -0.042660\n",
            "2016-07-31  104.19  104.5500  103.68  104.21     0.090063\n",
            "2016-08-31  105.66  106.5699  105.64  106.10     0.018136\n",
            "2016-09-30  112.46  113.3700  111.80  113.05     0.065504\n",
            "2016-10-31  113.65  114.2300  113.20  113.54     0.004334\n",
            "2016-11-30  111.56  112.2000  110.27  110.52    -0.026599\n",
            "2016-12-31  116.65  117.2000  115.43  115.82     0.047955\n",
            "\n",
            "--------------------------------------------------\n",
            "\n",
            "              Open      High     Low   Close  rate_return\n",
            "Date                                                     \n",
            "2016-01-31   94.79   97.3400   94.35   97.34     0.000000\n",
            "2016-02-29   96.86   98.2300   96.65   96.69    -0.006678\n",
            "2016-03-31  109.72  109.9000  108.88  108.99     0.127211\n",
            "2016-04-30   93.99   94.7200   92.51   93.74    -0.139921\n",
            "2016-05-31   99.60  100.4000   98.82   99.86     0.065287\n",
            "2016-06-30   94.44   95.7700   94.30   95.60    -0.042660\n",
            "2016-07-31  104.19  104.5500  103.68  104.21     0.090063\n",
            "2016-08-31  105.66  106.5699  105.64  106.10     0.018136\n",
            "2016-09-30  112.46  113.3700  111.80  113.05     0.065504\n",
            "2016-10-31  113.65  114.2300  113.20  113.54     0.004334\n",
            "2016-11-30  111.56  112.2000  110.27  110.52    -0.026599\n",
            "2016-12-31  116.65  117.2000  115.43  115.82     0.047955\n"
          ]
        }
      ]
    },
    {
      "cell_type": "code",
      "metadata": {
        "colab": {
          "base_uri": "https://localhost:8080/"
        },
        "id": "nQpwoF9o-J1H",
        "outputId": "0d448680-41ee-4929-a1ff-512aa62f4440"
      },
      "source": [
        "#Ejemplo Propio\n",
        "drop2 = googl_bar.dropna()\n",
        "print(drop2)\n",
        "print('\\n--------------------------------------------------\\n')\n",
        "fill2 = googl_bar.fillna(0)\n",
        "print(fill2)"
      ],
      "execution_count": 111,
      "outputs": [
        {
          "output_type": "stream",
          "name": "stdout",
          "text": [
            "               High     Low     Close  Adj. Volume  h_rate_return\n",
            "Date                                                             \n",
            "2012-02-29  625.600  615.50  618.2500    6267500.0       0.071233\n",
            "2012-03-31  653.490  641.00  641.2400    4616700.0       0.044581\n",
            "2012-04-30  616.082  600.61  604.8500    4809700.0      -0.057243\n",
            "2012-05-31  590.000  579.00  580.8600    5930600.0      -0.042335\n",
            "2012-06-30  580.130  572.20  580.0700    5033900.0      -0.016729\n",
            "2012-07-31  636.500  628.22  632.9700    3727400.0       0.097168\n",
            "2012-08-31  688.580  680.04  685.0900    4249900.0       0.081822\n",
            "2012-09-30  759.300  751.15  754.5000    5561400.0       0.102704\n",
            "2012-10-31  681.000  675.00  680.2976    3070900.0      -0.103121\n",
            "2012-11-30  699.220  685.69  698.3700    6320800.0       0.026755\n",
            "2012-12-31  710.570  696.00  707.3800    3990800.0       0.016232\n",
            "\n",
            "--------------------------------------------------\n",
            "\n",
            "               High     Low     Close  Adj. Volume  h_rate_return\n",
            "Date                                                             \n",
            "2012-01-31  584.000  575.15  580.1100    4280500.0       0.000000\n",
            "2012-02-29  625.600  615.50  618.2500    6267500.0       0.071233\n",
            "2012-03-31  653.490  641.00  641.2400    4616700.0       0.044581\n",
            "2012-04-30  616.082  600.61  604.8500    4809700.0      -0.057243\n",
            "2012-05-31  590.000  579.00  580.8600    5930600.0      -0.042335\n",
            "2012-06-30  580.130  572.20  580.0700    5033900.0      -0.016729\n",
            "2012-07-31  636.500  628.22  632.9700    3727400.0       0.097168\n",
            "2012-08-31  688.580  680.04  685.0900    4249900.0       0.081822\n",
            "2012-09-30  759.300  751.15  754.5000    5561400.0       0.102704\n",
            "2012-10-31  681.000  675.00  680.2976    3070900.0      -0.103121\n",
            "2012-11-30  699.220  685.69  698.3700    6320800.0       0.026755\n",
            "2012-12-31  710.570  696.00  707.3800    3990800.0       0.016232\n"
          ]
        }
      ]
    },
    {
      "cell_type": "markdown",
      "metadata": {
        "id": "ctLOX_aR-KLr"
      },
      "source": [
        "### DataFrame Concat:"
      ]
    },
    {
      "cell_type": "markdown",
      "metadata": {
        "id": "AIo1pYT1-PE7"
      },
      "source": [
        "* #### *Merge multiple Series to a DataFrame:*"
      ]
    },
    {
      "cell_type": "code",
      "metadata": {
        "colab": {
          "base_uri": "https://localhost:8080/"
        },
        "id": "XFSIiY-k-VtC",
        "outputId": "adda6137-f8b6-4a10-9adf-d724392ee730"
      },
      "source": [
        "#Ejemplo de QuantConnect\n",
        "s1 = pd.Series([143.5, 144.09, 142.73, 144.18, 143.77], name = 'AAPL')\n",
        "s2 = pd.Series([898.7, 911.71, 906.69, 918.59, 926.99], name = 'GOOG')\n",
        "data_frame = pd.concat([s1, s2], axis = 1)\n",
        "print(data_frame)"
      ],
      "execution_count": 112,
      "outputs": [
        {
          "output_type": "stream",
          "name": "stdout",
          "text": [
            "     AAPL    GOOG\n",
            "0  143.50  898.70\n",
            "1  144.09  911.71\n",
            "2  142.73  906.69\n",
            "3  144.18  918.59\n",
            "4  143.77  926.99\n"
          ]
        }
      ]
    },
    {
      "cell_type": "code",
      "metadata": {
        "colab": {
          "base_uri": "https://localhost:8080/"
        },
        "id": "zhvZ1zsG-V9K",
        "outputId": "d7acec96-b1ef-49fe-d2d0-e71914bdf9e3"
      },
      "source": [
        "#Ejemplo Propio\n",
        "serie1 = pd.Series([3.5, 5.0, 4.8, 4.5, 2.8, 3.9, 4.1, 4.4], name = 'Estudiante1')\n",
        "serie2 = pd.Series([5.0, 2.5, 4.9, 4.7, 4.6, 4.3, 2.0, 5.0], name = 'Estudiante2')\n",
        "serie3 = pd.Series([2.9, 3.0, 2.8, 3.3, 2.1, 4.0, 3.9, 5.0], name = 'Estudiante3')\n",
        "nuevo_data_frame = pd.concat([serie1, serie2, serie3], axis = 1)\n",
        "print(nuevo_data_frame)"
      ],
      "execution_count": 113,
      "outputs": [
        {
          "output_type": "stream",
          "name": "stdout",
          "text": [
            "   Estudiante1  Estudiante2  Estudiante3\n",
            "0          3.5          5.0          2.9\n",
            "1          5.0          2.5          3.0\n",
            "2          4.8          4.9          2.8\n",
            "3          4.5          4.7          3.3\n",
            "4          2.8          4.6          2.1\n",
            "5          3.9          4.3          4.0\n",
            "6          4.1          2.0          3.9\n",
            "7          4.4          5.0          5.0\n"
          ]
        }
      ]
    },
    {
      "cell_type": "markdown",
      "metadata": {
        "id": "QxRq5NdF-WTK"
      },
      "source": [
        "* #### *Join two DataFrames by columns:*"
      ]
    },
    {
      "cell_type": "code",
      "metadata": {
        "colab": {
          "base_uri": "https://localhost:8080/"
        },
        "id": "B5fMFPPW-cba",
        "outputId": "a884b37a-db33-4189-c1b8-8f0f1c110684"
      },
      "source": [
        "#Ejemplo de QuantConnect\n",
        "log_price = np.log(aapl_bar.Close)\n",
        "log_price.name = 'log_price'\n",
        "print(log_price)\n",
        "print('\\n--------------------------------------------\\n')\n",
        "concat = pd.concat([aapl_bar, log_price], axis = 1)\n",
        "print(concat)"
      ],
      "execution_count": 114,
      "outputs": [
        {
          "output_type": "stream",
          "name": "stdout",
          "text": [
            "Date\n",
            "2016-01-31    4.578210\n",
            "2016-02-29    4.571510\n",
            "2016-03-31    4.691256\n",
            "2016-04-30    4.540525\n",
            "2016-05-31    4.603769\n",
            "2016-06-30    4.560173\n",
            "2016-07-31    4.646408\n",
            "2016-08-31    4.664382\n",
            "2016-09-30    4.727830\n",
            "2016-10-31    4.732155\n",
            "2016-11-30    4.705197\n",
            "2016-12-31    4.752037\n",
            "Freq: M, Name: log_price, dtype: float64\n",
            "\n",
            "--------------------------------------------\n",
            "\n",
            "              Open      High     Low   Close  rate_return  log_price\n",
            "Date                                                                \n",
            "2016-01-31   94.79   97.3400   94.35   97.34          NaN   4.578210\n",
            "2016-02-29   96.86   98.2300   96.65   96.69    -0.006678   4.571510\n",
            "2016-03-31  109.72  109.9000  108.88  108.99     0.127211   4.691256\n",
            "2016-04-30   93.99   94.7200   92.51   93.74    -0.139921   4.540525\n",
            "2016-05-31   99.60  100.4000   98.82   99.86     0.065287   4.603769\n",
            "2016-06-30   94.44   95.7700   94.30   95.60    -0.042660   4.560173\n",
            "2016-07-31  104.19  104.5500  103.68  104.21     0.090063   4.646408\n",
            "2016-08-31  105.66  106.5699  105.64  106.10     0.018136   4.664382\n",
            "2016-09-30  112.46  113.3700  111.80  113.05     0.065504   4.727830\n",
            "2016-10-31  113.65  114.2300  113.20  113.54     0.004334   4.732155\n",
            "2016-11-30  111.56  112.2000  110.27  110.52    -0.026599   4.705197\n",
            "2016-12-31  116.65  117.2000  115.43  115.82     0.047955   4.752037\n"
          ]
        }
      ]
    },
    {
      "cell_type": "code",
      "metadata": {
        "colab": {
          "base_uri": "https://localhost:8080/"
        },
        "id": "ZXiGPFFf-cpx",
        "outputId": "ea05ef93-ccc3-4cad-ca7d-c24c5f046e47"
      },
      "source": [
        "#Ejemplo Propio\n",
        "log_high = np.log(googl_bar.High)\n",
        "log_high.name = 'log_high'\n",
        "print(log_high)\n",
        "print('\\n--------------------------------------------\\n')\n",
        "concatenado = pd.concat([googl_bar, log_high], axis = 1)\n",
        "print(concatenado)"
      ],
      "execution_count": 115,
      "outputs": [
        {
          "output_type": "stream",
          "name": "stdout",
          "text": [
            "Date\n",
            "2012-01-31    6.369901\n",
            "2012-02-29    6.438711\n",
            "2012-03-31    6.482327\n",
            "2012-04-30    6.423380\n",
            "2012-05-31    6.380123\n",
            "2012-06-30    6.363252\n",
            "2012-07-31    6.455984\n",
            "2012-08-31    6.534632\n",
            "2012-09-30    6.632397\n",
            "2012-10-31    6.523562\n",
            "2012-11-30    6.549965\n",
            "2012-12-31    6.566067\n",
            "Freq: M, Name: log_high, dtype: float64\n",
            "\n",
            "--------------------------------------------\n",
            "\n",
            "               High     Low     Close  Adj. Volume  h_rate_return  log_high\n",
            "Date                                                                       \n",
            "2012-01-31  584.000  575.15  580.1100    4280500.0            NaN  6.369901\n",
            "2012-02-29  625.600  615.50  618.2500    6267500.0       0.071233  6.438711\n",
            "2012-03-31  653.490  641.00  641.2400    4616700.0       0.044581  6.482327\n",
            "2012-04-30  616.082  600.61  604.8500    4809700.0      -0.057243  6.423380\n",
            "2012-05-31  590.000  579.00  580.8600    5930600.0      -0.042335  6.380123\n",
            "2012-06-30  580.130  572.20  580.0700    5033900.0      -0.016729  6.363252\n",
            "2012-07-31  636.500  628.22  632.9700    3727400.0       0.097168  6.455984\n",
            "2012-08-31  688.580  680.04  685.0900    4249900.0       0.081822  6.534632\n",
            "2012-09-30  759.300  751.15  754.5000    5561400.0       0.102704  6.632397\n",
            "2012-10-31  681.000  675.00  680.2976    3070900.0      -0.103121  6.523562\n",
            "2012-11-30  699.220  685.69  698.3700    6320800.0       0.026755  6.549965\n",
            "2012-12-31  710.570  696.00  707.3800    3990800.0       0.016232  6.566067\n"
          ]
        }
      ]
    },
    {
      "cell_type": "markdown",
      "metadata": {
        "id": "Xc9EWol9-dBC"
      },
      "source": [
        "* #### *Consider two DataFrames:*"
      ]
    },
    {
      "cell_type": "code",
      "metadata": {
        "colab": {
          "base_uri": "https://localhost:8080/"
        },
        "id": "cJUj-TnR-jOM",
        "outputId": "bf3e1592-19cf-42a7-d018-525409c2c284"
      },
      "source": [
        "#Ejemplo de QuantConnect\n",
        "df_volume = aapl_table.loc['2016-10':'2017-04', ['Volume', 'Split Ratio']].resample('M').agg(lambda x: x[-1])\n",
        "print(df_volume)\n",
        "print('\\n-------------------------------------------\\n')\n",
        "df_2017 = aapl_table.loc['2016-10':'2017-04', ['Open', 'High', 'Low', 'Close']].resample('M').agg(lambda x: x[-1])\n",
        "print(df_2017)"
      ],
      "execution_count": 129,
      "outputs": [
        {
          "output_type": "stream",
          "name": "stdout",
          "text": [
            "                Volume  Split Ratio\n",
            "Date                               \n",
            "2016-10-31  26419398.0          1.0\n",
            "2016-11-30  36162258.0          1.0\n",
            "2016-12-31  30586265.0          1.0\n",
            "2017-01-31  49200993.0          1.0\n",
            "2017-02-28  23482860.0          1.0\n",
            "2017-03-31  19661651.0          1.0\n",
            "2017-04-30  20247187.0          1.0\n",
            "\n",
            "-------------------------------------------\n",
            "\n",
            "              Open     High     Low   Close\n",
            "Date                                       \n",
            "2016-10-31  113.65  114.230  113.20  113.54\n",
            "2016-11-30  111.56  112.200  110.27  110.52\n",
            "2016-12-31  116.65  117.200  115.43  115.82\n",
            "2017-01-31  121.15  121.390  120.62  121.35\n",
            "2017-02-28  137.08  137.435  136.70  136.99\n",
            "2017-03-31  143.72  144.270  143.01  143.66\n",
            "2017-04-30  144.09  144.300  143.27  143.65\n"
          ]
        }
      ]
    },
    {
      "cell_type": "code",
      "metadata": {
        "colab": {
          "base_uri": "https://localhost:8080/"
        },
        "id": "zdGAudZl-jck",
        "outputId": "cd5090bd-cb66-45ea-cf2b-c6523c236870"
      },
      "source": [
        "#Ejemplo Propio\n",
        "df2_volume = googl_table.loc['2011-10':'2012-04', ['Volume', 'Split Ratio']].resample('M').agg(lambda x: x[-1])\n",
        "print(df2_volume)\n",
        "print('\\n-------------------------------------------\\n')\n",
        "df2_2012 = googl_table.loc['2011-10':'2012-04', ['High', 'Low', 'Close', 'Adj. Volume']].resample('M').agg(lambda x: x[-1])\n",
        "print(df2_2012)"
      ],
      "execution_count": 130,
      "outputs": [
        {
          "output_type": "stream",
          "name": "stdout",
          "text": [
            "               Volume  Split Ratio\n",
            "Date                              \n",
            "2011-10-31  5110400.0          1.0\n",
            "2011-11-30  6787200.0          1.0\n",
            "2011-12-31  3561000.0          1.0\n",
            "2012-01-31  4280500.0          1.0\n",
            "2012-02-29  6267500.0          1.0\n",
            "2012-03-31  4616700.0          1.0\n",
            "2012-04-30  4809700.0          1.0\n",
            "\n",
            "-------------------------------------------\n",
            "\n",
            "               High     Low   Close  Adj. Volume\n",
            "Date                                            \n",
            "2011-10-31  599.690  591.67  592.64    5110400.0\n",
            "2011-11-30  599.510  592.09  599.39    6787200.0\n",
            "2011-12-31  646.760  642.02  645.90    3561000.0\n",
            "2012-01-31  584.000  575.15  580.11    4280500.0\n",
            "2012-02-29  625.600  615.50  618.25    6267500.0\n",
            "2012-03-31  653.490  641.00  641.24    4616700.0\n",
            "2012-04-30  616.082  600.61  604.85    4809700.0\n"
          ]
        }
      ]
    },
    {
      "cell_type": "markdown",
      "metadata": {
        "id": "YXajhLMO-jvV"
      },
      "source": [
        "* #### *Merge DataFrames by rows:*"
      ]
    },
    {
      "cell_type": "code",
      "metadata": {
        "colab": {
          "base_uri": "https://localhost:8080/"
        },
        "id": "Xr1ViBGF_YPc",
        "outputId": "7c5c8a4f-af00-4fa3-8665-5777713ada94"
      },
      "source": [
        "#Ejemplo de QuantConnect\n",
        "concat = pd.concat([aapl_bar, df_volume], axis = 1)\n",
        "print(concat)"
      ],
      "execution_count": 131,
      "outputs": [
        {
          "output_type": "stream",
          "name": "stdout",
          "text": [
            "              Open      High     Low  ...  rate_return      Volume  Split Ratio\n",
            "Date                                  ...                                      \n",
            "2016-01-31   94.79   97.3400   94.35  ...          NaN         NaN          NaN\n",
            "2016-02-29   96.86   98.2300   96.65  ...    -0.006678         NaN          NaN\n",
            "2016-03-31  109.72  109.9000  108.88  ...     0.127211         NaN          NaN\n",
            "2016-04-30   93.99   94.7200   92.51  ...    -0.139921         NaN          NaN\n",
            "2016-05-31   99.60  100.4000   98.82  ...     0.065287         NaN          NaN\n",
            "2016-06-30   94.44   95.7700   94.30  ...    -0.042660         NaN          NaN\n",
            "2016-07-31  104.19  104.5500  103.68  ...     0.090063         NaN          NaN\n",
            "2016-08-31  105.66  106.5699  105.64  ...     0.018136         NaN          NaN\n",
            "2016-09-30  112.46  113.3700  111.80  ...     0.065504         NaN          NaN\n",
            "2016-10-31  113.65  114.2300  113.20  ...     0.004334  26419398.0          1.0\n",
            "2016-11-30  111.56  112.2000  110.27  ...    -0.026599  36162258.0          1.0\n",
            "2016-12-31  116.65  117.2000  115.43  ...     0.047955  30586265.0          1.0\n",
            "2017-01-31     NaN       NaN     NaN  ...          NaN  49200993.0          1.0\n",
            "2017-02-28     NaN       NaN     NaN  ...          NaN  23482860.0          1.0\n",
            "2017-03-31     NaN       NaN     NaN  ...          NaN  19661651.0          1.0\n",
            "2017-04-30     NaN       NaN     NaN  ...          NaN  20247187.0          1.0\n",
            "\n",
            "[16 rows x 7 columns]\n"
          ]
        }
      ]
    },
    {
      "cell_type": "code",
      "metadata": {
        "colab": {
          "base_uri": "https://localhost:8080/"
        },
        "id": "oxPKk8yR_Yj2",
        "outputId": "28f2bf17-dc87-490e-bdfc-358096e9ea57"
      },
      "source": [
        "#Ejemplo Propio\n",
        "concatenado = pd.concat([googl_bar, df2_volume], axis = 1)\n",
        "print(concatenado)"
      ],
      "execution_count": 132,
      "outputs": [
        {
          "output_type": "stream",
          "name": "stdout",
          "text": [
            "               High     Low     Close  ...  h_rate_return     Volume  Split Ratio\n",
            "Date                                   ...                                       \n",
            "2011-10-31      NaN     NaN       NaN  ...            NaN  5110400.0          1.0\n",
            "2011-11-30      NaN     NaN       NaN  ...            NaN  6787200.0          1.0\n",
            "2011-12-31      NaN     NaN       NaN  ...            NaN  3561000.0          1.0\n",
            "2012-01-31  584.000  575.15  580.1100  ...            NaN  4280500.0          1.0\n",
            "2012-02-29  625.600  615.50  618.2500  ...       0.071233  6267500.0          1.0\n",
            "2012-03-31  653.490  641.00  641.2400  ...       0.044581  4616700.0          1.0\n",
            "2012-04-30  616.082  600.61  604.8500  ...      -0.057243  4809700.0          1.0\n",
            "2012-05-31  590.000  579.00  580.8600  ...      -0.042335        NaN          NaN\n",
            "2012-06-30  580.130  572.20  580.0700  ...      -0.016729        NaN          NaN\n",
            "2012-07-31  636.500  628.22  632.9700  ...       0.097168        NaN          NaN\n",
            "2012-08-31  688.580  680.04  685.0900  ...       0.081822        NaN          NaN\n",
            "2012-09-30  759.300  751.15  754.5000  ...       0.102704        NaN          NaN\n",
            "2012-10-31  681.000  675.00  680.2976  ...      -0.103121        NaN          NaN\n",
            "2012-11-30  699.220  685.69  698.3700  ...       0.026755        NaN          NaN\n",
            "2012-12-31  710.570  696.00  707.3800  ...       0.016232        NaN          NaN\n",
            "\n",
            "[15 rows x 7 columns]\n"
          ]
        }
      ]
    },
    {
      "cell_type": "markdown",
      "metadata": {
        "id": "oyL9Usfp_Y22"
      },
      "source": [
        "* #### *Inner join:*"
      ]
    },
    {
      "cell_type": "code",
      "metadata": {
        "colab": {
          "base_uri": "https://localhost:8080/"
        },
        "id": "lgs_ELfb_as-",
        "outputId": "ff1a5f60-4bba-4369-b62c-046d96636cec"
      },
      "source": [
        "#Ejemplo de QuantConnect\n",
        "concat = pd.concat([aapl_bar, df_volume], axis = 1, join = 'inner')\n",
        "print(concat)"
      ],
      "execution_count": 133,
      "outputs": [
        {
          "output_type": "stream",
          "name": "stdout",
          "text": [
            "              Open    High     Low  ...  rate_return      Volume  Split Ratio\n",
            "Date                                ...                                      \n",
            "2016-10-31  113.65  114.23  113.20  ...     0.004334  26419398.0          1.0\n",
            "2016-11-30  111.56  112.20  110.27  ...    -0.026599  36162258.0          1.0\n",
            "2016-12-31  116.65  117.20  115.43  ...     0.047955  30586265.0          1.0\n",
            "\n",
            "[3 rows x 7 columns]\n"
          ]
        }
      ]
    },
    {
      "cell_type": "code",
      "metadata": {
        "colab": {
          "base_uri": "https://localhost:8080/"
        },
        "id": "s72-KG6n_a7-",
        "outputId": "a38f195e-f228-4a85-b351-a678793a0cb4"
      },
      "source": [
        "#Ejemplo Propio\n",
        "concatenado = pd.concat([googl_bar, df2_volume], axis = 1, join = 'inner')\n",
        "print(concatenado)"
      ],
      "execution_count": 134,
      "outputs": [
        {
          "output_type": "stream",
          "name": "stdout",
          "text": [
            "               High     Low   Close  ...  h_rate_return     Volume  Split Ratio\n",
            "Date                                 ...                                       \n",
            "2012-01-31  584.000  575.15  580.11  ...            NaN  4280500.0          1.0\n",
            "2012-02-29  625.600  615.50  618.25  ...       0.071233  6267500.0          1.0\n",
            "2012-03-31  653.490  641.00  641.24  ...       0.044581  4616700.0          1.0\n",
            "2012-04-30  616.082  600.61  604.85  ...      -0.057243  4809700.0          1.0\n",
            "\n",
            "[4 rows x 7 columns]\n"
          ]
        }
      ]
    },
    {
      "cell_type": "markdown",
      "metadata": {
        "id": "F6Nkloy0_fe2"
      },
      "source": [
        "* #### *Append a DataFrame to another:*"
      ]
    },
    {
      "cell_type": "code",
      "metadata": {
        "colab": {
          "base_uri": "https://localhost:8080/"
        },
        "id": "bozCRzSi_mlr",
        "outputId": "49962d18-ec13-4297-df26-8768499b4bb2"
      },
      "source": [
        "#Ejemplo de QuantConnect\n",
        "append = aapl_bar.append(df_2017)\n",
        "print(append)"
      ],
      "execution_count": 135,
      "outputs": [
        {
          "output_type": "stream",
          "name": "stdout",
          "text": [
            "              Open      High     Low   Close  rate_return\n",
            "Date                                                     \n",
            "2016-01-31   94.79   97.3400   94.35   97.34          NaN\n",
            "2016-02-29   96.86   98.2300   96.65   96.69    -0.006678\n",
            "2016-03-31  109.72  109.9000  108.88  108.99     0.127211\n",
            "2016-04-30   93.99   94.7200   92.51   93.74    -0.139921\n",
            "2016-05-31   99.60  100.4000   98.82   99.86     0.065287\n",
            "2016-06-30   94.44   95.7700   94.30   95.60    -0.042660\n",
            "2016-07-31  104.19  104.5500  103.68  104.21     0.090063\n",
            "2016-08-31  105.66  106.5699  105.64  106.10     0.018136\n",
            "2016-09-30  112.46  113.3700  111.80  113.05     0.065504\n",
            "2016-10-31  113.65  114.2300  113.20  113.54     0.004334\n",
            "2016-11-30  111.56  112.2000  110.27  110.52    -0.026599\n",
            "2016-12-31  116.65  117.2000  115.43  115.82     0.047955\n",
            "2016-10-31  113.65  114.2300  113.20  113.54          NaN\n",
            "2016-11-30  111.56  112.2000  110.27  110.52          NaN\n",
            "2016-12-31  116.65  117.2000  115.43  115.82          NaN\n",
            "2017-01-31  121.15  121.3900  120.62  121.35          NaN\n",
            "2017-02-28  137.08  137.4350  136.70  136.99          NaN\n",
            "2017-03-31  143.72  144.2700  143.01  143.66          NaN\n",
            "2017-04-30  144.09  144.3000  143.27  143.65          NaN\n"
          ]
        }
      ]
    },
    {
      "cell_type": "code",
      "metadata": {
        "colab": {
          "base_uri": "https://localhost:8080/"
        },
        "id": "WA3kuKHo_mzM",
        "outputId": "699c4d16-14c1-4be6-907c-df2723e62c96"
      },
      "source": [
        "#Ejemplo Propio\n",
        "append2 = googl_bar.append(df2_2012)\n",
        "print(append2)"
      ],
      "execution_count": 136,
      "outputs": [
        {
          "output_type": "stream",
          "name": "stdout",
          "text": [
            "               High     Low     Close  Adj. Volume  h_rate_return\n",
            "Date                                                             \n",
            "2012-01-31  584.000  575.15  580.1100    4280500.0            NaN\n",
            "2012-02-29  625.600  615.50  618.2500    6267500.0       0.071233\n",
            "2012-03-31  653.490  641.00  641.2400    4616700.0       0.044581\n",
            "2012-04-30  616.082  600.61  604.8500    4809700.0      -0.057243\n",
            "2012-05-31  590.000  579.00  580.8600    5930600.0      -0.042335\n",
            "2012-06-30  580.130  572.20  580.0700    5033900.0      -0.016729\n",
            "2012-07-31  636.500  628.22  632.9700    3727400.0       0.097168\n",
            "2012-08-31  688.580  680.04  685.0900    4249900.0       0.081822\n",
            "2012-09-30  759.300  751.15  754.5000    5561400.0       0.102704\n",
            "2012-10-31  681.000  675.00  680.2976    3070900.0      -0.103121\n",
            "2012-11-30  699.220  685.69  698.3700    6320800.0       0.026755\n",
            "2012-12-31  710.570  696.00  707.3800    3990800.0       0.016232\n",
            "2011-10-31  599.690  591.67  592.6400    5110400.0            NaN\n",
            "2011-11-30  599.510  592.09  599.3900    6787200.0            NaN\n",
            "2011-12-31  646.760  642.02  645.9000    3561000.0            NaN\n",
            "2012-01-31  584.000  575.15  580.1100    4280500.0            NaN\n",
            "2012-02-29  625.600  615.50  618.2500    6267500.0            NaN\n",
            "2012-03-31  653.490  641.00  641.2400    4616700.0            NaN\n",
            "2012-04-30  616.082  600.61  604.8500    4809700.0            NaN\n"
          ]
        }
      ]
    },
    {
      "cell_type": "markdown",
      "metadata": {
        "id": "C4B94QZM_nE2"
      },
      "source": [
        "* #### *Alternative way to append a DataFrame:*"
      ]
    },
    {
      "cell_type": "code",
      "metadata": {
        "colab": {
          "base_uri": "https://localhost:8080/"
        },
        "id": "-2BUQ_oy_vJR",
        "outputId": "4ad34ef0-7eb4-4b40-c103-b81dc1369b2f"
      },
      "source": [
        "#Ejemplo de QuantConnect\n",
        "concat = pd.concat([aapl_bar, df_2017], axis = 0)\n",
        "print(concat)"
      ],
      "execution_count": 137,
      "outputs": [
        {
          "output_type": "stream",
          "name": "stdout",
          "text": [
            "              Open      High     Low   Close  rate_return\n",
            "Date                                                     \n",
            "2016-01-31   94.79   97.3400   94.35   97.34          NaN\n",
            "2016-02-29   96.86   98.2300   96.65   96.69    -0.006678\n",
            "2016-03-31  109.72  109.9000  108.88  108.99     0.127211\n",
            "2016-04-30   93.99   94.7200   92.51   93.74    -0.139921\n",
            "2016-05-31   99.60  100.4000   98.82   99.86     0.065287\n",
            "2016-06-30   94.44   95.7700   94.30   95.60    -0.042660\n",
            "2016-07-31  104.19  104.5500  103.68  104.21     0.090063\n",
            "2016-08-31  105.66  106.5699  105.64  106.10     0.018136\n",
            "2016-09-30  112.46  113.3700  111.80  113.05     0.065504\n",
            "2016-10-31  113.65  114.2300  113.20  113.54     0.004334\n",
            "2016-11-30  111.56  112.2000  110.27  110.52    -0.026599\n",
            "2016-12-31  116.65  117.2000  115.43  115.82     0.047955\n",
            "2016-10-31  113.65  114.2300  113.20  113.54          NaN\n",
            "2016-11-30  111.56  112.2000  110.27  110.52          NaN\n",
            "2016-12-31  116.65  117.2000  115.43  115.82          NaN\n",
            "2017-01-31  121.15  121.3900  120.62  121.35          NaN\n",
            "2017-02-28  137.08  137.4350  136.70  136.99          NaN\n",
            "2017-03-31  143.72  144.2700  143.01  143.66          NaN\n",
            "2017-04-30  144.09  144.3000  143.27  143.65          NaN\n"
          ]
        }
      ]
    },
    {
      "cell_type": "code",
      "metadata": {
        "colab": {
          "base_uri": "https://localhost:8080/"
        },
        "id": "dgzt9r-4_vVc",
        "outputId": "6f989e43-bbab-4c30-c5f2-5f2e98bdf3a8"
      },
      "source": [
        "#Ejemplo Propio\n",
        "concatenado = pd.concat([googl_bar, df2_2012], axis = 0)\n",
        "print(concatenado)"
      ],
      "execution_count": 138,
      "outputs": [
        {
          "output_type": "stream",
          "name": "stdout",
          "text": [
            "               High     Low     Close  Adj. Volume  h_rate_return\n",
            "Date                                                             \n",
            "2012-01-31  584.000  575.15  580.1100    4280500.0            NaN\n",
            "2012-02-29  625.600  615.50  618.2500    6267500.0       0.071233\n",
            "2012-03-31  653.490  641.00  641.2400    4616700.0       0.044581\n",
            "2012-04-30  616.082  600.61  604.8500    4809700.0      -0.057243\n",
            "2012-05-31  590.000  579.00  580.8600    5930600.0      -0.042335\n",
            "2012-06-30  580.130  572.20  580.0700    5033900.0      -0.016729\n",
            "2012-07-31  636.500  628.22  632.9700    3727400.0       0.097168\n",
            "2012-08-31  688.580  680.04  685.0900    4249900.0       0.081822\n",
            "2012-09-30  759.300  751.15  754.5000    5561400.0       0.102704\n",
            "2012-10-31  681.000  675.00  680.2976    3070900.0      -0.103121\n",
            "2012-11-30  699.220  685.69  698.3700    6320800.0       0.026755\n",
            "2012-12-31  710.570  696.00  707.3800    3990800.0       0.016232\n",
            "2011-10-31  599.690  591.67  592.6400    5110400.0            NaN\n",
            "2011-11-30  599.510  592.09  599.3900    6787200.0            NaN\n",
            "2011-12-31  646.760  642.02  645.9000    3561000.0            NaN\n",
            "2012-01-31  584.000  575.15  580.1100    4280500.0            NaN\n",
            "2012-02-29  625.600  615.50  618.2500    6267500.0            NaN\n",
            "2012-03-31  653.490  641.00  641.2400    4616700.0            NaN\n",
            "2012-04-30  616.082  600.61  604.8500    4809700.0            NaN\n"
          ]
        }
      ]
    },
    {
      "cell_type": "markdown",
      "metadata": {
        "id": "XY7LCn82_vo-"
      },
      "source": [
        "* #### *Changing column names:*"
      ]
    },
    {
      "cell_type": "code",
      "metadata": {
        "colab": {
          "base_uri": "https://localhost:8080/"
        },
        "id": "TasRktn0_3O7",
        "outputId": "99a2770b-828b-45ac-ec2c-9d898ca84ee1"
      },
      "source": [
        "#Ejemplo de QuantConnect\n",
        "df_2017.columns = ['Change', 'High', 'Low', 'Close']\n",
        "concat = pd.concat([aapl_bar, df_2017], axis = 0)\n",
        "print(concat)"
      ],
      "execution_count": 139,
      "outputs": [
        {
          "output_type": "stream",
          "name": "stdout",
          "text": [
            "              Open      High     Low   Close  rate_return  Change\n",
            "Date                                                             \n",
            "2016-01-31   94.79   97.3400   94.35   97.34          NaN     NaN\n",
            "2016-02-29   96.86   98.2300   96.65   96.69    -0.006678     NaN\n",
            "2016-03-31  109.72  109.9000  108.88  108.99     0.127211     NaN\n",
            "2016-04-30   93.99   94.7200   92.51   93.74    -0.139921     NaN\n",
            "2016-05-31   99.60  100.4000   98.82   99.86     0.065287     NaN\n",
            "2016-06-30   94.44   95.7700   94.30   95.60    -0.042660     NaN\n",
            "2016-07-31  104.19  104.5500  103.68  104.21     0.090063     NaN\n",
            "2016-08-31  105.66  106.5699  105.64  106.10     0.018136     NaN\n",
            "2016-09-30  112.46  113.3700  111.80  113.05     0.065504     NaN\n",
            "2016-10-31  113.65  114.2300  113.20  113.54     0.004334     NaN\n",
            "2016-11-30  111.56  112.2000  110.27  110.52    -0.026599     NaN\n",
            "2016-12-31  116.65  117.2000  115.43  115.82     0.047955     NaN\n",
            "2016-10-31     NaN  114.2300  113.20  113.54          NaN  113.65\n",
            "2016-11-30     NaN  112.2000  110.27  110.52          NaN  111.56\n",
            "2016-12-31     NaN  117.2000  115.43  115.82          NaN  116.65\n",
            "2017-01-31     NaN  121.3900  120.62  121.35          NaN  121.15\n",
            "2017-02-28     NaN  137.4350  136.70  136.99          NaN  137.08\n",
            "2017-03-31     NaN  144.2700  143.01  143.66          NaN  143.72\n",
            "2017-04-30     NaN  144.3000  143.27  143.65          NaN  144.09\n"
          ]
        }
      ]
    },
    {
      "cell_type": "code",
      "metadata": {
        "colab": {
          "base_uri": "https://localhost:8080/"
        },
        "id": "ISJVslAp_3bz",
        "outputId": "31b97ab7-1ac3-4e04-f58c-8d115e2daa6d"
      },
      "source": [
        "#Ejemplo Propio\n",
        "df2_2012.columns = ['High', 'Change', 'Close', 'Another Change']\n",
        "concatenado = pd.concat([googl_bar, df2_2012], axis = 0)\n",
        "print(concatenado)"
      ],
      "execution_count": 140,
      "outputs": [
        {
          "output_type": "stream",
          "name": "stdout",
          "text": [
            "               High     Low     Close  ...  h_rate_return  Change  Another Change\n",
            "Date                                   ...                                       \n",
            "2012-01-31  584.000  575.15  580.1100  ...            NaN     NaN             NaN\n",
            "2012-02-29  625.600  615.50  618.2500  ...       0.071233     NaN             NaN\n",
            "2012-03-31  653.490  641.00  641.2400  ...       0.044581     NaN             NaN\n",
            "2012-04-30  616.082  600.61  604.8500  ...      -0.057243     NaN             NaN\n",
            "2012-05-31  590.000  579.00  580.8600  ...      -0.042335     NaN             NaN\n",
            "2012-06-30  580.130  572.20  580.0700  ...      -0.016729     NaN             NaN\n",
            "2012-07-31  636.500  628.22  632.9700  ...       0.097168     NaN             NaN\n",
            "2012-08-31  688.580  680.04  685.0900  ...       0.081822     NaN             NaN\n",
            "2012-09-30  759.300  751.15  754.5000  ...       0.102704     NaN             NaN\n",
            "2012-10-31  681.000  675.00  680.2976  ...      -0.103121     NaN             NaN\n",
            "2012-11-30  699.220  685.69  698.3700  ...       0.026755     NaN             NaN\n",
            "2012-12-31  710.570  696.00  707.3800  ...       0.016232     NaN             NaN\n",
            "2011-10-31  599.690     NaN  592.6400  ...            NaN  591.67       5110400.0\n",
            "2011-11-30  599.510     NaN  599.3900  ...            NaN  592.09       6787200.0\n",
            "2011-12-31  646.760     NaN  645.9000  ...            NaN  642.02       3561000.0\n",
            "2012-01-31  584.000     NaN  580.1100  ...            NaN  575.15       4280500.0\n",
            "2012-02-29  625.600     NaN  618.2500  ...            NaN  615.50       6267500.0\n",
            "2012-03-31  653.490     NaN  641.2400  ...            NaN  641.00       4616700.0\n",
            "2012-04-30  616.082     NaN  604.8500  ...            NaN  600.61       4809700.0\n",
            "\n",
            "[19 rows x 7 columns]\n"
          ]
        }
      ]
    }
  ]
}